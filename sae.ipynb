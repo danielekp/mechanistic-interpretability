{
 "cells": [
  {
   "cell_type": "code",
   "execution_count": 1,
   "metadata": {
    "id": "bJAqJEez4l7U"
   },
   "outputs": [],
   "source": [
    "# --- Transformer Configuration ---\n",
    "MODEL_NAME = \"gpt2\"\n",
    "# We target the output projection of the MLP layer in a specific block\n",
    "LAYER_IDX = 6\n",
    "LAYER_NAME = f\"transformer.h.{LAYER_IDX}.mlp.c_proj\" # Output projection of MLP\n",
    "# Alternative: f\"transformer.h.{LAYER_IDX}.attn.c_proj\" # Output projection of Attention\n",
    "# Alternative: f\"transformer.h.{LAYER_IDX}\" # Output of the whole block (residual stream)"
   ]
  },
  {
   "cell_type": "code",
   "execution_count": 2,
   "metadata": {
    "id": "kCN2RHX24qmt"
   },
   "outputs": [],
   "source": [
    "# --- Dataset Configuration ---\n",
    "DATASET_NAME = \"wikitext\"\n",
    "DATASET_CONFIG = \"wikitext-103-raw-v1\" # Or \"wikitext-2-raw-v1\" for smaller\n",
    "DATASET_SPLIT = \"train\"\n",
    "NUM_ACTIVATIONS_TO_STORE = 2500000 # Max activations to collect (adjust based on RAM)\n",
    "MAX_SEQ_LENGTH = 128 # Max token length for processing sequences"
   ]
  },
  {
   "cell_type": "code",
   "execution_count": 3,
   "metadata": {
    "id": "oAkU5VWV4uun"
   },
   "outputs": [],
   "source": [
    "# --- SAE Configuration ---\n",
    "ACTIVATION_DIM = 768 # Dimension of the activations we are capturing (GPT-2 small: 768)\n",
    "SAE_EXPANSION_FACTOR = 4 # How many times larger the SAE hidden dim is than the activation dim\n",
    "SAE_HIDDEN_DIM = ACTIVATION_DIM * SAE_EXPANSION_FACTOR\n",
    "L1_COEFF = 8e-4 # Sparsity penalty strength"
   ]
  },
  {
   "cell_type": "code",
   "execution_count": 9,
   "metadata": {
    "id": "lsa8zlu04yo2"
   },
   "outputs": [],
   "source": [
    "# --- Training Configuration ---\n",
    "BATCH_SIZE = 256\n",
    "LEARNING_RATE = 3e-4\n",
    "NUM_EPOCHS = 200\n",
    "PRINT_INTERVAL = 100"
   ]
  },
  {
   "cell_type": "code",
   "execution_count": 5,
   "metadata": {
    "id": "wXEe0rtE5IkC"
   },
   "outputs": [],
   "source": [
    "import torch\n",
    "import torch.nn as nn\n",
    "import torch.optim as optim\n",
    "from transformers import AutoModelForCausalLM, AutoTokenizer\n",
    "from datasets import load_dataset\n",
    "from tqdm.auto import tqdm  # Use auto version for notebook compatibility\n",
    "import numpy as np\n",
    "import matplotlib.pyplot as plt\n",
    "import random\n",
    "from torch.utils.tensorboard import SummaryWriter\n",
    "import os"
   ]
  },
  {
   "cell_type": "code",
   "execution_count": 6,
   "metadata": {
    "colab": {
     "base_uri": "https://localhost:8080/"
    },
    "id": "FMR3NkEV5SMz",
    "outputId": "2118ac4a-c6d5-4cf7-feef-7a16e72adc58"
   },
   "outputs": [
    {
     "name": "stdout",
     "output_type": "stream",
     "text": [
      "Using GPU: NVIDIA RTX A1000 6GB Laptop GPU\n"
     ]
    }
   ],
   "source": [
    "if torch.cuda.is_available():\n",
    "    device = torch.device(\"cuda\")\n",
    "    print(f\"Using GPU: {torch.cuda.get_device_name(0)}\")\n",
    "else:\n",
    "    device = torch.device(\"cpu\")\n",
    "    print(\"Using CPU\")"
   ]
  },
  {
   "cell_type": "code",
   "execution_count": 7,
   "metadata": {
    "colab": {
     "base_uri": "https://localhost:8080/"
    },
    "id": "iPtVBwQo5Za7",
    "outputId": "068c3462-33ce-4cfd-b1d0-566cff735716"
   },
   "outputs": [
    {
     "name": "stdout",
     "output_type": "stream",
     "text": [
      "Loading model: gpt2\n",
      "Loading tokenizer: gpt2\n"
     ]
    }
   ],
   "source": [
    "print(f\"Loading model: {MODEL_NAME}\")\n",
    "model = AutoModelForCausalLM.from_pretrained(MODEL_NAME).to(device)\n",
    "model.eval()\n",
    "\n",
    "print(f\"Loading tokenizer: {MODEL_NAME}\")\n",
    "tokenizer = AutoTokenizer.from_pretrained(MODEL_NAME)\n",
    "if tokenizer.pad_token is None:\n",
    "    tokenizer.pad_token = tokenizer.eos_token"
   ]
  },
  {
   "cell_type": "code",
   "execution_count": 8,
   "metadata": {
    "colab": {
     "base_uri": "https://localhost:8080/",
     "height": 153,
     "referenced_widgets": [
      "212ffc916333471ab3d8e0fdf6c14125",
      "5298938e251e40b7a408c049f396ef7f",
      "1da8b159a5e64972876f24242c51ab8c",
      "a9ec30c5a9284e9a864d13363b3821ef",
      "75e2d97e8cb24a379df37bd4687b7895",
      "2a0226c7890a4a9eb29116a5bcfb8e6d",
      "d9bf5e35c1e44e8fb198ea0bf442b3a6",
      "88f1bd22d3ac4eeb83590a664aaee90c",
      "33f1a0ccad224bec8ddb759e1cff9224",
      "b08b65221fbb4dc781880ef3cd0a1161",
      "99bb8b8d1b3a4532bc3652ae2d069162"
     ]
    },
    "id": "zOWb-TtH5kE_",
    "outputId": "4118245e-ad44-44d8-ed59-7c8da68a1a20"
   },
   "outputs": [
    {
     "name": "stdout",
     "output_type": "stream",
     "text": [
      "Registering hook on layer: transformer.h.6.mlp.c_proj\n",
      "Loading dataset: wikitext (wikitext-103-raw-v1)\n",
      "Processing dataset and extracting activations (Aligning Tokens and Activations)...\n"
     ]
    },
    {
     "data": {
      "application/vnd.jupyter.widget-view+json": {
       "model_id": "6073ccad289041a09265abf819886559",
       "version_major": 2,
       "version_minor": 0
      },
      "text/plain": [
       "Extracting Aligned Activations/Tokens:   0%|          | 0/2500000 [00:00<?, ?it/s]"
      ]
     },
     "metadata": {},
     "output_type": "display_data"
    },
    {
     "name": "stdout",
     "output_type": "stream",
     "text": [
      "Total ALIGNED activations extracted: 2500062\n",
      "Total ALIGNED tokens stored: 2500062\n",
      "Activation tensor final shape: torch.Size([2500062, 768])\n",
      "Token storage final length: 2500062\n",
      "Activation and token counts match. Alignment successful.\n",
      "Filtered activations normalized (unit norm per vector).\n"
     ]
    }
   ],
   "source": [
    "activation_storage = []\n",
    "\n",
    "# Register hook to save the activation\n",
    "def get_activation_hook_no_flatten(layer_name):\n",
    "    \"\"\"Creates a hook function to capture activations.\"\"\"\n",
    "    def hook(model, input, output):\n",
    "        act_tensor = output[0] if isinstance(output, tuple) else output\n",
    "        activation_storage.append(act_tensor.detach().cpu().to(torch.float32))\n",
    "\n",
    "    target_module = dict(model.named_modules())[layer_name]\n",
    "    handle = target_module.register_forward_hook(hook)\n",
    "    return handle\n",
    "\n",
    "# Register the non-flattening hook\n",
    "print(f\"Registering hook on layer: {LAYER_NAME}\")\n",
    "hook_handle = get_activation_hook_no_flatten(LAYER_NAME)\n",
    "\n",
    "activation_storage_filtered = []\n",
    "token_storage = []\n",
    "\n",
    "print(f\"Loading dataset: {DATASET_NAME} ({DATASET_CONFIG})\")\n",
    "dataset = load_dataset(DATASET_NAME, DATASET_CONFIG, split=f\"{DATASET_SPLIT}\", streaming=True)\n",
    "\n",
    "print(\"Processing dataset and extracting activations (Aligning Tokens and Activations)...\")\n",
    "num_processed_tokens = 0 # Track actual non-padding tokens processed\n",
    "pbar = tqdm(total=NUM_ACTIVATIONS_TO_STORE, desc=\"Extracting Aligned Activations/Tokens\")\n",
    "\n",
    "for example in iter(dataset):\n",
    "    if num_processed_tokens >= NUM_ACTIVATIONS_TO_STORE:\n",
    "        break\n",
    "\n",
    "    text = example['text']\n",
    "    if not text or len(text.strip()) == 0:\n",
    "      continue\n",
    "\n",
    "    # Tokenize the text\n",
    "    inputs = tokenizer(text, return_tensors=\"pt\", max_length=MAX_SEQ_LENGTH, padding=\"max_length\", truncation=True)\n",
    "    input_ids = inputs[\"input_ids\"].to(device)\n",
    "    attention_mask = inputs[\"attention_mask\"].to(device) # Shape: (batch_size, seq_len)\n",
    "    \n",
    "    activation_storage.clear()\n",
    "\n",
    "    with torch.no_grad():\n",
    "        model(input_ids=input_ids, attention_mask=attention_mask)\n",
    "\n",
    "    # --- Retrieve activation (assuming hook appended to global list) ---\n",
    "    if not activation_storage:\n",
    "         print(\"Warning: Hook did not capture activation for a batch. Skipping.\")\n",
    "         continue\n",
    "        \n",
    "    batch_activations = activation_storage[0]\n",
    "\n",
    "    # Ensure shapes match for filtering\n",
    "    if batch_activations.shape[0] != input_ids.shape[0] or batch_activations.shape[1] != input_ids.shape[1]:\n",
    "       print(f\"Warning: Activation shape {batch_activations.shape} mismatch with input_ids {input_ids.shape}. Check hook logic. Skipping batch.\")\n",
    "       continue\n",
    "\n",
    "    # --- Filter Activations and Tokens based on Attention Mask ---\n",
    "    cpu_input_ids = input_ids.cpu().numpy() # (batch_size, seq_len)\n",
    "    cpu_attention_mask = attention_mask.cpu().numpy().astype(bool) # (batch_size, seq_len)\n",
    "\n",
    "    # Flatten batch and sequence dimensions for filtering\n",
    "    flat_activations = batch_activations.view(-1, ACTIVATION_DIM) # (batch*seq, hidden)\n",
    "    flat_input_ids = cpu_input_ids.flatten() # (batch*seq,)\n",
    "    flat_attention_mask = cpu_attention_mask.flatten() # (batch*seq,)\n",
    "\n",
    "    # Select only items where attention_mask is True\n",
    "    filtered_activations = flat_activations[flat_attention_mask]\n",
    "    filtered_tokens = flat_input_ids[flat_attention_mask]\n",
    "\n",
    "    # Store filtered tokens\n",
    "    if filtered_activations.shape[0] > 0: # Only store if there are non-padding tokens\n",
    "        activation_storage_filtered.append(filtered_activations)\n",
    "        newly_added_tokens = filtered_tokens.tolist()\n",
    "        token_storage.extend(newly_added_tokens)\n",
    "\n",
    "        # --- Update Progress ---\n",
    "        num_processed_tokens += len(newly_added_tokens)\n",
    "        pbar.update(len(newly_added_tokens))\n",
    "\n",
    "pbar.close()\n",
    "hook_handle.remove() # Remove the hook\n",
    "\n",
    "# --- Concatenate FINAL filtered activations ---\n",
    "if not activation_storage_filtered:\n",
    "    raise ValueError(\"No activations were extracted/stored after filtering. Check data or hook.\")\n",
    "\n",
    "all_activations = torch.cat(activation_storage_filtered, dim=0)\n",
    "print(f\"Total ALIGNED activations extracted: {all_activations.shape[0]}\")\n",
    "print(f\"Total ALIGNED tokens stored: {len(token_storage)}\")\n",
    "print(f\"Activation tensor final shape: {all_activations.shape}\") # Should be (N, ACTIVATION_DIM)\n",
    "print(f\"Token storage final length: {len(token_storage)}\")      # N should match above\n",
    "\n",
    "# Check if the lengths match (they should now)\n",
    "if all_activations.shape[0] != len(token_storage):\n",
    "    print(f\"CRITICAL WARNING: Mismatch between activation count ({all_activations.shape[0]}) and token count ({len(token_storage)}) AFTER filtering!\")\n",
    "else:\n",
    "    print(\"Activation and token counts match. Alignment successful.\")\n",
    "\n",
    "# Normalize activations for SAE training\n",
    "act_mean = torch.mean(all_activations, dim=0, keepdim=True)\n",
    "act_norms = torch.norm(all_activations, dim=1, keepdim=True) + 1e-6 # Add epsilon for stability\n",
    "all_activations = (all_activations - act_mean) / act_norms\n",
    "print(\"Filtered activations normalized (unit norm per vector).\")\n",
    "\n",
    "# Convert to PyTorch DataLoader for training\n",
    "activation_dataset = torch.utils.data.TensorDataset(all_activations)\n",
    "activation_loader = torch.utils.data.DataLoader(activation_dataset, batch_size=BATCH_SIZE, shuffle=True)\n",
    "\n",
    "# Clean up memory\n",
    "del activation_storage # Delete the temporary batch storage list\n",
    "del activation_storage_filtered\n",
    "import gc\n",
    "gc.collect()\n",
    "if device == torch.device(\"cuda\"):\n",
    "    torch.cuda.empty_cache()"
   ]
  },
  {
   "cell_type": "code",
   "execution_count": 10,
   "metadata": {
    "colab": {
     "base_uri": "https://localhost:8080/"
    },
    "id": "Cpo9r9Yr5pEO",
    "outputId": "137658e8-9545-4e4f-edba-2d42bbf94438"
   },
   "outputs": [
    {
     "name": "stdout",
     "output_type": "stream",
     "text": [
      "Initializing SAE with ACTIVATION_DIM=768, SAE_HIDDEN_DIM=3072\n",
      "SAE Model:\n",
      "SparseAutoencoder(\n",
      "  (encoder): Linear(in_features=768, out_features=3072, bias=True)\n",
      "  (decoder): Linear(in_features=3072, out_features=768, bias=True)\n",
      "  (relu): ReLU()\n",
      ")\n"
     ]
    }
   ],
   "source": [
    "class SparseAutoencoder(nn.Module):\n",
    "    def __init__(self, input_dim, hidden_dim):\n",
    "        super().__init__()\n",
    "        self.encoder = nn.Linear(input_dim, hidden_dim, bias=True)\n",
    "        self.decoder = nn.Linear(hidden_dim, input_dim, bias=True)\n",
    "\n",
    "        self.relu = nn.ReLU()\n",
    "        nn.init.zeros_(self.decoder.bias)\n",
    "\n",
    "    def forward(self, x):\n",
    "        encoded = self.relu(self.encoder(x))\n",
    "        decoded = self.decoder(encoded)\n",
    "        return encoded, decoded\n",
    "\n",
    "    def encode(self, x):\n",
    "      return self.relu(self.encoder(x))\n",
    "\n",
    "# Initialize SAE\n",
    "print(f\"Initializing SAE with ACTIVATION_DIM={ACTIVATION_DIM}, SAE_HIDDEN_DIM={SAE_HIDDEN_DIM}\")\n",
    "sae_model = SparseAutoencoder(ACTIVATION_DIM, SAE_HIDDEN_DIM).to(device)\n",
    "print(\"SAE Model:\")\n",
    "print(sae_model)"
   ]
  },
  {
   "cell_type": "code",
   "execution_count": 11,
   "metadata": {
    "id": "ZeIeYfkd-GoT"
   },
   "outputs": [],
   "source": [
    "def sae_loss(original_activations, encoded_activations, decoded_activations, l1_coeff):\n",
    "    \"\"\"Calculates SAE loss: MSE + L1 penalty on encoded activations.\"\"\"\n",
    "    mse_loss = nn.functional.mse_loss(decoded_activations, original_activations)\n",
    "\n",
    "    l1_loss = torch.mean(torch.abs(encoded_activations))\n",
    "\n",
    "    total_loss = mse_loss + l1_coeff * l1_loss\n",
    "    return total_loss, mse_loss, l1_loss\n",
    "\n",
    "optimizer = optim.Adam(sae_model.parameters(), lr=LEARNING_RATE)"
   ]
  },
  {
   "cell_type": "code",
   "execution_count": 12,
   "metadata": {},
   "outputs": [
    {
     "name": "stdout",
     "output_type": "stream",
     "text": [
      "TensorBoard logs will be saved to: runs/sae_training_logs\n",
      "Run 'tensorboard --logdir runs' (or your specific log_dir parent) to view logs.\n"
     ]
    }
   ],
   "source": [
    "log_dir = \"runs/sae_training_logs\" # You can customize this path\n",
    "os.makedirs(log_dir, exist_ok=True) # Create the directory if it doesn't exist\n",
    "writer = SummaryWriter(log_dir=log_dir)\n",
    "print(f\"TensorBoard logs will be saved to: {log_dir}\")\n",
    "print(\"Run 'tensorboard --logdir runs' (or your specific log_dir parent) to view logs.\")"
   ]
  },
  {
   "cell_type": "code",
   "execution_count": null,
   "metadata": {
    "colab": {
     "base_uri": "https://localhost:8080/",
     "height": 139,
     "referenced_widgets": [
      "7ecb21436a594bb999d5771e271d3f7a",
      "488a96383d124d59afffb71ff3cd05a4",
      "f6bee22b0cb948619932198fe6f5cda5",
      "ee6aa76bdc4d4dbda1aa4a000e22950a",
      "56b86af88f524e88b17170d9d77c59ed",
      "d3a89fc92c9d4130bace9226679abf8b",
      "347975e6001446d8ad5ab1a55e6b93ba",
      "3394cbd41fe84afaab914957fe0577b4",
      "4caa6143e6ba417ea1c1c08bbd1bbe00",
      "423f683a857d4978aea32d1fb906917f",
      "b8ff52559e6b43c2922d32ef084a2dc3",
      "1dc057cec3af4bd5bd3d164b3bbb278c",
      "fe36b08fe7ac46aaa5cc7a32029d2326",
      "cb424b8d740a4725b7a40b612477e0a4",
      "481f0c9360fa48c789c3e610c7faa4b9",
      "c7b5087d4cff4c659aa4e0621f2f0515",
      "efe48cde01224a26b381097bdf4da488",
      "b69a96db3c0f4eb995903f438784d3ae",
      "a49697b7507c4393a69e13c3aa00c7d0",
      "dccf875f283c4c918a17eb34972165c7",
      "4f7c9f2b26474d91869d321c93c55016",
      "1ec8925531914a72a32af23f00b6cf85",
      "3e0a3d48d7c7467793ad5cb0b2af2db8",
      "dcb1775a38ef423d9b83be8ea34358c3",
      "ce1153829b504a9aaf6aded150437803",
      "cf29e64ebe8b4c4d9e504344923c068f",
      "045811a98a0e488191619ff663a9b9ad",
      "dbf452edd85f475aa5aa85bdfa755036",
      "aa02f8c0c9524517bba1853799c83990",
      "e468348f6c9b4539996564eaa9e3231c",
      "678e5280482748eba982bf9cabc5fc0d",
      "b3bd938317e24c26b4faa8946e8b53c0",
      "4bd3e07b66384d6b8b41e871027b19db",
      "f2f7b58696f34ccab83ef48584db03f3",
      "939bf5878f4b40e3b1d5ca73f552fd68",
      "619a4bd1181f4e9b99b7c73c76f6a37e",
      "d1ffc6b2b6814983a60a76b06ecaa291",
      "d1db62cf9b0b4a959bdda5e825897864",
      "6e47d7b8380b48f9998c9c4be10594f1",
      "936bb05d4c4c460bba7434df24d506d6",
      "b78cef9985b84e2cab2bbd7857468b5a",
      "0527355b91cc461bbcf14a6f9e4b3148",
      "806fcecc644c42f28db7b9d3e455ba42",
      "bf07be48d1404f97a5babb27071a6bae",
      "a82b4d27f5fe4f7780442ccb541151ae",
      "22b3a63ea5674954a7bb6059969217cc",
      "1457663b5ac04dbebe458eaabb6cb652",
      "4eb4c6ebdff64314aca75bef415a7dcc",
      "8e68cea1ad9f48489057899c498d1212",
      "752074022a6343d595cb44e542eedce1",
      "a667a6173e284395a30468c8c0f0344d",
      "8bb165de3f1f4fb99aaadd788a4db38d",
      "7cbaea4ebd184865a0141614da79579c",
      "40c45e409c504dbcbb4de1341f9f519d",
      "0270a2478b16473683f73715628fc483"
     ]
    },
    "id": "RgjhTKah51L0",
    "outputId": "86b5c467-d78f-4538-bc54-e28726622e33"
   },
   "outputs": [
    {
     "name": "stdout",
     "output_type": "stream",
     "text": [
      "Starting SAE training...\n"
     ]
    },
    {
     "data": {
      "application/vnd.jupyter.widget-view+json": {
       "model_id": "1b8cc284dab04cd3947f8b6dbc0e90fb",
       "version_major": 2,
       "version_minor": 0
      },
      "text/plain": [
       "Epoch 1/200:   0%|          | 0/9766 [00:00<?, ?it/s]"
      ]
     },
     "metadata": {},
     "output_type": "display_data"
    },
    {
     "name": "stdout",
     "output_type": "stream",
     "text": [
      "Epoch 1 Complete: Avg Total Loss=0.000032454870, Avg MSE=0.000014295274, Avg L1=0.0226995, Avg L0=2859.89\n"
     ]
    },
    {
     "data": {
      "application/vnd.jupyter.widget-view+json": {
       "model_id": "a07bb5923a7b4e4daa90b78a3c4bded1",
       "version_major": 2,
       "version_minor": 0
      },
      "text/plain": [
       "Epoch 2/200:   0%|          | 0/9766 [00:00<?, ?it/s]"
      ]
     },
     "metadata": {},
     "output_type": "display_data"
    },
    {
     "name": "stdout",
     "output_type": "stream",
     "text": [
      "Epoch 2 Complete: Avg Total Loss=0.000014390422, Avg MSE=0.000002902213, Avg L1=0.0143603, Avg L0=2919.89\n"
     ]
    },
    {
     "data": {
      "application/vnd.jupyter.widget-view+json": {
       "model_id": "82ed85e691154668b2a29c345a160f5c",
       "version_major": 2,
       "version_minor": 0
      },
      "text/plain": [
       "Epoch 3/200:   0%|          | 0/9766 [00:00<?, ?it/s]"
      ]
     },
     "metadata": {},
     "output_type": "display_data"
    },
    {
     "name": "stdout",
     "output_type": "stream",
     "text": [
      "Epoch 3 Complete: Avg Total Loss=0.000011679091, Avg MSE=0.000002503595, Avg L1=0.0114694, Avg L0=2834.44\n"
     ]
    },
    {
     "data": {
      "application/vnd.jupyter.widget-view+json": {
       "model_id": "159a10563e214e4b9b8f3f381b9711ce",
       "version_major": 2,
       "version_minor": 0
      },
      "text/plain": [
       "Epoch 4/200:   0%|          | 0/9766 [00:00<?, ?it/s]"
      ]
     },
     "metadata": {},
     "output_type": "display_data"
    },
    {
     "name": "stdout",
     "output_type": "stream",
     "text": [
      "Epoch 4 Complete: Avg Total Loss=0.000010301931, Avg MSE=0.000002311449, Avg L1=0.0099881, Avg L0=2623.01\n"
     ]
    },
    {
     "data": {
      "application/vnd.jupyter.widget-view+json": {
       "model_id": "a2f9991c9eed4c27850e0e92f2dfb74f",
       "version_major": 2,
       "version_minor": 0
      },
      "text/plain": [
       "Epoch 5/200:   0%|          | 0/9766 [00:00<?, ?it/s]"
      ]
     },
     "metadata": {},
     "output_type": "display_data"
    },
    {
     "name": "stdout",
     "output_type": "stream",
     "text": [
      "Epoch 5 Complete: Avg Total Loss=0.000009438556, Avg MSE=0.000002199259, Avg L1=0.0090491, Avg L0=2444.50\n"
     ]
    },
    {
     "data": {
      "application/vnd.jupyter.widget-view+json": {
       "model_id": "53cab71226fe46739b4980bbb6b17ace",
       "version_major": 2,
       "version_minor": 0
      },
      "text/plain": [
       "Epoch 6/200:   0%|          | 0/9766 [00:00<?, ?it/s]"
      ]
     },
     "metadata": {},
     "output_type": "display_data"
    },
    {
     "name": "stdout",
     "output_type": "stream",
     "text": [
      "Epoch 6 Complete: Avg Total Loss=0.000008854756, Avg MSE=0.000002147218, Avg L1=0.0083844, Avg L0=2323.80\n"
     ]
    },
    {
     "data": {
      "application/vnd.jupyter.widget-view+json": {
       "model_id": "f5e928844a84411a9506bfbbd561a5f2",
       "version_major": 2,
       "version_minor": 0
      },
      "text/plain": [
       "Epoch 7/200:   0%|          | 0/9766 [00:00<?, ?it/s]"
      ]
     },
     "metadata": {},
     "output_type": "display_data"
    },
    {
     "name": "stdout",
     "output_type": "stream",
     "text": [
      "Epoch 7 Complete: Avg Total Loss=0.000008413719, Avg MSE=0.000002102576, Avg L1=0.0078889, Avg L0=2215.28\n"
     ]
    },
    {
     "data": {
      "application/vnd.jupyter.widget-view+json": {
       "model_id": "1cd48bc94ab64c45b8fafbd6cfa013fe",
       "version_major": 2,
       "version_minor": 0
      },
      "text/plain": [
       "Epoch 8/200:   0%|          | 0/9766 [00:00<?, ?it/s]"
      ]
     },
     "metadata": {},
     "output_type": "display_data"
    },
    {
     "name": "stdout",
     "output_type": "stream",
     "text": [
      "Epoch 8 Complete: Avg Total Loss=0.000008073218, Avg MSE=0.000002074949, Avg L1=0.0074978, Avg L0=2134.57\n"
     ]
    },
    {
     "data": {
      "application/vnd.jupyter.widget-view+json": {
       "model_id": "cdcf61997a3f4b64acab5d2b12d76a7c",
       "version_major": 2,
       "version_minor": 0
      },
      "text/plain": [
       "Epoch 9/200:   0%|          | 0/9766 [00:00<?, ?it/s]"
      ]
     },
     "metadata": {},
     "output_type": "display_data"
    },
    {
     "name": "stdout",
     "output_type": "stream",
     "text": [
      "Epoch 9 Complete: Avg Total Loss=0.000007807023, Avg MSE=0.000002062174, Avg L1=0.0071811, Avg L0=2067.14\n"
     ]
    },
    {
     "data": {
      "application/vnd.jupyter.widget-view+json": {
       "model_id": "f97193f517604498be4227faa4197ff6",
       "version_major": 2,
       "version_minor": 0
      },
      "text/plain": [
       "Epoch 10/200:   0%|          | 0/9766 [00:00<?, ?it/s]"
      ]
     },
     "metadata": {},
     "output_type": "display_data"
    },
    {
     "name": "stdout",
     "output_type": "stream",
     "text": [
      "Epoch 10 Complete: Avg Total Loss=0.000007578985, Avg MSE=0.000002043618, Avg L1=0.0069192, Avg L0=2001.25\n"
     ]
    },
    {
     "data": {
      "application/vnd.jupyter.widget-view+json": {
       "model_id": "cd89d63812ec4c98b3e8228b56379978",
       "version_major": 2,
       "version_minor": 0
      },
      "text/plain": [
       "Epoch 11/200:   0%|          | 0/9766 [00:00<?, ?it/s]"
      ]
     },
     "metadata": {},
     "output_type": "display_data"
    },
    {
     "name": "stdout",
     "output_type": "stream",
     "text": [
      "Epoch 11 Complete: Avg Total Loss=0.000007390869, Avg MSE=0.000002033702, Avg L1=0.0066965, Avg L0=1946.03\n"
     ]
    },
    {
     "data": {
      "application/vnd.jupyter.widget-view+json": {
       "model_id": "8c44424e32114a2ea216e81973d8df87",
       "version_major": 2,
       "version_minor": 0
      },
      "text/plain": [
       "Epoch 12/200:   0%|          | 0/9766 [00:00<?, ?it/s]"
      ]
     },
     "metadata": {},
     "output_type": "display_data"
    },
    {
     "name": "stdout",
     "output_type": "stream",
     "text": [
      "Epoch 12 Complete: Avg Total Loss=0.000007229329, Avg MSE=0.000002025989, Avg L1=0.0065042, Avg L0=1901.44\n"
     ]
    },
    {
     "data": {
      "application/vnd.jupyter.widget-view+json": {
       "model_id": "6069ea1d4b5245c8b6d3d4aa5911ba6c",
       "version_major": 2,
       "version_minor": 0
      },
      "text/plain": [
       "Epoch 13/200:   0%|          | 0/9766 [00:00<?, ?it/s]"
      ]
     },
     "metadata": {},
     "output_type": "display_data"
    },
    {
     "name": "stdout",
     "output_type": "stream",
     "text": [
      "Epoch 13 Complete: Avg Total Loss=0.000007095955, Avg MSE=0.000002027544, Avg L1=0.0063355, Avg L0=1869.04\n"
     ]
    },
    {
     "data": {
      "application/vnd.jupyter.widget-view+json": {
       "model_id": "08931eb395934a06820f4769939e469c",
       "version_major": 2,
       "version_minor": 0
      },
      "text/plain": [
       "Epoch 14/200:   0%|          | 0/9766 [00:00<?, ?it/s]"
      ]
     },
     "metadata": {},
     "output_type": "display_data"
    },
    {
     "name": "stdout",
     "output_type": "stream",
     "text": [
      "Epoch 14 Complete: Avg Total Loss=0.000006975428, Avg MSE=0.000002023720, Avg L1=0.0061896, Avg L0=1836.17\n"
     ]
    },
    {
     "data": {
      "application/vnd.jupyter.widget-view+json": {
       "model_id": "b40521392f5d4cafb1a7cb8ac8fcd64b",
       "version_major": 2,
       "version_minor": 0
      },
      "text/plain": [
       "Epoch 15/200:   0%|          | 0/9766 [00:00<?, ?it/s]"
      ]
     },
     "metadata": {},
     "output_type": "display_data"
    },
    {
     "name": "stdout",
     "output_type": "stream",
     "text": [
      "Epoch 15 Complete: Avg Total Loss=0.000006865273, Avg MSE=0.000002016465, Avg L1=0.0060610, Avg L0=1797.11\n"
     ]
    },
    {
     "data": {
      "application/vnd.jupyter.widget-view+json": {
       "model_id": "13d215a0dcf14e3ab3200160873adbae",
       "version_major": 2,
       "version_minor": 0
      },
      "text/plain": [
       "Epoch 16/200:   0%|          | 0/9766 [00:00<?, ?it/s]"
      ]
     },
     "metadata": {},
     "output_type": "display_data"
    },
    {
     "name": "stdout",
     "output_type": "stream",
     "text": [
      "Epoch 16 Complete: Avg Total Loss=0.000006772795, Avg MSE=0.000002017684, Avg L1=0.0059439, Avg L0=1772.51\n"
     ]
    },
    {
     "data": {
      "application/vnd.jupyter.widget-view+json": {
       "model_id": "827dacee1816472daa5550aa022cd72c",
       "version_major": 2,
       "version_minor": 0
      },
      "text/plain": [
       "Epoch 17/200:   0%|          | 0/9766 [00:00<?, ?it/s]"
      ]
     },
     "metadata": {},
     "output_type": "display_data"
    },
    {
     "name": "stdout",
     "output_type": "stream",
     "text": [
      "Epoch 17 Complete: Avg Total Loss=0.000006672633, Avg MSE=0.000002000545, Avg L1=0.0058401, Avg L0=1739.63\n"
     ]
    },
    {
     "data": {
      "application/vnd.jupyter.widget-view+json": {
       "model_id": "319412b05c9b42d494e14ef931e02ed0",
       "version_major": 2,
       "version_minor": 0
      },
      "text/plain": [
       "Epoch 18/200:   0%|          | 0/9766 [00:00<?, ?it/s]"
      ]
     },
     "metadata": {},
     "output_type": "display_data"
    },
    {
     "name": "stdout",
     "output_type": "stream",
     "text": [
      "Epoch 18 Complete: Avg Total Loss=0.000006599555, Avg MSE=0.000002005057, Avg L1=0.0057431, Avg L0=1719.09\n"
     ]
    },
    {
     "data": {
      "application/vnd.jupyter.widget-view+json": {
       "model_id": "24a5da7eead24c73b16bc4312696aa9f",
       "version_major": 2,
       "version_minor": 0
      },
      "text/plain": [
       "Epoch 19/200:   0%|          | 0/9766 [00:00<?, ?it/s]"
      ]
     },
     "metadata": {},
     "output_type": "display_data"
    },
    {
     "name": "stdout",
     "output_type": "stream",
     "text": [
      "Epoch 19 Complete: Avg Total Loss=0.000006525794, Avg MSE=0.000002001235, Avg L1=0.0056557, Avg L0=1694.65\n"
     ]
    },
    {
     "data": {
      "application/vnd.jupyter.widget-view+json": {
       "model_id": "08c9dbd367ce4f4fb9e6045e9a040aa0",
       "version_major": 2,
       "version_minor": 0
      },
      "text/plain": [
       "Epoch 20/200:   0%|          | 0/9766 [00:00<?, ?it/s]"
      ]
     },
     "metadata": {},
     "output_type": "display_data"
    },
    {
     "name": "stdout",
     "output_type": "stream",
     "text": [
      "Epoch 20 Complete: Avg Total Loss=0.000006453759, Avg MSE=0.000001993321, Avg L1=0.0055755, Avg L0=1667.93\n"
     ]
    },
    {
     "data": {
      "application/vnd.jupyter.widget-view+json": {
       "model_id": "df25d7b88560473bba1dfa789c21311b",
       "version_major": 2,
       "version_minor": 0
      },
      "text/plain": [
       "Epoch 21/200:   0%|          | 0/9766 [00:00<?, ?it/s]"
      ]
     },
     "metadata": {},
     "output_type": "display_data"
    },
    {
     "name": "stdout",
     "output_type": "stream",
     "text": [
      "Epoch 21 Complete: Avg Total Loss=0.000006382640, Avg MSE=0.000001982371, Avg L1=0.0055003, Avg L0=1641.22\n"
     ]
    },
    {
     "data": {
      "application/vnd.jupyter.widget-view+json": {
       "model_id": "629dcba0af2948a6bd22206448c1a278",
       "version_major": 2,
       "version_minor": 0
      },
      "text/plain": [
       "Epoch 22/200:   0%|          | 0/9766 [00:00<?, ?it/s]"
      ]
     },
     "metadata": {},
     "output_type": "display_data"
    },
    {
     "name": "stdout",
     "output_type": "stream",
     "text": [
      "Epoch 22 Complete: Avg Total Loss=0.000006317405, Avg MSE=0.000001973707, Avg L1=0.0054296, Avg L0=1619.71\n"
     ]
    },
    {
     "data": {
      "application/vnd.jupyter.widget-view+json": {
       "model_id": "e3d4ae1e9c634612b0dcef27cdd1ad28",
       "version_major": 2,
       "version_minor": 0
      },
      "text/plain": [
       "Epoch 23/200:   0%|          | 0/9766 [00:00<?, ?it/s]"
      ]
     },
     "metadata": {},
     "output_type": "display_data"
    },
    {
     "name": "stdout",
     "output_type": "stream",
     "text": [
      "Epoch 23 Complete: Avg Total Loss=0.000006259505, Avg MSE=0.000001968632, Avg L1=0.0053636, Avg L0=1599.34\n"
     ]
    },
    {
     "data": {
      "application/vnd.jupyter.widget-view+json": {
       "model_id": "43a3754e773c4b95900052b91d32ccef",
       "version_major": 2,
       "version_minor": 0
      },
      "text/plain": [
       "Epoch 24/200:   0%|          | 0/9766 [00:00<?, ?it/s]"
      ]
     },
     "metadata": {},
     "output_type": "display_data"
    },
    {
     "name": "stdout",
     "output_type": "stream",
     "text": [
      "Epoch 24 Complete: Avg Total Loss=0.000006205349, Avg MSE=0.000001963989, Avg L1=0.0053017, Avg L0=1580.59\n"
     ]
    },
    {
     "data": {
      "application/vnd.jupyter.widget-view+json": {
       "model_id": "08cb33bb2e1e440a967ed6747908f93d",
       "version_major": 2,
       "version_minor": 0
      },
      "text/plain": [
       "Epoch 25/200:   0%|          | 0/9766 [00:00<?, ?it/s]"
      ]
     },
     "metadata": {},
     "output_type": "display_data"
    },
    {
     "name": "stdout",
     "output_type": "stream",
     "text": [
      "Epoch 25 Complete: Avg Total Loss=0.000006152746, Avg MSE=0.000001957374, Avg L1=0.0052442, Avg L0=1564.16\n"
     ]
    },
    {
     "data": {
      "application/vnd.jupyter.widget-view+json": {
       "model_id": "9f48cc0db07048d5a28ed55d51f97f4b",
       "version_major": 2,
       "version_minor": 0
      },
      "text/plain": [
       "Epoch 26/200:   0%|          | 0/9766 [00:00<?, ?it/s]"
      ]
     },
     "metadata": {},
     "output_type": "display_data"
    },
    {
     "name": "stdout",
     "output_type": "stream",
     "text": [
      "Epoch 26 Complete: Avg Total Loss=0.000006103201, Avg MSE=0.000001951437, Avg L1=0.0051897, Avg L0=1545.72\n"
     ]
    },
    {
     "data": {
      "application/vnd.jupyter.widget-view+json": {
       "model_id": "f4b40ef571914d57a4fe299cec26cd64",
       "version_major": 2,
       "version_minor": 0
      },
      "text/plain": [
       "Epoch 27/200:   0%|          | 0/9766 [00:00<?, ?it/s]"
      ]
     },
     "metadata": {},
     "output_type": "display_data"
    },
    {
     "name": "stdout",
     "output_type": "stream",
     "text": [
      "Epoch 27 Complete: Avg Total Loss=0.000006057123, Avg MSE=0.000001946513, Avg L1=0.0051383, Avg L0=1526.86\n"
     ]
    },
    {
     "data": {
      "application/vnd.jupyter.widget-view+json": {
       "model_id": "3acaf57bd1294e1c9b090a2adbca25e5",
       "version_major": 2,
       "version_minor": 0
      },
      "text/plain": [
       "Epoch 28/200:   0%|          | 0/9766 [00:00<?, ?it/s]"
      ]
     },
     "metadata": {},
     "output_type": "display_data"
    },
    {
     "name": "stdout",
     "output_type": "stream",
     "text": [
      "Epoch 28 Complete: Avg Total Loss=0.000006009820, Avg MSE=0.000001938824, Avg L1=0.0050887, Avg L0=1511.56\n"
     ]
    },
    {
     "data": {
      "application/vnd.jupyter.widget-view+json": {
       "model_id": "ed2d2591db4e47dab96caaab9eadff3b",
       "version_major": 2,
       "version_minor": 0
      },
      "text/plain": [
       "Epoch 29/200:   0%|          | 0/9766 [00:00<?, ?it/s]"
      ]
     },
     "metadata": {},
     "output_type": "display_data"
    },
    {
     "name": "stdout",
     "output_type": "stream",
     "text": [
      "Epoch 29 Complete: Avg Total Loss=0.000005961686, Avg MSE=0.000001929196, Avg L1=0.0050406, Avg L0=1494.58\n"
     ]
    },
    {
     "data": {
      "application/vnd.jupyter.widget-view+json": {
       "model_id": "7c7cc80cdb33432ab8a736e803d19703",
       "version_major": 2,
       "version_minor": 0
      },
      "text/plain": [
       "Epoch 30/200:   0%|          | 0/9766 [00:00<?, ?it/s]"
      ]
     },
     "metadata": {},
     "output_type": "display_data"
    },
    {
     "name": "stdout",
     "output_type": "stream",
     "text": [
      "Epoch 30 Complete: Avg Total Loss=0.000005918412, Avg MSE=0.000001922111, Avg L1=0.0049954, Avg L0=1481.68\n"
     ]
    },
    {
     "data": {
      "application/vnd.jupyter.widget-view+json": {
       "model_id": "100f30bcf2de4dcfba208397460b87ba",
       "version_major": 2,
       "version_minor": 0
      },
      "text/plain": [
       "Epoch 31/200:   0%|          | 0/9766 [00:00<?, ?it/s]"
      ]
     },
     "metadata": {},
     "output_type": "display_data"
    },
    {
     "name": "stdout",
     "output_type": "stream",
     "text": [
      "Epoch 31 Complete: Avg Total Loss=0.000005884681, Avg MSE=0.000001922215, Avg L1=0.0049531, Avg L0=1468.46\n"
     ]
    },
    {
     "data": {
      "application/vnd.jupyter.widget-view+json": {
       "model_id": "d56fc288bbe84c53a26fc92524354f40",
       "version_major": 2,
       "version_minor": 0
      },
      "text/plain": [
       "Epoch 32/200:   0%|          | 0/9766 [00:00<?, ?it/s]"
      ]
     },
     "metadata": {},
     "output_type": "display_data"
    },
    {
     "name": "stdout",
     "output_type": "stream",
     "text": [
      "Epoch 32 Complete: Avg Total Loss=0.000005842242, Avg MSE=0.000001911418, Avg L1=0.0049135, Avg L0=1454.21\n"
     ]
    },
    {
     "data": {
      "application/vnd.jupyter.widget-view+json": {
       "model_id": "a7aecb8ccfdf4df9a6a8e4e3404a060d",
       "version_major": 2,
       "version_minor": 0
      },
      "text/plain": [
       "Epoch 33/200:   0%|          | 0/9766 [00:00<?, ?it/s]"
      ]
     },
     "metadata": {},
     "output_type": "display_data"
    },
    {
     "name": "stdout",
     "output_type": "stream",
     "text": [
      "Epoch 33 Complete: Avg Total Loss=0.000005811642, Avg MSE=0.000001911960, Avg L1=0.0048746, Avg L0=1442.25\n"
     ]
    },
    {
     "data": {
      "application/vnd.jupyter.widget-view+json": {
       "model_id": "01e5dc5cb4f74c11b3e8e398f11de6e7",
       "version_major": 2,
       "version_minor": 0
      },
      "text/plain": [
       "Epoch 34/200:   0%|          | 0/9766 [00:00<?, ?it/s]"
      ]
     },
     "metadata": {},
     "output_type": "display_data"
    },
    {
     "name": "stdout",
     "output_type": "stream",
     "text": [
      "Epoch 34 Complete: Avg Total Loss=0.000005773141, Avg MSE=0.000001902505, Avg L1=0.0048383, Avg L0=1429.45\n"
     ]
    },
    {
     "data": {
      "application/vnd.jupyter.widget-view+json": {
       "model_id": "5f71a8a658b64b5dbe87fe8d8e1b6be7",
       "version_major": 2,
       "version_minor": 0
      },
      "text/plain": [
       "Epoch 35/200:   0%|          | 0/9766 [00:00<?, ?it/s]"
      ]
     },
     "metadata": {},
     "output_type": "display_data"
    },
    {
     "name": "stdout",
     "output_type": "stream",
     "text": [
      "Epoch 35 Complete: Avg Total Loss=0.000005745101, Avg MSE=0.000001902605, Avg L1=0.0048031, Avg L0=1417.26\n"
     ]
    },
    {
     "data": {
      "application/vnd.jupyter.widget-view+json": {
       "model_id": "d4c6816fbb2249998569feea59f9f5e3",
       "version_major": 2,
       "version_minor": 0
      },
      "text/plain": [
       "Epoch 36/200:   0%|          | 0/9766 [00:00<?, ?it/s]"
      ]
     },
     "metadata": {},
     "output_type": "display_data"
    },
    {
     "name": "stdout",
     "output_type": "stream",
     "text": [
      "Epoch 36 Complete: Avg Total Loss=0.000005709488, Avg MSE=0.000001894077, Avg L1=0.0047693, Avg L0=1403.72\n"
     ]
    },
    {
     "data": {
      "application/vnd.jupyter.widget-view+json": {
       "model_id": "d1492e66092f48d59371e18614645b65",
       "version_major": 2,
       "version_minor": 0
      },
      "text/plain": [
       "Epoch 37/200:   0%|          | 0/9766 [00:00<?, ?it/s]"
      ]
     },
     "metadata": {},
     "output_type": "display_data"
    },
    {
     "name": "stdout",
     "output_type": "stream",
     "text": [
      "Epoch 37 Complete: Avg Total Loss=0.000005677817, Avg MSE=0.000001888994, Avg L1=0.0047360, Avg L0=1393.03\n"
     ]
    },
    {
     "data": {
      "application/vnd.jupyter.widget-view+json": {
       "model_id": "8beb134307864f6a9644b4df014438c9",
       "version_major": 2,
       "version_minor": 0
      },
      "text/plain": [
       "Epoch 38/200:   0%|          | 0/9766 [00:00<?, ?it/s]"
      ]
     },
     "metadata": {},
     "output_type": "display_data"
    },
    {
     "name": "stdout",
     "output_type": "stream",
     "text": [
      "Epoch 38 Complete: Avg Total Loss=0.000005642983, Avg MSE=0.000001879729, Avg L1=0.0047041, Avg L0=1384.75\n"
     ]
    },
    {
     "data": {
      "application/vnd.jupyter.widget-view+json": {
       "model_id": "8ff542d5454b47ec8fc69a73d21494aa",
       "version_major": 2,
       "version_minor": 0
      },
      "text/plain": [
       "Epoch 39/200:   0%|          | 0/9766 [00:00<?, ?it/s]"
      ]
     },
     "metadata": {},
     "output_type": "display_data"
    },
    {
     "name": "stdout",
     "output_type": "stream",
     "text": [
      "Epoch 39 Complete: Avg Total Loss=0.000005621491, Avg MSE=0.000001882844, Avg L1=0.0046733, Avg L0=1375.07\n"
     ]
    },
    {
     "data": {
      "application/vnd.jupyter.widget-view+json": {
       "model_id": "a6321f8cec054c22aee778721576fafc",
       "version_major": 2,
       "version_minor": 0
      },
      "text/plain": [
       "Epoch 40/200:   0%|          | 0/9766 [00:00<?, ?it/s]"
      ]
     },
     "metadata": {},
     "output_type": "display_data"
    },
    {
     "name": "stdout",
     "output_type": "stream",
     "text": [
      "Epoch 40 Complete: Avg Total Loss=0.000005594294, Avg MSE=0.000001878868, Avg L1=0.0046443, Avg L0=1366.94\n"
     ]
    },
    {
     "data": {
      "application/vnd.jupyter.widget-view+json": {
       "model_id": "f8b616f6da9143ee97f64c7eed1a1926",
       "version_major": 2,
       "version_minor": 0
      },
      "text/plain": [
       "Epoch 41/200:   0%|          | 0/9766 [00:00<?, ?it/s]"
      ]
     },
     "metadata": {},
     "output_type": "display_data"
    },
    {
     "name": "stdout",
     "output_type": "stream",
     "text": [
      "Epoch 41 Complete: Avg Total Loss=0.000005563622, Avg MSE=0.000001870120, Avg L1=0.0046169, Avg L0=1357.22\n"
     ]
    },
    {
     "data": {
      "application/vnd.jupyter.widget-view+json": {
       "model_id": "def64687eb914aa4a2b502c2a2f0c754",
       "version_major": 2,
       "version_minor": 0
      },
      "text/plain": [
       "Epoch 42/200:   0%|          | 0/9766 [00:00<?, ?it/s]"
      ]
     },
     "metadata": {},
     "output_type": "display_data"
    },
    {
     "name": "stdout",
     "output_type": "stream",
     "text": [
      "Epoch 42 Complete: Avg Total Loss=0.000005532860, Avg MSE=0.000001861029, Avg L1=0.0045898, Avg L0=1344.73\n"
     ]
    },
    {
     "data": {
      "application/vnd.jupyter.widget-view+json": {
       "model_id": "4ec5970a7d2e4954a9ceca2e9fe09db2",
       "version_major": 2,
       "version_minor": 0
      },
      "text/plain": [
       "Epoch 43/200:   0%|          | 0/9766 [00:00<?, ?it/s]"
      ]
     },
     "metadata": {},
     "output_type": "display_data"
    },
    {
     "name": "stdout",
     "output_type": "stream",
     "text": [
      "Epoch 43 Complete: Avg Total Loss=0.000005511486, Avg MSE=0.000001861522, Avg L1=0.0045625, Avg L0=1338.81\n"
     ]
    },
    {
     "data": {
      "application/vnd.jupyter.widget-view+json": {
       "model_id": "99e05ef479d444339e4424ed0e9ade44",
       "version_major": 2,
       "version_minor": 0
      },
      "text/plain": [
       "Epoch 44/200:   0%|          | 0/9766 [00:00<?, ?it/s]"
      ]
     },
     "metadata": {},
     "output_type": "display_data"
    },
    {
     "name": "stdout",
     "output_type": "stream",
     "text": [
      "Epoch 44 Complete: Avg Total Loss=0.000005488907, Avg MSE=0.000001859024, Avg L1=0.0045374, Avg L0=1325.59\n"
     ]
    },
    {
     "data": {
      "application/vnd.jupyter.widget-view+json": {
       "model_id": "825d95c88ed540e280c2e7c1691870c3",
       "version_major": 2,
       "version_minor": 0
      },
      "text/plain": [
       "Epoch 45/200:   0%|          | 0/9766 [00:00<?, ?it/s]"
      ]
     },
     "metadata": {},
     "output_type": "display_data"
    },
    {
     "name": "stdout",
     "output_type": "stream",
     "text": [
      "Epoch 45 Complete: Avg Total Loss=0.000005449023, Avg MSE=0.000001838905, Avg L1=0.0045126, Avg L0=1307.67\n"
     ]
    },
    {
     "data": {
      "application/vnd.jupyter.widget-view+json": {
       "model_id": "19107aa440284991900b002df45d590a",
       "version_major": 2,
       "version_minor": 0
      },
      "text/plain": [
       "Epoch 46/200:   0%|          | 0/9766 [00:00<?, ?it/s]"
      ]
     },
     "metadata": {},
     "output_type": "display_data"
    }
   ],
   "source": [
    "print(\"Starting SAE training...\")\n",
    "sae_model.train()\n",
    "training_losses = {'total': [], 'mse': [], 'l1': [], 'l0': []} # Track losses and L0\n",
    "\n",
    "for epoch in range(NUM_EPOCHS):\n",
    "    epoch_total_loss = 0\n",
    "    epoch_mse_loss = 0\n",
    "    epoch_l1_loss = 0\n",
    "    epoch_l0_norm = 0 # Track average number of non-zero features\n",
    "\n",
    "    pbar_train = tqdm(activation_loader, desc=f\"Epoch {epoch+1}/{NUM_EPOCHS}\", leave=False)\n",
    "    for i, batch in enumerate(pbar_train):\n",
    "        # Batch is a list containing one tensor: the activations\n",
    "        original_acts = batch[0].to(device)\n",
    "\n",
    "        encoded, decoded = sae_model(original_acts)\n",
    "        loss, mse, l1 = sae_loss(original_acts, encoded, decoded, L1_COEFF)\n",
    "        optimizer.zero_grad()\n",
    "        loss.backward()\n",
    "        optimizer.step()\n",
    " \n",
    "        epoch_total_loss += loss.item()\n",
    "        epoch_mse_loss += mse.item()\n",
    "        epoch_l1_loss += l1.item()\n",
    "        \n",
    "        l0 = torch.sum(encoded > 1e-6, dim=1).float().mean().item()\n",
    "        epoch_l0_norm += l0\n",
    "\n",
    "        if (i + 1) % PRINT_INTERVAL == 0 or i == len(activation_loader) - 1:\n",
    "             pbar_train.set_postfix({\n",
    "                 \"Total Loss\": f\"{loss.item():.4f}\",\n",
    "                 \"MSE\": f\"{mse.item():.4f}\",\n",
    "                 \"L1\": f\"{l1.item():.4f}\",\n",
    "                 \"L0\": f\"{l0:.2f}\" # Avg active features in current batch\n",
    "             })\n",
    "\n",
    "    # Average losses for the epoch\n",
    "    avg_total_loss = epoch_total_loss / len(activation_loader)\n",
    "    avg_mse_loss = epoch_mse_loss / len(activation_loader)\n",
    "    avg_l1_loss = epoch_l1_loss / len(activation_loader)\n",
    "    avg_l0_norm = epoch_l0_norm / len(activation_loader)\n",
    "\n",
    "    training_losses['total'].append(avg_total_loss)\n",
    "    training_losses['mse'].append(avg_mse_loss)\n",
    "    training_losses['l1'].append(avg_l1_loss)\n",
    "    training_losses['l0'].append(avg_l0_norm)\n",
    "\n",
    "    writer.add_scalar('Loss/Epoch/Total', avg_total_loss, epoch)\n",
    "    writer.add_scalar('Loss/Epoch/MSE', avg_mse_loss, epoch)\n",
    "    writer.add_scalar('Loss/Epoch/L1', avg_l1_loss, epoch)\n",
    "    writer.add_scalar('L0_Norm/Epoch', avg_l0_norm, epoch)\n",
    "\n",
    "\n",
    "    print(f\"Epoch {epoch+1} Complete: Avg Total Loss={avg_total_loss:.12f}, Avg MSE={avg_mse_loss:.12f}, Avg L1={avg_l1_loss:.7f}, Avg L0={avg_l0_norm:.2f}\")\n",
    "\n",
    "print(\"SAE Training finished.\")"
   ]
  },
  {
   "cell_type": "code",
   "execution_count": null,
   "metadata": {
    "colab": {
     "base_uri": "https://localhost:8080/"
    },
    "id": "uG4R2Jaezxn-",
    "outputId": "3208066e-e6c2-48c4-8f3b-be9d07d26d57"
   },
   "outputs": [
    {
     "name": "stdout",
     "output_type": "stream",
     "text": [
      "Recomputing SAE features for analysis...\n"
     ]
    }
   ],
   "source": [
    "sae_model.eval()\n",
    "\n",
    "print(\"Recomputing SAE features for analysis...\")\n",
    "with torch.no_grad():\n",
    "    all_sae_features = []\n",
    "    analysis_batch_size = 128\n",
    "    for i in range(0, all_activations.shape[0], analysis_batch_size):\n",
    "        batch_acts = all_activations[i:i+analysis_batch_size].to(device)\n",
    "        batch_features = sae_model.encode(batch_acts).cpu()\n",
    "        all_sae_features.append(batch_features)\n",
    "\n",
    "    all_sae_features = torch.cat(all_sae_features, dim=0)\n",
    "\n",
    "print(f\"SAE features shape: {all_sae_features.shape}\")\n",
    "\n",
    "def get_max_activating_examples(feature_index, num_examples=10, window_size=10):\n",
    "    \"\"\"Find text snippets where a specific SAE feature maximally activates.\"\"\"\n",
    "    if feature_index < 0 or feature_index >= SAE_HIDDEN_DIM:\n",
    "        print(f\"Error: Feature index {feature_index} out of bounds (0-{SAE_HIDDEN_DIM-1}).\")\n",
    "        return\n",
    "    if all_sae_features.shape[0] == 0:\n",
    "        print(\"Error: No SAE features computed.\")\n",
    "        return\n",
    "    if not token_storage:\n",
    "        print(\"Error: Token storage is empty.\")\n",
    "        return\n",
    "\n",
    "    print(f\"\\n--- Finding top activating examples for Feature {feature_index} ---\")\n",
    "\n",
    "    feature_activations = all_sae_features[:, feature_index]\n",
    "\n",
    "    top_k_values, top_k_indices = torch.topk(feature_activations, k=min(num_examples, all_sae_features.shape[0]), largest=True) # Handle cases with fewer activations than requested\n",
    "\n",
    "    for rank, (idx_tensor, activation_value_tensor) in enumerate(zip(top_k_indices, top_k_values)):\n",
    "        activation_value = activation_value_tensor.item()\n",
    "        global_token_idx = idx_tensor.item()\n",
    "\n",
    "        if global_token_idx < 0 or global_token_idx >= len(token_storage):\n",
    "             print(f\"\\nRank {rank+1}: Activation = {activation_value:.4f}\")\n",
    "             print(f\"Context: Error - Calculated token index {global_token_idx} is out of bounds for token_storage (len={len(token_storage)}). Skipping.\")\n",
    "             continue\n",
    "        \n",
    "        start = max(0, global_token_idx - window_size)\n",
    "        end = min(len(token_storage), global_token_idx + window_size + 1)\n",
    "\n",
    "        if start >= end:\n",
    "             print(f\"\\nRank {rank+1}: Activation = {activation_value:.4f}\")\n",
    "             print(f\"Context: Error - Invalid window slice indices (start={start}, end={end}). Skipping.\")\n",
    "             continue\n",
    "\n",
    "        token_ids_window = token_storage[start:end]\n",
    "\n",
    "        try:\n",
    "             context_text = tokenizer.decode(token_ids_window, skip_special_tokens=True, errors='replace')\n",
    "\n",
    "             activating_token_id = token_storage[global_token_idx]\n",
    "             activating_token_str = tokenizer.decode([activating_token_id], skip_special_tokens=False, errors='replace')\n",
    "\n",
    "\n",
    "             print(f\"\\nRank {rank+1}: Activation = {activation_value:.10e}\")\n",
    "             print(f\"Context: ...{context_text}...\")\n",
    "             print(f\"(Activated on token approx position {global_token_idx-start}: '{activating_token_str}' [{activating_token_id}])\")\n",
    "\n",
    "\n",
    "        except IndexError:\n",
    "             print(f\"\\nRank {rank+1}: Activation = {activation_value:.4f}\")\n",
    "             print(f\"Context: Error decoding tokens - IndexError occurred with indices ({start}, {end}) for token_storage (len={len(token_storage)})\")\n",
    "        except Exception as e:\n",
    "            print(f\"\\nRank {rank+1}: Activation = {activation_value:.4f}\")\n",
    "            print(f\"Context: Error decoding tokens: {token_ids_window} - {e}\")"
   ]
  },
  {
   "cell_type": "code",
   "execution_count": 13,
   "metadata": {},
   "outputs": [
    {
     "name": "stdout",
     "output_type": "stream",
     "text": [
      "\n",
      "--- Finding top activating examples for Feature 2130 ---\n",
      "\n",
      "Rank 1: Activation = 3.8196775131e-03\n",
      "Context: ... 1921 , at Kongens gate 29 until 1932 , and at Tollbodgaten 24 until 1938 . Management wanted to centralise both a new depot and...\n",
      "(Activated on token approx position 15: 'g' [70])\n",
      "\n",
      "Rank 2: Activation = 3.5598464310e-03\n",
      "Context: ...ain \" ; and \" to have power , or ability . \" Qidr , a noun derived from the same root , means \" cauldron , kettle...\n",
      "(Activated on token approx position 15: 'r' [81])\n",
      "\n",
      "Rank 3: Activation = 3.5460712388e-03\n",
      "Context: ... : 377 – 378 . \n",
      " = = = Cited sources = = = \n",
      " Colley , Ann C. ( 2010 ) . Victorians in...\n",
      "(Activated on token approx position 15: ' =' [796])\n",
      "\n",
      "Rank 4: Activation = 3.3055664971e-03\n",
      "Context: ...umbling after \" . The reference to \" Jill \" ( actually a \" gill \" , or The suggestion has also been made that Jack and Jill represent Louis...\n",
      "(Activated on token approx position 15: 'ill' [359])\n",
      "\n",
      "Rank 5: Activation = 3.1611532904e-03\n",
      "Context: ... formally unexplored until Étienne de Veniard , Sieur de Bourgmont commanded an expedition in 1714 that reached at least as far as the...\n",
      "(Activated on token approx position 15: 'g' [70])\n",
      "\n",
      "Rank 6: Activation = 2.9445621185e-03\n",
      "Context: ... film , released on 8 September 2010 during the Eid ul @-@ Fitr holiday , was meant to show different views of Islam ; however , it has...\n",
      "(Activated on token approx position 15: 'r' [81])\n",
      "\n",
      "Rank 7: Activation = 2.8018378653e-03\n",
      "Context: ... , leading to speculation about a possible cryovolcanic origin or outgassing . On 3 March 2015 , a NASA spokesperson said the spots are consistent...\n",
      "(Activated on token approx position 15: 'g' [70])\n",
      "\n",
      "Rank 8: Activation = 2.5828219950e-03\n",
      "Context: ... the toque mycena , or the rosy @-@ gill fairy helmet . The type species of the genus Mycena was first described...\n",
      "(Activated on token approx position 15: 'ill' [359])\n",
      "\n",
      "Rank 9: Activation = 2.5295242667e-03\n",
      "Context: ... began emphasizing prosperity in the 1960s and became known for his often ostentatious displays of personal wealth . During that decade , Roberts and William Branham...\n",
      "(Activated on token approx position 15: 'at' [265])\n",
      "\n",
      "Rank 10: Activation = 2.4466514587e-03\n",
      "Context: ... = Printed sources = = = \n",
      " = = = Online sources = = = \n",
      " = The Secret of Monkey Island = \n",
      " The Secret of Monkey...\n",
      "(Activated on token approx position 15: ' =' [796])\n",
      "\n",
      "--- Finding top activating examples for Feature 607 ---\n",
      "\n",
      "Rank 1: Activation = 2.4167306721e-02\n",
      "Context: ... part of Sawtooth National Forest , and originally covered 1 @,@ 147 @,@ 360 acres ( 4 @,@ 643 @.@...\n",
      "(Activated on token approx position 15: ' 147' [22909])\n",
      "\n",
      "Rank 2: Activation = 2.3349665105e-02\n",
      "Context: ... of Burkettsville . Its eastern terminus is 0 @.@ 56 miles ( 0 @.@ 90 km ) to the east of its western...\n",
      "(Activated on token approx position 15: ' 56' [7265])\n",
      "\n",
      "Rank 3: Activation = 2.2779721767e-02\n",
      "Context: ... at DuMont 's Adelphi Theater studio in 1955 @-@ 56 ) . Bishop Fulton J. Sheen 's Ted Mack 's The Original...\n",
      "(Activated on token approx position 15: ' 56' [7265])\n",
      "\n",
      "Rank 4: Activation = 2.2777654231e-02\n",
      "Context: ... just north of Derwentwater , and 4 miles ( 6 @.@ 4 km ) from Bassenthwaite , had a population of 4 @,...\n",
      "(Activated on token approx position 15: ' 4' [604])\n",
      "\n",
      "Rank 5: Activation = 2.2687250748e-02\n",
      "Context: ... in February , 1861 , the Confederates inventoried some 10 @,@ 247 weapons , 250 @,@ 000 musket cartridges , and 520 @,...\n",
      "(Activated on token approx position 15: ' 247' [30179])\n",
      "\n",
      "Rank 6: Activation = 2.2626435384e-02\n",
      "Context: ... located in the city of Hope . The road is just 0 @.@ 259 miles ( 0 @.@ 417 km ) long , and connects the Hope...\n",
      "(Activated on token approx position 15: ' 259' [37831])\n",
      "\n",
      "Rank 7: Activation = 2.2571554407e-02\n",
      "Context: ... of at least 1015 mbar ( hPa ; 29 @.@ 98 inHg ) . The depression initially moved to the southeast , but later...\n",
      "(Activated on token approx position 15: ' 98' [9661])\n",
      "\n",
      "Rank 8: Activation = 2.2512955591e-02\n",
      "Context: ... the season seventh in the Big East in scoring with a 16 @.@ 4 points per game average to go along with 4 rebounds per game . Dunham shot...\n",
      "(Activated on token approx position 15: ' 4' [604])\n",
      "\n",
      "Rank 9: Activation = 2.2319847718e-02\n",
      "Context: ... Haggerty Connector and connects with Interstate 96 ( I @-@ 96 ) in Novi . The freeway then turns southe Grand River Avenue...\n",
      "(Activated on token approx position 15: ' 96' [9907])\n",
      "\n",
      "Rank 10: Activation = 2.2236734629e-02\n",
      "Context: ... started six , had a 6 – 9 record and a 3 @.@ 40 ERA in 90 innings . On March 18 , 1964 , it was announced that...\n",
      "(Activated on token approx position 15: ' 40' [2319])\n",
      "\n",
      "--- Finding top activating examples for Feature 669 ---\n",
      "\n",
      "Rank 1: Activation = 4.0991599672e-03\n",
      "Context: ... of Rage . New York : Bantam Books , 1987 . \n",
      " Karnow , Stanley , Vietnam : A History . New York : Viking Books , 1983...\n",
      "(Activated on token approx position 15: 'ow' [322])\n",
      "\n",
      "Rank 2: Activation = 3.5295081325e-03\n",
      "Context: ... Beauty and the Beast , Pocahontas , and The Hunchback of Notre Dame and would do so again in Lilo & Stitch . ...\n",
      "(Activated on token approx position 15: ' of' [286])\n",
      "\n",
      "Rank 3: Activation = 3.3854776993e-03\n",
      "Context: ... age 22 , former non @-@ commissioned officers preferred \" . The body of men eventually assembled varied widely in terms of age , background and experience , but...\n",
      "(Activated on token approx position 15: ' of' [286])\n",
      "\n",
      "Rank 4: Activation = 3.1650101300e-03\n",
      "Context: ... Disney 's Pocahontas ( 1995 ) and The Hunchback of Notre Dame ( 1996 ) , to co @-@ write the songs and...\n",
      "(Activated on token approx position 15: ' of' [286])\n",
      "\n",
      "Rank 5: Activation = 3.0427603051e-03\n",
      "Context: ... forms tied to particular places , including Horus of Nekhen , Horus of Buhen , and Horus of Edfu . Such local manifestations could be treated almost as...\n",
      "(Activated on token approx position 15: 'hen' [831])\n",
      "\n",
      "Rank 6: Activation = 3.0222851783e-03\n",
      "Context: ... and fans alike , although viewership was not harmed . In fact , Joshua Kurp of Splitsider believes that the only reason the show 's final two...\n",
      "(Activated on token approx position 15: 'p' [79])\n",
      "\n",
      "Rank 7: Activation = 3.0107027851e-03\n",
      "Context: ...ā , アッラーフ Arrāfu \n",
      " Latvian : Allāhs \n",
      " Maltese : Alla \n",
      " Korean...\n",
      "(Activated on token approx position 15: 'v' [85])\n",
      "\n",
      "Rank 8: Activation = 2.8772992082e-03\n",
      "Context: ... Shiina is voiced by Katsuji Mori . \n",
      " Rie Kawai ( 可愛 理絵 , Kawai...\n",
      "(Activated on token approx position 15: 'ai' [1872])\n",
      "\n",
      "Rank 9: Activation = 2.8768330812e-03\n",
      "Context: ... ﻿ / 51 @.@ 453510 = = = = Grangetown Viaduct = = = = \n",
      " The Grang...\n",
      "(Activated on token approx position 15: ' Gr' [1902])\n",
      "\n",
      "Rank 10: Activation = 2.8149958234e-03\n",
      "Context: ... said that the pullout attempt on their prior film , The Hunchback of Notre Dame , \" struggled \" and \" lacked depth \" ; however , after...\n",
      "(Activated on token approx position 15: ' of' [286])\n",
      "\n",
      "--- Finding top activating examples for Feature 1695 ---\n",
      "\n",
      "Rank 1: Activation = 2.3149792105e-02\n",
      "Context: ... design was implemented at Larsen & Toubro 's submarine design center at their Hazira shipbuilding facility . Tata Power SED built the control systems for...\n",
      "(Activated on token approx position 15: ' their' [511])\n",
      "\n",
      "Rank 2: Activation = 2.3113314062e-02\n",
      "Context: ... \" which sounded like the song \" Gala Gala Parutunna Godarila \" from the Telugu film Gowri ( 1974 ) . He...\n",
      "(Activated on token approx position 15: ' God' [1793])\n",
      "\n",
      "Rank 3: Activation = 2.2910330445e-02\n",
      "Context: ... best music , and was additionally nominated for game of the year , best downloadable game , best graphics , and best song in a game for \" I Was Journey...\n",
      "(Activated on token approx position 15: ' game' [983])\n",
      "\n",
      "Rank 4: Activation = 2.2531155497e-02\n",
      "Context: ... @-@ driven media obsessed by \" present @-@ mindedness \" and the \" continuous , systematic , ruthless destruction of elements of permanence essential to...\n",
      "(Activated on token approx position 15: ' and' [290])\n",
      "\n",
      "Rank 5: Activation = 2.2298138589e-02\n",
      "Context: ... town of Jinze , located just west of Shanghai , converted a mansion on their property into a Buddhist sutra @-@ recitiation hall , and...\n",
      "(Activated on token approx position 15: ' their' [511])\n",
      "\n",
      "Rank 6: Activation = 2.2276539356e-02\n",
      "Context: ...ayas . In his Mallikarjuna , a Jain ascetic , compiled an anthology of poems called Suktisudharnava (...\n",
      "(Activated on token approx position 15: 'etic' [5139])\n",
      "\n",
      "Rank 7: Activation = 2.2207824513e-02\n",
      "Context: ... . Three days after , \" Underneath the Tree \" premiered on Clarkson 's Vevo channel . A television Christmas special , titled Kelly Clarkson 's...\n",
      "(Activated on token approx position 15: 's' [82])\n",
      "\n",
      "Rank 8: Activation = 2.2184785455e-02\n",
      "Context: ... of Zagreb envisioned a modern design reminiscent of the original synagogue , the Bet Israel advocated building a replica of the original synagogue 's facade , perceiving...\n",
      "(Activated on token approx position 15: ' Bet' [5147])\n",
      "\n",
      "Rank 9: Activation = 2.2169487551e-02\n",
      "Context: ...21 Systema Mycologicum . That same year , Samuel Frederick Gray transferred the species to the genus Mycena . Synonyms for the species include...\n",
      "(Activated on token approx position 15: ' transferred' [11172])\n",
      "\n",
      "Rank 10: Activation = 2.2004166618e-02\n",
      "Context: ... created by Walt Disney Feature Animation — the first science fiction film in Disney 's animated features canon and the 41st overall . Written by Tab Murphy , directed...\n",
      "(Activated on token approx position 15: 's' [82])\n",
      "\n",
      "--- Finding top activating examples for Feature 2445 ---\n",
      "\n",
      "Rank 1: Activation = 0.0000000000e+00\n",
      "Context: ... = Valkyria Chronicles III = \n",
      " Senjō no Valkyria 3 : Unrecorded Chronicles ( Japanese :...\n",
      "(Activated on token approx position 8: '\n",
      "' [198])\n",
      "\n",
      "Rank 2: Activation = 0.0000000000e+00\n",
      "Context: ... = Valkyria Chronicles III = \n",
      " Senjō no Valkyria 3 : Unrecorded Chronicles ( Japanese : �...\n",
      "(Activated on token approx position 9: ' Sen' [2311])\n",
      "\n",
      "Rank 3: Activation = 0.0000000000e+00\n",
      "Context: ... = Valkyria Chronicles III = \n",
      " Senjō no Valkyria 3 : Unrecorded...\n",
      "(Activated on token approx position 4: ' Chronicles' [17740])\n",
      "\n",
      "Rank 4: Activation = 0.0000000000e+00\n",
      "Context: ... = Valkyria Chronicles III = \n",
      " Senjō no Valkyria 3 : Unrecorded Chronicles ( Japanese...\n",
      "(Activated on token approx position 7: ' ' [220])\n",
      "\n",
      "Rank 5: Activation = 0.0000000000e+00\n",
      "Context: ... = Valkyria Chronicles III = \n",
      " Senjō no Valkyria 3 : Unrecorded Chronicles...\n",
      "(Activated on token approx position 5: ' III' [6711])\n",
      "\n",
      "Rank 6: Activation = 0.0000000000e+00\n",
      "Context: ... = Valkyria Chronicles III = \n",
      " Senjō no Valkyria 3 : Un...\n",
      "(Activated on token approx position 3: 'ria' [7496])\n",
      "\n",
      "Rank 7: Activation = 0.0000000000e+00\n",
      "Context: ... = Valkyria Chronicles III = \n",
      " Senjō no Valkyria 3...\n",
      "(Activated on token approx position 1: ' V' [569])\n",
      "\n",
      "Rank 8: Activation = 0.0000000000e+00\n",
      "Context: ... = Valkyria Chronicles III = \n",
      " Senjō no Valkyria...\n",
      "(Activated on token approx position 0: ' =' [796])\n",
      "\n",
      "Rank 9: Activation = 0.0000000000e+00\n",
      "Context: ... = Valkyria Chronicles III = \n",
      " Senjō no Valkyria 3 :...\n",
      "(Activated on token approx position 2: 'alky' [18354])\n",
      "\n",
      "Rank 10: Activation = 0.0000000000e+00\n",
      "Context: ... = Valkyria Chronicles III = \n",
      " Senjō no Valkyria 3 : Unrecorded Chronicles (...\n",
      "(Activated on token approx position 6: ' =' [796])\n",
      "\n",
      "--- Finding top activating examples for Feature 1696 ---\n",
      "\n",
      "Rank 1: Activation = 2.3652780801e-03\n",
      "Context: ... the son of the Earl of Hardwicke , in 1866 . In fact , she was to be the third daughter of the family 's English branch...\n",
      "(Activated on token approx position 15: ' fact' [1109])\n",
      "\n",
      "Rank 2: Activation = 1.8808147870e-03\n",
      "Context: ...ay @-@ language title Doea Siloeman Oeler Poeti en Item ( meaning Two Snakes , One White and One Black )...\n",
      "(Activated on token approx position 15: 'et' [316])\n",
      "\n",
      "Rank 3: Activation = 1.8785842694e-03\n",
      "Context: ... Ehrenberg introduced the word \" bacterium \" in 1828 . In fact , his Bacterium was a genus that contained non @-@ sp...\n",
      "(Activated on token approx position 15: ' fact' [1109])\n",
      "\n",
      "Rank 4: Activation = 1.8588167150e-03\n",
      "Context: ... Bradman averaged 56 @.@ 57 in the series ( an excellent average for most , but well short of his career average of 99 @.@ 94...\n",
      "(Activated on token approx position 15: ' for' [329])\n",
      "\n",
      "Rank 5: Activation = 1.7190235667e-03\n",
      "Context: ... was excavating , and the presence of ossified tendons . In fact , Excavations at the quarry were stopped in 1881 , although it...\n",
      "(Activated on token approx position 15: ' fact' [1109])\n",
      "\n",
      "Rank 6: Activation = 1.6899185721e-03\n",
      "Context: ... Mildred Walpole found it hard to settle in New Zealand , and something of her restlessness and insecurity affected the character of her eldest child . In 1889...\n",
      "(Activated on token approx position 15: ' of' [286])\n",
      "\n",
      "Rank 7: Activation = 1.5291897580e-03\n",
      "Context: ... it by touch , of which we are capable \" . So , they sought it out , and when they found it they groped about it . In the...\n",
      "(Activated on token approx position 15: ' it' [340])\n",
      "\n",
      "Rank 8: Activation = 1.3609994203e-03\n",
      "Context: ... reassign land , since they held it in trust for the people . In effect the existing property owners were not displaced , but now had to pay Zakā...\n",
      "(Activated on token approx position 15: ' effect' [1245])\n",
      "\n",
      "Rank 9: Activation = 1.2673658784e-03\n",
      "Context: ... buildings . Earlier buildings had typically rested their foundations on rubble , which was in turn laid down on the soft top layer of the ground called the overburden...\n",
      "(Activated on token approx position 15: ' turn' [1210])\n",
      "\n",
      "Rank 10: Activation = 1.1763437651e-03\n",
      "Context: ... individual proteins ranges from a few molecules per cell to hundreds of thousands . In fact , about a third of all proteins is not produced in most cells or only...\n",
      "(Activated on token approx position 15: ' fact' [1109])\n",
      "\n",
      "--- Finding top activating examples for Feature 1171 ---\n",
      "\n",
      "Rank 1: Activation = 4.8313345760e-02\n",
      "Context: ... of about 2 @.@ 5 times ( the 5th root of 100 or approximately 2 @.@ 512 ) . This means that a first magnitude star...\n",
      "(Activated on token approx position 15: ' or' [393])\n",
      "\n",
      "Rank 2: Activation = 4.6623446047e-02\n",
      "Context: ... much in the short term . There are an estimated 1 @.@ 3 – 2 @.@ 0 million breeding pairs in Europe The breeding corn crake...\n",
      "(Activated on token approx position 15: ' –' [784])\n",
      "\n",
      "Rank 3: Activation = 4.5742083341e-02\n",
      "Context: ... world agrees are the great Odes \" but describes the language as \" [ d ] elicate , charming even \" . Later , in a 1968 biography of...\n",
      "(Activated on token approx position 15: ' d' [288])\n",
      "\n",
      "Rank 4: Activation = 4.5129634440e-02\n",
      "Context: ... leaves are crowded and oppositely arranged . They measure 0 @.@ 7 – 1 @.@ 3 cm ( 0 @.@ 2 – 0 @...\n",
      "(Activated on token approx position 15: ' –' [784])\n",
      "\n",
      "Rank 5: Activation = 4.4262640178e-02\n",
      "Context: ... found in Scotland and a full traverse of the Cuillin ridge may take 15 – 20 hours . The Red Hills ( Gaelic : Am Binnean Dear...\n",
      "(Activated on token approx position 15: ' –' [784])\n",
      "\n",
      "Rank 6: Activation = 4.3958395720e-02\n",
      "Context: ... Nash returned to Phoenix in 2004 , he helped the Suns improve from a 29 – 53 record in 2003 – 04 to 62 – 20 in 2004 – 05 ,...\n",
      "(Activated on token approx position 15: ' –' [784])\n",
      "\n",
      "Rank 7: Activation = 4.3835207820e-02\n",
      "Context: ... the Bulls continued their dominance in the 1991 – 92 season , establishing a 67 – 15 record , topping their franchise record from 1990 to 91 . Jordan won his...\n",
      "(Activated on token approx position 15: ' –' [784])\n",
      "\n",
      "Rank 8: Activation = 4.3328978121e-02\n",
      "Context: ... Elias Magnus Fries in his 1821 Systema Mycologicum . That same year , Samuel Frederick Gray transferred the species to the genus Mycena...\n",
      "(Activated on token approx position 15: ' That' [1320])\n",
      "\n",
      "Rank 9: Activation = 4.3028824031e-02\n",
      "Context: ... take place in Rochdale 's Municipal Offices building , Rochdale Town Hall continues to be used for cultural and ceremonial functions . For instance it...\n",
      "(Activated on token approx position 15: 'dale' [14597])\n",
      "\n",
      "Rank 10: Activation = 4.2824022472e-02\n",
      "Context: ... blue at low light levels . The egg size is 26 @.@ 5 – 34 @.@ 5 mm ( 1 @.@ 04 – 1 @...\n",
      "(Activated on token approx position 15: ' –' [784])\n",
      "\n",
      "--- Finding top activating examples for Feature 2445 ---\n",
      "\n",
      "Rank 1: Activation = 0.0000000000e+00\n",
      "Context: ... = Valkyria Chronicles III = \n",
      " Senjō no Valkyria 3 : Unrecorded Chronicles ( Japanese :...\n",
      "(Activated on token approx position 8: '\n",
      "' [198])\n",
      "\n",
      "Rank 2: Activation = 0.0000000000e+00\n",
      "Context: ... = Valkyria Chronicles III = \n",
      " Senjō no Valkyria 3 : Unrecorded Chronicles ( Japanese : �...\n",
      "(Activated on token approx position 9: ' Sen' [2311])\n",
      "\n",
      "Rank 3: Activation = 0.0000000000e+00\n",
      "Context: ... = Valkyria Chronicles III = \n",
      " Senjō no Valkyria 3 : Unrecorded...\n",
      "(Activated on token approx position 4: ' Chronicles' [17740])\n",
      "\n",
      "Rank 4: Activation = 0.0000000000e+00\n",
      "Context: ... = Valkyria Chronicles III = \n",
      " Senjō no Valkyria 3 : Unrecorded Chronicles ( Japanese...\n",
      "(Activated on token approx position 7: ' ' [220])\n",
      "\n",
      "Rank 5: Activation = 0.0000000000e+00\n",
      "Context: ... = Valkyria Chronicles III = \n",
      " Senjō no Valkyria 3 : Unrecorded Chronicles...\n",
      "(Activated on token approx position 5: ' III' [6711])\n",
      "\n",
      "Rank 6: Activation = 0.0000000000e+00\n",
      "Context: ... = Valkyria Chronicles III = \n",
      " Senjō no Valkyria 3 : Un...\n",
      "(Activated on token approx position 3: 'ria' [7496])\n",
      "\n",
      "Rank 7: Activation = 0.0000000000e+00\n",
      "Context: ... = Valkyria Chronicles III = \n",
      " Senjō no Valkyria 3...\n",
      "(Activated on token approx position 1: ' V' [569])\n",
      "\n",
      "Rank 8: Activation = 0.0000000000e+00\n",
      "Context: ... = Valkyria Chronicles III = \n",
      " Senjō no Valkyria...\n",
      "(Activated on token approx position 0: ' =' [796])\n",
      "\n",
      "Rank 9: Activation = 0.0000000000e+00\n",
      "Context: ... = Valkyria Chronicles III = \n",
      " Senjō no Valkyria 3 :...\n",
      "(Activated on token approx position 2: 'alky' [18354])\n",
      "\n",
      "Rank 10: Activation = 0.0000000000e+00\n",
      "Context: ... = Valkyria Chronicles III = \n",
      " Senjō no Valkyria 3 : Unrecorded Chronicles (...\n",
      "(Activated on token approx position 6: ' =' [796])\n",
      "\n",
      "--- Finding top activating examples for Feature 2129 ---\n",
      "\n",
      "Rank 1: Activation = 5.8072287589e-02\n",
      "Context: ... , Redfern and Mayhew , to the island . On December 27 , the team ambushes several islanders in the jungle , taking Ben 's...\n",
      "(Activated on token approx position 15: ' ,' [837])\n",
      "\n",
      "Rank 2: Activation = 5.7398267090e-02\n",
      "Context: ... The band decided \" not to mess with fate \" , and on March 21 , 1992 , Alice in Chains released their second EP , Sap . The EP was...\n",
      "(Activated on token approx position 15: ' ,' [837])\n",
      "\n",
      "Rank 3: Activation = 5.7147391140e-02\n",
      "Context: ... man crew , mistakenly thought to be on Koh Tang Island . On May 13 , two A @-@ 7D Corsairs saw the 39 man crew board...\n",
      "(Activated on token approx position 15: ' ,' [837])\n",
      "\n",
      "Rank 4: Activation = 5.6679964066e-02\n",
      "Context: ... strikeouts for a 2016 Opening Day win against the Seattle Mariners . On June 12 , in a start against Seattle , Hamels recorded his 2,000th career...\n",
      "(Activated on token approx position 15: ' ,' [837])\n",
      "\n",
      "Rank 5: Activation = 5.6192845106e-02\n",
      "Context: ... By the time the Sultan appeared Rain interrupted the siege , but on 21 March , immediately south of Krak des Chevaliers , Baibar 's...\n",
      "(Activated on token approx position 15: ' ,' [837])\n",
      "\n",
      "Rank 6: Activation = 5.5649198592e-02\n",
      "Context: ... back with a pitch , after admitting that it was intentional . On July 21 , 2012 , Hamels hit his first career home run off San Francisco Giants pitcher...\n",
      "(Activated on token approx position 15: ' ,' [837])\n",
      "\n",
      "Rank 7: Activation = 5.5548287928e-02\n",
      "Context: ... an alternative , non @-@ military type of service . On June 20 , 1940 , the Burke @-@ Wadsworth Bill came before Congress . The...\n",
      "(Activated on token approx position 15: ' ,' [837])\n",
      "\n",
      "Rank 8: Activation = 5.5349156260e-02\n",
      "Context: ... island left 30 families homeless and severely hampered the fishing community . On December 15 , the Board of Directors of the Caribbean Development Bank approved $ 9 @.@...\n",
      "(Activated on token approx position 15: ' ,' [837])\n",
      "\n",
      "Rank 9: Activation = 5.5092446506e-02\n",
      "Context: ... Germany invaded Poland , initiating World War II in Europe , and on 17 September , pursuant to the Molotov @-@ Ribbentrop Pact , Poland...\n",
      "(Activated on token approx position 15: ' ,' [837])\n",
      "\n",
      "Rank 10: Activation = 5.5086966604e-02\n",
      "Context: ... back pain , and further aggravated his back while lifting luggage . On 23 October , less than a week before the start of what would have been the 40 @...\n",
      "(Activated on token approx position 15: ' ,' [837])\n",
      "\n",
      "--- Finding top activating examples for Feature 1284 ---\n",
      "\n",
      "Rank 1: Activation = 7.9424850643e-02\n",
      "Context: ... formed an area of low pressure that developed into Tropical Cyclone Graham on 27 February . The storm moved slowly to the east @-@ southeast , and after...\n",
      "(Activated on token approx position 15: ' February' [3945])\n",
      "\n",
      "Rank 2: Activation = 7.9357564449e-02\n",
      "Context: ... knew such a beautiful character . \" The marriage was celebrated in London on 20 March 1878 at the Board Room of Guardians in Mount Street , and also in...\n",
      "(Activated on token approx position 15: ' March' [2805])\n",
      "\n",
      "Rank 3: Activation = 7.8929170966e-02\n",
      "Context: ... Iguanadon \" . Mantell formally published his findings on 10 February 1825 , when he presented a paper on the remains to the Royal Society...\n",
      "(Activated on token approx position 15: ' February' [3945])\n",
      "\n",
      "Rank 4: Activation = 7.8846842051e-02\n",
      "Context: ... meant that No. 12 ( General Purpose ) Squadron was not formed until 6 February 1939 at Laverton . Jones had by = = World War II =...\n",
      "(Activated on token approx position 15: ' February' [3945])\n",
      "\n",
      "Rank 5: Activation = 7.7810794115e-02\n",
      "Context: ... Russian as TTZ ) for the large battleship design was issued on 21 February 1936 but proved too ambitious , specifying nine 460 mm guns and a speed of...\n",
      "(Activated on token approx position 15: ' February' [3945])\n",
      "\n",
      "Rank 6: Activation = 7.7508911490e-02\n",
      "Context: ... . It was held at short notice , with the summons being issued on 14 December , leaving little time for attendees to respond . He summoned not only the bar...\n",
      "(Activated on token approx position 15: ' December' [3426])\n",
      "\n",
      "Rank 7: Activation = 7.7464014292e-02\n",
      "Context: ... further Frenchman died in an ambush by insurgents before another friendly fire incident on 19 April 1978 resulted in a fatality . On several occasions during this bush trip the...\n",
      "(Activated on token approx position 15: ' April' [3035])\n",
      "\n",
      "Rank 8: Activation = 7.6924636960e-02\n",
      "Context: ...ain \" was released as the album 's fifth and final single on 11 October , again only in the same region , and reached number 141 in the UK...\n",
      "(Activated on token approx position 15: ' October' [3267])\n",
      "\n",
      "Rank 9: Activation = 7.5897753239e-02\n",
      "Context: ... King Louis XVI , diplomatic ties between Britain and France were broken . On 1 February France declared war on both Britain and the Dutch Republic . \n",
      " Protected...\n",
      "(Activated on token approx position 15: ' February' [3945])\n",
      "\n",
      "Rank 10: Activation = 7.5816668570e-02\n",
      "Context: ... @-@ religious policy , churches and religious organizations were persecuted . On 10 February 1940 , the NKVD unleashed a campaign of terror against \" anti @-...\n",
      "(Activated on token approx position 15: ' February' [3945])\n"
     ]
    }
   ],
   "source": [
    "for i in range(10):\n",
    "    random_feature_idx = random.randint(0, SAE_HIDDEN_DIM - 1)\n",
    "    get_max_activating_examples(feature_index=random_feature_idx, num_examples=10, window_size=15)"
   ]
  },
  {
   "cell_type": "code",
   "execution_count": null,
   "metadata": {},
   "outputs": [],
   "source": [
    "print(\"DEBUG: Inspecting sample SAE features...\")\n",
    "sae_model.eval()\n",
    "sae_model.to(device) # Ensure model is on GPU\n",
    "\n",
    "# Use a subset of activations to avoid RAM issues if all_activations is huge\n",
    "num_inspect_samples = min(10000, all_activations.shape[0]) # Inspect up to 10k samples\n",
    "sample_indices = torch.randperm(all_activations.shape[0])[:num_inspect_samples]\n",
    "\n",
    "# Keep activations on CPU for this inspection if they fit, otherwise batch\n",
    "sample_acts_cpu = all_activations[sample_indices]\n",
    "\n",
    "# Calculate features in batches to avoid OOM on GPU if necessary\n",
    "batch_size_inspect = 1024\n",
    "all_sample_features_list = []\n",
    "with torch.no_grad():\n",
    "    for i in range(0, num_inspect_samples, batch_size_inspect):\n",
    "        batch_acts_gpu = sample_acts_cpu[i:i+batch_size_inspect].to(device)\n",
    "        batch_features_gpu = sae_model.encode(batch_acts_gpu)\n",
    "        all_sample_features_list.append(batch_features_gpu.cpu()) # Move features to CPU\n",
    "\n",
    "sample_features = torch.cat(all_sample_features_list, dim=0)\n",
    "\n",
    "print(f\"Sample features shape: {sample_features.shape}\") # Should be (num_inspect_samples, SAE_HIDDEN_DIM)\n",
    "print(f\"Sample features min: {sample_features.min():.6f}\")\n",
    "print(f\"Sample features max: {sample_features.max():.6f}\")\n",
    "print(f\"Sample features mean: {sample_features.mean():.6f}\")\n",
    "print(f\"Sample features std: {sample_features.std():.6f}\")\n",
    "\n",
    "# Calculate L0 norm for the sample (more accurate than just min/max/mean)\n",
    "# Use a small threshold to account for floating point inaccuracies\n",
    "active_features = (sample_features > 1e-6).float()\n",
    "avg_l0_per_input = active_features.sum(dim=1).mean().item()\n",
    "total_active_features = active_features.sum().item()\n",
    "fraction_active = total_active_features / sample_features.numel()\n",
    "\n",
    "print(f\"\\nSample L0 norm (avg active features per input): {avg_l0_per_input:.4f}\")\n",
    "print(f\"Total active feature values in sample: {total_active_features}\")\n",
    "print(f\"Fraction of active feature values: {fraction_active:.6f}\")\n",
    "\n",
    "# Check proportion of DEAD features (never activate across the sample)\n",
    "features_never_activated = (active_features.sum(dim=0) == 0).sum().item()\n",
    "print(f\"\\nNumber of features that NEVER activated in the sample: {features_never_activated} / {SAE_HIDDEN_DIM}\")\n",
    "\n",
    "del sample_acts_cpu, all_sample_features_list, sample_features, active_features # Cleanup\n",
    "gc.collect()\n",
    "if device == torch.device(\"cuda\"):\n",
    "    torch.cuda.empty_cache()"
   ]
  },
  {
   "cell_type": "code",
   "execution_count": 14,
   "metadata": {},
   "outputs": [
    {
     "name": "stdout",
     "output_type": "stream",
     "text": [
      "SAE model weights saved to: sae_gpt2_layer6_mlp_0.pth\n"
     ]
    }
   ],
   "source": [
    "sae_model_path = \"sae_gpt2_layer6_mlp_0.pth\"\n",
    "torch.save(sae_model.state_dict(), sae_model_path)\n",
    "print(f\"SAE model weights saved to: {sae_model_path}\")"
   ]
  },
  {
   "cell_type": "code",
   "execution_count": null,
   "metadata": {},
   "outputs": [],
   "source": []
  }
 ],
 "metadata": {
  "accelerator": "GPU",
  "colab": {
   "gpuType": "T4",
   "provenance": [],
   "toc_visible": true
  },
  "kernelspec": {
   "display_name": "Python 3 (ipykernel)",
   "language": "python",
   "name": "python3"
  },
  "language_info": {
   "codemirror_mode": {
    "name": "ipython",
    "version": 3
   },
   "file_extension": ".py",
   "mimetype": "text/x-python",
   "name": "python",
   "nbconvert_exporter": "python",
   "pygments_lexer": "ipython3",
   "version": "3.10.12"
  },
  "widgets": {
   "application/vnd.jupyter.widget-state+json": {
    "0270a2478b16473683f73715628fc483": {
     "model_module": "@jupyter-widgets/controls",
     "model_module_version": "1.5.0",
     "model_name": "DescriptionStyleModel",
     "state": {
      "_model_module": "@jupyter-widgets/controls",
      "_model_module_version": "1.5.0",
      "_model_name": "DescriptionStyleModel",
      "_view_count": null,
      "_view_module": "@jupyter-widgets/base",
      "_view_module_version": "1.2.0",
      "_view_name": "StyleView",
      "description_width": ""
     }
    },
    "045811a98a0e488191619ff663a9b9ad": {
     "model_module": "@jupyter-widgets/base",
     "model_module_version": "1.2.0",
     "model_name": "LayoutModel",
     "state": {
      "_model_module": "@jupyter-widgets/base",
      "_model_module_version": "1.2.0",
      "_model_name": "LayoutModel",
      "_view_count": null,
      "_view_module": "@jupyter-widgets/base",
      "_view_module_version": "1.2.0",
      "_view_name": "LayoutView",
      "align_content": null,
      "align_items": null,
      "align_self": null,
      "border": null,
      "bottom": null,
      "display": null,
      "flex": null,
      "flex_flow": null,
      "grid_area": null,
      "grid_auto_columns": null,
      "grid_auto_flow": null,
      "grid_auto_rows": null,
      "grid_column": null,
      "grid_gap": null,
      "grid_row": null,
      "grid_template_areas": null,
      "grid_template_columns": null,
      "grid_template_rows": null,
      "height": null,
      "justify_content": null,
      "justify_items": null,
      "left": null,
      "margin": null,
      "max_height": null,
      "max_width": null,
      "min_height": null,
      "min_width": null,
      "object_fit": null,
      "object_position": null,
      "order": null,
      "overflow": null,
      "overflow_x": null,
      "overflow_y": null,
      "padding": null,
      "right": null,
      "top": null,
      "visibility": "hidden",
      "width": null
     }
    },
    "0527355b91cc461bbcf14a6f9e4b3148": {
     "model_module": "@jupyter-widgets/controls",
     "model_module_version": "1.5.0",
     "model_name": "ProgressStyleModel",
     "state": {
      "_model_module": "@jupyter-widgets/controls",
      "_model_module_version": "1.5.0",
      "_model_name": "ProgressStyleModel",
      "_view_count": null,
      "_view_module": "@jupyter-widgets/base",
      "_view_module_version": "1.2.0",
      "_view_name": "StyleView",
      "bar_color": null,
      "description_width": ""
     }
    },
    "1457663b5ac04dbebe458eaabb6cb652": {
     "model_module": "@jupyter-widgets/controls",
     "model_module_version": "1.5.0",
     "model_name": "FloatProgressModel",
     "state": {
      "_dom_classes": [],
      "_model_module": "@jupyter-widgets/controls",
      "_model_module_version": "1.5.0",
      "_model_name": "FloatProgressModel",
      "_view_count": null,
      "_view_module": "@jupyter-widgets/controls",
      "_view_module_version": "1.5.0",
      "_view_name": "ProgressView",
      "bar_style": "",
      "description": "",
      "description_tooltip": null,
      "layout": "IPY_MODEL_8bb165de3f1f4fb99aaadd788a4db38d",
      "max": 1954,
      "min": 0,
      "orientation": "horizontal",
      "style": "IPY_MODEL_7cbaea4ebd184865a0141614da79579c",
      "value": 1954
     }
    },
    "1da8b159a5e64972876f24242c51ab8c": {
     "model_module": "@jupyter-widgets/controls",
     "model_module_version": "1.5.0",
     "model_name": "FloatProgressModel",
     "state": {
      "_dom_classes": [],
      "_model_module": "@jupyter-widgets/controls",
      "_model_module_version": "1.5.0",
      "_model_name": "FloatProgressModel",
      "_view_count": null,
      "_view_module": "@jupyter-widgets/controls",
      "_view_module_version": "1.5.0",
      "_view_name": "ProgressView",
      "bar_style": "success",
      "description": "",
      "description_tooltip": null,
      "layout": "IPY_MODEL_88f1bd22d3ac4eeb83590a664aaee90c",
      "max": 500000,
      "min": 0,
      "orientation": "horizontal",
      "style": "IPY_MODEL_33f1a0ccad224bec8ddb759e1cff9224",
      "value": 500000
     }
    },
    "1dc057cec3af4bd5bd3d164b3bbb278c": {
     "model_module": "@jupyter-widgets/controls",
     "model_module_version": "1.5.0",
     "model_name": "HBoxModel",
     "state": {
      "_dom_classes": [],
      "_model_module": "@jupyter-widgets/controls",
      "_model_module_version": "1.5.0",
      "_model_name": "HBoxModel",
      "_view_count": null,
      "_view_module": "@jupyter-widgets/controls",
      "_view_module_version": "1.5.0",
      "_view_name": "HBoxView",
      "box_style": "",
      "children": [
       "IPY_MODEL_fe36b08fe7ac46aaa5cc7a32029d2326",
       "IPY_MODEL_cb424b8d740a4725b7a40b612477e0a4",
       "IPY_MODEL_481f0c9360fa48c789c3e610c7faa4b9"
      ],
      "layout": "IPY_MODEL_c7b5087d4cff4c659aa4e0621f2f0515"
     }
    },
    "1ec8925531914a72a32af23f00b6cf85": {
     "model_module": "@jupyter-widgets/controls",
     "model_module_version": "1.5.0",
     "model_name": "DescriptionStyleModel",
     "state": {
      "_model_module": "@jupyter-widgets/controls",
      "_model_module_version": "1.5.0",
      "_model_name": "DescriptionStyleModel",
      "_view_count": null,
      "_view_module": "@jupyter-widgets/base",
      "_view_module_version": "1.2.0",
      "_view_name": "StyleView",
      "description_width": ""
     }
    },
    "212ffc916333471ab3d8e0fdf6c14125": {
     "model_module": "@jupyter-widgets/controls",
     "model_module_version": "1.5.0",
     "model_name": "HBoxModel",
     "state": {
      "_dom_classes": [],
      "_model_module": "@jupyter-widgets/controls",
      "_model_module_version": "1.5.0",
      "_model_name": "HBoxModel",
      "_view_count": null,
      "_view_module": "@jupyter-widgets/controls",
      "_view_module_version": "1.5.0",
      "_view_name": "HBoxView",
      "box_style": "",
      "children": [
       "IPY_MODEL_5298938e251e40b7a408c049f396ef7f",
       "IPY_MODEL_1da8b159a5e64972876f24242c51ab8c",
       "IPY_MODEL_a9ec30c5a9284e9a864d13363b3821ef"
      ],
      "layout": "IPY_MODEL_75e2d97e8cb24a379df37bd4687b7895"
     }
    },
    "22b3a63ea5674954a7bb6059969217cc": {
     "model_module": "@jupyter-widgets/controls",
     "model_module_version": "1.5.0",
     "model_name": "HTMLModel",
     "state": {
      "_dom_classes": [],
      "_model_module": "@jupyter-widgets/controls",
      "_model_module_version": "1.5.0",
      "_model_name": "HTMLModel",
      "_view_count": null,
      "_view_module": "@jupyter-widgets/controls",
      "_view_module_version": "1.5.0",
      "_view_name": "HTMLView",
      "description": "",
      "description_tooltip": null,
      "layout": "IPY_MODEL_752074022a6343d595cb44e542eedce1",
      "placeholder": "​",
      "style": "IPY_MODEL_a667a6173e284395a30468c8c0f0344d",
      "value": "Epoch 5/5: 100%"
     }
    },
    "2a0226c7890a4a9eb29116a5bcfb8e6d": {
     "model_module": "@jupyter-widgets/base",
     "model_module_version": "1.2.0",
     "model_name": "LayoutModel",
     "state": {
      "_model_module": "@jupyter-widgets/base",
      "_model_module_version": "1.2.0",
      "_model_name": "LayoutModel",
      "_view_count": null,
      "_view_module": "@jupyter-widgets/base",
      "_view_module_version": "1.2.0",
      "_view_name": "LayoutView",
      "align_content": null,
      "align_items": null,
      "align_self": null,
      "border": null,
      "bottom": null,
      "display": null,
      "flex": null,
      "flex_flow": null,
      "grid_area": null,
      "grid_auto_columns": null,
      "grid_auto_flow": null,
      "grid_auto_rows": null,
      "grid_column": null,
      "grid_gap": null,
      "grid_row": null,
      "grid_template_areas": null,
      "grid_template_columns": null,
      "grid_template_rows": null,
      "height": null,
      "justify_content": null,
      "justify_items": null,
      "left": null,
      "margin": null,
      "max_height": null,
      "max_width": null,
      "min_height": null,
      "min_width": null,
      "object_fit": null,
      "object_position": null,
      "order": null,
      "overflow": null,
      "overflow_x": null,
      "overflow_y": null,
      "padding": null,
      "right": null,
      "top": null,
      "visibility": null,
      "width": null
     }
    },
    "3394cbd41fe84afaab914957fe0577b4": {
     "model_module": "@jupyter-widgets/base",
     "model_module_version": "1.2.0",
     "model_name": "LayoutModel",
     "state": {
      "_model_module": "@jupyter-widgets/base",
      "_model_module_version": "1.2.0",
      "_model_name": "LayoutModel",
      "_view_count": null,
      "_view_module": "@jupyter-widgets/base",
      "_view_module_version": "1.2.0",
      "_view_name": "LayoutView",
      "align_content": null,
      "align_items": null,
      "align_self": null,
      "border": null,
      "bottom": null,
      "display": null,
      "flex": null,
      "flex_flow": null,
      "grid_area": null,
      "grid_auto_columns": null,
      "grid_auto_flow": null,
      "grid_auto_rows": null,
      "grid_column": null,
      "grid_gap": null,
      "grid_row": null,
      "grid_template_areas": null,
      "grid_template_columns": null,
      "grid_template_rows": null,
      "height": null,
      "justify_content": null,
      "justify_items": null,
      "left": null,
      "margin": null,
      "max_height": null,
      "max_width": null,
      "min_height": null,
      "min_width": null,
      "object_fit": null,
      "object_position": null,
      "order": null,
      "overflow": null,
      "overflow_x": null,
      "overflow_y": null,
      "padding": null,
      "right": null,
      "top": null,
      "visibility": null,
      "width": null
     }
    },
    "33f1a0ccad224bec8ddb759e1cff9224": {
     "model_module": "@jupyter-widgets/controls",
     "model_module_version": "1.5.0",
     "model_name": "ProgressStyleModel",
     "state": {
      "_model_module": "@jupyter-widgets/controls",
      "_model_module_version": "1.5.0",
      "_model_name": "ProgressStyleModel",
      "_view_count": null,
      "_view_module": "@jupyter-widgets/base",
      "_view_module_version": "1.2.0",
      "_view_name": "StyleView",
      "bar_color": null,
      "description_width": ""
     }
    },
    "347975e6001446d8ad5ab1a55e6b93ba": {
     "model_module": "@jupyter-widgets/controls",
     "model_module_version": "1.5.0",
     "model_name": "DescriptionStyleModel",
     "state": {
      "_model_module": "@jupyter-widgets/controls",
      "_model_module_version": "1.5.0",
      "_model_name": "DescriptionStyleModel",
      "_view_count": null,
      "_view_module": "@jupyter-widgets/base",
      "_view_module_version": "1.2.0",
      "_view_name": "StyleView",
      "description_width": ""
     }
    },
    "3e0a3d48d7c7467793ad5cb0b2af2db8": {
     "model_module": "@jupyter-widgets/controls",
     "model_module_version": "1.5.0",
     "model_name": "HBoxModel",
     "state": {
      "_dom_classes": [],
      "_model_module": "@jupyter-widgets/controls",
      "_model_module_version": "1.5.0",
      "_model_name": "HBoxModel",
      "_view_count": null,
      "_view_module": "@jupyter-widgets/controls",
      "_view_module_version": "1.5.0",
      "_view_name": "HBoxView",
      "box_style": "",
      "children": [
       "IPY_MODEL_dcb1775a38ef423d9b83be8ea34358c3",
       "IPY_MODEL_ce1153829b504a9aaf6aded150437803",
       "IPY_MODEL_cf29e64ebe8b4c4d9e504344923c068f"
      ],
      "layout": "IPY_MODEL_045811a98a0e488191619ff663a9b9ad"
     }
    },
    "40c45e409c504dbcbb4de1341f9f519d": {
     "model_module": "@jupyter-widgets/base",
     "model_module_version": "1.2.0",
     "model_name": "LayoutModel",
     "state": {
      "_model_module": "@jupyter-widgets/base",
      "_model_module_version": "1.2.0",
      "_model_name": "LayoutModel",
      "_view_count": null,
      "_view_module": "@jupyter-widgets/base",
      "_view_module_version": "1.2.0",
      "_view_name": "LayoutView",
      "align_content": null,
      "align_items": null,
      "align_self": null,
      "border": null,
      "bottom": null,
      "display": null,
      "flex": null,
      "flex_flow": null,
      "grid_area": null,
      "grid_auto_columns": null,
      "grid_auto_flow": null,
      "grid_auto_rows": null,
      "grid_column": null,
      "grid_gap": null,
      "grid_row": null,
      "grid_template_areas": null,
      "grid_template_columns": null,
      "grid_template_rows": null,
      "height": null,
      "justify_content": null,
      "justify_items": null,
      "left": null,
      "margin": null,
      "max_height": null,
      "max_width": null,
      "min_height": null,
      "min_width": null,
      "object_fit": null,
      "object_position": null,
      "order": null,
      "overflow": null,
      "overflow_x": null,
      "overflow_y": null,
      "padding": null,
      "right": null,
      "top": null,
      "visibility": null,
      "width": null
     }
    },
    "423f683a857d4978aea32d1fb906917f": {
     "model_module": "@jupyter-widgets/base",
     "model_module_version": "1.2.0",
     "model_name": "LayoutModel",
     "state": {
      "_model_module": "@jupyter-widgets/base",
      "_model_module_version": "1.2.0",
      "_model_name": "LayoutModel",
      "_view_count": null,
      "_view_module": "@jupyter-widgets/base",
      "_view_module_version": "1.2.0",
      "_view_name": "LayoutView",
      "align_content": null,
      "align_items": null,
      "align_self": null,
      "border": null,
      "bottom": null,
      "display": null,
      "flex": null,
      "flex_flow": null,
      "grid_area": null,
      "grid_auto_columns": null,
      "grid_auto_flow": null,
      "grid_auto_rows": null,
      "grid_column": null,
      "grid_gap": null,
      "grid_row": null,
      "grid_template_areas": null,
      "grid_template_columns": null,
      "grid_template_rows": null,
      "height": null,
      "justify_content": null,
      "justify_items": null,
      "left": null,
      "margin": null,
      "max_height": null,
      "max_width": null,
      "min_height": null,
      "min_width": null,
      "object_fit": null,
      "object_position": null,
      "order": null,
      "overflow": null,
      "overflow_x": null,
      "overflow_y": null,
      "padding": null,
      "right": null,
      "top": null,
      "visibility": null,
      "width": null
     }
    },
    "481f0c9360fa48c789c3e610c7faa4b9": {
     "model_module": "@jupyter-widgets/controls",
     "model_module_version": "1.5.0",
     "model_name": "HTMLModel",
     "state": {
      "_dom_classes": [],
      "_model_module": "@jupyter-widgets/controls",
      "_model_module_version": "1.5.0",
      "_model_name": "HTMLModel",
      "_view_count": null,
      "_view_module": "@jupyter-widgets/controls",
      "_view_module_version": "1.5.0",
      "_view_name": "HTMLView",
      "description": "",
      "description_tooltip": null,
      "layout": "IPY_MODEL_4f7c9f2b26474d91869d321c93c55016",
      "placeholder": "​",
      "style": "IPY_MODEL_1ec8925531914a72a32af23f00b6cf85",
      "value": " 1945/1954 [00:10&lt;00:00, 173.56it/s, Total Loss=0.0000, MSE=0.0000, L1=0.0125, L0=2522.38]"
     }
    },
    "488a96383d124d59afffb71ff3cd05a4": {
     "model_module": "@jupyter-widgets/controls",
     "model_module_version": "1.5.0",
     "model_name": "HTMLModel",
     "state": {
      "_dom_classes": [],
      "_model_module": "@jupyter-widgets/controls",
      "_model_module_version": "1.5.0",
      "_model_name": "HTMLModel",
      "_view_count": null,
      "_view_module": "@jupyter-widgets/controls",
      "_view_module_version": "1.5.0",
      "_view_name": "HTMLView",
      "description": "",
      "description_tooltip": null,
      "layout": "IPY_MODEL_d3a89fc92c9d4130bace9226679abf8b",
      "placeholder": "​",
      "style": "IPY_MODEL_347975e6001446d8ad5ab1a55e6b93ba",
      "value": "Epoch 1/5: 100%"
     }
    },
    "4bd3e07b66384d6b8b41e871027b19db": {
     "model_module": "@jupyter-widgets/controls",
     "model_module_version": "1.5.0",
     "model_name": "DescriptionStyleModel",
     "state": {
      "_model_module": "@jupyter-widgets/controls",
      "_model_module_version": "1.5.0",
      "_model_name": "DescriptionStyleModel",
      "_view_count": null,
      "_view_module": "@jupyter-widgets/base",
      "_view_module_version": "1.2.0",
      "_view_name": "StyleView",
      "description_width": ""
     }
    },
    "4caa6143e6ba417ea1c1c08bbd1bbe00": {
     "model_module": "@jupyter-widgets/controls",
     "model_module_version": "1.5.0",
     "model_name": "ProgressStyleModel",
     "state": {
      "_model_module": "@jupyter-widgets/controls",
      "_model_module_version": "1.5.0",
      "_model_name": "ProgressStyleModel",
      "_view_count": null,
      "_view_module": "@jupyter-widgets/base",
      "_view_module_version": "1.2.0",
      "_view_name": "StyleView",
      "bar_color": null,
      "description_width": ""
     }
    },
    "4eb4c6ebdff64314aca75bef415a7dcc": {
     "model_module": "@jupyter-widgets/controls",
     "model_module_version": "1.5.0",
     "model_name": "HTMLModel",
     "state": {
      "_dom_classes": [],
      "_model_module": "@jupyter-widgets/controls",
      "_model_module_version": "1.5.0",
      "_model_name": "HTMLModel",
      "_view_count": null,
      "_view_module": "@jupyter-widgets/controls",
      "_view_module_version": "1.5.0",
      "_view_name": "HTMLView",
      "description": "",
      "description_tooltip": null,
      "layout": "IPY_MODEL_40c45e409c504dbcbb4de1341f9f519d",
      "placeholder": "​",
      "style": "IPY_MODEL_0270a2478b16473683f73715628fc483",
      "value": " 1947/1954 [00:10&lt;00:00, 196.08it/s, Total Loss=0.0000, MSE=0.0000, L1=0.0105, L0=2397.16]"
     }
    },
    "4f7c9f2b26474d91869d321c93c55016": {
     "model_module": "@jupyter-widgets/base",
     "model_module_version": "1.2.0",
     "model_name": "LayoutModel",
     "state": {
      "_model_module": "@jupyter-widgets/base",
      "_model_module_version": "1.2.0",
      "_model_name": "LayoutModel",
      "_view_count": null,
      "_view_module": "@jupyter-widgets/base",
      "_view_module_version": "1.2.0",
      "_view_name": "LayoutView",
      "align_content": null,
      "align_items": null,
      "align_self": null,
      "border": null,
      "bottom": null,
      "display": null,
      "flex": null,
      "flex_flow": null,
      "grid_area": null,
      "grid_auto_columns": null,
      "grid_auto_flow": null,
      "grid_auto_rows": null,
      "grid_column": null,
      "grid_gap": null,
      "grid_row": null,
      "grid_template_areas": null,
      "grid_template_columns": null,
      "grid_template_rows": null,
      "height": null,
      "justify_content": null,
      "justify_items": null,
      "left": null,
      "margin": null,
      "max_height": null,
      "max_width": null,
      "min_height": null,
      "min_width": null,
      "object_fit": null,
      "object_position": null,
      "order": null,
      "overflow": null,
      "overflow_x": null,
      "overflow_y": null,
      "padding": null,
      "right": null,
      "top": null,
      "visibility": null,
      "width": null
     }
    },
    "5298938e251e40b7a408c049f396ef7f": {
     "model_module": "@jupyter-widgets/controls",
     "model_module_version": "1.5.0",
     "model_name": "HTMLModel",
     "state": {
      "_dom_classes": [],
      "_model_module": "@jupyter-widgets/controls",
      "_model_module_version": "1.5.0",
      "_model_name": "HTMLModel",
      "_view_count": null,
      "_view_module": "@jupyter-widgets/controls",
      "_view_module_version": "1.5.0",
      "_view_name": "HTMLView",
      "description": "",
      "description_tooltip": null,
      "layout": "IPY_MODEL_2a0226c7890a4a9eb29116a5bcfb8e6d",
      "placeholder": "​",
      "style": "IPY_MODEL_d9bf5e35c1e44e8fb198ea0bf442b3a6",
      "value": "Extracting Activations: "
     }
    },
    "56b86af88f524e88b17170d9d77c59ed": {
     "model_module": "@jupyter-widgets/base",
     "model_module_version": "1.2.0",
     "model_name": "LayoutModel",
     "state": {
      "_model_module": "@jupyter-widgets/base",
      "_model_module_version": "1.2.0",
      "_model_name": "LayoutModel",
      "_view_count": null,
      "_view_module": "@jupyter-widgets/base",
      "_view_module_version": "1.2.0",
      "_view_name": "LayoutView",
      "align_content": null,
      "align_items": null,
      "align_self": null,
      "border": null,
      "bottom": null,
      "display": null,
      "flex": null,
      "flex_flow": null,
      "grid_area": null,
      "grid_auto_columns": null,
      "grid_auto_flow": null,
      "grid_auto_rows": null,
      "grid_column": null,
      "grid_gap": null,
      "grid_row": null,
      "grid_template_areas": null,
      "grid_template_columns": null,
      "grid_template_rows": null,
      "height": null,
      "justify_content": null,
      "justify_items": null,
      "left": null,
      "margin": null,
      "max_height": null,
      "max_width": null,
      "min_height": null,
      "min_width": null,
      "object_fit": null,
      "object_position": null,
      "order": null,
      "overflow": null,
      "overflow_x": null,
      "overflow_y": null,
      "padding": null,
      "right": null,
      "top": null,
      "visibility": "hidden",
      "width": null
     }
    },
    "619a4bd1181f4e9b99b7c73c76f6a37e": {
     "model_module": "@jupyter-widgets/controls",
     "model_module_version": "1.5.0",
     "model_name": "FloatProgressModel",
     "state": {
      "_dom_classes": [],
      "_model_module": "@jupyter-widgets/controls",
      "_model_module_version": "1.5.0",
      "_model_name": "FloatProgressModel",
      "_view_count": null,
      "_view_module": "@jupyter-widgets/controls",
      "_view_module_version": "1.5.0",
      "_view_name": "ProgressView",
      "bar_style": "",
      "description": "",
      "description_tooltip": null,
      "layout": "IPY_MODEL_b78cef9985b84e2cab2bbd7857468b5a",
      "max": 1954,
      "min": 0,
      "orientation": "horizontal",
      "style": "IPY_MODEL_0527355b91cc461bbcf14a6f9e4b3148",
      "value": 1954
     }
    },
    "678e5280482748eba982bf9cabc5fc0d": {
     "model_module": "@jupyter-widgets/controls",
     "model_module_version": "1.5.0",
     "model_name": "ProgressStyleModel",
     "state": {
      "_model_module": "@jupyter-widgets/controls",
      "_model_module_version": "1.5.0",
      "_model_name": "ProgressStyleModel",
      "_view_count": null,
      "_view_module": "@jupyter-widgets/base",
      "_view_module_version": "1.2.0",
      "_view_name": "StyleView",
      "bar_color": null,
      "description_width": ""
     }
    },
    "6e47d7b8380b48f9998c9c4be10594f1": {
     "model_module": "@jupyter-widgets/base",
     "model_module_version": "1.2.0",
     "model_name": "LayoutModel",
     "state": {
      "_model_module": "@jupyter-widgets/base",
      "_model_module_version": "1.2.0",
      "_model_name": "LayoutModel",
      "_view_count": null,
      "_view_module": "@jupyter-widgets/base",
      "_view_module_version": "1.2.0",
      "_view_name": "LayoutView",
      "align_content": null,
      "align_items": null,
      "align_self": null,
      "border": null,
      "bottom": null,
      "display": null,
      "flex": null,
      "flex_flow": null,
      "grid_area": null,
      "grid_auto_columns": null,
      "grid_auto_flow": null,
      "grid_auto_rows": null,
      "grid_column": null,
      "grid_gap": null,
      "grid_row": null,
      "grid_template_areas": null,
      "grid_template_columns": null,
      "grid_template_rows": null,
      "height": null,
      "justify_content": null,
      "justify_items": null,
      "left": null,
      "margin": null,
      "max_height": null,
      "max_width": null,
      "min_height": null,
      "min_width": null,
      "object_fit": null,
      "object_position": null,
      "order": null,
      "overflow": null,
      "overflow_x": null,
      "overflow_y": null,
      "padding": null,
      "right": null,
      "top": null,
      "visibility": null,
      "width": null
     }
    },
    "752074022a6343d595cb44e542eedce1": {
     "model_module": "@jupyter-widgets/base",
     "model_module_version": "1.2.0",
     "model_name": "LayoutModel",
     "state": {
      "_model_module": "@jupyter-widgets/base",
      "_model_module_version": "1.2.0",
      "_model_name": "LayoutModel",
      "_view_count": null,
      "_view_module": "@jupyter-widgets/base",
      "_view_module_version": "1.2.0",
      "_view_name": "LayoutView",
      "align_content": null,
      "align_items": null,
      "align_self": null,
      "border": null,
      "bottom": null,
      "display": null,
      "flex": null,
      "flex_flow": null,
      "grid_area": null,
      "grid_auto_columns": null,
      "grid_auto_flow": null,
      "grid_auto_rows": null,
      "grid_column": null,
      "grid_gap": null,
      "grid_row": null,
      "grid_template_areas": null,
      "grid_template_columns": null,
      "grid_template_rows": null,
      "height": null,
      "justify_content": null,
      "justify_items": null,
      "left": null,
      "margin": null,
      "max_height": null,
      "max_width": null,
      "min_height": null,
      "min_width": null,
      "object_fit": null,
      "object_position": null,
      "order": null,
      "overflow": null,
      "overflow_x": null,
      "overflow_y": null,
      "padding": null,
      "right": null,
      "top": null,
      "visibility": null,
      "width": null
     }
    },
    "75e2d97e8cb24a379df37bd4687b7895": {
     "model_module": "@jupyter-widgets/base",
     "model_module_version": "1.2.0",
     "model_name": "LayoutModel",
     "state": {
      "_model_module": "@jupyter-widgets/base",
      "_model_module_version": "1.2.0",
      "_model_name": "LayoutModel",
      "_view_count": null,
      "_view_module": "@jupyter-widgets/base",
      "_view_module_version": "1.2.0",
      "_view_name": "LayoutView",
      "align_content": null,
      "align_items": null,
      "align_self": null,
      "border": null,
      "bottom": null,
      "display": null,
      "flex": null,
      "flex_flow": null,
      "grid_area": null,
      "grid_auto_columns": null,
      "grid_auto_flow": null,
      "grid_auto_rows": null,
      "grid_column": null,
      "grid_gap": null,
      "grid_row": null,
      "grid_template_areas": null,
      "grid_template_columns": null,
      "grid_template_rows": null,
      "height": null,
      "justify_content": null,
      "justify_items": null,
      "left": null,
      "margin": null,
      "max_height": null,
      "max_width": null,
      "min_height": null,
      "min_width": null,
      "object_fit": null,
      "object_position": null,
      "order": null,
      "overflow": null,
      "overflow_x": null,
      "overflow_y": null,
      "padding": null,
      "right": null,
      "top": null,
      "visibility": null,
      "width": null
     }
    },
    "7cbaea4ebd184865a0141614da79579c": {
     "model_module": "@jupyter-widgets/controls",
     "model_module_version": "1.5.0",
     "model_name": "ProgressStyleModel",
     "state": {
      "_model_module": "@jupyter-widgets/controls",
      "_model_module_version": "1.5.0",
      "_model_name": "ProgressStyleModel",
      "_view_count": null,
      "_view_module": "@jupyter-widgets/base",
      "_view_module_version": "1.2.0",
      "_view_name": "StyleView",
      "bar_color": null,
      "description_width": ""
     }
    },
    "7ecb21436a594bb999d5771e271d3f7a": {
     "model_module": "@jupyter-widgets/controls",
     "model_module_version": "1.5.0",
     "model_name": "HBoxModel",
     "state": {
      "_dom_classes": [],
      "_model_module": "@jupyter-widgets/controls",
      "_model_module_version": "1.5.0",
      "_model_name": "HBoxModel",
      "_view_count": null,
      "_view_module": "@jupyter-widgets/controls",
      "_view_module_version": "1.5.0",
      "_view_name": "HBoxView",
      "box_style": "",
      "children": [
       "IPY_MODEL_488a96383d124d59afffb71ff3cd05a4",
       "IPY_MODEL_f6bee22b0cb948619932198fe6f5cda5",
       "IPY_MODEL_ee6aa76bdc4d4dbda1aa4a000e22950a"
      ],
      "layout": "IPY_MODEL_56b86af88f524e88b17170d9d77c59ed"
     }
    },
    "806fcecc644c42f28db7b9d3e455ba42": {
     "model_module": "@jupyter-widgets/base",
     "model_module_version": "1.2.0",
     "model_name": "LayoutModel",
     "state": {
      "_model_module": "@jupyter-widgets/base",
      "_model_module_version": "1.2.0",
      "_model_name": "LayoutModel",
      "_view_count": null,
      "_view_module": "@jupyter-widgets/base",
      "_view_module_version": "1.2.0",
      "_view_name": "LayoutView",
      "align_content": null,
      "align_items": null,
      "align_self": null,
      "border": null,
      "bottom": null,
      "display": null,
      "flex": null,
      "flex_flow": null,
      "grid_area": null,
      "grid_auto_columns": null,
      "grid_auto_flow": null,
      "grid_auto_rows": null,
      "grid_column": null,
      "grid_gap": null,
      "grid_row": null,
      "grid_template_areas": null,
      "grid_template_columns": null,
      "grid_template_rows": null,
      "height": null,
      "justify_content": null,
      "justify_items": null,
      "left": null,
      "margin": null,
      "max_height": null,
      "max_width": null,
      "min_height": null,
      "min_width": null,
      "object_fit": null,
      "object_position": null,
      "order": null,
      "overflow": null,
      "overflow_x": null,
      "overflow_y": null,
      "padding": null,
      "right": null,
      "top": null,
      "visibility": null,
      "width": null
     }
    },
    "88f1bd22d3ac4eeb83590a664aaee90c": {
     "model_module": "@jupyter-widgets/base",
     "model_module_version": "1.2.0",
     "model_name": "LayoutModel",
     "state": {
      "_model_module": "@jupyter-widgets/base",
      "_model_module_version": "1.2.0",
      "_model_name": "LayoutModel",
      "_view_count": null,
      "_view_module": "@jupyter-widgets/base",
      "_view_module_version": "1.2.0",
      "_view_name": "LayoutView",
      "align_content": null,
      "align_items": null,
      "align_self": null,
      "border": null,
      "bottom": null,
      "display": null,
      "flex": null,
      "flex_flow": null,
      "grid_area": null,
      "grid_auto_columns": null,
      "grid_auto_flow": null,
      "grid_auto_rows": null,
      "grid_column": null,
      "grid_gap": null,
      "grid_row": null,
      "grid_template_areas": null,
      "grid_template_columns": null,
      "grid_template_rows": null,
      "height": null,
      "justify_content": null,
      "justify_items": null,
      "left": null,
      "margin": null,
      "max_height": null,
      "max_width": null,
      "min_height": null,
      "min_width": null,
      "object_fit": null,
      "object_position": null,
      "order": null,
      "overflow": null,
      "overflow_x": null,
      "overflow_y": null,
      "padding": null,
      "right": null,
      "top": null,
      "visibility": null,
      "width": null
     }
    },
    "8bb165de3f1f4fb99aaadd788a4db38d": {
     "model_module": "@jupyter-widgets/base",
     "model_module_version": "1.2.0",
     "model_name": "LayoutModel",
     "state": {
      "_model_module": "@jupyter-widgets/base",
      "_model_module_version": "1.2.0",
      "_model_name": "LayoutModel",
      "_view_count": null,
      "_view_module": "@jupyter-widgets/base",
      "_view_module_version": "1.2.0",
      "_view_name": "LayoutView",
      "align_content": null,
      "align_items": null,
      "align_self": null,
      "border": null,
      "bottom": null,
      "display": null,
      "flex": null,
      "flex_flow": null,
      "grid_area": null,
      "grid_auto_columns": null,
      "grid_auto_flow": null,
      "grid_auto_rows": null,
      "grid_column": null,
      "grid_gap": null,
      "grid_row": null,
      "grid_template_areas": null,
      "grid_template_columns": null,
      "grid_template_rows": null,
      "height": null,
      "justify_content": null,
      "justify_items": null,
      "left": null,
      "margin": null,
      "max_height": null,
      "max_width": null,
      "min_height": null,
      "min_width": null,
      "object_fit": null,
      "object_position": null,
      "order": null,
      "overflow": null,
      "overflow_x": null,
      "overflow_y": null,
      "padding": null,
      "right": null,
      "top": null,
      "visibility": null,
      "width": null
     }
    },
    "8e68cea1ad9f48489057899c498d1212": {
     "model_module": "@jupyter-widgets/base",
     "model_module_version": "1.2.0",
     "model_name": "LayoutModel",
     "state": {
      "_model_module": "@jupyter-widgets/base",
      "_model_module_version": "1.2.0",
      "_model_name": "LayoutModel",
      "_view_count": null,
      "_view_module": "@jupyter-widgets/base",
      "_view_module_version": "1.2.0",
      "_view_name": "LayoutView",
      "align_content": null,
      "align_items": null,
      "align_self": null,
      "border": null,
      "bottom": null,
      "display": null,
      "flex": null,
      "flex_flow": null,
      "grid_area": null,
      "grid_auto_columns": null,
      "grid_auto_flow": null,
      "grid_auto_rows": null,
      "grid_column": null,
      "grid_gap": null,
      "grid_row": null,
      "grid_template_areas": null,
      "grid_template_columns": null,
      "grid_template_rows": null,
      "height": null,
      "justify_content": null,
      "justify_items": null,
      "left": null,
      "margin": null,
      "max_height": null,
      "max_width": null,
      "min_height": null,
      "min_width": null,
      "object_fit": null,
      "object_position": null,
      "order": null,
      "overflow": null,
      "overflow_x": null,
      "overflow_y": null,
      "padding": null,
      "right": null,
      "top": null,
      "visibility": "hidden",
      "width": null
     }
    },
    "936bb05d4c4c460bba7434df24d506d6": {
     "model_module": "@jupyter-widgets/controls",
     "model_module_version": "1.5.0",
     "model_name": "DescriptionStyleModel",
     "state": {
      "_model_module": "@jupyter-widgets/controls",
      "_model_module_version": "1.5.0",
      "_model_name": "DescriptionStyleModel",
      "_view_count": null,
      "_view_module": "@jupyter-widgets/base",
      "_view_module_version": "1.2.0",
      "_view_name": "StyleView",
      "description_width": ""
     }
    },
    "939bf5878f4b40e3b1d5ca73f552fd68": {
     "model_module": "@jupyter-widgets/controls",
     "model_module_version": "1.5.0",
     "model_name": "HTMLModel",
     "state": {
      "_dom_classes": [],
      "_model_module": "@jupyter-widgets/controls",
      "_model_module_version": "1.5.0",
      "_model_name": "HTMLModel",
      "_view_count": null,
      "_view_module": "@jupyter-widgets/controls",
      "_view_module_version": "1.5.0",
      "_view_name": "HTMLView",
      "description": "",
      "description_tooltip": null,
      "layout": "IPY_MODEL_6e47d7b8380b48f9998c9c4be10594f1",
      "placeholder": "​",
      "style": "IPY_MODEL_936bb05d4c4c460bba7434df24d506d6",
      "value": "Epoch 4/5: 100%"
     }
    },
    "99bb8b8d1b3a4532bc3652ae2d069162": {
     "model_module": "@jupyter-widgets/controls",
     "model_module_version": "1.5.0",
     "model_name": "DescriptionStyleModel",
     "state": {
      "_model_module": "@jupyter-widgets/controls",
      "_model_module_version": "1.5.0",
      "_model_name": "DescriptionStyleModel",
      "_view_count": null,
      "_view_module": "@jupyter-widgets/base",
      "_view_module_version": "1.2.0",
      "_view_name": "StyleView",
      "description_width": ""
     }
    },
    "a49697b7507c4393a69e13c3aa00c7d0": {
     "model_module": "@jupyter-widgets/base",
     "model_module_version": "1.2.0",
     "model_name": "LayoutModel",
     "state": {
      "_model_module": "@jupyter-widgets/base",
      "_model_module_version": "1.2.0",
      "_model_name": "LayoutModel",
      "_view_count": null,
      "_view_module": "@jupyter-widgets/base",
      "_view_module_version": "1.2.0",
      "_view_name": "LayoutView",
      "align_content": null,
      "align_items": null,
      "align_self": null,
      "border": null,
      "bottom": null,
      "display": null,
      "flex": null,
      "flex_flow": null,
      "grid_area": null,
      "grid_auto_columns": null,
      "grid_auto_flow": null,
      "grid_auto_rows": null,
      "grid_column": null,
      "grid_gap": null,
      "grid_row": null,
      "grid_template_areas": null,
      "grid_template_columns": null,
      "grid_template_rows": null,
      "height": null,
      "justify_content": null,
      "justify_items": null,
      "left": null,
      "margin": null,
      "max_height": null,
      "max_width": null,
      "min_height": null,
      "min_width": null,
      "object_fit": null,
      "object_position": null,
      "order": null,
      "overflow": null,
      "overflow_x": null,
      "overflow_y": null,
      "padding": null,
      "right": null,
      "top": null,
      "visibility": null,
      "width": null
     }
    },
    "a667a6173e284395a30468c8c0f0344d": {
     "model_module": "@jupyter-widgets/controls",
     "model_module_version": "1.5.0",
     "model_name": "DescriptionStyleModel",
     "state": {
      "_model_module": "@jupyter-widgets/controls",
      "_model_module_version": "1.5.0",
      "_model_name": "DescriptionStyleModel",
      "_view_count": null,
      "_view_module": "@jupyter-widgets/base",
      "_view_module_version": "1.2.0",
      "_view_name": "StyleView",
      "description_width": ""
     }
    },
    "a82b4d27f5fe4f7780442ccb541151ae": {
     "model_module": "@jupyter-widgets/controls",
     "model_module_version": "1.5.0",
     "model_name": "HBoxModel",
     "state": {
      "_dom_classes": [],
      "_model_module": "@jupyter-widgets/controls",
      "_model_module_version": "1.5.0",
      "_model_name": "HBoxModel",
      "_view_count": null,
      "_view_module": "@jupyter-widgets/controls",
      "_view_module_version": "1.5.0",
      "_view_name": "HBoxView",
      "box_style": "",
      "children": [
       "IPY_MODEL_22b3a63ea5674954a7bb6059969217cc",
       "IPY_MODEL_1457663b5ac04dbebe458eaabb6cb652",
       "IPY_MODEL_4eb4c6ebdff64314aca75bef415a7dcc"
      ],
      "layout": "IPY_MODEL_8e68cea1ad9f48489057899c498d1212"
     }
    },
    "a9ec30c5a9284e9a864d13363b3821ef": {
     "model_module": "@jupyter-widgets/controls",
     "model_module_version": "1.5.0",
     "model_name": "HTMLModel",
     "state": {
      "_dom_classes": [],
      "_model_module": "@jupyter-widgets/controls",
      "_model_module_version": "1.5.0",
      "_model_name": "HTMLModel",
      "_view_count": null,
      "_view_module": "@jupyter-widgets/controls",
      "_view_module_version": "1.5.0",
      "_view_name": "HTMLView",
      "description": "",
      "description_tooltip": null,
      "layout": "IPY_MODEL_b08b65221fbb4dc781880ef3cd0a1161",
      "placeholder": "​",
      "style": "IPY_MODEL_99bb8b8d1b3a4532bc3652ae2d069162",
      "value": " 500096/? [00:55&lt;00:00, 9315.23it/s]"
     }
    },
    "aa02f8c0c9524517bba1853799c83990": {
     "model_module": "@jupyter-widgets/controls",
     "model_module_version": "1.5.0",
     "model_name": "DescriptionStyleModel",
     "state": {
      "_model_module": "@jupyter-widgets/controls",
      "_model_module_version": "1.5.0",
      "_model_name": "DescriptionStyleModel",
      "_view_count": null,
      "_view_module": "@jupyter-widgets/base",
      "_view_module_version": "1.2.0",
      "_view_name": "StyleView",
      "description_width": ""
     }
    },
    "b08b65221fbb4dc781880ef3cd0a1161": {
     "model_module": "@jupyter-widgets/base",
     "model_module_version": "1.2.0",
     "model_name": "LayoutModel",
     "state": {
      "_model_module": "@jupyter-widgets/base",
      "_model_module_version": "1.2.0",
      "_model_name": "LayoutModel",
      "_view_count": null,
      "_view_module": "@jupyter-widgets/base",
      "_view_module_version": "1.2.0",
      "_view_name": "LayoutView",
      "align_content": null,
      "align_items": null,
      "align_self": null,
      "border": null,
      "bottom": null,
      "display": null,
      "flex": null,
      "flex_flow": null,
      "grid_area": null,
      "grid_auto_columns": null,
      "grid_auto_flow": null,
      "grid_auto_rows": null,
      "grid_column": null,
      "grid_gap": null,
      "grid_row": null,
      "grid_template_areas": null,
      "grid_template_columns": null,
      "grid_template_rows": null,
      "height": null,
      "justify_content": null,
      "justify_items": null,
      "left": null,
      "margin": null,
      "max_height": null,
      "max_width": null,
      "min_height": null,
      "min_width": null,
      "object_fit": null,
      "object_position": null,
      "order": null,
      "overflow": null,
      "overflow_x": null,
      "overflow_y": null,
      "padding": null,
      "right": null,
      "top": null,
      "visibility": null,
      "width": null
     }
    },
    "b3bd938317e24c26b4faa8946e8b53c0": {
     "model_module": "@jupyter-widgets/base",
     "model_module_version": "1.2.0",
     "model_name": "LayoutModel",
     "state": {
      "_model_module": "@jupyter-widgets/base",
      "_model_module_version": "1.2.0",
      "_model_name": "LayoutModel",
      "_view_count": null,
      "_view_module": "@jupyter-widgets/base",
      "_view_module_version": "1.2.0",
      "_view_name": "LayoutView",
      "align_content": null,
      "align_items": null,
      "align_self": null,
      "border": null,
      "bottom": null,
      "display": null,
      "flex": null,
      "flex_flow": null,
      "grid_area": null,
      "grid_auto_columns": null,
      "grid_auto_flow": null,
      "grid_auto_rows": null,
      "grid_column": null,
      "grid_gap": null,
      "grid_row": null,
      "grid_template_areas": null,
      "grid_template_columns": null,
      "grid_template_rows": null,
      "height": null,
      "justify_content": null,
      "justify_items": null,
      "left": null,
      "margin": null,
      "max_height": null,
      "max_width": null,
      "min_height": null,
      "min_width": null,
      "object_fit": null,
      "object_position": null,
      "order": null,
      "overflow": null,
      "overflow_x": null,
      "overflow_y": null,
      "padding": null,
      "right": null,
      "top": null,
      "visibility": null,
      "width": null
     }
    },
    "b69a96db3c0f4eb995903f438784d3ae": {
     "model_module": "@jupyter-widgets/controls",
     "model_module_version": "1.5.0",
     "model_name": "DescriptionStyleModel",
     "state": {
      "_model_module": "@jupyter-widgets/controls",
      "_model_module_version": "1.5.0",
      "_model_name": "DescriptionStyleModel",
      "_view_count": null,
      "_view_module": "@jupyter-widgets/base",
      "_view_module_version": "1.2.0",
      "_view_name": "StyleView",
      "description_width": ""
     }
    },
    "b78cef9985b84e2cab2bbd7857468b5a": {
     "model_module": "@jupyter-widgets/base",
     "model_module_version": "1.2.0",
     "model_name": "LayoutModel",
     "state": {
      "_model_module": "@jupyter-widgets/base",
      "_model_module_version": "1.2.0",
      "_model_name": "LayoutModel",
      "_view_count": null,
      "_view_module": "@jupyter-widgets/base",
      "_view_module_version": "1.2.0",
      "_view_name": "LayoutView",
      "align_content": null,
      "align_items": null,
      "align_self": null,
      "border": null,
      "bottom": null,
      "display": null,
      "flex": null,
      "flex_flow": null,
      "grid_area": null,
      "grid_auto_columns": null,
      "grid_auto_flow": null,
      "grid_auto_rows": null,
      "grid_column": null,
      "grid_gap": null,
      "grid_row": null,
      "grid_template_areas": null,
      "grid_template_columns": null,
      "grid_template_rows": null,
      "height": null,
      "justify_content": null,
      "justify_items": null,
      "left": null,
      "margin": null,
      "max_height": null,
      "max_width": null,
      "min_height": null,
      "min_width": null,
      "object_fit": null,
      "object_position": null,
      "order": null,
      "overflow": null,
      "overflow_x": null,
      "overflow_y": null,
      "padding": null,
      "right": null,
      "top": null,
      "visibility": null,
      "width": null
     }
    },
    "b8ff52559e6b43c2922d32ef084a2dc3": {
     "model_module": "@jupyter-widgets/controls",
     "model_module_version": "1.5.0",
     "model_name": "DescriptionStyleModel",
     "state": {
      "_model_module": "@jupyter-widgets/controls",
      "_model_module_version": "1.5.0",
      "_model_name": "DescriptionStyleModel",
      "_view_count": null,
      "_view_module": "@jupyter-widgets/base",
      "_view_module_version": "1.2.0",
      "_view_name": "StyleView",
      "description_width": ""
     }
    },
    "bf07be48d1404f97a5babb27071a6bae": {
     "model_module": "@jupyter-widgets/controls",
     "model_module_version": "1.5.0",
     "model_name": "DescriptionStyleModel",
     "state": {
      "_model_module": "@jupyter-widgets/controls",
      "_model_module_version": "1.5.0",
      "_model_name": "DescriptionStyleModel",
      "_view_count": null,
      "_view_module": "@jupyter-widgets/base",
      "_view_module_version": "1.2.0",
      "_view_name": "StyleView",
      "description_width": ""
     }
    },
    "c7b5087d4cff4c659aa4e0621f2f0515": {
     "model_module": "@jupyter-widgets/base",
     "model_module_version": "1.2.0",
     "model_name": "LayoutModel",
     "state": {
      "_model_module": "@jupyter-widgets/base",
      "_model_module_version": "1.2.0",
      "_model_name": "LayoutModel",
      "_view_count": null,
      "_view_module": "@jupyter-widgets/base",
      "_view_module_version": "1.2.0",
      "_view_name": "LayoutView",
      "align_content": null,
      "align_items": null,
      "align_self": null,
      "border": null,
      "bottom": null,
      "display": null,
      "flex": null,
      "flex_flow": null,
      "grid_area": null,
      "grid_auto_columns": null,
      "grid_auto_flow": null,
      "grid_auto_rows": null,
      "grid_column": null,
      "grid_gap": null,
      "grid_row": null,
      "grid_template_areas": null,
      "grid_template_columns": null,
      "grid_template_rows": null,
      "height": null,
      "justify_content": null,
      "justify_items": null,
      "left": null,
      "margin": null,
      "max_height": null,
      "max_width": null,
      "min_height": null,
      "min_width": null,
      "object_fit": null,
      "object_position": null,
      "order": null,
      "overflow": null,
      "overflow_x": null,
      "overflow_y": null,
      "padding": null,
      "right": null,
      "top": null,
      "visibility": "hidden",
      "width": null
     }
    },
    "cb424b8d740a4725b7a40b612477e0a4": {
     "model_module": "@jupyter-widgets/controls",
     "model_module_version": "1.5.0",
     "model_name": "FloatProgressModel",
     "state": {
      "_dom_classes": [],
      "_model_module": "@jupyter-widgets/controls",
      "_model_module_version": "1.5.0",
      "_model_name": "FloatProgressModel",
      "_view_count": null,
      "_view_module": "@jupyter-widgets/controls",
      "_view_module_version": "1.5.0",
      "_view_name": "ProgressView",
      "bar_style": "",
      "description": "",
      "description_tooltip": null,
      "layout": "IPY_MODEL_a49697b7507c4393a69e13c3aa00c7d0",
      "max": 1954,
      "min": 0,
      "orientation": "horizontal",
      "style": "IPY_MODEL_dccf875f283c4c918a17eb34972165c7",
      "value": 1954
     }
    },
    "ce1153829b504a9aaf6aded150437803": {
     "model_module": "@jupyter-widgets/controls",
     "model_module_version": "1.5.0",
     "model_name": "FloatProgressModel",
     "state": {
      "_dom_classes": [],
      "_model_module": "@jupyter-widgets/controls",
      "_model_module_version": "1.5.0",
      "_model_name": "FloatProgressModel",
      "_view_count": null,
      "_view_module": "@jupyter-widgets/controls",
      "_view_module_version": "1.5.0",
      "_view_name": "ProgressView",
      "bar_style": "",
      "description": "",
      "description_tooltip": null,
      "layout": "IPY_MODEL_e468348f6c9b4539996564eaa9e3231c",
      "max": 1954,
      "min": 0,
      "orientation": "horizontal",
      "style": "IPY_MODEL_678e5280482748eba982bf9cabc5fc0d",
      "value": 1954
     }
    },
    "cf29e64ebe8b4c4d9e504344923c068f": {
     "model_module": "@jupyter-widgets/controls",
     "model_module_version": "1.5.0",
     "model_name": "HTMLModel",
     "state": {
      "_dom_classes": [],
      "_model_module": "@jupyter-widgets/controls",
      "_model_module_version": "1.5.0",
      "_model_name": "HTMLModel",
      "_view_count": null,
      "_view_module": "@jupyter-widgets/controls",
      "_view_module_version": "1.5.0",
      "_view_name": "HTMLView",
      "description": "",
      "description_tooltip": null,
      "layout": "IPY_MODEL_b3bd938317e24c26b4faa8946e8b53c0",
      "placeholder": "​",
      "style": "IPY_MODEL_4bd3e07b66384d6b8b41e871027b19db",
      "value": " 1935/1954 [00:09&lt;00:00, 207.31it/s, Total Loss=0.0000, MSE=0.0000, L1=0.0122, L0=2497.03]"
     }
    },
    "d1db62cf9b0b4a959bdda5e825897864": {
     "model_module": "@jupyter-widgets/base",
     "model_module_version": "1.2.0",
     "model_name": "LayoutModel",
     "state": {
      "_model_module": "@jupyter-widgets/base",
      "_model_module_version": "1.2.0",
      "_model_name": "LayoutModel",
      "_view_count": null,
      "_view_module": "@jupyter-widgets/base",
      "_view_module_version": "1.2.0",
      "_view_name": "LayoutView",
      "align_content": null,
      "align_items": null,
      "align_self": null,
      "border": null,
      "bottom": null,
      "display": null,
      "flex": null,
      "flex_flow": null,
      "grid_area": null,
      "grid_auto_columns": null,
      "grid_auto_flow": null,
      "grid_auto_rows": null,
      "grid_column": null,
      "grid_gap": null,
      "grid_row": null,
      "grid_template_areas": null,
      "grid_template_columns": null,
      "grid_template_rows": null,
      "height": null,
      "justify_content": null,
      "justify_items": null,
      "left": null,
      "margin": null,
      "max_height": null,
      "max_width": null,
      "min_height": null,
      "min_width": null,
      "object_fit": null,
      "object_position": null,
      "order": null,
      "overflow": null,
      "overflow_x": null,
      "overflow_y": null,
      "padding": null,
      "right": null,
      "top": null,
      "visibility": "hidden",
      "width": null
     }
    },
    "d1ffc6b2b6814983a60a76b06ecaa291": {
     "model_module": "@jupyter-widgets/controls",
     "model_module_version": "1.5.0",
     "model_name": "HTMLModel",
     "state": {
      "_dom_classes": [],
      "_model_module": "@jupyter-widgets/controls",
      "_model_module_version": "1.5.0",
      "_model_name": "HTMLModel",
      "_view_count": null,
      "_view_module": "@jupyter-widgets/controls",
      "_view_module_version": "1.5.0",
      "_view_name": "HTMLView",
      "description": "",
      "description_tooltip": null,
      "layout": "IPY_MODEL_806fcecc644c42f28db7b9d3e455ba42",
      "placeholder": "​",
      "style": "IPY_MODEL_bf07be48d1404f97a5babb27071a6bae",
      "value": " 1951/1954 [00:10&lt;00:00, 209.75it/s, Total Loss=0.0000, MSE=0.0000, L1=0.0104, L0=2430.16]"
     }
    },
    "d3a89fc92c9d4130bace9226679abf8b": {
     "model_module": "@jupyter-widgets/base",
     "model_module_version": "1.2.0",
     "model_name": "LayoutModel",
     "state": {
      "_model_module": "@jupyter-widgets/base",
      "_model_module_version": "1.2.0",
      "_model_name": "LayoutModel",
      "_view_count": null,
      "_view_module": "@jupyter-widgets/base",
      "_view_module_version": "1.2.0",
      "_view_name": "LayoutView",
      "align_content": null,
      "align_items": null,
      "align_self": null,
      "border": null,
      "bottom": null,
      "display": null,
      "flex": null,
      "flex_flow": null,
      "grid_area": null,
      "grid_auto_columns": null,
      "grid_auto_flow": null,
      "grid_auto_rows": null,
      "grid_column": null,
      "grid_gap": null,
      "grid_row": null,
      "grid_template_areas": null,
      "grid_template_columns": null,
      "grid_template_rows": null,
      "height": null,
      "justify_content": null,
      "justify_items": null,
      "left": null,
      "margin": null,
      "max_height": null,
      "max_width": null,
      "min_height": null,
      "min_width": null,
      "object_fit": null,
      "object_position": null,
      "order": null,
      "overflow": null,
      "overflow_x": null,
      "overflow_y": null,
      "padding": null,
      "right": null,
      "top": null,
      "visibility": null,
      "width": null
     }
    },
    "d9bf5e35c1e44e8fb198ea0bf442b3a6": {
     "model_module": "@jupyter-widgets/controls",
     "model_module_version": "1.5.0",
     "model_name": "DescriptionStyleModel",
     "state": {
      "_model_module": "@jupyter-widgets/controls",
      "_model_module_version": "1.5.0",
      "_model_name": "DescriptionStyleModel",
      "_view_count": null,
      "_view_module": "@jupyter-widgets/base",
      "_view_module_version": "1.2.0",
      "_view_name": "StyleView",
      "description_width": ""
     }
    },
    "dbf452edd85f475aa5aa85bdfa755036": {
     "model_module": "@jupyter-widgets/base",
     "model_module_version": "1.2.0",
     "model_name": "LayoutModel",
     "state": {
      "_model_module": "@jupyter-widgets/base",
      "_model_module_version": "1.2.0",
      "_model_name": "LayoutModel",
      "_view_count": null,
      "_view_module": "@jupyter-widgets/base",
      "_view_module_version": "1.2.0",
      "_view_name": "LayoutView",
      "align_content": null,
      "align_items": null,
      "align_self": null,
      "border": null,
      "bottom": null,
      "display": null,
      "flex": null,
      "flex_flow": null,
      "grid_area": null,
      "grid_auto_columns": null,
      "grid_auto_flow": null,
      "grid_auto_rows": null,
      "grid_column": null,
      "grid_gap": null,
      "grid_row": null,
      "grid_template_areas": null,
      "grid_template_columns": null,
      "grid_template_rows": null,
      "height": null,
      "justify_content": null,
      "justify_items": null,
      "left": null,
      "margin": null,
      "max_height": null,
      "max_width": null,
      "min_height": null,
      "min_width": null,
      "object_fit": null,
      "object_position": null,
      "order": null,
      "overflow": null,
      "overflow_x": null,
      "overflow_y": null,
      "padding": null,
      "right": null,
      "top": null,
      "visibility": null,
      "width": null
     }
    },
    "dcb1775a38ef423d9b83be8ea34358c3": {
     "model_module": "@jupyter-widgets/controls",
     "model_module_version": "1.5.0",
     "model_name": "HTMLModel",
     "state": {
      "_dom_classes": [],
      "_model_module": "@jupyter-widgets/controls",
      "_model_module_version": "1.5.0",
      "_model_name": "HTMLModel",
      "_view_count": null,
      "_view_module": "@jupyter-widgets/controls",
      "_view_module_version": "1.5.0",
      "_view_name": "HTMLView",
      "description": "",
      "description_tooltip": null,
      "layout": "IPY_MODEL_dbf452edd85f475aa5aa85bdfa755036",
      "placeholder": "​",
      "style": "IPY_MODEL_aa02f8c0c9524517bba1853799c83990",
      "value": "Epoch 3/5:  99%"
     }
    },
    "dccf875f283c4c918a17eb34972165c7": {
     "model_module": "@jupyter-widgets/controls",
     "model_module_version": "1.5.0",
     "model_name": "ProgressStyleModel",
     "state": {
      "_model_module": "@jupyter-widgets/controls",
      "_model_module_version": "1.5.0",
      "_model_name": "ProgressStyleModel",
      "_view_count": null,
      "_view_module": "@jupyter-widgets/base",
      "_view_module_version": "1.2.0",
      "_view_name": "StyleView",
      "bar_color": null,
      "description_width": ""
     }
    },
    "e468348f6c9b4539996564eaa9e3231c": {
     "model_module": "@jupyter-widgets/base",
     "model_module_version": "1.2.0",
     "model_name": "LayoutModel",
     "state": {
      "_model_module": "@jupyter-widgets/base",
      "_model_module_version": "1.2.0",
      "_model_name": "LayoutModel",
      "_view_count": null,
      "_view_module": "@jupyter-widgets/base",
      "_view_module_version": "1.2.0",
      "_view_name": "LayoutView",
      "align_content": null,
      "align_items": null,
      "align_self": null,
      "border": null,
      "bottom": null,
      "display": null,
      "flex": null,
      "flex_flow": null,
      "grid_area": null,
      "grid_auto_columns": null,
      "grid_auto_flow": null,
      "grid_auto_rows": null,
      "grid_column": null,
      "grid_gap": null,
      "grid_row": null,
      "grid_template_areas": null,
      "grid_template_columns": null,
      "grid_template_rows": null,
      "height": null,
      "justify_content": null,
      "justify_items": null,
      "left": null,
      "margin": null,
      "max_height": null,
      "max_width": null,
      "min_height": null,
      "min_width": null,
      "object_fit": null,
      "object_position": null,
      "order": null,
      "overflow": null,
      "overflow_x": null,
      "overflow_y": null,
      "padding": null,
      "right": null,
      "top": null,
      "visibility": null,
      "width": null
     }
    },
    "ee6aa76bdc4d4dbda1aa4a000e22950a": {
     "model_module": "@jupyter-widgets/controls",
     "model_module_version": "1.5.0",
     "model_name": "HTMLModel",
     "state": {
      "_dom_classes": [],
      "_model_module": "@jupyter-widgets/controls",
      "_model_module_version": "1.5.0",
      "_model_name": "HTMLModel",
      "_view_count": null,
      "_view_module": "@jupyter-widgets/controls",
      "_view_module_version": "1.5.0",
      "_view_name": "HTMLView",
      "description": "",
      "description_tooltip": null,
      "layout": "IPY_MODEL_423f683a857d4978aea32d1fb906917f",
      "placeholder": "​",
      "style": "IPY_MODEL_b8ff52559e6b43c2922d32ef084a2dc3",
      "value": " 1950/1954 [00:10&lt;00:00, 206.66it/s, Total Loss=0.0000, MSE=0.0000, L1=0.0158, L0=2560.69]"
     }
    },
    "efe48cde01224a26b381097bdf4da488": {
     "model_module": "@jupyter-widgets/base",
     "model_module_version": "1.2.0",
     "model_name": "LayoutModel",
     "state": {
      "_model_module": "@jupyter-widgets/base",
      "_model_module_version": "1.2.0",
      "_model_name": "LayoutModel",
      "_view_count": null,
      "_view_module": "@jupyter-widgets/base",
      "_view_module_version": "1.2.0",
      "_view_name": "LayoutView",
      "align_content": null,
      "align_items": null,
      "align_self": null,
      "border": null,
      "bottom": null,
      "display": null,
      "flex": null,
      "flex_flow": null,
      "grid_area": null,
      "grid_auto_columns": null,
      "grid_auto_flow": null,
      "grid_auto_rows": null,
      "grid_column": null,
      "grid_gap": null,
      "grid_row": null,
      "grid_template_areas": null,
      "grid_template_columns": null,
      "grid_template_rows": null,
      "height": null,
      "justify_content": null,
      "justify_items": null,
      "left": null,
      "margin": null,
      "max_height": null,
      "max_width": null,
      "min_height": null,
      "min_width": null,
      "object_fit": null,
      "object_position": null,
      "order": null,
      "overflow": null,
      "overflow_x": null,
      "overflow_y": null,
      "padding": null,
      "right": null,
      "top": null,
      "visibility": null,
      "width": null
     }
    },
    "f2f7b58696f34ccab83ef48584db03f3": {
     "model_module": "@jupyter-widgets/controls",
     "model_module_version": "1.5.0",
     "model_name": "HBoxModel",
     "state": {
      "_dom_classes": [],
      "_model_module": "@jupyter-widgets/controls",
      "_model_module_version": "1.5.0",
      "_model_name": "HBoxModel",
      "_view_count": null,
      "_view_module": "@jupyter-widgets/controls",
      "_view_module_version": "1.5.0",
      "_view_name": "HBoxView",
      "box_style": "",
      "children": [
       "IPY_MODEL_939bf5878f4b40e3b1d5ca73f552fd68",
       "IPY_MODEL_619a4bd1181f4e9b99b7c73c76f6a37e",
       "IPY_MODEL_d1ffc6b2b6814983a60a76b06ecaa291"
      ],
      "layout": "IPY_MODEL_d1db62cf9b0b4a959bdda5e825897864"
     }
    },
    "f6bee22b0cb948619932198fe6f5cda5": {
     "model_module": "@jupyter-widgets/controls",
     "model_module_version": "1.5.0",
     "model_name": "FloatProgressModel",
     "state": {
      "_dom_classes": [],
      "_model_module": "@jupyter-widgets/controls",
      "_model_module_version": "1.5.0",
      "_model_name": "FloatProgressModel",
      "_view_count": null,
      "_view_module": "@jupyter-widgets/controls",
      "_view_module_version": "1.5.0",
      "_view_name": "ProgressView",
      "bar_style": "",
      "description": "",
      "description_tooltip": null,
      "layout": "IPY_MODEL_3394cbd41fe84afaab914957fe0577b4",
      "max": 1954,
      "min": 0,
      "orientation": "horizontal",
      "style": "IPY_MODEL_4caa6143e6ba417ea1c1c08bbd1bbe00",
      "value": 1954
     }
    },
    "fe36b08fe7ac46aaa5cc7a32029d2326": {
     "model_module": "@jupyter-widgets/controls",
     "model_module_version": "1.5.0",
     "model_name": "HTMLModel",
     "state": {
      "_dom_classes": [],
      "_model_module": "@jupyter-widgets/controls",
      "_model_module_version": "1.5.0",
      "_model_name": "HTMLModel",
      "_view_count": null,
      "_view_module": "@jupyter-widgets/controls",
      "_view_module_version": "1.5.0",
      "_view_name": "HTMLView",
      "description": "",
      "description_tooltip": null,
      "layout": "IPY_MODEL_efe48cde01224a26b381097bdf4da488",
      "placeholder": "​",
      "style": "IPY_MODEL_b69a96db3c0f4eb995903f438784d3ae",
      "value": "Epoch 2/5: 100%"
     }
    }
   }
  }
 },
 "nbformat": 4,
 "nbformat_minor": 4
}
