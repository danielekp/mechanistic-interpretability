{
 "cells": [
  {
   "cell_type": "markdown",
   "metadata": {},
   "source": [
    "# Configuration"
   ]
  },
  {
   "cell_type": "code",
   "execution_count": 1,
   "metadata": {
    "id": "bJAqJEez4l7U"
   },
   "outputs": [],
   "source": [
    "# --- Transformer Configuration ---\n",
    "MODEL_NAME = \"gpt2\"\n",
    "# We target the output projection of the MLP layer in a specific block\n",
    "LAYER_IDX = 5\n",
    "# LAYER_NAME = f\"transformer.h.{LAYER_IDX}.mlp.c_proj\" # Output projection of MLP\n",
    "LAYER_NAME = f\"transformer.h.{LAYER_IDX}.attn.c_proj\" # Output projection of Attention\n",
    "# Alternative: f\"transformer.h.{LAYER_IDX}\" # Output of the whole block (residual stream)"
   ]
  },
  {
   "cell_type": "code",
   "execution_count": 2,
   "metadata": {
    "id": "kCN2RHX24qmt"
   },
   "outputs": [],
   "source": [
    "# --- Dataset Configuration ---\n",
    "DATASET_NAME = \"wikitext\"\n",
    "DATASET_CONFIG = \"wikitext-103-raw-v1\" # Or \"wikitext-2-raw-v1\" for smaller\n",
    "DATASET_SPLIT = \"train\"\n",
    "NUM_ACTIVATIONS_TO_STORE = 2000000 # Max activations to collect (adjust based on RAM)\n",
    "MAX_SEQ_LENGTH = 128 # Max token length for processing sequences"
   ]
  },
  {
   "cell_type": "code",
   "execution_count": 3,
   "metadata": {
    "id": "oAkU5VWV4uun"
   },
   "outputs": [],
   "source": [
    "# --- SAE Configuration ---\n",
    "ACTIVATION_DIM = 768 # Dimension of the activations we are capturing (GPT-2 small: 768)\n",
    "SAE_EXPANSION_FACTOR = 4 # How many times larger the SAE hidden dim is than the activation dim\n",
    "SAE_HIDDEN_DIM = ACTIVATION_DIM * SAE_EXPANSION_FACTOR\n",
    "L1_COEFF = 8e-3 # Sparsity penalty strength"
   ]
  },
  {
   "cell_type": "code",
   "execution_count": 4,
   "metadata": {
    "id": "lsa8zlu04yo2"
   },
   "outputs": [],
   "source": [
    "# --- Training Configuration ---\n",
    "BATCH_SIZE = 256\n",
    "LEARNING_RATE = 3e-4\n",
    "NUM_EPOCHS = 300\n",
    "PRINT_INTERVAL = 100"
   ]
  },
  {
   "cell_type": "code",
   "execution_count": 5,
   "metadata": {},
   "outputs": [],
   "source": [
    "# --- Analysis Configuration ---\n",
    "NUM_TOP_FEATURES_TO_ANALYZE = 50\n",
    "ACTIVITY_THRESHOLD = 1e-6 # Threshold to consider a feature non-dead"
   ]
  },
  {
   "cell_type": "markdown",
   "metadata": {},
   "source": [
    "# Setup"
   ]
  },
  {
   "cell_type": "code",
   "execution_count": 18,
   "metadata": {
    "id": "wXEe0rtE5IkC"
   },
   "outputs": [
    {
     "ename": "ModuleNotFoundError",
     "evalue": "No module named 'seaborn'",
     "output_type": "error",
     "traceback": [
      "\u001b[0;31m---------------------------------------------------------------------------\u001b[0m",
      "\u001b[0;31mModuleNotFoundError\u001b[0m                       Traceback (most recent call last)",
      "Cell \u001b[0;32mIn[18], line 13\u001b[0m\n\u001b[1;32m     11\u001b[0m \u001b[38;5;28;01mimport\u001b[39;00m\u001b[38;5;250m \u001b[39m\u001b[38;5;21;01mos\u001b[39;00m\n\u001b[1;32m     12\u001b[0m \u001b[38;5;28;01mimport\u001b[39;00m\u001b[38;5;250m \u001b[39m\u001b[38;5;21;01mdatetime\u001b[39;00m\n\u001b[0;32m---> 13\u001b[0m \u001b[38;5;28;01mimport\u001b[39;00m\u001b[38;5;250m \u001b[39m\u001b[38;5;21;01mseaborn\u001b[39;00m\u001b[38;5;250m \u001b[39m\u001b[38;5;28;01mas\u001b[39;00m\u001b[38;5;250m \u001b[39m\u001b[38;5;21;01msns\u001b[39;00m\n",
      "\u001b[0;31mModuleNotFoundError\u001b[0m: No module named 'seaborn'"
     ]
    }
   ],
   "source": [
    "import torch\n",
    "import torch.nn as nn\n",
    "import torch.optim as optim\n",
    "from transformers import AutoModelForCausalLM, AutoTokenizer\n",
    "from datasets import load_dataset\n",
    "from tqdm.auto import tqdm  # Use auto version for notebook compatibility\n",
    "import numpy as np\n",
    "import matplotlib.pyplot as plt\n",
    "import random\n",
    "from torch.utils.tensorboard import SummaryWriter\n",
    "import os\n",
    "import datetime"
   ]
  },
  {
   "cell_type": "code",
   "execution_count": 7,
   "metadata": {
    "colab": {
     "base_uri": "https://localhost:8080/"
    },
    "id": "FMR3NkEV5SMz",
    "outputId": "2118ac4a-c6d5-4cf7-feef-7a16e72adc58"
   },
   "outputs": [
    {
     "name": "stdout",
     "output_type": "stream",
     "text": [
      "Using GPU: NVIDIA RTX A1000 6GB Laptop GPU\n"
     ]
    }
   ],
   "source": [
    "if torch.cuda.is_available():\n",
    "    device = torch.device(\"cuda\")\n",
    "    print(f\"Using GPU: {torch.cuda.get_device_name(0)}\")\n",
    "else:\n",
    "    device = torch.device(\"cpu\")\n",
    "    print(\"Using CPU\")"
   ]
  },
  {
   "cell_type": "code",
   "execution_count": 8,
   "metadata": {
    "colab": {
     "base_uri": "https://localhost:8080/"
    },
    "id": "iPtVBwQo5Za7",
    "outputId": "068c3462-33ce-4cfd-b1d0-566cff735716"
   },
   "outputs": [
    {
     "name": "stdout",
     "output_type": "stream",
     "text": [
      "Loading model: gpt2\n",
      "Loading tokenizer: gpt2\n"
     ]
    }
   ],
   "source": [
    "print(f\"Loading model: {MODEL_NAME}\")\n",
    "model = AutoModelForCausalLM.from_pretrained(MODEL_NAME).to(device)\n",
    "model.eval()\n",
    "\n",
    "print(f\"Loading tokenizer: {MODEL_NAME}\")\n",
    "tokenizer = AutoTokenizer.from_pretrained(MODEL_NAME)\n",
    "if tokenizer.pad_token is None:\n",
    "    tokenizer.pad_token = tokenizer.eos_token"
   ]
  },
  {
   "cell_type": "markdown",
   "metadata": {},
   "source": [
    "# Data"
   ]
  },
  {
   "cell_type": "code",
   "execution_count": 9,
   "metadata": {
    "colab": {
     "base_uri": "https://localhost:8080/",
     "height": 153,
     "referenced_widgets": [
      "212ffc916333471ab3d8e0fdf6c14125",
      "5298938e251e40b7a408c049f396ef7f",
      "1da8b159a5e64972876f24242c51ab8c",
      "a9ec30c5a9284e9a864d13363b3821ef",
      "75e2d97e8cb24a379df37bd4687b7895",
      "2a0226c7890a4a9eb29116a5bcfb8e6d",
      "d9bf5e35c1e44e8fb198ea0bf442b3a6",
      "88f1bd22d3ac4eeb83590a664aaee90c",
      "33f1a0ccad224bec8ddb759e1cff9224",
      "b08b65221fbb4dc781880ef3cd0a1161",
      "99bb8b8d1b3a4532bc3652ae2d069162"
     ]
    },
    "id": "zOWb-TtH5kE_",
    "outputId": "4118245e-ad44-44d8-ed59-7c8da68a1a20"
   },
   "outputs": [
    {
     "name": "stdout",
     "output_type": "stream",
     "text": [
      "Registering hook on layer: transformer.h.5.attn.c_proj\n",
      "Loading dataset: wikitext (wikitext-103-raw-v1)\n",
      "Processing dataset and extracting activations (Aligning Tokens and Activations)...\n"
     ]
    },
    {
     "data": {
      "application/vnd.jupyter.widget-view+json": {
       "model_id": "04ed8509c57f48199a54d1f7d44a63f7",
       "version_major": 2,
       "version_minor": 0
      },
      "text/plain": [
       "Extracting Aligned Activations/Tokens:   0%|          | 0/2000000 [00:00<?, ?it/s]"
      ]
     },
     "metadata": {},
     "output_type": "display_data"
    },
    {
     "name": "stdout",
     "output_type": "stream",
     "text": [
      "Total ALIGNED activations extracted: 2000012\n",
      "Total ALIGNED tokens stored: 2000012\n",
      "Activation tensor final shape: torch.Size([2000012, 768])\n",
      "Token storage final length: 2000012\n",
      "Activation and token counts match. Alignment successful.\n",
      "Filtered activations normalized (unit norm per vector).\n"
     ]
    }
   ],
   "source": [
    "activation_storage = []\n",
    "\n",
    "# Register hook to save the activation\n",
    "def get_activation_hook_no_flatten(layer_name):\n",
    "    \"\"\"Creates a hook function to capture activations.\"\"\"\n",
    "    def hook(model, input, output):\n",
    "        act_tensor = output[0] if isinstance(output, tuple) else output\n",
    "        activation_storage.append(act_tensor.detach().cpu().to(torch.float32))\n",
    "\n",
    "    target_module = dict(model.named_modules())[layer_name]\n",
    "    handle = target_module.register_forward_hook(hook)\n",
    "    return handle\n",
    "\n",
    "# Register the non-flattening hook\n",
    "print(f\"Registering hook on layer: {LAYER_NAME}\")\n",
    "hook_handle = get_activation_hook_no_flatten(LAYER_NAME)\n",
    "\n",
    "activation_storage_filtered = []\n",
    "token_storage = []\n",
    "\n",
    "print(f\"Loading dataset: {DATASET_NAME} ({DATASET_CONFIG})\")\n",
    "dataset = load_dataset(DATASET_NAME, DATASET_CONFIG, split=f\"{DATASET_SPLIT}\", streaming=True)\n",
    "\n",
    "print(\"Processing dataset and extracting activations (Aligning Tokens and Activations)...\")\n",
    "num_processed_tokens = 0 # Track actual non-padding tokens processed\n",
    "pbar = tqdm(total=NUM_ACTIVATIONS_TO_STORE, desc=\"Extracting Aligned Activations/Tokens\")\n",
    "\n",
    "for example in iter(dataset):\n",
    "    if num_processed_tokens >= NUM_ACTIVATIONS_TO_STORE:\n",
    "        break\n",
    "\n",
    "    text = example['text']\n",
    "    if not text or len(text.strip()) == 0:\n",
    "      continue\n",
    "\n",
    "    # Tokenize the text\n",
    "    inputs = tokenizer(text, return_tensors=\"pt\", max_length=MAX_SEQ_LENGTH, padding=\"max_length\", truncation=True)\n",
    "    input_ids = inputs[\"input_ids\"].to(device)\n",
    "    attention_mask = inputs[\"attention_mask\"].to(device) # Shape: (batch_size, seq_len)\n",
    "    \n",
    "    activation_storage.clear()\n",
    "\n",
    "    with torch.no_grad():\n",
    "        model(input_ids=input_ids, attention_mask=attention_mask)\n",
    "\n",
    "    # --- Retrieve activation (assuming hook appended to global list) ---\n",
    "    if not activation_storage:\n",
    "         print(\"Warning: Hook did not capture activation for a batch. Skipping.\")\n",
    "         continue\n",
    "        \n",
    "    batch_activations = activation_storage[0]\n",
    "\n",
    "    # Ensure shapes match for filtering\n",
    "    if batch_activations.shape[0] != input_ids.shape[0] or batch_activations.shape[1] != input_ids.shape[1]:\n",
    "       print(f\"Warning: Activation shape {batch_activations.shape} mismatch with input_ids {input_ids.shape}. Check hook logic. Skipping batch.\")\n",
    "       continue\n",
    "\n",
    "    # --- Filter Activations and Tokens based on Attention Mask ---\n",
    "    cpu_input_ids = input_ids.cpu().numpy() # (batch_size, seq_len)\n",
    "    cpu_attention_mask = attention_mask.cpu().numpy().astype(bool) # (batch_size, seq_len)\n",
    "\n",
    "    # Flatten batch and sequence dimensions for filtering\n",
    "    flat_activations = batch_activations.view(-1, ACTIVATION_DIM) # (batch*seq, hidden)\n",
    "    flat_input_ids = cpu_input_ids.flatten() # (batch*seq,)\n",
    "    flat_attention_mask = cpu_attention_mask.flatten() # (batch*seq,)\n",
    "\n",
    "    # Select only items where attention_mask is True\n",
    "    filtered_activations = flat_activations[flat_attention_mask]\n",
    "    filtered_tokens = flat_input_ids[flat_attention_mask]\n",
    "\n",
    "    # Store filtered tokens\n",
    "    if filtered_activations.shape[0] > 0: # Only store if there are non-padding tokens\n",
    "        activation_storage_filtered.append(filtered_activations)\n",
    "        newly_added_tokens = filtered_tokens.tolist()\n",
    "        token_storage.extend(newly_added_tokens)\n",
    "\n",
    "        # --- Update Progress ---\n",
    "        num_processed_tokens += len(newly_added_tokens)\n",
    "        pbar.update(len(newly_added_tokens))\n",
    "\n",
    "pbar.close()\n",
    "hook_handle.remove() # Remove the hook\n",
    "\n",
    "# --- Concatenate FINAL filtered activations ---\n",
    "if not activation_storage_filtered:\n",
    "    raise ValueError(\"No activations were extracted/stored after filtering. Check data or hook.\")\n",
    "\n",
    "all_activations = torch.cat(activation_storage_filtered, dim=0)\n",
    "print(f\"Total ALIGNED activations extracted: {all_activations.shape[0]}\")\n",
    "print(f\"Total ALIGNED tokens stored: {len(token_storage)}\")\n",
    "print(f\"Activation tensor final shape: {all_activations.shape}\") # Should be (N, ACTIVATION_DIM)\n",
    "print(f\"Token storage final length: {len(token_storage)}\")      # N should match above\n",
    "\n",
    "# Check if the lengths match (they should now)\n",
    "if all_activations.shape[0] != len(token_storage):\n",
    "    print(f\"CRITICAL WARNING: Mismatch between activation count ({all_activations.shape[0]}) and token count ({len(token_storage)}) AFTER filtering!\")\n",
    "else:\n",
    "    print(\"Activation and token counts match. Alignment successful.\")\n",
    "\n",
    "# Normalize activations for SAE training\n",
    "act_mean = torch.mean(all_activations, dim=0, keepdim=True)\n",
    "act_norms = torch.norm(all_activations, dim=1, keepdim=True) + 1e-6 # Add epsilon for stability\n",
    "all_activations = (all_activations - act_mean) / act_norms\n",
    "print(\"Filtered activations normalized (unit norm per vector).\")\n",
    "\n",
    "# Convert to PyTorch DataLoader for training\n",
    "activation_dataset = torch.utils.data.TensorDataset(all_activations)\n",
    "activation_loader = torch.utils.data.DataLoader(activation_dataset, batch_size=BATCH_SIZE, shuffle=True)\n",
    "\n",
    "# Clean up memory\n",
    "del activation_storage # Delete the temporary batch storage list\n",
    "del activation_storage_filtered\n",
    "import gc\n",
    "gc.collect()\n",
    "if device == torch.device(\"cuda\"):\n",
    "    torch.cuda.empty_cache()"
   ]
  },
  {
   "cell_type": "markdown",
   "metadata": {},
   "source": [
    "# Training"
   ]
  },
  {
   "cell_type": "code",
   "execution_count": 10,
   "metadata": {
    "colab": {
     "base_uri": "https://localhost:8080/"
    },
    "id": "Cpo9r9Yr5pEO",
    "outputId": "137658e8-9545-4e4f-edba-2d42bbf94438"
   },
   "outputs": [
    {
     "name": "stdout",
     "output_type": "stream",
     "text": [
      "Initializing SAE with ACTIVATION_DIM=768, SAE_HIDDEN_DIM=3072\n",
      "SAE Model:\n",
      "SparseAutoencoder(\n",
      "  (encoder): Linear(in_features=768, out_features=3072, bias=True)\n",
      "  (decoder): Linear(in_features=3072, out_features=768, bias=True)\n",
      "  (relu): ReLU()\n",
      ")\n"
     ]
    }
   ],
   "source": [
    "class SparseAutoencoder(nn.Module):\n",
    "    def __init__(self, input_dim, hidden_dim):\n",
    "        super().__init__()\n",
    "        self.encoder = nn.Linear(input_dim, hidden_dim, bias=True)\n",
    "        self.decoder = nn.Linear(hidden_dim, input_dim, bias=True)\n",
    "\n",
    "        self.relu = nn.ReLU()\n",
    "        nn.init.zeros_(self.decoder.bias)\n",
    "\n",
    "    def forward(self, x):\n",
    "        encoded = self.relu(self.encoder(x))\n",
    "        decoded = self.decoder(encoded)\n",
    "        return encoded, decoded\n",
    "\n",
    "    def encode(self, x):\n",
    "      return self.relu(self.encoder(x))\n",
    "\n",
    "# Initialize SAE\n",
    "print(f\"Initializing SAE with ACTIVATION_DIM={ACTIVATION_DIM}, SAE_HIDDEN_DIM={SAE_HIDDEN_DIM}\")\n",
    "sae_model = SparseAutoencoder(ACTIVATION_DIM, SAE_HIDDEN_DIM).to(device)\n",
    "print(\"SAE Model:\")\n",
    "print(sae_model)"
   ]
  },
  {
   "cell_type": "code",
   "execution_count": 11,
   "metadata": {
    "id": "ZeIeYfkd-GoT"
   },
   "outputs": [],
   "source": [
    "def sae_loss(original_activations, encoded_activations, decoded_activations, l1_coeff):\n",
    "    \"\"\"Calculates SAE loss: MSE + L1 penalty on encoded activations.\"\"\"\n",
    "    mse_loss = nn.functional.mse_loss(decoded_activations, original_activations)\n",
    "\n",
    "    l1_loss = torch.mean(torch.abs(encoded_activations))\n",
    "\n",
    "    total_loss = mse_loss + l1_coeff * l1_loss\n",
    "    return total_loss, mse_loss, l1_loss\n",
    "\n",
    "optimizer = optim.Adam(sae_model.parameters(), lr=LEARNING_RATE)"
   ]
  },
  {
   "cell_type": "code",
   "execution_count": 12,
   "metadata": {},
   "outputs": [
    {
     "name": "stdout",
     "output_type": "stream",
     "text": [
      "TensorBoard logs will be saved to: runs/gpt2_transformer.h.5.attn.c_proj_sae_training_logs_20250416-160135\n",
      "Run 'tensorboard --logdir runs' (or your specific log_dir parent) to view logs.\n"
     ]
    }
   ],
   "source": [
    "timestamp = datetime.datetime.now().strftime(\"%Y%m%d-%H%M%S\")\n",
    "log_dir = f\"runs/{MODEL_NAME}_{LAYER_NAME}_sae_training_logs_{timestamp}\" # You can customize this path\n",
    "os.makedirs(log_dir, exist_ok=True) # Create the directory if it doesn't exist\n",
    "writer = SummaryWriter(log_dir=log_dir)\n",
    "print(f\"TensorBoard logs will be saved to: {log_dir}\")\n",
    "print(\"Run 'tensorboard --logdir runs' (or your specific log_dir parent) to view logs.\")"
   ]
  },
  {
   "cell_type": "code",
   "execution_count": 13,
   "metadata": {
    "colab": {
     "base_uri": "https://localhost:8080/",
     "height": 139,
     "referenced_widgets": [
      "7ecb21436a594bb999d5771e271d3f7a",
      "488a96383d124d59afffb71ff3cd05a4",
      "f6bee22b0cb948619932198fe6f5cda5",
      "ee6aa76bdc4d4dbda1aa4a000e22950a",
      "56b86af88f524e88b17170d9d77c59ed",
      "d3a89fc92c9d4130bace9226679abf8b",
      "347975e6001446d8ad5ab1a55e6b93ba",
      "3394cbd41fe84afaab914957fe0577b4",
      "4caa6143e6ba417ea1c1c08bbd1bbe00",
      "423f683a857d4978aea32d1fb906917f",
      "b8ff52559e6b43c2922d32ef084a2dc3",
      "1dc057cec3af4bd5bd3d164b3bbb278c",
      "fe36b08fe7ac46aaa5cc7a32029d2326",
      "cb424b8d740a4725b7a40b612477e0a4",
      "481f0c9360fa48c789c3e610c7faa4b9",
      "c7b5087d4cff4c659aa4e0621f2f0515",
      "efe48cde01224a26b381097bdf4da488",
      "b69a96db3c0f4eb995903f438784d3ae",
      "a49697b7507c4393a69e13c3aa00c7d0",
      "dccf875f283c4c918a17eb34972165c7",
      "4f7c9f2b26474d91869d321c93c55016",
      "1ec8925531914a72a32af23f00b6cf85",
      "3e0a3d48d7c7467793ad5cb0b2af2db8",
      "dcb1775a38ef423d9b83be8ea34358c3",
      "ce1153829b504a9aaf6aded150437803",
      "cf29e64ebe8b4c4d9e504344923c068f",
      "045811a98a0e488191619ff663a9b9ad",
      "dbf452edd85f475aa5aa85bdfa755036",
      "aa02f8c0c9524517bba1853799c83990",
      "e468348f6c9b4539996564eaa9e3231c",
      "678e5280482748eba982bf9cabc5fc0d",
      "b3bd938317e24c26b4faa8946e8b53c0",
      "4bd3e07b66384d6b8b41e871027b19db",
      "f2f7b58696f34ccab83ef48584db03f3",
      "939bf5878f4b40e3b1d5ca73f552fd68",
      "619a4bd1181f4e9b99b7c73c76f6a37e",
      "d1ffc6b2b6814983a60a76b06ecaa291",
      "d1db62cf9b0b4a959bdda5e825897864",
      "6e47d7b8380b48f9998c9c4be10594f1",
      "936bb05d4c4c460bba7434df24d506d6",
      "b78cef9985b84e2cab2bbd7857468b5a",
      "0527355b91cc461bbcf14a6f9e4b3148",
      "806fcecc644c42f28db7b9d3e455ba42",
      "bf07be48d1404f97a5babb27071a6bae",
      "a82b4d27f5fe4f7780442ccb541151ae",
      "22b3a63ea5674954a7bb6059969217cc",
      "1457663b5ac04dbebe458eaabb6cb652",
      "4eb4c6ebdff64314aca75bef415a7dcc",
      "8e68cea1ad9f48489057899c498d1212",
      "752074022a6343d595cb44e542eedce1",
      "a667a6173e284395a30468c8c0f0344d",
      "8bb165de3f1f4fb99aaadd788a4db38d",
      "7cbaea4ebd184865a0141614da79579c",
      "40c45e409c504dbcbb4de1341f9f519d",
      "0270a2478b16473683f73715628fc483"
     ]
    },
    "id": "RgjhTKah51L0",
    "outputId": "86b5c467-d78f-4538-bc54-e28726622e33"
   },
   "outputs": [
    {
     "name": "stdout",
     "output_type": "stream",
     "text": [
      "Starting SAE training...\n"
     ]
    },
    {
     "data": {
      "application/vnd.jupyter.widget-view+json": {
       "model_id": "c0b55938c36d4075878e840eff8c0f69",
       "version_major": 2,
       "version_minor": 0
      },
      "text/plain": [
       "Epoch 1/300:   0%|          | 0/7813 [00:00<?, ?it/s]"
      ]
     },
     "metadata": {},
     "output_type": "display_data"
    },
    {
     "name": "stdout",
     "output_type": "stream",
     "text": [
      "Epoch 1 Complete: Avg Total Loss=0.000078709327, Avg MSE=0.000029620076, Avg L1=0.0061362, Avg L0=1432.10\n"
     ]
    },
    {
     "data": {
      "application/vnd.jupyter.widget-view+json": {
       "model_id": "8e781b15f982443286074987fb732fd9",
       "version_major": 2,
       "version_minor": 0
      },
      "text/plain": [
       "Epoch 2/300:   0%|          | 0/7813 [00:00<?, ?it/s]"
      ]
     },
     "metadata": {},
     "output_type": "display_data"
    },
    {
     "name": "stdout",
     "output_type": "stream",
     "text": [
      "Epoch 2 Complete: Avg Total Loss=0.000035934889, Avg MSE=0.000008642990, Avg L1=0.0034115, Avg L0=1227.31\n"
     ]
    },
    {
     "data": {
      "application/vnd.jupyter.widget-view+json": {
       "model_id": "02807d892fd145bfaf1d25c685cd9075",
       "version_major": 2,
       "version_minor": 0
      },
      "text/plain": [
       "Epoch 3/300:   0%|          | 0/7813 [00:00<?, ?it/s]"
      ]
     },
     "metadata": {},
     "output_type": "display_data"
    },
    {
     "name": "stdout",
     "output_type": "stream",
     "text": [
      "Epoch 3 Complete: Avg Total Loss=0.000026363259, Avg MSE=0.000005990719, Avg L1=0.0025466, Avg L0=1123.83\n"
     ]
    },
    {
     "data": {
      "application/vnd.jupyter.widget-view+json": {
       "model_id": "8ee9b23d6a774f73b5cd8685740a2c37",
       "version_major": 2,
       "version_minor": 0
      },
      "text/plain": [
       "Epoch 4/300:   0%|          | 0/7813 [00:00<?, ?it/s]"
      ]
     },
     "metadata": {},
     "output_type": "display_data"
    },
    {
     "name": "stdout",
     "output_type": "stream",
     "text": [
      "Epoch 4 Complete: Avg Total Loss=0.000021334818, Avg MSE=0.000004753065, Avg L1=0.0020727, Avg L0=1048.71\n"
     ]
    },
    {
     "data": {
      "application/vnd.jupyter.widget-view+json": {
       "model_id": "ef30d18e8a754929bf39f70331c0a409",
       "version_major": 2,
       "version_minor": 0
      },
      "text/plain": [
       "Epoch 5/300:   0%|          | 0/7813 [00:00<?, ?it/s]"
      ]
     },
     "metadata": {},
     "output_type": "display_data"
    },
    {
     "name": "stdout",
     "output_type": "stream",
     "text": [
      "Epoch 5 Complete: Avg Total Loss=0.000018348433, Avg MSE=0.000004090308, Avg L1=0.0017823, Avg L0=989.33\n"
     ]
    },
    {
     "data": {
      "application/vnd.jupyter.widget-view+json": {
       "model_id": "c4097917108a49fc86e44f5be4e9e836",
       "version_major": 2,
       "version_minor": 0
      },
      "text/plain": [
       "Epoch 6/300:   0%|          | 0/7813 [00:00<?, ?it/s]"
      ]
     },
     "metadata": {},
     "output_type": "display_data"
    },
    {
     "name": "stdout",
     "output_type": "stream",
     "text": [
      "Epoch 6 Complete: Avg Total Loss=0.000016454921, Avg MSE=0.000003717888, Avg L1=0.0015921, Avg L0=943.92\n"
     ]
    },
    {
     "data": {
      "application/vnd.jupyter.widget-view+json": {
       "model_id": "25d5e435e3124f19957007f1ff6b679c",
       "version_major": 2,
       "version_minor": 0
      },
      "text/plain": [
       "Epoch 7/300:   0%|          | 0/7813 [00:00<?, ?it/s]"
      ]
     },
     "metadata": {},
     "output_type": "display_data"
    },
    {
     "name": "stdout",
     "output_type": "stream",
     "text": [
      "Epoch 7 Complete: Avg Total Loss=0.000015123904, Avg MSE=0.000003476396, Avg L1=0.0014559, Avg L0=904.22\n"
     ]
    },
    {
     "data": {
      "application/vnd.jupyter.widget-view+json": {
       "model_id": "83c8683652bc45548e364b68bb29c90d",
       "version_major": 2,
       "version_minor": 0
      },
      "text/plain": [
       "Epoch 8/300:   0%|          | 0/7813 [00:00<?, ?it/s]"
      ]
     },
     "metadata": {},
     "output_type": "display_data"
    },
    {
     "name": "stdout",
     "output_type": "stream",
     "text": [
      "Epoch 8 Complete: Avg Total Loss=0.000014161098, Avg MSE=0.000003330113, Avg L1=0.0013539, Avg L0=877.34\n"
     ]
    },
    {
     "data": {
      "application/vnd.jupyter.widget-view+json": {
       "model_id": "f68eae703f01423c9cf3b20eae169750",
       "version_major": 2,
       "version_minor": 0
      },
      "text/plain": [
       "Epoch 9/300:   0%|          | 0/7813 [00:00<?, ?it/s]"
      ]
     },
     "metadata": {},
     "output_type": "display_data"
    },
    {
     "name": "stdout",
     "output_type": "stream",
     "text": [
      "Epoch 9 Complete: Avg Total Loss=0.000013438179, Avg MSE=0.000003233151, Avg L1=0.0012756, Avg L0=855.07\n"
     ]
    },
    {
     "data": {
      "application/vnd.jupyter.widget-view+json": {
       "model_id": "ff517c6854864997bf81015d282d1f9d",
       "version_major": 2,
       "version_minor": 0
      },
      "text/plain": [
       "Epoch 10/300:   0%|          | 0/7813 [00:00<?, ?it/s]"
      ]
     },
     "metadata": {},
     "output_type": "display_data"
    },
    {
     "name": "stdout",
     "output_type": "stream",
     "text": [
      "Epoch 10 Complete: Avg Total Loss=0.000012889892, Avg MSE=0.000003182852, Avg L1=0.0012134, Avg L0=837.98\n"
     ]
    },
    {
     "data": {
      "application/vnd.jupyter.widget-view+json": {
       "model_id": "45562bc09abf4cdfa45a55bd9c5df412",
       "version_major": 2,
       "version_minor": 0
      },
      "text/plain": [
       "Epoch 11/300:   0%|          | 0/7813 [00:00<?, ?it/s]"
      ]
     },
     "metadata": {},
     "output_type": "display_data"
    },
    {
     "name": "stdout",
     "output_type": "stream",
     "text": [
      "Epoch 11 Complete: Avg Total Loss=0.000012463034, Avg MSE=0.000003164895, Avg L1=0.0011623, Avg L0=825.25\n"
     ]
    },
    {
     "data": {
      "application/vnd.jupyter.widget-view+json": {
       "model_id": "c456627b9b244f8a8d931e65d204e3f7",
       "version_major": 2,
       "version_minor": 0
      },
      "text/plain": [
       "Epoch 12/300:   0%|          | 0/7813 [00:00<?, ?it/s]"
      ]
     },
     "metadata": {},
     "output_type": "display_data"
    },
    {
     "name": "stdout",
     "output_type": "stream",
     "text": [
      "Epoch 12 Complete: Avg Total Loss=0.000012094407, Avg MSE=0.000003134300, Avg L1=0.0011200, Avg L0=810.54\n"
     ]
    },
    {
     "data": {
      "application/vnd.jupyter.widget-view+json": {
       "model_id": "276312eb936646979d8a310e2b3f928b",
       "version_major": 2,
       "version_minor": 0
      },
      "text/plain": [
       "Epoch 13/300:   0%|          | 0/7813 [00:00<?, ?it/s]"
      ]
     },
     "metadata": {},
     "output_type": "display_data"
    },
    {
     "name": "stdout",
     "output_type": "stream",
     "text": [
      "Epoch 13 Complete: Avg Total Loss=0.000011788022, Avg MSE=0.000003114248, Avg L1=0.0010842, Avg L0=797.79\n"
     ]
    },
    {
     "data": {
      "application/vnd.jupyter.widget-view+json": {
       "model_id": "2989800e4d7441028d22dc9a69e23343",
       "version_major": 2,
       "version_minor": 0
      },
      "text/plain": [
       "Epoch 14/300:   0%|          | 0/7813 [00:00<?, ?it/s]"
      ]
     },
     "metadata": {},
     "output_type": "display_data"
    },
    {
     "name": "stdout",
     "output_type": "stream",
     "text": [
      "Epoch 14 Complete: Avg Total Loss=0.000011520189, Avg MSE=0.000003095162, Avg L1=0.0010531, Avg L0=787.70\n"
     ]
    },
    {
     "data": {
      "application/vnd.jupyter.widget-view+json": {
       "model_id": "a0866429d830479f80e3e882431a0475",
       "version_major": 2,
       "version_minor": 0
      },
      "text/plain": [
       "Epoch 15/300:   0%|          | 0/7813 [00:00<?, ?it/s]"
      ]
     },
     "metadata": {},
     "output_type": "display_data"
    },
    {
     "name": "stdout",
     "output_type": "stream",
     "text": [
      "Epoch 15 Complete: Avg Total Loss=0.000011296679, Avg MSE=0.000003090910, Avg L1=0.0010257, Avg L0=777.49\n"
     ]
    },
    {
     "data": {
      "application/vnd.jupyter.widget-view+json": {
       "model_id": "750d74af33324521a9214b5c2008085d",
       "version_major": 2,
       "version_minor": 0
      },
      "text/plain": [
       "Epoch 16/300:   0%|          | 0/7813 [00:00<?, ?it/s]"
      ]
     },
     "metadata": {},
     "output_type": "display_data"
    },
    {
     "name": "stdout",
     "output_type": "stream",
     "text": [
      "Epoch 16 Complete: Avg Total Loss=0.000011096193, Avg MSE=0.000003084989, Avg L1=0.0010014, Avg L0=771.35\n"
     ]
    },
    {
     "data": {
      "application/vnd.jupyter.widget-view+json": {
       "model_id": "d69269f044f6405d8fbd60ed02126c2d",
       "version_major": 2,
       "version_minor": 0
      },
      "text/plain": [
       "Epoch 17/300:   0%|          | 0/7813 [00:00<?, ?it/s]"
      ]
     },
     "metadata": {},
     "output_type": "display_data"
    },
    {
     "name": "stdout",
     "output_type": "stream",
     "text": [
      "Epoch 17 Complete: Avg Total Loss=0.000010921867, Avg MSE=0.000003082106, Avg L1=0.0009800, Avg L0=765.28\n"
     ]
    },
    {
     "data": {
      "application/vnd.jupyter.widget-view+json": {
       "model_id": "ab9c5666a4c74b68a157b767aa81184c",
       "version_major": 2,
       "version_minor": 0
      },
      "text/plain": [
       "Epoch 18/300:   0%|          | 0/7813 [00:00<?, ?it/s]"
      ]
     },
     "metadata": {},
     "output_type": "display_data"
    },
    {
     "name": "stdout",
     "output_type": "stream",
     "text": [
      "Epoch 18 Complete: Avg Total Loss=0.000010777486, Avg MSE=0.000003092849, Avg L1=0.0009606, Avg L0=761.33\n"
     ]
    },
    {
     "data": {
      "application/vnd.jupyter.widget-view+json": {
       "model_id": "a59be95aef4e465f8af4a6cecfcb9c70",
       "version_major": 2,
       "version_minor": 0
      },
      "text/plain": [
       "Epoch 19/300:   0%|          | 0/7813 [00:00<?, ?it/s]"
      ]
     },
     "metadata": {},
     "output_type": "display_data"
    },
    {
     "name": "stdout",
     "output_type": "stream",
     "text": [
      "Epoch 19 Complete: Avg Total Loss=0.000010644011, Avg MSE=0.000003097947, Avg L1=0.0009433, Avg L0=757.53\n"
     ]
    },
    {
     "data": {
      "application/vnd.jupyter.widget-view+json": {
       "model_id": "129cfe07d2254e90a383b852d2c5212e",
       "version_major": 2,
       "version_minor": 0
      },
      "text/plain": [
       "Epoch 20/300:   0%|          | 0/7813 [00:00<?, ?it/s]"
      ]
     },
     "metadata": {},
     "output_type": "display_data"
    },
    {
     "name": "stdout",
     "output_type": "stream",
     "text": [
      "Epoch 20 Complete: Avg Total Loss=0.000010530567, Avg MSE=0.000003107360, Avg L1=0.0009279, Avg L0=752.82\n"
     ]
    },
    {
     "data": {
      "application/vnd.jupyter.widget-view+json": {
       "model_id": "1763e61766fa412a89026e5c815e5314",
       "version_major": 2,
       "version_minor": 0
      },
      "text/plain": [
       "Epoch 21/300:   0%|          | 0/7813 [00:00<?, ?it/s]"
      ]
     },
     "metadata": {},
     "output_type": "display_data"
    },
    {
     "name": "stdout",
     "output_type": "stream",
     "text": [
      "Epoch 21 Complete: Avg Total Loss=0.000010428439, Avg MSE=0.000003116278, Avg L1=0.0009140, Avg L0=748.42\n"
     ]
    },
    {
     "data": {
      "application/vnd.jupyter.widget-view+json": {
       "model_id": "fe70c25181fd427a9dcfe219d2d86727",
       "version_major": 2,
       "version_minor": 0
      },
      "text/plain": [
       "Epoch 22/300:   0%|          | 0/7813 [00:00<?, ?it/s]"
      ]
     },
     "metadata": {},
     "output_type": "display_data"
    },
    {
     "name": "stdout",
     "output_type": "stream",
     "text": [
      "Epoch 22 Complete: Avg Total Loss=0.000010332330, Avg MSE=0.000003121209, Avg L1=0.0009014, Avg L0=744.45\n"
     ]
    },
    {
     "data": {
      "application/vnd.jupyter.widget-view+json": {
       "model_id": "0300e44ca6c546bfb4eca6072879b042",
       "version_major": 2,
       "version_minor": 0
      },
      "text/plain": [
       "Epoch 23/300:   0%|          | 0/7813 [00:00<?, ?it/s]"
      ]
     },
     "metadata": {},
     "output_type": "display_data"
    },
    {
     "name": "stdout",
     "output_type": "stream",
     "text": [
      "Epoch 23 Complete: Avg Total Loss=0.000010244746, Avg MSE=0.000003125090, Avg L1=0.0008900, Avg L0=740.03\n"
     ]
    },
    {
     "data": {
      "application/vnd.jupyter.widget-view+json": {
       "model_id": "dce221bb95d44061a8d9e7a465fe0f7b",
       "version_major": 2,
       "version_minor": 0
      },
      "text/plain": [
       "Epoch 24/300:   0%|          | 0/7813 [00:00<?, ?it/s]"
      ]
     },
     "metadata": {},
     "output_type": "display_data"
    },
    {
     "name": "stdout",
     "output_type": "stream",
     "text": [
      "Epoch 24 Complete: Avg Total Loss=0.000010158841, Avg MSE=0.000003123699, Avg L1=0.0008794, Avg L0=736.69\n"
     ]
    },
    {
     "data": {
      "application/vnd.jupyter.widget-view+json": {
       "model_id": "109b070549d142c2af56bd947815f13b",
       "version_major": 2,
       "version_minor": 0
      },
      "text/plain": [
       "Epoch 25/300:   0%|          | 0/7813 [00:00<?, ?it/s]"
      ]
     },
     "metadata": {},
     "output_type": "display_data"
    },
    {
     "name": "stdout",
     "output_type": "stream",
     "text": [
      "Epoch 25 Complete: Avg Total Loss=0.000010094282, Avg MSE=0.000003137186, Avg L1=0.0008696, Avg L0=733.67\n"
     ]
    },
    {
     "data": {
      "application/vnd.jupyter.widget-view+json": {
       "model_id": "ab042010bed24dbbaa75a74a09ffe207",
       "version_major": 2,
       "version_minor": 0
      },
      "text/plain": [
       "Epoch 26/300:   0%|          | 0/7813 [00:00<?, ?it/s]"
      ]
     },
     "metadata": {},
     "output_type": "display_data"
    },
    {
     "name": "stdout",
     "output_type": "stream",
     "text": [
      "Epoch 26 Complete: Avg Total Loss=0.000010028765, Avg MSE=0.000003143419, Avg L1=0.0008607, Avg L0=730.93\n"
     ]
    },
    {
     "data": {
      "application/vnd.jupyter.widget-view+json": {
       "model_id": "c54e840b6c564fbb933d86546dcb9a6a",
       "version_major": 2,
       "version_minor": 0
      },
      "text/plain": [
       "Epoch 27/300:   0%|          | 0/7813 [00:00<?, ?it/s]"
      ]
     },
     "metadata": {},
     "output_type": "display_data"
    },
    {
     "name": "stdout",
     "output_type": "stream",
     "text": [
      "Epoch 27 Complete: Avg Total Loss=0.000009951632, Avg MSE=0.000003133583, Avg L1=0.0008523, Avg L0=729.02\n"
     ]
    },
    {
     "data": {
      "application/vnd.jupyter.widget-view+json": {
       "model_id": "6147a65374fb4dbda76954297f430919",
       "version_major": 2,
       "version_minor": 0
      },
      "text/plain": [
       "Epoch 28/300:   0%|          | 0/7813 [00:00<?, ?it/s]"
      ]
     },
     "metadata": {},
     "output_type": "display_data"
    },
    {
     "name": "stdout",
     "output_type": "stream",
     "text": [
      "Epoch 28 Complete: Avg Total Loss=0.000009910145, Avg MSE=0.000003157156, Avg L1=0.0008441, Avg L0=727.55\n"
     ]
    },
    {
     "data": {
      "application/vnd.jupyter.widget-view+json": {
       "model_id": "24bd69bb6f8948e4a09f2cae81655266",
       "version_major": 2,
       "version_minor": 0
      },
      "text/plain": [
       "Epoch 29/300:   0%|          | 0/7813 [00:00<?, ?it/s]"
      ]
     },
     "metadata": {},
     "output_type": "display_data"
    },
    {
     "name": "stdout",
     "output_type": "stream",
     "text": [
      "Epoch 29 Complete: Avg Total Loss=0.000009845898, Avg MSE=0.000003152292, Avg L1=0.0008367, Avg L0=725.55\n"
     ]
    },
    {
     "data": {
      "application/vnd.jupyter.widget-view+json": {
       "model_id": "9898773b6c554274b852acedf6253a68",
       "version_major": 2,
       "version_minor": 0
      },
      "text/plain": [
       "Epoch 30/300:   0%|          | 0/7813 [00:00<?, ?it/s]"
      ]
     },
     "metadata": {},
     "output_type": "display_data"
    },
    {
     "name": "stdout",
     "output_type": "stream",
     "text": [
      "Epoch 30 Complete: Avg Total Loss=0.000009802183, Avg MSE=0.000003164130, Avg L1=0.0008298, Avg L0=723.66\n"
     ]
    },
    {
     "data": {
      "application/vnd.jupyter.widget-view+json": {
       "model_id": "3a92a78d4b8d4a08a9b3aa2ff59f9e42",
       "version_major": 2,
       "version_minor": 0
      },
      "text/plain": [
       "Epoch 31/300:   0%|          | 0/7813 [00:00<?, ?it/s]"
      ]
     },
     "metadata": {},
     "output_type": "display_data"
    },
    {
     "name": "stdout",
     "output_type": "stream",
     "text": [
      "Epoch 31 Complete: Avg Total Loss=0.000009749954, Avg MSE=0.000003163791, Avg L1=0.0008233, Avg L0=722.47\n"
     ]
    },
    {
     "data": {
      "application/vnd.jupyter.widget-view+json": {
       "model_id": "f55f7b1840674cb19c581a7fa1fe5800",
       "version_major": 2,
       "version_minor": 0
      },
      "text/plain": [
       "Epoch 32/300:   0%|          | 0/7813 [00:00<?, ?it/s]"
      ]
     },
     "metadata": {},
     "output_type": "display_data"
    },
    {
     "name": "stdout",
     "output_type": "stream",
     "text": [
      "Epoch 32 Complete: Avg Total Loss=0.000009705634, Avg MSE=0.000003167659, Avg L1=0.0008172, Avg L0=721.02\n"
     ]
    },
    {
     "data": {
      "application/vnd.jupyter.widget-view+json": {
       "model_id": "1a169d7836fe4777aa7dd34e76643c9c",
       "version_major": 2,
       "version_minor": 0
      },
      "text/plain": [
       "Epoch 33/300:   0%|          | 0/7813 [00:00<?, ?it/s]"
      ]
     },
     "metadata": {},
     "output_type": "display_data"
    },
    {
     "name": "stdout",
     "output_type": "stream",
     "text": [
      "Epoch 33 Complete: Avg Total Loss=0.000009680445, Avg MSE=0.000003187978, Avg L1=0.0008116, Avg L0=719.56\n"
     ]
    },
    {
     "data": {
      "application/vnd.jupyter.widget-view+json": {
       "model_id": "f921816856dc4ac5b11d16aaebc4fe4f",
       "version_major": 2,
       "version_minor": 0
      },
      "text/plain": [
       "Epoch 34/300:   0%|          | 0/7813 [00:00<?, ?it/s]"
      ]
     },
     "metadata": {},
     "output_type": "display_data"
    },
    {
     "name": "stdout",
     "output_type": "stream",
     "text": [
      "Epoch 34 Complete: Avg Total Loss=0.000009628917, Avg MSE=0.000003177951, Avg L1=0.0008064, Avg L0=717.80\n"
     ]
    },
    {
     "data": {
      "application/vnd.jupyter.widget-view+json": {
       "model_id": "29d6923612194552b73571199e5986e1",
       "version_major": 2,
       "version_minor": 0
      },
      "text/plain": [
       "Epoch 35/300:   0%|          | 0/7813 [00:00<?, ?it/s]"
      ]
     },
     "metadata": {},
     "output_type": "display_data"
    },
    {
     "name": "stdout",
     "output_type": "stream",
     "text": [
      "Epoch 35 Complete: Avg Total Loss=0.000009601387, Avg MSE=0.000003190005, Avg L1=0.0008014, Avg L0=716.05\n"
     ]
    },
    {
     "data": {
      "application/vnd.jupyter.widget-view+json": {
       "model_id": "bce072e23a224ff19491ca9d405778c1",
       "version_major": 2,
       "version_minor": 0
      },
      "text/plain": [
       "Epoch 36/300:   0%|          | 0/7813 [00:00<?, ?it/s]"
      ]
     },
     "metadata": {},
     "output_type": "display_data"
    },
    {
     "name": "stdout",
     "output_type": "stream",
     "text": [
      "Epoch 36 Complete: Avg Total Loss=0.000009562624, Avg MSE=0.000003187751, Avg L1=0.0007969, Avg L0=714.22\n"
     ]
    },
    {
     "data": {
      "application/vnd.jupyter.widget-view+json": {
       "model_id": "b4fe1d5617704bc59953b003d863993c",
       "version_major": 2,
       "version_minor": 0
      },
      "text/plain": [
       "Epoch 37/300:   0%|          | 0/7813 [00:00<?, ?it/s]"
      ]
     },
     "metadata": {},
     "output_type": "display_data"
    },
    {
     "name": "stdout",
     "output_type": "stream",
     "text": [
      "Epoch 37 Complete: Avg Total Loss=0.000009520461, Avg MSE=0.000003180114, Avg L1=0.0007925, Avg L0=712.29\n"
     ]
    },
    {
     "data": {
      "application/vnd.jupyter.widget-view+json": {
       "model_id": "2c55666bb6944be7a7af84129570708c",
       "version_major": 2,
       "version_minor": 0
      },
      "text/plain": [
       "Epoch 38/300:   0%|          | 0/7813 [00:00<?, ?it/s]"
      ]
     },
     "metadata": {},
     "output_type": "display_data"
    },
    {
     "name": "stdout",
     "output_type": "stream",
     "text": [
      "Epoch 38 Complete: Avg Total Loss=0.000009498475, Avg MSE=0.000003191390, Avg L1=0.0007884, Avg L0=710.71\n"
     ]
    },
    {
     "data": {
      "application/vnd.jupyter.widget-view+json": {
       "model_id": "b84fcf5770c6478eae4fe24cd02a39c7",
       "version_major": 2,
       "version_minor": 0
      },
      "text/plain": [
       "Epoch 39/300:   0%|          | 0/7813 [00:00<?, ?it/s]"
      ]
     },
     "metadata": {},
     "output_type": "display_data"
    },
    {
     "name": "stdout",
     "output_type": "stream",
     "text": [
      "Epoch 39 Complete: Avg Total Loss=0.000009467127, Avg MSE=0.000003191652, Avg L1=0.0007844, Avg L0=709.52\n"
     ]
    },
    {
     "data": {
      "application/vnd.jupyter.widget-view+json": {
       "model_id": "06366bf730084335b15fd294e5041e1a",
       "version_major": 2,
       "version_minor": 0
      },
      "text/plain": [
       "Epoch 40/300:   0%|          | 0/7813 [00:00<?, ?it/s]"
      ]
     },
     "metadata": {},
     "output_type": "display_data"
    },
    {
     "name": "stdout",
     "output_type": "stream",
     "text": [
      "Epoch 40 Complete: Avg Total Loss=0.000009436073, Avg MSE=0.000003190502, Avg L1=0.0007807, Avg L0=708.30\n"
     ]
    },
    {
     "data": {
      "application/vnd.jupyter.widget-view+json": {
       "model_id": "bebca357f4b54653a32f83e53f0bd53f",
       "version_major": 2,
       "version_minor": 0
      },
      "text/plain": [
       "Epoch 41/300:   0%|          | 0/7813 [00:00<?, ?it/s]"
      ]
     },
     "metadata": {},
     "output_type": "display_data"
    },
    {
     "name": "stdout",
     "output_type": "stream",
     "text": [
      "Epoch 41 Complete: Avg Total Loss=0.000009411194, Avg MSE=0.000003193926, Avg L1=0.0007772, Avg L0=707.12\n"
     ]
    },
    {
     "data": {
      "application/vnd.jupyter.widget-view+json": {
       "model_id": "318868f2e9c14daaa8325cc4b1f793b2",
       "version_major": 2,
       "version_minor": 0
      },
      "text/plain": [
       "Epoch 42/300:   0%|          | 0/7813 [00:00<?, ?it/s]"
      ]
     },
     "metadata": {},
     "output_type": "display_data"
    },
    {
     "name": "stdout",
     "output_type": "stream",
     "text": [
      "Epoch 42 Complete: Avg Total Loss=0.000009379498, Avg MSE=0.000003189544, Avg L1=0.0007737, Avg L0=705.94\n"
     ]
    },
    {
     "data": {
      "application/vnd.jupyter.widget-view+json": {
       "model_id": "cdfa2f4c83314d3ea0e7aef6dd0c5600",
       "version_major": 2,
       "version_minor": 0
      },
      "text/plain": [
       "Epoch 43/300:   0%|          | 0/7813 [00:00<?, ?it/s]"
      ]
     },
     "metadata": {},
     "output_type": "display_data"
    },
    {
     "name": "stdout",
     "output_type": "stream",
     "text": [
      "Epoch 43 Complete: Avg Total Loss=0.000009363981, Avg MSE=0.000003199710, Avg L1=0.0007705, Avg L0=704.70\n"
     ]
    },
    {
     "data": {
      "application/vnd.jupyter.widget-view+json": {
       "model_id": "2279bbc223c2405e9891594f78d460ad",
       "version_major": 2,
       "version_minor": 0
      },
      "text/plain": [
       "Epoch 44/300:   0%|          | 0/7813 [00:00<?, ?it/s]"
      ]
     },
     "metadata": {},
     "output_type": "display_data"
    },
    {
     "name": "stdout",
     "output_type": "stream",
     "text": [
      "Epoch 44 Complete: Avg Total Loss=0.000009342489, Avg MSE=0.000003203010, Avg L1=0.0007674, Avg L0=703.71\n"
     ]
    },
    {
     "data": {
      "application/vnd.jupyter.widget-view+json": {
       "model_id": "4575e292e65644f4ba5c88b3864dc89b",
       "version_major": 2,
       "version_minor": 0
      },
      "text/plain": [
       "Epoch 45/300:   0%|          | 0/7813 [00:00<?, ?it/s]"
      ]
     },
     "metadata": {},
     "output_type": "display_data"
    },
    {
     "name": "stdout",
     "output_type": "stream",
     "text": [
      "Epoch 45 Complete: Avg Total Loss=0.000009314295, Avg MSE=0.000003198106, Avg L1=0.0007645, Avg L0=702.70\n"
     ]
    },
    {
     "data": {
      "application/vnd.jupyter.widget-view+json": {
       "model_id": "62b4a95e23c34504aa251dfe383802a8",
       "version_major": 2,
       "version_minor": 0
      },
      "text/plain": [
       "Epoch 46/300:   0%|          | 0/7813 [00:00<?, ?it/s]"
      ]
     },
     "metadata": {},
     "output_type": "display_data"
    },
    {
     "name": "stdout",
     "output_type": "stream",
     "text": [
      "Epoch 46 Complete: Avg Total Loss=0.000009294095, Avg MSE=0.000003201415, Avg L1=0.0007616, Avg L0=702.01\n"
     ]
    },
    {
     "data": {
      "application/vnd.jupyter.widget-view+json": {
       "model_id": "e03648a302ff4ed0bb5e3a81a5f1e273",
       "version_major": 2,
       "version_minor": 0
      },
      "text/plain": [
       "Epoch 47/300:   0%|          | 0/7813 [00:00<?, ?it/s]"
      ]
     },
     "metadata": {},
     "output_type": "display_data"
    },
    {
     "name": "stdout",
     "output_type": "stream",
     "text": [
      "Epoch 47 Complete: Avg Total Loss=0.000009261239, Avg MSE=0.000003189984, Avg L1=0.0007589, Avg L0=701.27\n"
     ]
    },
    {
     "data": {
      "application/vnd.jupyter.widget-view+json": {
       "model_id": "f9d60ce0e5bd44ef947c13d740500572",
       "version_major": 2,
       "version_minor": 0
      },
      "text/plain": [
       "Epoch 48/300:   0%|          | 0/7813 [00:00<?, ?it/s]"
      ]
     },
     "metadata": {},
     "output_type": "display_data"
    },
    {
     "name": "stdout",
     "output_type": "stream",
     "text": [
      "Epoch 48 Complete: Avg Total Loss=0.000009253034, Avg MSE=0.000003202592, Avg L1=0.0007563, Avg L0=700.64\n"
     ]
    },
    {
     "data": {
      "application/vnd.jupyter.widget-view+json": {
       "model_id": "a7adae5b563946eb8a541173b654687c",
       "version_major": 2,
       "version_minor": 0
      },
      "text/plain": [
       "Epoch 49/300:   0%|          | 0/7813 [00:00<?, ?it/s]"
      ]
     },
     "metadata": {},
     "output_type": "display_data"
    },
    {
     "name": "stdout",
     "output_type": "stream",
     "text": [
      "Epoch 49 Complete: Avg Total Loss=0.000009236217, Avg MSE=0.000003205186, Avg L1=0.0007539, Avg L0=699.73\n"
     ]
    },
    {
     "data": {
      "application/vnd.jupyter.widget-view+json": {
       "model_id": "53ed325a19444fb5a41ad193edeb87ba",
       "version_major": 2,
       "version_minor": 0
      },
      "text/plain": [
       "Epoch 50/300:   0%|          | 0/7813 [00:00<?, ?it/s]"
      ]
     },
     "metadata": {},
     "output_type": "display_data"
    },
    {
     "name": "stdout",
     "output_type": "stream",
     "text": [
      "Epoch 50 Complete: Avg Total Loss=0.000009207867, Avg MSE=0.000003196118, Avg L1=0.0007515, Avg L0=699.18\n"
     ]
    },
    {
     "data": {
      "application/vnd.jupyter.widget-view+json": {
       "model_id": "6618e7f03cff4b06972be36e1cd8653e",
       "version_major": 2,
       "version_minor": 0
      },
      "text/plain": [
       "Epoch 51/300:   0%|          | 0/7813 [00:00<?, ?it/s]"
      ]
     },
     "metadata": {},
     "output_type": "display_data"
    },
    {
     "name": "stdout",
     "output_type": "stream",
     "text": [
      "Epoch 51 Complete: Avg Total Loss=0.000009193249, Avg MSE=0.000003200185, Avg L1=0.0007491, Avg L0=698.78\n"
     ]
    },
    {
     "data": {
      "application/vnd.jupyter.widget-view+json": {
       "model_id": "d9ea0c1eb16f498eafefcb92bb970ca3",
       "version_major": 2,
       "version_minor": 0
      },
      "text/plain": [
       "Epoch 52/300:   0%|          | 0/7813 [00:00<?, ?it/s]"
      ]
     },
     "metadata": {},
     "output_type": "display_data"
    },
    {
     "name": "stdout",
     "output_type": "stream",
     "text": [
      "Epoch 52 Complete: Avg Total Loss=0.000009174514, Avg MSE=0.000003199024, Avg L1=0.0007469, Avg L0=698.25\n"
     ]
    },
    {
     "data": {
      "application/vnd.jupyter.widget-view+json": {
       "model_id": "430849d0941b45e1976425e4de1a2d94",
       "version_major": 2,
       "version_minor": 0
      },
      "text/plain": [
       "Epoch 53/300:   0%|          | 0/7813 [00:00<?, ?it/s]"
      ]
     },
     "metadata": {},
     "output_type": "display_data"
    },
    {
     "name": "stdout",
     "output_type": "stream",
     "text": [
      "Epoch 53 Complete: Avg Total Loss=0.000009161954, Avg MSE=0.000003203505, Avg L1=0.0007448, Avg L0=697.39\n"
     ]
    },
    {
     "data": {
      "application/vnd.jupyter.widget-view+json": {
       "model_id": "550682bdb44c4d8a86fd8ebf3a0258d9",
       "version_major": 2,
       "version_minor": 0
      },
      "text/plain": [
       "Epoch 54/300:   0%|          | 0/7813 [00:00<?, ?it/s]"
      ]
     },
     "metadata": {},
     "output_type": "display_data"
    },
    {
     "name": "stdout",
     "output_type": "stream",
     "text": [
      "Epoch 54 Complete: Avg Total Loss=0.000009143444, Avg MSE=0.000003201250, Avg L1=0.0007428, Avg L0=696.46\n"
     ]
    },
    {
     "data": {
      "application/vnd.jupyter.widget-view+json": {
       "model_id": "b37546cf3a1f4da8b40ef412019e2dca",
       "version_major": 2,
       "version_minor": 0
      },
      "text/plain": [
       "Epoch 55/300:   0%|          | 0/7813 [00:00<?, ?it/s]"
      ]
     },
     "metadata": {},
     "output_type": "display_data"
    },
    {
     "name": "stdout",
     "output_type": "stream",
     "text": [
      "Epoch 55 Complete: Avg Total Loss=0.000009125115, Avg MSE=0.000003198231, Avg L1=0.0007409, Avg L0=695.92\n"
     ]
    },
    {
     "data": {
      "application/vnd.jupyter.widget-view+json": {
       "model_id": "f834be16510941d2aef340e3e1d2cc96",
       "version_major": 2,
       "version_minor": 0
      },
      "text/plain": [
       "Epoch 56/300:   0%|          | 0/7813 [00:00<?, ?it/s]"
      ]
     },
     "metadata": {},
     "output_type": "display_data"
    },
    {
     "name": "stdout",
     "output_type": "stream",
     "text": [
      "Epoch 56 Complete: Avg Total Loss=0.000009106121, Avg MSE=0.000003194361, Avg L1=0.0007390, Avg L0=695.56\n"
     ]
    },
    {
     "data": {
      "application/vnd.jupyter.widget-view+json": {
       "model_id": "10909b2a5c304c20bb47cb34be75a4fc",
       "version_major": 2,
       "version_minor": 0
      },
      "text/plain": [
       "Epoch 57/300:   0%|          | 0/7813 [00:00<?, ?it/s]"
      ]
     },
     "metadata": {},
     "output_type": "display_data"
    },
    {
     "name": "stdout",
     "output_type": "stream",
     "text": [
      "Epoch 57 Complete: Avg Total Loss=0.000009099192, Avg MSE=0.000003202201, Avg L1=0.0007371, Avg L0=695.19\n"
     ]
    },
    {
     "data": {
      "application/vnd.jupyter.widget-view+json": {
       "model_id": "091a37285d1049a3b65bead2474b5b55",
       "version_major": 2,
       "version_minor": 0
      },
      "text/plain": [
       "Epoch 58/300:   0%|          | 0/7813 [00:00<?, ?it/s]"
      ]
     },
     "metadata": {},
     "output_type": "display_data"
    },
    {
     "name": "stdout",
     "output_type": "stream",
     "text": [
      "Epoch 58 Complete: Avg Total Loss=0.000009083834, Avg MSE=0.000003201522, Avg L1=0.0007353, Avg L0=694.79\n"
     ]
    },
    {
     "data": {
      "application/vnd.jupyter.widget-view+json": {
       "model_id": "bde865c3b53a425a8dab8c7d32f267c2",
       "version_major": 2,
       "version_minor": 0
      },
      "text/plain": [
       "Epoch 59/300:   0%|          | 0/7813 [00:00<?, ?it/s]"
      ]
     },
     "metadata": {},
     "output_type": "display_data"
    },
    {
     "name": "stdout",
     "output_type": "stream",
     "text": [
      "Epoch 59 Complete: Avg Total Loss=0.000009062914, Avg MSE=0.000003194611, Avg L1=0.0007335, Avg L0=694.27\n"
     ]
    },
    {
     "data": {
      "application/vnd.jupyter.widget-view+json": {
       "model_id": "6a7d051d0b8e4f35ab4d8f62c3d9693c",
       "version_major": 2,
       "version_minor": 0
      },
      "text/plain": [
       "Epoch 60/300:   0%|          | 0/7813 [00:00<?, ?it/s]"
      ]
     },
     "metadata": {},
     "output_type": "display_data"
    },
    {
     "name": "stdout",
     "output_type": "stream",
     "text": [
      "Epoch 60 Complete: Avg Total Loss=0.000009053387, Avg MSE=0.000003197998, Avg L1=0.0007319, Avg L0=693.62\n"
     ]
    },
    {
     "data": {
      "application/vnd.jupyter.widget-view+json": {
       "model_id": "92b8168175434606a32c3edacb364569",
       "version_major": 2,
       "version_minor": 0
      },
      "text/plain": [
       "Epoch 61/300:   0%|          | 0/7813 [00:00<?, ?it/s]"
      ]
     },
     "metadata": {},
     "output_type": "display_data"
    },
    {
     "name": "stdout",
     "output_type": "stream",
     "text": [
      "Epoch 61 Complete: Avg Total Loss=0.000009041890, Avg MSE=0.000003199083, Avg L1=0.0007304, Avg L0=693.23\n"
     ]
    },
    {
     "data": {
      "application/vnd.jupyter.widget-view+json": {
       "model_id": "2dcdff8138b5489e8877fed29fdb7e56",
       "version_major": 2,
       "version_minor": 0
      },
      "text/plain": [
       "Epoch 62/300:   0%|          | 0/7813 [00:00<?, ?it/s]"
      ]
     },
     "metadata": {},
     "output_type": "display_data"
    },
    {
     "name": "stdout",
     "output_type": "stream",
     "text": [
      "Epoch 62 Complete: Avg Total Loss=0.000009020982, Avg MSE=0.000003189839, Avg L1=0.0007289, Avg L0=692.71\n"
     ]
    },
    {
     "data": {
      "application/vnd.jupyter.widget-view+json": {
       "model_id": "ea47b68369c042c6b2c4e6b5b60e23fd",
       "version_major": 2,
       "version_minor": 0
      },
      "text/plain": [
       "Epoch 63/300:   0%|          | 0/7813 [00:00<?, ?it/s]"
      ]
     },
     "metadata": {},
     "output_type": "display_data"
    },
    {
     "name": "stdout",
     "output_type": "stream",
     "text": [
      "Epoch 63 Complete: Avg Total Loss=0.000009016272, Avg MSE=0.000003196655, Avg L1=0.0007275, Avg L0=692.17\n"
     ]
    },
    {
     "data": {
      "application/vnd.jupyter.widget-view+json": {
       "model_id": "98bcd8c19d934f7cac1ceaf3f57e287c",
       "version_major": 2,
       "version_minor": 0
      },
      "text/plain": [
       "Epoch 64/300:   0%|          | 0/7813 [00:00<?, ?it/s]"
      ]
     },
     "metadata": {},
     "output_type": "display_data"
    },
    {
     "name": "stdout",
     "output_type": "stream",
     "text": [
      "Epoch 64 Complete: Avg Total Loss=0.000009011759, Avg MSE=0.000003203216, Avg L1=0.0007261, Avg L0=691.83\n"
     ]
    },
    {
     "data": {
      "application/vnd.jupyter.widget-view+json": {
       "model_id": "9ae12cd849b34dba9ef9485235dc8477",
       "version_major": 2,
       "version_minor": 0
      },
      "text/plain": [
       "Epoch 65/300:   0%|          | 0/7813 [00:00<?, ?it/s]"
      ]
     },
     "metadata": {},
     "output_type": "display_data"
    },
    {
     "name": "stdout",
     "output_type": "stream",
     "text": [
      "Epoch 65 Complete: Avg Total Loss=0.000008986494, Avg MSE=0.000003188496, Avg L1=0.0007247, Avg L0=691.50\n"
     ]
    },
    {
     "data": {
      "application/vnd.jupyter.widget-view+json": {
       "model_id": "4f3ce1dbad6b4e559e1b3b63461da507",
       "version_major": 2,
       "version_minor": 0
      },
      "text/plain": [
       "Epoch 66/300:   0%|          | 0/7813 [00:00<?, ?it/s]"
      ]
     },
     "metadata": {},
     "output_type": "display_data"
    },
    {
     "name": "stdout",
     "output_type": "stream",
     "text": [
      "Epoch 66 Complete: Avg Total Loss=0.000008981171, Avg MSE=0.000003193777, Avg L1=0.0007234, Avg L0=691.15\n"
     ]
    },
    {
     "data": {
      "application/vnd.jupyter.widget-view+json": {
       "model_id": "2bbd3b6063e64352b6f7404e824c49f0",
       "version_major": 2,
       "version_minor": 0
      },
      "text/plain": [
       "Epoch 67/300:   0%|          | 0/7813 [00:00<?, ?it/s]"
      ]
     },
     "metadata": {},
     "output_type": "display_data"
    },
    {
     "name": "stdout",
     "output_type": "stream",
     "text": [
      "Epoch 67 Complete: Avg Total Loss=0.000008964810, Avg MSE=0.000003187277, Avg L1=0.0007222, Avg L0=690.83\n"
     ]
    },
    {
     "data": {
      "application/vnd.jupyter.widget-view+json": {
       "model_id": "0ae6990ccff747dfb2825dcd2b181dba",
       "version_major": 2,
       "version_minor": 0
      },
      "text/plain": [
       "Epoch 68/300:   0%|          | 0/7813 [00:00<?, ?it/s]"
      ]
     },
     "metadata": {},
     "output_type": "display_data"
    },
    {
     "name": "stdout",
     "output_type": "stream",
     "text": [
      "Epoch 68 Complete: Avg Total Loss=0.000008961979, Avg MSE=0.000003194481, Avg L1=0.0007209, Avg L0=690.39\n"
     ]
    },
    {
     "data": {
      "application/vnd.jupyter.widget-view+json": {
       "model_id": "0bd9290f77b8426b8113d5c5b4bda695",
       "version_major": 2,
       "version_minor": 0
      },
      "text/plain": [
       "Epoch 69/300:   0%|          | 0/7813 [00:00<?, ?it/s]"
      ]
     },
     "metadata": {},
     "output_type": "display_data"
    },
    {
     "name": "stdout",
     "output_type": "stream",
     "text": [
      "Epoch 69 Complete: Avg Total Loss=0.000008953419, Avg MSE=0.000003195605, Avg L1=0.0007197, Avg L0=689.95\n"
     ]
    },
    {
     "data": {
      "application/vnd.jupyter.widget-view+json": {
       "model_id": "3c5ab62916b44d7f8b94b8dd0e522b84",
       "version_major": 2,
       "version_minor": 0
      },
      "text/plain": [
       "Epoch 70/300:   0%|          | 0/7813 [00:00<?, ?it/s]"
      ]
     },
     "metadata": {},
     "output_type": "display_data"
    },
    {
     "name": "stdout",
     "output_type": "stream",
     "text": [
      "Epoch 70 Complete: Avg Total Loss=0.000008938746, Avg MSE=0.000003190231, Avg L1=0.0007186, Avg L0=689.44\n"
     ]
    },
    {
     "data": {
      "application/vnd.jupyter.widget-view+json": {
       "model_id": "733c012d0b08434493d4d0c8c25885c0",
       "version_major": 2,
       "version_minor": 0
      },
      "text/plain": [
       "Epoch 71/300:   0%|          | 0/7813 [00:00<?, ?it/s]"
      ]
     },
     "metadata": {},
     "output_type": "display_data"
    },
    {
     "name": "stdout",
     "output_type": "stream",
     "text": [
      "Epoch 71 Complete: Avg Total Loss=0.000008929129, Avg MSE=0.000003189276, Avg L1=0.0007175, Avg L0=689.15\n"
     ]
    },
    {
     "data": {
      "application/vnd.jupyter.widget-view+json": {
       "model_id": "19bc0058cb5549afbb8dc0d6850d8d30",
       "version_major": 2,
       "version_minor": 0
      },
      "text/plain": [
       "Epoch 72/300:   0%|          | 0/7813 [00:00<?, ?it/s]"
      ]
     },
     "metadata": {},
     "output_type": "display_data"
    },
    {
     "name": "stdout",
     "output_type": "stream",
     "text": [
      "Epoch 72 Complete: Avg Total Loss=0.000008928891, Avg MSE=0.000003197934, Avg L1=0.0007164, Avg L0=688.82\n"
     ]
    },
    {
     "data": {
      "application/vnd.jupyter.widget-view+json": {
       "model_id": "4156380fffb04c3da831d974812a8c25",
       "version_major": 2,
       "version_minor": 0
      },
      "text/plain": [
       "Epoch 73/300:   0%|          | 0/7813 [00:00<?, ?it/s]"
      ]
     },
     "metadata": {},
     "output_type": "display_data"
    },
    {
     "name": "stdout",
     "output_type": "stream",
     "text": [
      "Epoch 73 Complete: Avg Total Loss=0.000008910400, Avg MSE=0.000003187337, Avg L1=0.0007154, Avg L0=688.59\n"
     ]
    },
    {
     "data": {
      "application/vnd.jupyter.widget-view+json": {
       "model_id": "cadfd621bb4248468baa119b34b5edbd",
       "version_major": 2,
       "version_minor": 0
      },
      "text/plain": [
       "Epoch 74/300:   0%|          | 0/7813 [00:00<?, ?it/s]"
      ]
     },
     "metadata": {},
     "output_type": "display_data"
    },
    {
     "name": "stdout",
     "output_type": "stream",
     "text": [
      "Epoch 74 Complete: Avg Total Loss=0.000008898994, Avg MSE=0.000003183530, Avg L1=0.0007144, Avg L0=688.30\n"
     ]
    },
    {
     "data": {
      "application/vnd.jupyter.widget-view+json": {
       "model_id": "457ab4df164b42588a0decfb79e275fd",
       "version_major": 2,
       "version_minor": 0
      },
      "text/plain": [
       "Epoch 75/300:   0%|          | 0/7813 [00:00<?, ?it/s]"
      ]
     },
     "metadata": {},
     "output_type": "display_data"
    },
    {
     "name": "stdout",
     "output_type": "stream",
     "text": [
      "Epoch 75 Complete: Avg Total Loss=0.000008897119, Avg MSE=0.000003189608, Avg L1=0.0007134, Avg L0=688.03\n"
     ]
    },
    {
     "data": {
      "application/vnd.jupyter.widget-view+json": {
       "model_id": "93bb0bf5e992446697adf059242eeeda",
       "version_major": 2,
       "version_minor": 0
      },
      "text/plain": [
       "Epoch 76/300:   0%|          | 0/7813 [00:00<?, ?it/s]"
      ]
     },
     "metadata": {},
     "output_type": "display_data"
    },
    {
     "name": "stdout",
     "output_type": "stream",
     "text": [
      "Epoch 76 Complete: Avg Total Loss=0.000008879182, Avg MSE=0.000003179137, Avg L1=0.0007125, Avg L0=687.78\n"
     ]
    },
    {
     "data": {
      "application/vnd.jupyter.widget-view+json": {
       "model_id": "1b01b070822a4bf5b05901f3c4bcc556",
       "version_major": 2,
       "version_minor": 0
      },
      "text/plain": [
       "Epoch 77/300:   0%|          | 0/7813 [00:00<?, ?it/s]"
      ]
     },
     "metadata": {},
     "output_type": "display_data"
    },
    {
     "name": "stdout",
     "output_type": "stream",
     "text": [
      "Epoch 77 Complete: Avg Total Loss=0.000008879621, Avg MSE=0.000003186970, Avg L1=0.0007116, Avg L0=687.48\n"
     ]
    },
    {
     "data": {
      "application/vnd.jupyter.widget-view+json": {
       "model_id": "6ba7fc8eebc6489e8e6011c854e582ec",
       "version_major": 2,
       "version_minor": 0
      },
      "text/plain": [
       "Epoch 78/300:   0%|          | 0/7813 [00:00<?, ?it/s]"
      ]
     },
     "metadata": {},
     "output_type": "display_data"
    },
    {
     "name": "stdout",
     "output_type": "stream",
     "text": [
      "Epoch 78 Complete: Avg Total Loss=0.000008863599, Avg MSE=0.000003177975, Avg L1=0.0007107, Avg L0=687.23\n"
     ]
    },
    {
     "data": {
      "application/vnd.jupyter.widget-view+json": {
       "model_id": "1656efea607a413e8af6d1844bb4d026",
       "version_major": 2,
       "version_minor": 0
      },
      "text/plain": [
       "Epoch 79/300:   0%|          | 0/7813 [00:00<?, ?it/s]"
      ]
     },
     "metadata": {},
     "output_type": "display_data"
    },
    {
     "name": "stdout",
     "output_type": "stream",
     "text": [
      "Epoch 79 Complete: Avg Total Loss=0.000008862283, Avg MSE=0.000003183681, Avg L1=0.0007098, Avg L0=686.87\n"
     ]
    },
    {
     "data": {
      "application/vnd.jupyter.widget-view+json": {
       "model_id": "39d7110c7a26429dad14719746d0563d",
       "version_major": 2,
       "version_minor": 0
      },
      "text/plain": [
       "Epoch 80/300:   0%|          | 0/7813 [00:00<?, ?it/s]"
      ]
     },
     "metadata": {},
     "output_type": "display_data"
    },
    {
     "name": "stdout",
     "output_type": "stream",
     "text": [
      "Epoch 80 Complete: Avg Total Loss=0.000008852982, Avg MSE=0.000003180665, Avg L1=0.0007090, Avg L0=686.40\n"
     ]
    },
    {
     "data": {
      "application/vnd.jupyter.widget-view+json": {
       "model_id": "37ea768f03db44618bf7f16cf9fd86cf",
       "version_major": 2,
       "version_minor": 0
      },
      "text/plain": [
       "Epoch 81/300:   0%|          | 0/7813 [00:00<?, ?it/s]"
      ]
     },
     "metadata": {},
     "output_type": "display_data"
    },
    {
     "name": "stdout",
     "output_type": "stream",
     "text": [
      "Epoch 81 Complete: Avg Total Loss=0.000008850766, Avg MSE=0.000003185099, Avg L1=0.0007082, Avg L0=686.12\n"
     ]
    },
    {
     "data": {
      "application/vnd.jupyter.widget-view+json": {
       "model_id": "9b02852e0d3d4e64a2dfb6775e0af270",
       "version_major": 2,
       "version_minor": 0
      },
      "text/plain": [
       "Epoch 82/300:   0%|          | 0/7813 [00:00<?, ?it/s]"
      ]
     },
     "metadata": {},
     "output_type": "display_data"
    },
    {
     "name": "stdout",
     "output_type": "stream",
     "text": [
      "Epoch 82 Complete: Avg Total Loss=0.000008841060, Avg MSE=0.000003181426, Avg L1=0.0007075, Avg L0=685.87\n"
     ]
    },
    {
     "data": {
      "application/vnd.jupyter.widget-view+json": {
       "model_id": "7b1aa653ac2546c9945d3d6bacd45f77",
       "version_major": 2,
       "version_minor": 0
      },
      "text/plain": [
       "Epoch 83/300:   0%|          | 0/7813 [00:00<?, ?it/s]"
      ]
     },
     "metadata": {},
     "output_type": "display_data"
    },
    {
     "name": "stdout",
     "output_type": "stream",
     "text": [
      "Epoch 83 Complete: Avg Total Loss=0.000008827536, Avg MSE=0.000003173873, Avg L1=0.0007067, Avg L0=685.66\n"
     ]
    },
    {
     "data": {
      "application/vnd.jupyter.widget-view+json": {
       "model_id": "a778239ce39349ae8762c777afa39e95",
       "version_major": 2,
       "version_minor": 0
      },
      "text/plain": [
       "Epoch 84/300:   0%|          | 0/7813 [00:00<?, ?it/s]"
      ]
     },
     "metadata": {},
     "output_type": "display_data"
    },
    {
     "name": "stdout",
     "output_type": "stream",
     "text": [
      "Epoch 84 Complete: Avg Total Loss=0.000008821864, Avg MSE=0.000003174084, Avg L1=0.0007060, Avg L0=685.42\n"
     ]
    },
    {
     "data": {
      "application/vnd.jupyter.widget-view+json": {
       "model_id": "730238c004ea4bb1ac52f53f28642b6e",
       "version_major": 2,
       "version_minor": 0
      },
      "text/plain": [
       "Epoch 85/300:   0%|          | 0/7813 [00:00<?, ?it/s]"
      ]
     },
     "metadata": {},
     "output_type": "display_data"
    },
    {
     "name": "stdout",
     "output_type": "stream",
     "text": [
      "Epoch 85 Complete: Avg Total Loss=0.000008823360, Avg MSE=0.000003181568, Avg L1=0.0007052, Avg L0=685.13\n"
     ]
    },
    {
     "data": {
      "application/vnd.jupyter.widget-view+json": {
       "model_id": "b82f1721ac4046878d57f093cde6f278",
       "version_major": 2,
       "version_minor": 0
      },
      "text/plain": [
       "Epoch 86/300:   0%|          | 0/7813 [00:00<?, ?it/s]"
      ]
     },
     "metadata": {},
     "output_type": "display_data"
    },
    {
     "name": "stdout",
     "output_type": "stream",
     "text": [
      "Epoch 86 Complete: Avg Total Loss=0.000008804752, Avg MSE=0.000003168686, Avg L1=0.0007045, Avg L0=684.96\n"
     ]
    },
    {
     "data": {
      "application/vnd.jupyter.widget-view+json": {
       "model_id": "8dc5ec661bb640b29d19e69b715281df",
       "version_major": 2,
       "version_minor": 0
      },
      "text/plain": [
       "Epoch 87/300:   0%|          | 0/7813 [00:00<?, ?it/s]"
      ]
     },
     "metadata": {},
     "output_type": "display_data"
    },
    {
     "name": "stdout",
     "output_type": "stream",
     "text": [
      "Epoch 87 Complete: Avg Total Loss=0.000008812087, Avg MSE=0.000003181727, Avg L1=0.0007038, Avg L0=684.71\n"
     ]
    },
    {
     "data": {
      "application/vnd.jupyter.widget-view+json": {
       "model_id": "00997ffc281d4799ae46614a1d8829d7",
       "version_major": 2,
       "version_minor": 0
      },
      "text/plain": [
       "Epoch 88/300:   0%|          | 0/7813 [00:00<?, ?it/s]"
      ]
     },
     "metadata": {},
     "output_type": "display_data"
    },
    {
     "name": "stdout",
     "output_type": "stream",
     "text": [
      "Epoch 88 Complete: Avg Total Loss=0.000008791279, Avg MSE=0.000003166127, Avg L1=0.0007031, Avg L0=684.57\n"
     ]
    },
    {
     "data": {
      "application/vnd.jupyter.widget-view+json": {
       "model_id": "325defce8c2d4541bc56775e65ff2e19",
       "version_major": 2,
       "version_minor": 0
      },
      "text/plain": [
       "Epoch 89/300:   0%|          | 0/7813 [00:00<?, ?it/s]"
      ]
     },
     "metadata": {},
     "output_type": "display_data"
    },
    {
     "name": "stdout",
     "output_type": "stream",
     "text": [
      "Epoch 89 Complete: Avg Total Loss=0.000008796979, Avg MSE=0.000003177302, Avg L1=0.0007025, Avg L0=684.28\n"
     ]
    },
    {
     "data": {
      "application/vnd.jupyter.widget-view+json": {
       "model_id": "3f09102d148149e1bff588e21bc115f9",
       "version_major": 2,
       "version_minor": 0
      },
      "text/plain": [
       "Epoch 90/300:   0%|          | 0/7813 [00:00<?, ?it/s]"
      ]
     },
     "metadata": {},
     "output_type": "display_data"
    },
    {
     "name": "stdout",
     "output_type": "stream",
     "text": [
      "Epoch 90 Complete: Avg Total Loss=0.000008787337, Avg MSE=0.000003172578, Avg L1=0.0007018, Avg L0=684.11\n"
     ]
    },
    {
     "data": {
      "application/vnd.jupyter.widget-view+json": {
       "model_id": "d5f60c95336541548a2c4f35dcbd2ead",
       "version_major": 2,
       "version_minor": 0
      },
      "text/plain": [
       "Epoch 91/300:   0%|          | 0/7813 [00:00<?, ?it/s]"
      ]
     },
     "metadata": {},
     "output_type": "display_data"
    },
    {
     "name": "stdout",
     "output_type": "stream",
     "text": [
      "Epoch 91 Complete: Avg Total Loss=0.000008769048, Avg MSE=0.000003159063, Avg L1=0.0007012, Avg L0=683.97\n"
     ]
    },
    {
     "data": {
      "application/vnd.jupyter.widget-view+json": {
       "model_id": "aabf8672d4c443aa88abae39d08a13d6",
       "version_major": 2,
       "version_minor": 0
      },
      "text/plain": [
       "Epoch 92/300:   0%|          | 0/7813 [00:00<?, ?it/s]"
      ]
     },
     "metadata": {},
     "output_type": "display_data"
    },
    {
     "name": "stdout",
     "output_type": "stream",
     "text": [
      "Epoch 92 Complete: Avg Total Loss=0.000008780229, Avg MSE=0.000003175451, Avg L1=0.0007006, Avg L0=683.68\n"
     ]
    },
    {
     "data": {
      "application/vnd.jupyter.widget-view+json": {
       "model_id": "9a7b3ee6a44d4b0cb9e2bd1482ac8a97",
       "version_major": 2,
       "version_minor": 0
      },
      "text/plain": [
       "Epoch 93/300:   0%|          | 0/7813 [00:00<?, ?it/s]"
      ]
     },
     "metadata": {},
     "output_type": "display_data"
    },
    {
     "name": "stdout",
     "output_type": "stream",
     "text": [
      "Epoch 93 Complete: Avg Total Loss=0.000008769996, Avg MSE=0.000003169978, Avg L1=0.0007000, Avg L0=683.52\n"
     ]
    },
    {
     "data": {
      "application/vnd.jupyter.widget-view+json": {
       "model_id": "7ce6d206ffb44c97ac402a649ad66a40",
       "version_major": 2,
       "version_minor": 0
      },
      "text/plain": [
       "Epoch 94/300:   0%|          | 0/7813 [00:00<?, ?it/s]"
      ]
     },
     "metadata": {},
     "output_type": "display_data"
    },
    {
     "name": "stdout",
     "output_type": "stream",
     "text": [
      "Epoch 94 Complete: Avg Total Loss=0.000008753009, Avg MSE=0.000003157508, Avg L1=0.0006994, Avg L0=683.32\n"
     ]
    },
    {
     "data": {
      "application/vnd.jupyter.widget-view+json": {
       "model_id": "4148c66fb9fa4d94813a34e966558989",
       "version_major": 2,
       "version_minor": 0
      },
      "text/plain": [
       "Epoch 95/300:   0%|          | 0/7813 [00:00<?, ?it/s]"
      ]
     },
     "metadata": {},
     "output_type": "display_data"
    },
    {
     "name": "stdout",
     "output_type": "stream",
     "text": [
      "Epoch 95 Complete: Avg Total Loss=0.000008757349, Avg MSE=0.000003166586, Avg L1=0.0006988, Avg L0=683.11\n"
     ]
    },
    {
     "data": {
      "application/vnd.jupyter.widget-view+json": {
       "model_id": "313f62939c2f403b81b4b365f4f5f318",
       "version_major": 2,
       "version_minor": 0
      },
      "text/plain": [
       "Epoch 96/300:   0%|          | 0/7813 [00:00<?, ?it/s]"
      ]
     },
     "metadata": {},
     "output_type": "display_data"
    },
    {
     "name": "stdout",
     "output_type": "stream",
     "text": [
      "Epoch 96 Complete: Avg Total Loss=0.000008752147, Avg MSE=0.000003165919, Avg L1=0.0006983, Avg L0=682.89\n"
     ]
    },
    {
     "data": {
      "application/vnd.jupyter.widget-view+json": {
       "model_id": "6fe3bc1eec824764857bcc8aef95f1af",
       "version_major": 2,
       "version_minor": 0
      },
      "text/plain": [
       "Epoch 97/300:   0%|          | 0/7813 [00:00<?, ?it/s]"
      ]
     },
     "metadata": {},
     "output_type": "display_data"
    },
    {
     "name": "stdout",
     "output_type": "stream",
     "text": [
      "Epoch 97 Complete: Avg Total Loss=0.000008746881, Avg MSE=0.000003164999, Avg L1=0.0006977, Avg L0=682.65\n"
     ]
    },
    {
     "data": {
      "application/vnd.jupyter.widget-view+json": {
       "model_id": "1ff9c31ca36841a5b8c77d9a714fe6ec",
       "version_major": 2,
       "version_minor": 0
      },
      "text/plain": [
       "Epoch 98/300:   0%|          | 0/7813 [00:00<?, ?it/s]"
      ]
     },
     "metadata": {},
     "output_type": "display_data"
    },
    {
     "name": "stdout",
     "output_type": "stream",
     "text": [
      "Epoch 98 Complete: Avg Total Loss=0.000008744671, Avg MSE=0.000003166989, Avg L1=0.0006972, Avg L0=682.44\n"
     ]
    },
    {
     "data": {
      "application/vnd.jupyter.widget-view+json": {
       "model_id": "e4b85c40fdeb4d15aada554e02fe4902",
       "version_major": 2,
       "version_minor": 0
      },
      "text/plain": [
       "Epoch 99/300:   0%|          | 0/7813 [00:00<?, ?it/s]"
      ]
     },
     "metadata": {},
     "output_type": "display_data"
    },
    {
     "name": "stdout",
     "output_type": "stream",
     "text": [
      "Epoch 99 Complete: Avg Total Loss=0.000008733357, Avg MSE=0.000003159731, Avg L1=0.0006967, Avg L0=682.24\n"
     ]
    },
    {
     "data": {
      "application/vnd.jupyter.widget-view+json": {
       "model_id": "b07307e56c3748d9a8e1e3207a49431e",
       "version_major": 2,
       "version_minor": 0
      },
      "text/plain": [
       "Epoch 100/300:   0%|          | 0/7813 [00:00<?, ?it/s]"
      ]
     },
     "metadata": {},
     "output_type": "display_data"
    },
    {
     "name": "stdout",
     "output_type": "stream",
     "text": [
      "Epoch 100 Complete: Avg Total Loss=0.000008726504, Avg MSE=0.000003157182, Avg L1=0.0006962, Avg L0=681.94\n"
     ]
    },
    {
     "data": {
      "application/vnd.jupyter.widget-view+json": {
       "model_id": "32d21f9c0c3545178fc5aa85dfdda0f1",
       "version_major": 2,
       "version_minor": 0
      },
      "text/plain": [
       "Epoch 101/300:   0%|          | 0/7813 [00:00<?, ?it/s]"
      ]
     },
     "metadata": {},
     "output_type": "display_data"
    },
    {
     "name": "stdout",
     "output_type": "stream",
     "text": [
      "Epoch 101 Complete: Avg Total Loss=0.000008726541, Avg MSE=0.000003161096, Avg L1=0.0006957, Avg L0=681.61\n"
     ]
    },
    {
     "data": {
      "application/vnd.jupyter.widget-view+json": {
       "model_id": "25c2215a55874a3ab6ad8d82542c09e1",
       "version_major": 2,
       "version_minor": 0
      },
      "text/plain": [
       "Epoch 102/300:   0%|          | 0/7813 [00:00<?, ?it/s]"
      ]
     },
     "metadata": {},
     "output_type": "display_data"
    },
    {
     "name": "stdout",
     "output_type": "stream",
     "text": [
      "Epoch 102 Complete: Avg Total Loss=0.000008717104, Avg MSE=0.000003155522, Avg L1=0.0006952, Avg L0=681.33\n"
     ]
    },
    {
     "data": {
      "application/vnd.jupyter.widget-view+json": {
       "model_id": "7548ce671df14fae99ee25a0b7462089",
       "version_major": 2,
       "version_minor": 0
      },
      "text/plain": [
       "Epoch 103/300:   0%|          | 0/7813 [00:00<?, ?it/s]"
      ]
     },
     "metadata": {},
     "output_type": "display_data"
    },
    {
     "name": "stdout",
     "output_type": "stream",
     "text": [
      "Epoch 103 Complete: Avg Total Loss=0.000008710137, Avg MSE=0.000003152316, Avg L1=0.0006947, Avg L0=681.22\n"
     ]
    },
    {
     "data": {
      "application/vnd.jupyter.widget-view+json": {
       "model_id": "45a2c9ece70040e29ae33e93aa2ca44d",
       "version_major": 2,
       "version_minor": 0
      },
      "text/plain": [
       "Epoch 104/300:   0%|          | 0/7813 [00:00<?, ?it/s]"
      ]
     },
     "metadata": {},
     "output_type": "display_data"
    },
    {
     "name": "stdout",
     "output_type": "stream",
     "text": [
      "Epoch 104 Complete: Avg Total Loss=0.000008712326, Avg MSE=0.000003158497, Avg L1=0.0006942, Avg L0=681.06\n"
     ]
    },
    {
     "data": {
      "application/vnd.jupyter.widget-view+json": {
       "model_id": "42a9bb41579e499eac3955178292054f",
       "version_major": 2,
       "version_minor": 0
      },
      "text/plain": [
       "Epoch 105/300:   0%|          | 0/7813 [00:00<?, ?it/s]"
      ]
     },
     "metadata": {},
     "output_type": "display_data"
    },
    {
     "name": "stdout",
     "output_type": "stream",
     "text": [
      "Epoch 105 Complete: Avg Total Loss=0.000008702360, Avg MSE=0.000003152138, Avg L1=0.0006938, Avg L0=680.93\n"
     ]
    },
    {
     "data": {
      "application/vnd.jupyter.widget-view+json": {
       "model_id": "12552113e8784beba3c35b7540a18c6c",
       "version_major": 2,
       "version_minor": 0
      },
      "text/plain": [
       "Epoch 106/300:   0%|          | 0/7813 [00:00<?, ?it/s]"
      ]
     },
     "metadata": {},
     "output_type": "display_data"
    },
    {
     "name": "stdout",
     "output_type": "stream",
     "text": [
      "Epoch 106 Complete: Avg Total Loss=0.000008693484, Avg MSE=0.000003147039, Avg L1=0.0006933, Avg L0=680.80\n"
     ]
    },
    {
     "data": {
      "application/vnd.jupyter.widget-view+json": {
       "model_id": "4de09e3092cd4457b606b7051879a574",
       "version_major": 2,
       "version_minor": 0
      },
      "text/plain": [
       "Epoch 107/300:   0%|          | 0/7813 [00:00<?, ?it/s]"
      ]
     },
     "metadata": {},
     "output_type": "display_data"
    },
    {
     "name": "stdout",
     "output_type": "stream",
     "text": [
      "Epoch 107 Complete: Avg Total Loss=0.000008695218, Avg MSE=0.000003152541, Avg L1=0.0006928, Avg L0=680.63\n"
     ]
    },
    {
     "data": {
      "application/vnd.jupyter.widget-view+json": {
       "model_id": "7121df5f78e542c48b64a5f7a97281b4",
       "version_major": 2,
       "version_minor": 0
      },
      "text/plain": [
       "Epoch 108/300:   0%|          | 0/7813 [00:00<?, ?it/s]"
      ]
     },
     "metadata": {},
     "output_type": "display_data"
    },
    {
     "name": "stdout",
     "output_type": "stream",
     "text": [
      "Epoch 108 Complete: Avg Total Loss=0.000008691925, Avg MSE=0.000003152604, Avg L1=0.0006924, Avg L0=680.47\n"
     ]
    },
    {
     "data": {
      "application/vnd.jupyter.widget-view+json": {
       "model_id": "97ef0cbf43d14883ac58a00127bb7c5b",
       "version_major": 2,
       "version_minor": 0
      },
      "text/plain": [
       "Epoch 109/300:   0%|          | 0/7813 [00:00<?, ?it/s]"
      ]
     },
     "metadata": {},
     "output_type": "display_data"
    },
    {
     "name": "stdout",
     "output_type": "stream",
     "text": [
      "Epoch 109 Complete: Avg Total Loss=0.000008682295, Avg MSE=0.000003146423, Avg L1=0.0006920, Avg L0=680.40\n"
     ]
    },
    {
     "data": {
      "application/vnd.jupyter.widget-view+json": {
       "model_id": "f33e0315f4244eb58b283299b9de2164",
       "version_major": 2,
       "version_minor": 0
      },
      "text/plain": [
       "Epoch 110/300:   0%|          | 0/7813 [00:00<?, ?it/s]"
      ]
     },
     "metadata": {},
     "output_type": "display_data"
    },
    {
     "name": "stdout",
     "output_type": "stream",
     "text": [
      "Epoch 110 Complete: Avg Total Loss=0.000008684078, Avg MSE=0.000003151637, Avg L1=0.0006916, Avg L0=680.25\n"
     ]
    },
    {
     "data": {
      "application/vnd.jupyter.widget-view+json": {
       "model_id": "3729e17bd5854084a8fd14fc68087560",
       "version_major": 2,
       "version_minor": 0
      },
      "text/plain": [
       "Epoch 111/300:   0%|          | 0/7813 [00:00<?, ?it/s]"
      ]
     },
     "metadata": {},
     "output_type": "display_data"
    },
    {
     "name": "stdout",
     "output_type": "stream",
     "text": [
      "Epoch 111 Complete: Avg Total Loss=0.000008665998, Avg MSE=0.000003136751, Avg L1=0.0006912, Avg L0=680.15\n"
     ]
    },
    {
     "data": {
      "application/vnd.jupyter.widget-view+json": {
       "model_id": "1f4927dd81f9466b9eeadaeb8f2a7db7",
       "version_major": 2,
       "version_minor": 0
      },
      "text/plain": [
       "Epoch 112/300:   0%|          | 0/7813 [00:00<?, ?it/s]"
      ]
     },
     "metadata": {},
     "output_type": "display_data"
    },
    {
     "name": "stdout",
     "output_type": "stream",
     "text": [
      "Epoch 112 Complete: Avg Total Loss=0.000008680747, Avg MSE=0.000003155153, Avg L1=0.0006907, Avg L0=679.91\n"
     ]
    },
    {
     "data": {
      "application/vnd.jupyter.widget-view+json": {
       "model_id": "97f38c4f7aa14bc9b98a90d313d5cfd0",
       "version_major": 2,
       "version_minor": 0
      },
      "text/plain": [
       "Epoch 113/300:   0%|          | 0/7813 [00:00<?, ?it/s]"
      ]
     },
     "metadata": {},
     "output_type": "display_data"
    },
    {
     "name": "stdout",
     "output_type": "stream",
     "text": [
      "Epoch 113 Complete: Avg Total Loss=0.000008669489, Avg MSE=0.000003146913, Avg L1=0.0006903, Avg L0=679.82\n"
     ]
    },
    {
     "data": {
      "application/vnd.jupyter.widget-view+json": {
       "model_id": "fd09e94652af460582b978407b763340",
       "version_major": 2,
       "version_minor": 0
      },
      "text/plain": [
       "Epoch 114/300:   0%|          | 0/7813 [00:00<?, ?it/s]"
      ]
     },
     "metadata": {},
     "output_type": "display_data"
    },
    {
     "name": "stdout",
     "output_type": "stream",
     "text": [
      "Epoch 114 Complete: Avg Total Loss=0.000008658617, Avg MSE=0.000003138503, Avg L1=0.0006900, Avg L0=679.86\n"
     ]
    },
    {
     "data": {
      "application/vnd.jupyter.widget-view+json": {
       "model_id": "d92b7188ce6441189693b8132b1fd27f",
       "version_major": 2,
       "version_minor": 0
      },
      "text/plain": [
       "Epoch 115/300:   0%|          | 0/7813 [00:00<?, ?it/s]"
      ]
     },
     "metadata": {},
     "output_type": "display_data"
    },
    {
     "name": "stdout",
     "output_type": "stream",
     "text": [
      "Epoch 115 Complete: Avg Total Loss=0.000008660606, Avg MSE=0.000003143426, Avg L1=0.0006896, Avg L0=680.02\n"
     ]
    },
    {
     "data": {
      "application/vnd.jupyter.widget-view+json": {
       "model_id": "2d3b9c026d6f4eafa4181d99c57adc74",
       "version_major": 2,
       "version_minor": 0
      },
      "text/plain": [
       "Epoch 116/300:   0%|          | 0/7813 [00:00<?, ?it/s]"
      ]
     },
     "metadata": {},
     "output_type": "display_data"
    },
    {
     "name": "stdout",
     "output_type": "stream",
     "text": [
      "Epoch 116 Complete: Avg Total Loss=0.000008659912, Avg MSE=0.000003146127, Avg L1=0.0006892, Avg L0=679.75\n"
     ]
    },
    {
     "data": {
      "application/vnd.jupyter.widget-view+json": {
       "model_id": "78b35a480cc94271ace81b5e95211cbd",
       "version_major": 2,
       "version_minor": 0
      },
      "text/plain": [
       "Epoch 117/300:   0%|          | 0/7813 [00:00<?, ?it/s]"
      ]
     },
     "metadata": {},
     "output_type": "display_data"
    },
    {
     "name": "stdout",
     "output_type": "stream",
     "text": [
      "Epoch 117 Complete: Avg Total Loss=0.000008646249, Avg MSE=0.000003135160, Avg L1=0.0006889, Avg L0=679.64\n"
     ]
    },
    {
     "data": {
      "application/vnd.jupyter.widget-view+json": {
       "model_id": "9fc2f493758640d2bc4f9c54f6c4ec7b",
       "version_major": 2,
       "version_minor": 0
      },
      "text/plain": [
       "Epoch 118/300:   0%|          | 0/7813 [00:00<?, ?it/s]"
      ]
     },
     "metadata": {},
     "output_type": "display_data"
    },
    {
     "name": "stdout",
     "output_type": "stream",
     "text": [
      "Epoch 118 Complete: Avg Total Loss=0.000008641429, Avg MSE=0.000003133463, Avg L1=0.0006885, Avg L0=679.52\n"
     ]
    },
    {
     "data": {
      "application/vnd.jupyter.widget-view+json": {
       "model_id": "3f270b7d27104a149722201e46027344",
       "version_major": 2,
       "version_minor": 0
      },
      "text/plain": [
       "Epoch 119/300:   0%|          | 0/7813 [00:00<?, ?it/s]"
      ]
     },
     "metadata": {},
     "output_type": "display_data"
    },
    {
     "name": "stdout",
     "output_type": "stream",
     "text": [
      "Epoch 119 Complete: Avg Total Loss=0.000008648241, Avg MSE=0.000003143500, Avg L1=0.0006881, Avg L0=679.32\n"
     ]
    },
    {
     "data": {
      "application/vnd.jupyter.widget-view+json": {
       "model_id": "9a55b6cdc9114ed4990eeff97527af4b",
       "version_major": 2,
       "version_minor": 0
      },
      "text/plain": [
       "Epoch 120/300:   0%|          | 0/7813 [00:00<?, ?it/s]"
      ]
     },
     "metadata": {},
     "output_type": "display_data"
    },
    {
     "name": "stdout",
     "output_type": "stream",
     "text": [
      "Epoch 120 Complete: Avg Total Loss=0.000008632201, Avg MSE=0.000003130219, Avg L1=0.0006877, Avg L0=679.26\n"
     ]
    },
    {
     "data": {
      "application/vnd.jupyter.widget-view+json": {
       "model_id": "8d1a7bf982f24274a6505326c3bb108c",
       "version_major": 2,
       "version_minor": 0
      },
      "text/plain": [
       "Epoch 121/300:   0%|          | 0/7813 [00:00<?, ?it/s]"
      ]
     },
     "metadata": {},
     "output_type": "display_data"
    },
    {
     "name": "stdout",
     "output_type": "stream",
     "text": [
      "Epoch 121 Complete: Avg Total Loss=0.000008642258, Avg MSE=0.000003143399, Avg L1=0.0006874, Avg L0=679.02\n"
     ]
    },
    {
     "data": {
      "application/vnd.jupyter.widget-view+json": {
       "model_id": "d32a0c29d86a438390f482bbbef31bc0",
       "version_major": 2,
       "version_minor": 0
      },
      "text/plain": [
       "Epoch 122/300:   0%|          | 0/7813 [00:00<?, ?it/s]"
      ]
     },
     "metadata": {},
     "output_type": "display_data"
    },
    {
     "name": "stdout",
     "output_type": "stream",
     "text": [
      "Epoch 122 Complete: Avg Total Loss=0.000008627846, Avg MSE=0.000003131695, Avg L1=0.0006870, Avg L0=678.92\n"
     ]
    },
    {
     "data": {
      "application/vnd.jupyter.widget-view+json": {
       "model_id": "c2260bf6462c4f6e9d884e63bacce996",
       "version_major": 2,
       "version_minor": 0
      },
      "text/plain": [
       "Epoch 123/300:   0%|          | 0/7813 [00:00<?, ?it/s]"
      ]
     },
     "metadata": {},
     "output_type": "display_data"
    },
    {
     "name": "stdout",
     "output_type": "stream",
     "text": [
      "Epoch 123 Complete: Avg Total Loss=0.000008631279, Avg MSE=0.000003137835, Avg L1=0.0006867, Avg L0=678.77\n"
     ]
    },
    {
     "data": {
      "application/vnd.jupyter.widget-view+json": {
       "model_id": "da13beb414c148b89addc33659f52c81",
       "version_major": 2,
       "version_minor": 0
      },
      "text/plain": [
       "Epoch 124/300:   0%|          | 0/7813 [00:00<?, ?it/s]"
      ]
     },
     "metadata": {},
     "output_type": "display_data"
    },
    {
     "name": "stdout",
     "output_type": "stream",
     "text": [
      "Epoch 124 Complete: Avg Total Loss=0.000008621965, Avg MSE=0.000003131176, Avg L1=0.0006863, Avg L0=678.67\n"
     ]
    },
    {
     "data": {
      "application/vnd.jupyter.widget-view+json": {
       "model_id": "ec1290dae3bd4e2bb8fba4ca5fb60057",
       "version_major": 2,
       "version_minor": 0
      },
      "text/plain": [
       "Epoch 125/300:   0%|          | 0/7813 [00:00<?, ?it/s]"
      ]
     },
     "metadata": {},
     "output_type": "display_data"
    },
    {
     "name": "stdout",
     "output_type": "stream",
     "text": [
      "Epoch 125 Complete: Avg Total Loss=0.000008624501, Avg MSE=0.000003136496, Avg L1=0.0006860, Avg L0=678.54\n"
     ]
    },
    {
     "data": {
      "application/vnd.jupyter.widget-view+json": {
       "model_id": "1cd9e2b9a31a4949be45335f4f3a8875",
       "version_major": 2,
       "version_minor": 0
      },
      "text/plain": [
       "Epoch 126/300:   0%|          | 0/7813 [00:00<?, ?it/s]"
      ]
     },
     "metadata": {},
     "output_type": "display_data"
    },
    {
     "name": "stdout",
     "output_type": "stream",
     "text": [
      "Epoch 126 Complete: Avg Total Loss=0.000008613019, Avg MSE=0.000003127378, Avg L1=0.0006857, Avg L0=678.46\n"
     ]
    },
    {
     "data": {
      "application/vnd.jupyter.widget-view+json": {
       "model_id": "ded787deefdc4882be67df001d8b90b4",
       "version_major": 2,
       "version_minor": 0
      },
      "text/plain": [
       "Epoch 127/300:   0%|          | 0/7813 [00:00<?, ?it/s]"
      ]
     },
     "metadata": {},
     "output_type": "display_data"
    },
    {
     "name": "stdout",
     "output_type": "stream",
     "text": [
      "Epoch 127 Complete: Avg Total Loss=0.000008611123, Avg MSE=0.000003128220, Avg L1=0.0006854, Avg L0=678.30\n"
     ]
    },
    {
     "data": {
      "application/vnd.jupyter.widget-view+json": {
       "model_id": "db1c84e4e98041839feb849742f7a327",
       "version_major": 2,
       "version_minor": 0
      },
      "text/plain": [
       "Epoch 128/300:   0%|          | 0/7813 [00:00<?, ?it/s]"
      ]
     },
     "metadata": {},
     "output_type": "display_data"
    },
    {
     "name": "stdout",
     "output_type": "stream",
     "text": [
      "Epoch 128 Complete: Avg Total Loss=0.000008613224, Avg MSE=0.000003132906, Avg L1=0.0006850, Avg L0=678.19\n"
     ]
    },
    {
     "data": {
      "application/vnd.jupyter.widget-view+json": {
       "model_id": "74f36ec50fad479c9d71d434d2946392",
       "version_major": 2,
       "version_minor": 0
      },
      "text/plain": [
       "Epoch 129/300:   0%|          | 0/7813 [00:00<?, ?it/s]"
      ]
     },
     "metadata": {},
     "output_type": "display_data"
    },
    {
     "name": "stdout",
     "output_type": "stream",
     "text": [
      "Epoch 129 Complete: Avg Total Loss=0.000008602778, Avg MSE=0.000003124854, Avg L1=0.0006847, Avg L0=678.14\n"
     ]
    },
    {
     "data": {
      "application/vnd.jupyter.widget-view+json": {
       "model_id": "454eea81db40456d8d8f33c94907db25",
       "version_major": 2,
       "version_minor": 0
      },
      "text/plain": [
       "Epoch 130/300:   0%|          | 0/7813 [00:00<?, ?it/s]"
      ]
     },
     "metadata": {},
     "output_type": "display_data"
    },
    {
     "name": "stdout",
     "output_type": "stream",
     "text": [
      "Epoch 130 Complete: Avg Total Loss=0.000008610989, Avg MSE=0.000003135732, Avg L1=0.0006844, Avg L0=677.99\n"
     ]
    },
    {
     "data": {
      "application/vnd.jupyter.widget-view+json": {
       "model_id": "73dbbf860e7d4ebbaa3e793b99cf3240",
       "version_major": 2,
       "version_minor": 0
      },
      "text/plain": [
       "Epoch 131/300:   0%|          | 0/7813 [00:00<?, ?it/s]"
      ]
     },
     "metadata": {},
     "output_type": "display_data"
    },
    {
     "name": "stdout",
     "output_type": "stream",
     "text": [
      "Epoch 131 Complete: Avg Total Loss=0.000008606616, Avg MSE=0.000003133873, Avg L1=0.0006841, Avg L0=677.88\n"
     ]
    },
    {
     "data": {
      "application/vnd.jupyter.widget-view+json": {
       "model_id": "de52bc93d9c14c4fa5ef232e537a95ef",
       "version_major": 2,
       "version_minor": 0
      },
      "text/plain": [
       "Epoch 132/300:   0%|          | 0/7813 [00:00<?, ?it/s]"
      ]
     },
     "metadata": {},
     "output_type": "display_data"
    },
    {
     "name": "stdout",
     "output_type": "stream",
     "text": [
      "Epoch 132 Complete: Avg Total Loss=0.000008587617, Avg MSE=0.000003117228, Avg L1=0.0006838, Avg L0=677.83\n"
     ]
    },
    {
     "data": {
      "application/vnd.jupyter.widget-view+json": {
       "model_id": "59a462ec6f3b48efa5a62283bfabf501",
       "version_major": 2,
       "version_minor": 0
      },
      "text/plain": [
       "Epoch 133/300:   0%|          | 0/7813 [00:00<?, ?it/s]"
      ]
     },
     "metadata": {},
     "output_type": "display_data"
    },
    {
     "name": "stdout",
     "output_type": "stream",
     "text": [
      "Epoch 133 Complete: Avg Total Loss=0.000008596486, Avg MSE=0.000003129215, Avg L1=0.0006834, Avg L0=677.69\n"
     ]
    },
    {
     "data": {
      "application/vnd.jupyter.widget-view+json": {
       "model_id": "f3e5fd22810148e08d0a362df7cfbc91",
       "version_major": 2,
       "version_minor": 0
      },
      "text/plain": [
       "Epoch 134/300:   0%|          | 0/7813 [00:00<?, ?it/s]"
      ]
     },
     "metadata": {},
     "output_type": "display_data"
    },
    {
     "name": "stdout",
     "output_type": "stream",
     "text": [
      "Epoch 134 Complete: Avg Total Loss=0.000008589962, Avg MSE=0.000003125932, Avg L1=0.0006830, Avg L0=677.60\n"
     ]
    },
    {
     "data": {
      "application/vnd.jupyter.widget-view+json": {
       "model_id": "44b5dcfdaa1d4ea3a482d6dfb53b0ea7",
       "version_major": 2,
       "version_minor": 0
      },
      "text/plain": [
       "Epoch 135/300:   0%|          | 0/7813 [00:00<?, ?it/s]"
      ]
     },
     "metadata": {},
     "output_type": "display_data"
    },
    {
     "name": "stdout",
     "output_type": "stream",
     "text": [
      "Epoch 135 Complete: Avg Total Loss=0.000008574712, Avg MSE=0.000003113325, Avg L1=0.0006827, Avg L0=677.52\n"
     ]
    },
    {
     "data": {
      "application/vnd.jupyter.widget-view+json": {
       "model_id": "ff0dd2bd3bf14050a2b3b579e8652b3c",
       "version_major": 2,
       "version_minor": 0
      },
      "text/plain": [
       "Epoch 136/300:   0%|          | 0/7813 [00:00<?, ?it/s]"
      ]
     },
     "metadata": {},
     "output_type": "display_data"
    },
    {
     "name": "stdout",
     "output_type": "stream",
     "text": [
      "Epoch 136 Complete: Avg Total Loss=0.000008578503, Avg MSE=0.000003119935, Avg L1=0.0006823, Avg L0=677.40\n"
     ]
    },
    {
     "data": {
      "application/vnd.jupyter.widget-view+json": {
       "model_id": "7287def294cc4fd4972913b6cd318945",
       "version_major": 2,
       "version_minor": 0
      },
      "text/plain": [
       "Epoch 137/300:   0%|          | 0/7813 [00:00<?, ?it/s]"
      ]
     },
     "metadata": {},
     "output_type": "display_data"
    },
    {
     "name": "stdout",
     "output_type": "stream",
     "text": [
      "Epoch 137 Complete: Avg Total Loss=0.000008579620, Avg MSE=0.000003123474, Avg L1=0.0006820, Avg L0=677.28\n"
     ]
    },
    {
     "data": {
      "application/vnd.jupyter.widget-view+json": {
       "model_id": "f8a43e3866de4375883e38fdf2d8f13b",
       "version_major": 2,
       "version_minor": 0
      },
      "text/plain": [
       "Epoch 138/300:   0%|          | 0/7813 [00:00<?, ?it/s]"
      ]
     },
     "metadata": {},
     "output_type": "display_data"
    },
    {
     "name": "stdout",
     "output_type": "stream",
     "text": [
      "Epoch 138 Complete: Avg Total Loss=0.000008569308, Avg MSE=0.000003115941, Avg L1=0.0006817, Avg L0=677.13\n"
     ]
    },
    {
     "data": {
      "application/vnd.jupyter.widget-view+json": {
       "model_id": "cbe82fe08eff43d69dc860d5e239fdd1",
       "version_major": 2,
       "version_minor": 0
      },
      "text/plain": [
       "Epoch 139/300:   0%|          | 0/7813 [00:00<?, ?it/s]"
      ]
     },
     "metadata": {},
     "output_type": "display_data"
    },
    {
     "name": "stdout",
     "output_type": "stream",
     "text": [
      "Epoch 139 Complete: Avg Total Loss=0.000008563737, Avg MSE=0.000003112330, Avg L1=0.0006814, Avg L0=677.12\n"
     ]
    },
    {
     "data": {
      "application/vnd.jupyter.widget-view+json": {
       "model_id": "5ec74919405747d386a276377f313dda",
       "version_major": 2,
       "version_minor": 0
      },
      "text/plain": [
       "Epoch 140/300:   0%|          | 0/7813 [00:00<?, ?it/s]"
      ]
     },
     "metadata": {},
     "output_type": "display_data"
    },
    {
     "name": "stdout",
     "output_type": "stream",
     "text": [
      "Epoch 140 Complete: Avg Total Loss=0.000008568938, Avg MSE=0.000003120149, Avg L1=0.0006811, Avg L0=676.95\n"
     ]
    },
    {
     "data": {
      "application/vnd.jupyter.widget-view+json": {
       "model_id": "48958d50677d4244ae3b39be2a113eac",
       "version_major": 2,
       "version_minor": 0
      },
      "text/plain": [
       "Epoch 141/300:   0%|          | 0/7813 [00:00<?, ?it/s]"
      ]
     },
     "metadata": {},
     "output_type": "display_data"
    },
    {
     "name": "stdout",
     "output_type": "stream",
     "text": [
      "Epoch 141 Complete: Avg Total Loss=0.000008557281, Avg MSE=0.000003110718, Avg L1=0.0006808, Avg L0=676.88\n"
     ]
    },
    {
     "data": {
      "application/vnd.jupyter.widget-view+json": {
       "model_id": "249c8b6b671045f593a88bab284c3ed0",
       "version_major": 2,
       "version_minor": 0
      },
      "text/plain": [
       "Epoch 142/300:   0%|          | 0/7813 [00:00<?, ?it/s]"
      ]
     },
     "metadata": {},
     "output_type": "display_data"
    },
    {
     "name": "stdout",
     "output_type": "stream",
     "text": [
      "Epoch 142 Complete: Avg Total Loss=0.000008554187, Avg MSE=0.000003109782, Avg L1=0.0006806, Avg L0=676.83\n"
     ]
    },
    {
     "data": {
      "application/vnd.jupyter.widget-view+json": {
       "model_id": "6f8526ba7fa04fe39f94149ce93eaf7a",
       "version_major": 2,
       "version_minor": 0
      },
      "text/plain": [
       "Epoch 143/300:   0%|          | 0/7813 [00:00<?, ?it/s]"
      ]
     },
     "metadata": {},
     "output_type": "display_data"
    },
    {
     "name": "stdout",
     "output_type": "stream",
     "text": [
      "Epoch 143 Complete: Avg Total Loss=0.000008560175, Avg MSE=0.000003118106, Avg L1=0.0006803, Avg L0=676.74\n"
     ]
    },
    {
     "data": {
      "application/vnd.jupyter.widget-view+json": {
       "model_id": "6b546d6314664530b3d786ba42fd6de3",
       "version_major": 2,
       "version_minor": 0
      },
      "text/plain": [
       "Epoch 144/300:   0%|          | 0/7813 [00:00<?, ?it/s]"
      ]
     },
     "metadata": {},
     "output_type": "display_data"
    },
    {
     "name": "stdout",
     "output_type": "stream",
     "text": [
      "Epoch 144 Complete: Avg Total Loss=0.000008546610, Avg MSE=0.000003106616, Avg L1=0.0006800, Avg L0=676.68\n"
     ]
    },
    {
     "data": {
      "application/vnd.jupyter.widget-view+json": {
       "model_id": "2aa636ba332749b68e57f7141215eee6",
       "version_major": 2,
       "version_minor": 0
      },
      "text/plain": [
       "Epoch 145/300:   0%|          | 0/7813 [00:00<?, ?it/s]"
      ]
     },
     "metadata": {},
     "output_type": "display_data"
    },
    {
     "name": "stdout",
     "output_type": "stream",
     "text": [
      "Epoch 145 Complete: Avg Total Loss=0.000008544620, Avg MSE=0.000003106944, Avg L1=0.0006797, Avg L0=676.59\n"
     ]
    },
    {
     "data": {
      "application/vnd.jupyter.widget-view+json": {
       "model_id": "7c933e4e39ee4b96b681dd022ba65074",
       "version_major": 2,
       "version_minor": 0
      },
      "text/plain": [
       "Epoch 146/300:   0%|          | 0/7813 [00:00<?, ?it/s]"
      ]
     },
     "metadata": {},
     "output_type": "display_data"
    },
    {
     "name": "stdout",
     "output_type": "stream",
     "text": [
      "Epoch 146 Complete: Avg Total Loss=0.000008543373, Avg MSE=0.000003107956, Avg L1=0.0006794, Avg L0=676.49\n"
     ]
    },
    {
     "data": {
      "application/vnd.jupyter.widget-view+json": {
       "model_id": "df156445ac7242c1b9c91d1bb6d04ff0",
       "version_major": 2,
       "version_minor": 0
      },
      "text/plain": [
       "Epoch 147/300:   0%|          | 0/7813 [00:00<?, ?it/s]"
      ]
     },
     "metadata": {},
     "output_type": "display_data"
    },
    {
     "name": "stdout",
     "output_type": "stream",
     "text": [
      "Epoch 147 Complete: Avg Total Loss=0.000008544741, Avg MSE=0.000003111602, Avg L1=0.0006791, Avg L0=676.39\n"
     ]
    },
    {
     "data": {
      "application/vnd.jupyter.widget-view+json": {
       "model_id": "acd71e52438d41f5a9a0fa3a9f9e61b0",
       "version_major": 2,
       "version_minor": 0
      },
      "text/plain": [
       "Epoch 148/300:   0%|          | 0/7813 [00:00<?, ?it/s]"
      ]
     },
     "metadata": {},
     "output_type": "display_data"
    },
    {
     "ename": "KeyboardInterrupt",
     "evalue": "",
     "output_type": "error",
     "traceback": [
      "\u001b[0;31m---------------------------------------------------------------------------\u001b[0m",
      "\u001b[0;31mKeyboardInterrupt\u001b[0m                         Traceback (most recent call last)",
      "Cell \u001b[0;32mIn[13], line 12\u001b[0m\n\u001b[1;32m      9\u001b[0m epoch_l0_norm \u001b[38;5;241m=\u001b[39m \u001b[38;5;241m0\u001b[39m \u001b[38;5;66;03m# Track average number of non-zero features\u001b[39;00m\n\u001b[1;32m     11\u001b[0m pbar_train \u001b[38;5;241m=\u001b[39m tqdm(activation_loader, desc\u001b[38;5;241m=\u001b[39m\u001b[38;5;124mf\u001b[39m\u001b[38;5;124m\"\u001b[39m\u001b[38;5;124mEpoch \u001b[39m\u001b[38;5;132;01m{\u001b[39;00mepoch\u001b[38;5;241m+\u001b[39m\u001b[38;5;241m1\u001b[39m\u001b[38;5;132;01m}\u001b[39;00m\u001b[38;5;124m/\u001b[39m\u001b[38;5;132;01m{\u001b[39;00mNUM_EPOCHS\u001b[38;5;132;01m}\u001b[39;00m\u001b[38;5;124m\"\u001b[39m, leave\u001b[38;5;241m=\u001b[39m\u001b[38;5;28;01mFalse\u001b[39;00m)\n\u001b[0;32m---> 12\u001b[0m \u001b[38;5;28;01mfor\u001b[39;00m i, batch \u001b[38;5;129;01min\u001b[39;00m \u001b[38;5;28menumerate\u001b[39m(pbar_train):\n\u001b[1;32m     13\u001b[0m     \u001b[38;5;66;03m# Batch is a list containing one tensor: the activations\u001b[39;00m\n\u001b[1;32m     14\u001b[0m     original_acts \u001b[38;5;241m=\u001b[39m batch[\u001b[38;5;241m0\u001b[39m]\u001b[38;5;241m.\u001b[39mto(device)\n\u001b[1;32m     16\u001b[0m     encoded, decoded \u001b[38;5;241m=\u001b[39m sae_model(original_acts)\n",
      "File \u001b[0;32m~/Documents/mechanistic-interpretability/env/lib/python3.10/site-packages/tqdm/notebook.py:250\u001b[0m, in \u001b[0;36mtqdm_notebook.__iter__\u001b[0;34m(self)\u001b[0m\n\u001b[1;32m    248\u001b[0m \u001b[38;5;28;01mtry\u001b[39;00m:\n\u001b[1;32m    249\u001b[0m     it \u001b[38;5;241m=\u001b[39m \u001b[38;5;28msuper\u001b[39m()\u001b[38;5;241m.\u001b[39m\u001b[38;5;21m__iter__\u001b[39m()\n\u001b[0;32m--> 250\u001b[0m     \u001b[38;5;28;01mfor\u001b[39;00m obj \u001b[38;5;129;01min\u001b[39;00m it:\n\u001b[1;32m    251\u001b[0m         \u001b[38;5;66;03m# return super(tqdm...) will not catch exception\u001b[39;00m\n\u001b[1;32m    252\u001b[0m         \u001b[38;5;28;01myield\u001b[39;00m obj\n\u001b[1;32m    253\u001b[0m \u001b[38;5;66;03m# NB: except ... [ as ...] breaks IPython async KeyboardInterrupt\u001b[39;00m\n",
      "File \u001b[0;32m~/Documents/mechanistic-interpretability/env/lib/python3.10/site-packages/tqdm/std.py:1181\u001b[0m, in \u001b[0;36mtqdm.__iter__\u001b[0;34m(self)\u001b[0m\n\u001b[1;32m   1178\u001b[0m time \u001b[38;5;241m=\u001b[39m \u001b[38;5;28mself\u001b[39m\u001b[38;5;241m.\u001b[39m_time\n\u001b[1;32m   1180\u001b[0m \u001b[38;5;28;01mtry\u001b[39;00m:\n\u001b[0;32m-> 1181\u001b[0m     \u001b[38;5;28;01mfor\u001b[39;00m obj \u001b[38;5;129;01min\u001b[39;00m iterable:\n\u001b[1;32m   1182\u001b[0m         \u001b[38;5;28;01myield\u001b[39;00m obj\n\u001b[1;32m   1183\u001b[0m         \u001b[38;5;66;03m# Update and possibly print the progressbar.\u001b[39;00m\n\u001b[1;32m   1184\u001b[0m         \u001b[38;5;66;03m# Note: does not call self.update(1) for speed optimisation.\u001b[39;00m\n",
      "File \u001b[0;32m~/Documents/mechanistic-interpretability/env/lib/python3.10/site-packages/torch/utils/data/dataloader.py:708\u001b[0m, in \u001b[0;36m_BaseDataLoaderIter.__next__\u001b[0;34m(self)\u001b[0m\n\u001b[1;32m    705\u001b[0m \u001b[38;5;28;01mif\u001b[39;00m \u001b[38;5;28mself\u001b[39m\u001b[38;5;241m.\u001b[39m_sampler_iter \u001b[38;5;129;01mis\u001b[39;00m \u001b[38;5;28;01mNone\u001b[39;00m:\n\u001b[1;32m    706\u001b[0m     \u001b[38;5;66;03m# TODO(https://github.com/pytorch/pytorch/issues/76750)\u001b[39;00m\n\u001b[1;32m    707\u001b[0m     \u001b[38;5;28mself\u001b[39m\u001b[38;5;241m.\u001b[39m_reset()  \u001b[38;5;66;03m# type: ignore[call-arg]\u001b[39;00m\n\u001b[0;32m--> 708\u001b[0m data \u001b[38;5;241m=\u001b[39m \u001b[38;5;28;43mself\u001b[39;49m\u001b[38;5;241;43m.\u001b[39;49m\u001b[43m_next_data\u001b[49m\u001b[43m(\u001b[49m\u001b[43m)\u001b[49m\n\u001b[1;32m    709\u001b[0m \u001b[38;5;28mself\u001b[39m\u001b[38;5;241m.\u001b[39m_num_yielded \u001b[38;5;241m+\u001b[39m\u001b[38;5;241m=\u001b[39m \u001b[38;5;241m1\u001b[39m\n\u001b[1;32m    710\u001b[0m \u001b[38;5;28;01mif\u001b[39;00m (\n\u001b[1;32m    711\u001b[0m     \u001b[38;5;28mself\u001b[39m\u001b[38;5;241m.\u001b[39m_dataset_kind \u001b[38;5;241m==\u001b[39m _DatasetKind\u001b[38;5;241m.\u001b[39mIterable\n\u001b[1;32m    712\u001b[0m     \u001b[38;5;129;01mand\u001b[39;00m \u001b[38;5;28mself\u001b[39m\u001b[38;5;241m.\u001b[39m_IterableDataset_len_called \u001b[38;5;129;01mis\u001b[39;00m \u001b[38;5;129;01mnot\u001b[39;00m \u001b[38;5;28;01mNone\u001b[39;00m\n\u001b[1;32m    713\u001b[0m     \u001b[38;5;129;01mand\u001b[39;00m \u001b[38;5;28mself\u001b[39m\u001b[38;5;241m.\u001b[39m_num_yielded \u001b[38;5;241m>\u001b[39m \u001b[38;5;28mself\u001b[39m\u001b[38;5;241m.\u001b[39m_IterableDataset_len_called\n\u001b[1;32m    714\u001b[0m ):\n",
      "File \u001b[0;32m~/Documents/mechanistic-interpretability/env/lib/python3.10/site-packages/torch/utils/data/dataloader.py:764\u001b[0m, in \u001b[0;36m_SingleProcessDataLoaderIter._next_data\u001b[0;34m(self)\u001b[0m\n\u001b[1;32m    762\u001b[0m \u001b[38;5;28;01mdef\u001b[39;00m\u001b[38;5;250m \u001b[39m\u001b[38;5;21m_next_data\u001b[39m(\u001b[38;5;28mself\u001b[39m):\n\u001b[1;32m    763\u001b[0m     index \u001b[38;5;241m=\u001b[39m \u001b[38;5;28mself\u001b[39m\u001b[38;5;241m.\u001b[39m_next_index()  \u001b[38;5;66;03m# may raise StopIteration\u001b[39;00m\n\u001b[0;32m--> 764\u001b[0m     data \u001b[38;5;241m=\u001b[39m \u001b[38;5;28;43mself\u001b[39;49m\u001b[38;5;241;43m.\u001b[39;49m\u001b[43m_dataset_fetcher\u001b[49m\u001b[38;5;241;43m.\u001b[39;49m\u001b[43mfetch\u001b[49m\u001b[43m(\u001b[49m\u001b[43mindex\u001b[49m\u001b[43m)\u001b[49m  \u001b[38;5;66;03m# may raise StopIteration\u001b[39;00m\n\u001b[1;32m    765\u001b[0m     \u001b[38;5;28;01mif\u001b[39;00m \u001b[38;5;28mself\u001b[39m\u001b[38;5;241m.\u001b[39m_pin_memory:\n\u001b[1;32m    766\u001b[0m         data \u001b[38;5;241m=\u001b[39m _utils\u001b[38;5;241m.\u001b[39mpin_memory\u001b[38;5;241m.\u001b[39mpin_memory(data, \u001b[38;5;28mself\u001b[39m\u001b[38;5;241m.\u001b[39m_pin_memory_device)\n",
      "File \u001b[0;32m~/Documents/mechanistic-interpretability/env/lib/python3.10/site-packages/torch/utils/data/_utils/fetch.py:55\u001b[0m, in \u001b[0;36m_MapDatasetFetcher.fetch\u001b[0;34m(self, possibly_batched_index)\u001b[0m\n\u001b[1;32m     53\u001b[0m \u001b[38;5;28;01melse\u001b[39;00m:\n\u001b[1;32m     54\u001b[0m     data \u001b[38;5;241m=\u001b[39m \u001b[38;5;28mself\u001b[39m\u001b[38;5;241m.\u001b[39mdataset[possibly_batched_index]\n\u001b[0;32m---> 55\u001b[0m \u001b[38;5;28;01mreturn\u001b[39;00m \u001b[38;5;28;43mself\u001b[39;49m\u001b[38;5;241;43m.\u001b[39;49m\u001b[43mcollate_fn\u001b[49m\u001b[43m(\u001b[49m\u001b[43mdata\u001b[49m\u001b[43m)\u001b[49m\n",
      "File \u001b[0;32m~/Documents/mechanistic-interpretability/env/lib/python3.10/site-packages/torch/utils/data/_utils/collate.py:398\u001b[0m, in \u001b[0;36mdefault_collate\u001b[0;34m(batch)\u001b[0m\n\u001b[1;32m    337\u001b[0m \u001b[38;5;28;01mdef\u001b[39;00m\u001b[38;5;250m \u001b[39m\u001b[38;5;21mdefault_collate\u001b[39m(batch):\n\u001b[1;32m    338\u001b[0m \u001b[38;5;250m    \u001b[39m\u001b[38;5;124mr\u001b[39m\u001b[38;5;124;03m\"\"\"\u001b[39;00m\n\u001b[1;32m    339\u001b[0m \u001b[38;5;124;03m    Take in a batch of data and put the elements within the batch into a tensor with an additional outer dimension - batch size.\u001b[39;00m\n\u001b[1;32m    340\u001b[0m \n\u001b[0;32m   (...)\u001b[0m\n\u001b[1;32m    396\u001b[0m \u001b[38;5;124;03m        >>> default_collate(batch)  # Handle `CustomType` automatically\u001b[39;00m\n\u001b[1;32m    397\u001b[0m \u001b[38;5;124;03m    \"\"\"\u001b[39;00m\n\u001b[0;32m--> 398\u001b[0m     \u001b[38;5;28;01mreturn\u001b[39;00m \u001b[43mcollate\u001b[49m\u001b[43m(\u001b[49m\u001b[43mbatch\u001b[49m\u001b[43m,\u001b[49m\u001b[43m \u001b[49m\u001b[43mcollate_fn_map\u001b[49m\u001b[38;5;241;43m=\u001b[39;49m\u001b[43mdefault_collate_fn_map\u001b[49m\u001b[43m)\u001b[49m\n",
      "File \u001b[0;32m~/Documents/mechanistic-interpretability/env/lib/python3.10/site-packages/torch/utils/data/_utils/collate.py:211\u001b[0m, in \u001b[0;36mcollate\u001b[0;34m(batch, collate_fn_map)\u001b[0m\n\u001b[1;32m    208\u001b[0m transposed \u001b[38;5;241m=\u001b[39m \u001b[38;5;28mlist\u001b[39m(\u001b[38;5;28mzip\u001b[39m(\u001b[38;5;241m*\u001b[39mbatch))  \u001b[38;5;66;03m# It may be accessed twice, so we use a list.\u001b[39;00m\n\u001b[1;32m    210\u001b[0m \u001b[38;5;28;01mif\u001b[39;00m \u001b[38;5;28misinstance\u001b[39m(elem, \u001b[38;5;28mtuple\u001b[39m):\n\u001b[0;32m--> 211\u001b[0m     \u001b[38;5;28;01mreturn\u001b[39;00m [\n\u001b[1;32m    212\u001b[0m         collate(samples, collate_fn_map\u001b[38;5;241m=\u001b[39mcollate_fn_map)\n\u001b[1;32m    213\u001b[0m         \u001b[38;5;28;01mfor\u001b[39;00m samples \u001b[38;5;129;01min\u001b[39;00m transposed\n\u001b[1;32m    214\u001b[0m     ]  \u001b[38;5;66;03m# Backwards compatibility.\u001b[39;00m\n\u001b[1;32m    215\u001b[0m \u001b[38;5;28;01melse\u001b[39;00m:\n\u001b[1;32m    216\u001b[0m     \u001b[38;5;28;01mtry\u001b[39;00m:\n",
      "File \u001b[0;32m~/Documents/mechanistic-interpretability/env/lib/python3.10/site-packages/torch/utils/data/_utils/collate.py:211\u001b[0m, in \u001b[0;36m<listcomp>\u001b[0;34m(.0)\u001b[0m\n\u001b[1;32m    208\u001b[0m transposed \u001b[38;5;241m=\u001b[39m \u001b[38;5;28mlist\u001b[39m(\u001b[38;5;28mzip\u001b[39m(\u001b[38;5;241m*\u001b[39mbatch))  \u001b[38;5;66;03m# It may be accessed twice, so we use a list.\u001b[39;00m\n\u001b[1;32m    210\u001b[0m \u001b[38;5;28;01mif\u001b[39;00m \u001b[38;5;28misinstance\u001b[39m(elem, \u001b[38;5;28mtuple\u001b[39m):\n\u001b[0;32m--> 211\u001b[0m     \u001b[38;5;28;01mreturn\u001b[39;00m [\n\u001b[1;32m    212\u001b[0m         collate(samples, collate_fn_map\u001b[38;5;241m=\u001b[39mcollate_fn_map)\n\u001b[1;32m    213\u001b[0m         \u001b[38;5;28;01mfor\u001b[39;00m samples \u001b[38;5;129;01min\u001b[39;00m transposed\n\u001b[1;32m    214\u001b[0m     ]  \u001b[38;5;66;03m# Backwards compatibility.\u001b[39;00m\n\u001b[1;32m    215\u001b[0m \u001b[38;5;28;01melse\u001b[39;00m:\n\u001b[1;32m    216\u001b[0m     \u001b[38;5;28;01mtry\u001b[39;00m:\n",
      "\u001b[0;31mKeyboardInterrupt\u001b[0m: "
     ]
    }
   ],
   "source": [
    "print(\"Starting SAE training...\")\n",
    "sae_model.train()\n",
    "training_losses = {'total': [], 'mse': [], 'l1': [], 'l0': []} # Track losses and L0\n",
    "\n",
    "for epoch in range(NUM_EPOCHS):\n",
    "    epoch_total_loss = 0\n",
    "    epoch_mse_loss = 0\n",
    "    epoch_l1_loss = 0\n",
    "    epoch_l0_norm = 0 # Track average number of non-zero features\n",
    "\n",
    "    pbar_train = tqdm(activation_loader, desc=f\"Epoch {epoch+1}/{NUM_EPOCHS}\", leave=False)\n",
    "    for i, batch in enumerate(pbar_train):\n",
    "        # Batch is a list containing one tensor: the activations\n",
    "        original_acts = batch[0].to(device)\n",
    "\n",
    "        encoded, decoded = sae_model(original_acts)\n",
    "        loss, mse, l1 = sae_loss(original_acts, encoded, decoded, L1_COEFF)\n",
    "        optimizer.zero_grad()\n",
    "        loss.backward()\n",
    "        optimizer.step()\n",
    " \n",
    "        epoch_total_loss += loss.item()\n",
    "        epoch_mse_loss += mse.item()\n",
    "        epoch_l1_loss += l1.item()\n",
    "        \n",
    "        l0 = torch.sum(encoded > 1e-6, dim=1).float().mean().item()\n",
    "        epoch_l0_norm += l0\n",
    "\n",
    "        if (i + 1) % PRINT_INTERVAL == 0 or i == len(activation_loader) - 1:\n",
    "             pbar_train.set_postfix({\n",
    "                 \"Total Loss\": f\"{loss.item():.4f}\",\n",
    "                 \"MSE\": f\"{mse.item():.4f}\",\n",
    "                 \"L1\": f\"{l1.item():.4f}\",\n",
    "                 \"L0\": f\"{l0:.2f}\" # Avg active features in current batch\n",
    "             })\n",
    "\n",
    "    # Average losses for the epoch\n",
    "    avg_total_loss = epoch_total_loss / len(activation_loader)\n",
    "    avg_mse_loss = epoch_mse_loss / len(activation_loader)\n",
    "    avg_l1_loss = epoch_l1_loss / len(activation_loader)\n",
    "    avg_l0_norm = epoch_l0_norm / len(activation_loader)\n",
    "\n",
    "    training_losses['total'].append(avg_total_loss)\n",
    "    training_losses['mse'].append(avg_mse_loss)\n",
    "    training_losses['l1'].append(avg_l1_loss)\n",
    "    training_losses['l0'].append(avg_l0_norm)\n",
    "\n",
    "    writer.add_scalar('Loss/Epoch/Total', avg_total_loss, epoch)\n",
    "    writer.add_scalar('Loss/Epoch/MSE', avg_mse_loss, epoch)\n",
    "    writer.add_scalar('Loss/Epoch/L1', avg_l1_loss, epoch)\n",
    "    writer.add_scalar('L0_Norm/Epoch', avg_l0_norm, epoch)\n",
    "\n",
    "\n",
    "    print(f\"Epoch {epoch+1} Complete: Avg Total Loss={avg_total_loss:.12f}, Avg MSE={avg_mse_loss:.12f}, Avg L1={avg_l1_loss:.7f}, Avg L0={avg_l0_norm:.2f}\")\n",
    "\n",
    "print(\"SAE Training finished.\")"
   ]
  },
  {
   "cell_type": "code",
   "execution_count": null,
   "metadata": {},
   "outputs": [],
   "source": [
    "# Load model if you want to avoid training\n",
    "# model_name = \"sae_gpt2_layer6_mlp_1.pth\"\n",
    "# sae_model.load_state_dict(torch.load(model_name, map_location=device))"
   ]
  },
  {
   "cell_type": "markdown",
   "metadata": {},
   "source": [
    "# Evaluation"
   ]
  },
  {
   "cell_type": "code",
   "execution_count": 14,
   "metadata": {
    "colab": {
     "base_uri": "https://localhost:8080/"
    },
    "id": "uG4R2Jaezxn-",
    "outputId": "3208066e-e6c2-48c4-8f3b-be9d07d26d57"
   },
   "outputs": [
    {
     "name": "stdout",
     "output_type": "stream",
     "text": [
      "Recomputing SAE features for analysis...\n",
      "SAE features shape: torch.Size([2000012, 3072])\n"
     ]
    }
   ],
   "source": [
    "sae_model.eval()\n",
    "\n",
    "print(\"Recomputing SAE features for analysis...\")\n",
    "with torch.no_grad():\n",
    "    all_sae_features = []\n",
    "    analysis_batch_size = 128\n",
    "    for i in range(0, all_activations.shape[0], analysis_batch_size):\n",
    "        batch_acts = all_activations[i:i+analysis_batch_size].to(device)\n",
    "        batch_features = sae_model.encode(batch_acts).cpu()\n",
    "        all_sae_features.append(batch_features)\n",
    "\n",
    "    all_sae_features = torch.cat(all_sae_features, dim=0)\n",
    "\n",
    "print(f\"SAE features shape: {all_sae_features.shape}\")\n",
    "\n",
    "def get_max_activating_examples(feature_index, num_examples=10, window_size=10):\n",
    "    \"\"\"Find text snippets where a specific SAE feature maximally activates.\"\"\"\n",
    "    if feature_index < 0 or feature_index >= SAE_HIDDEN_DIM:\n",
    "        print(f\"Error: Feature index {feature_index} out of bounds (0-{SAE_HIDDEN_DIM-1}).\")\n",
    "        return\n",
    "    if all_sae_features.shape[0] == 0:\n",
    "        print(\"Error: No SAE features computed.\")\n",
    "        return\n",
    "    if not token_storage:\n",
    "        print(\"Error: Token storage is empty.\")\n",
    "        return\n",
    "\n",
    "    print(f\"\\n--- Finding top activating examples for Feature {feature_index} ---\")\n",
    "\n",
    "    feature_activations = all_sae_features[:, feature_index]\n",
    "\n",
    "    top_k_values, top_k_indices = torch.topk(feature_activations, k=min(num_examples, all_sae_features.shape[0]), largest=True) # Handle cases with fewer activations than requested\n",
    "\n",
    "    analysis_output = []\n",
    "    \n",
    "    for rank, (idx_tensor, activation_value_tensor) in enumerate(zip(top_k_indices, top_k_values)):\n",
    "        token_dict = {}\n",
    "        activation_value = activation_value_tensor.item()\n",
    "        global_token_idx = idx_tensor.item()\n",
    "\n",
    "        if global_token_idx < 0 or global_token_idx >= len(token_storage):\n",
    "             print(f\"\\nRank {rank+1}: Activation = {activation_value:.4f}\")\n",
    "             print(f\"Context: Error - Calculated token index {global_token_idx} is out of bounds for token_storage (len={len(token_storage)}). Skipping.\")\n",
    "             continue\n",
    "        \n",
    "        start = max(0, global_token_idx - window_size)\n",
    "        end = min(len(token_storage), global_token_idx + window_size + 1)\n",
    "\n",
    "        if start >= end:\n",
    "             print(f\"\\nRank {rank+1}: Activation = {activation_value:.4f}\")\n",
    "             print(f\"Context: Error - Invalid window slice indices (start={start}, end={end}). Skipping.\")\n",
    "             continue\n",
    "\n",
    "        token_ids_window = token_storage[start:end]\n",
    "\n",
    "        try:\n",
    "             context_text = tokenizer.decode(token_ids_window, skip_special_tokens=True, errors='replace')\n",
    "\n",
    "             activating_token_id = token_storage[global_token_idx]\n",
    "             activating_token_str = tokenizer.decode([activating_token_id], skip_special_tokens=False, errors='replace')\n",
    "\n",
    "             token_dict['token'] = activating_token_str\n",
    "             token_dict['context'] = context_text\n",
    "             token_dict['activation'] = activation_value\n",
    "\n",
    "        except IndexError:\n",
    "             print(f\"\\nRank {rank+1}: Activation = {activation_value:.4f}\")\n",
    "             print(f\"Context: Error decoding tokens - IndexError occurred with indices ({start}, {end}) for token_storage (len={len(token_storage)})\")\n",
    "        except Exception as e:\n",
    "            print(f\"\\nRank {rank+1}: Activation = {activation_value:.4f}\")\n",
    "            print(f\"Context: Error decoding tokens: {token_ids_window} - {e}\")\n",
    "        analysis_output.append(token_dict)\n",
    "    return analysis_output"
   ]
  },
  {
   "cell_type": "code",
   "execution_count": 15,
   "metadata": {},
   "outputs": [
    {
     "name": "stdout",
     "output_type": "stream",
     "text": [
      "Calculating statistics across 3072 features...\n",
      "Found 1686 active features (max > 1e-06).\n",
      "\n",
      "Top 50 features by MAX activation selected.\n"
     ]
    }
   ],
   "source": [
    "if 'all_sae_features' not in locals() or all_sae_features.shape[0] == 0:\n",
    "    print(\"ERROR: `all_sae_features` tensor not found or is empty. Please run the previous cell first.\")\n",
    "else:\n",
    "    print(f\"Calculating statistics across {all_sae_features.shape[1]} features...\")\n",
    "\n",
    "    # --- Calculate Statistics Per Feature ---\n",
    "    try:\n",
    "        feature_max_activations, _ = torch.max(all_sae_features, dim=0)\n",
    "\n",
    "        feature_mean_activations = torch.mean(all_sae_features, dim=0)\n",
    "\n",
    "        feature_std_devs = torch.std(all_sae_features, dim=0)\n",
    "\n",
    "        active_feature_mask = feature_max_activations > ACTIVITY_THRESHOLD # FILTER!!\n",
    "        active_feature_indices = torch.where(active_feature_mask)[0]\n",
    "\n",
    "        print(f\"Found {len(active_feature_indices)} active features (max > {ACTIVITY_THRESHOLD}).\")\n",
    "\n",
    "        top_max_k_values, top_max_k_indices = torch.topk(\n",
    "            feature_max_activations,\n",
    "            k=min(NUM_TOP_FEATURES_TO_ANALYZE, all_sae_features.shape[1])\n",
    "        )\n",
    "        top_max_activation_indices = top_max_k_indices.tolist()\n",
    "        print(f\"\\nTop {len(top_max_activation_indices)} features by MAX activation selected.\")\n",
    "\n",
    "        # --- Clean up intermediate tensors ---\n",
    "        del feature_max_activations, feature_mean_activations, feature_std_devs\n",
    "        del active_feature_mask, active_feature_indices\n",
    "        gc.collect()\n",
    "\n",
    "\n",
    "    except Exception as e:\n",
    "        print(f\"An error occurred during statistics calculation: {e}\")\n",
    "        import traceback\n",
    "        traceback.print_exc()\n",
    "        top_max_activation_indices = []\n",
    "        top_std_dev_indices = []\n",
    "        top_mean_activation_indices = []"
   ]
  },
  {
   "cell_type": "code",
   "execution_count": null,
   "metadata": {},
   "outputs": [],
   "source": [
    "# Option 1: Maximum Activation (Recommended for seeing peak usage)\n",
    "feature_strengths_np = torch.max(all_sae_features, dim=0)[0].numpy()\n",
    "metric_label = \"Max Activation\"\n",
    "\n",
    "# # Option 2: Mean Activation\n",
    "# feature_strengths = torch.mean(all_sae_features, dim=0)\n",
    "# metric_label = \"Mean Activation\"\n",
    "\n",
    "# # Option 3: Activation Frequency (Approx L0 Norm)\n",
    "# feature_activity = (all_sae_features > ACTIVITY_THRESHOLD).float() # ACTIVITY_THRESHOLD from config\n",
    "# feature_strengths = torch.mean(feature_activity, dim=0)\n",
    "# metric_label = f\"Activation Frequency (>{ACTIVITY_THRESHOLD})\"\n",
    "# del feature_activity # Free up memory\n",
    "\n",
    "print(f\"Calculated feature strengths using: {metric_label}\")\n",
    "num_features = SAE_HIDDEN_DIM\n",
    "\n",
    "def get_grid_dims(n):\n",
    "    \"\"\"Finds reasonably square grid dimensions for n items.\"\"\"\n",
    "    if n <= 0: return (0,0)\n",
    "    sqrt_n = math.isqrt(n)\n",
    "    rows = sqrt_n\n",
    "    while n % rows != 0:\n",
    "        rows -= 1\n",
    "        if rows == 0:\n",
    "             rows = int(sqrt_n)\n",
    "             while n % rows != 0:\n",
    "                 rows +=1\n",
    "             break\n",
    "\n",
    "    cols = n // rows\n",
    "    return (min(rows, cols), max(rows, cols)) if rows > 0 else (1,n)\n",
    "\n",
    "# 3072 = 64*48\n",
    "if 64 * 48 == num_features:\n",
    "     grid_rows, grid_cols = 48, 64\n",
    "     print(f\"Using specified grid: {grid_rows}x{grid_cols}\")\n",
    "else:\n",
    "     grid_rows, grid_cols = get_grid_dims(num_features)\n",
    "     if grid_rows * grid_cols > num_features:\n",
    "          print(f\"Calculated grid: {grid_rows}x{grid_cols}. Padding needed.\")\n",
    "          padding_size = grid_rows * grid_cols - num_features\n",
    "          feature_strengths_np = np.pad(feature_strengths_np, (0, padding_size), mode='constant', constant_values=np.nan)\n",
    "     else:\n",
    "          print(f\"Calculated grid: {grid_rows}x{grid_cols}.\")\n",
    "\n",
    "\n",
    "feature_grid = feature_strengths_np.reshape(grid_rows, grid_cols)\n",
    "\n",
    "# --- Plotting ---\n",
    "\n",
    "plt.figure(figsize=(12, 10))\n",
    "plt.imshow(feature_grid, cmap='viridis', aspect='auto') # Alternative without seaborn\n",
    "plt.colorbar(label=metric_label)\n",
    "plt.title(f'SAE Feature Strength ({metric_label}) - {grid_rows}x{grid_cols} Grid')\n",
    "plt.xlabel(\"Feature Index (Column Offset)\")\n",
    "plt.ylabel(\"Feature Index (Row Offset)\")\n",
    "plt.tight_layout()\n",
    "plt.show()\n",
    "\n",
    "try:\n",
    "    from mpl_toolkits.mplot3d import Axes3D\n",
    "\n",
    "    if num_features > 5000:\n",
    "         print(\"\\nSkipping 3D bar plot: Too many features (>5000), likely unreadable.\")\n",
    "    else:\n",
    "         print(\"\\nGenerating 3D bar plot (can be slow and cluttered)...\")\n",
    "         fig = plt.figure(figsize=(15, 10))\n",
    "         ax = fig.add_subplot(111, projection='3d')\n",
    "\n",
    "         xpos, ypos = np.meshgrid(np.arange(grid_cols), np.arange(grid_rows))\n",
    "         xpos = xpos.flatten()\n",
    "         ypos = ypos.flatten()\n",
    "         zpos = np.zeros_like(xpos)\n",
    "\n",
    "         dz = feature_grid.flatten()\n",
    "         valid_bars = ~np.isnan(dz)\n",
    "\n",
    "         colors = plt.cm.viridis(dz[valid_bars] / np.nanmax(dz))\n",
    "\n",
    "         ax.bar3d(xpos[valid_bars], ypos[valid_bars], zpos[valid_bars],\n",
    "                  dx=0.8, dy=0.8, dz=dz[valid_bars],\n",
    "                  color=colors, # Use variable colors\n",
    "                  shade=True)\n",
    "\n",
    "         ax.set_xlabel('Feature Col Index')\n",
    "         ax.set_ylabel('Feature Row Index')\n",
    "         ax.set_zlabel(metric_label)\n",
    "         ax.set_title(f'SAE Feature Strength ({metric_label}) - 3D Bars')\n",
    "         plt.tight_layout()\n",
    "         plt.show()\n",
    "\n",
    "except ImportError:\n",
    "    print(\"\\nCould not import Axes3D for 3D plot. Skipping.\")\n",
    "except Exception as e:\n",
    "    print(f\"\\nAn error occurred during 3D plot generation: {e}\")"
   ]
  },
  {
   "cell_type": "code",
   "execution_count": 20,
   "metadata": {
    "scrolled": true
   },
   "outputs": [
    {
     "name": "stdout",
     "output_type": "stream",
     "text": [
      "\n",
      "--- Finding top activating examples for Feature 3021 ---\n",
      "\n",
      " age and with my undistinguished track @-@ record , so I promptly fell in love with her\n",
      "@\n",
      "\n",
      " : though Greaves described the Chelsea title @-@ winning side as \" almost certainly one of the least\n",
      "@\n",
      "\n",
      " : Aerosmith was the first band @-@ centric game for the series . On September 4\n",
      "@\n",
      "\n",
      " episode more involved with insinuation and mythology @-@ building than with telling a complete @-@ in\n",
      "@\n",
      "\n",
      " Society for Animal Rights decried the prison @-@ like conditions of the cages and called for changes .\n",
      "@\n",
      "\n",
      " before Michigan 's NIT Season Tip @-@ Off game against the Pittsburgh Panthers . The shirts use\n",
      "@\n",
      "\n",
      " definitive masala film , and a trend @-@ setter for \" multi @-@ star \"\n",
      "@\n",
      "\n",
      "i remarked on the campaign in the run @-@ up to the festival , saying \" The 2006 edition\n",
      "@\n",
      "\n",
      "t a love child , but a bump @-@ and @-@ grind that never finds a groove\n",
      "@\n",
      "\n",
      " of The Monkees , for the hour @-@ long video Elephant Parts ( also known as Michael N\n",
      "@\n",
      "\n",
      "--- Finding top activating examples for Feature 802 ---\n",
      "\n",
      " in the suite . Nevertheless , he opined that \" [ p ] eople tried to make it seem\n",
      " \"\n",
      "\n",
      " , Bendis and Maleev just can 't replicate the same feeling on the printed page . \" \n",
      " replicate\n",
      "\n",
      " of my life \" , saying of the audience , \" I think they wanted , more than anything , a\n",
      " \"\n",
      "\n",
      " \" David Cheal of The Daily Telegraph said that \" Clocks \" features a \" hypnotic piano riff\n",
      " \"\n",
      "\n",
      " , in the style of an operetta before eventually replacing this with a more Broadway musical @-\n",
      " before\n",
      "\n",
      " accent in Copland [ sic ] and I stole it to do The X @-@ Files ,\n",
      " stole\n",
      "\n",
      " Constable and pursuer chase him to town road , where third accomplice awaits with auto ; they speed off\n",
      " where\n",
      "\n",
      " it sends a wave of disruption back through superhero history ... devalue [ ing Moore has expressed dismay that \"\n",
      " ...\n",
      "\n",
      " raps . \" Mlynar further stated that \" Cole himself ( along with Kendrick Lamar 's guest\n",
      " \"\n",
      "\n",
      " [ aw ] \" ; but \" sonne in L [ aw ] \" was then struck out , with\n",
      " L\n",
      "\n",
      "--- Finding top activating examples for Feature 1746 ---\n",
      "\n",
      " statistics for the Blue Jackets during the season . \n",
      " = = = Skaters = = = \n",
      "\n",
      "\n",
      "\n",
      "\n",
      " player statistics for the Blue Jackets during the season . \n",
      " = = = Skaters = = = \n",
      " \n",
      "\n",
      " Tirthankara Suparswanath . \n",
      " = = = Temples = = = \n",
      "\n",
      "\n",
      "\n",
      "\n",
      " attempt to achieve independence for Mozambique . \n",
      " The United Nations also put pressure on Portugal to move\n",
      "\n",
      "\n",
      "\n",
      " award for Best Pop Vocal Collaboration . \n",
      " The song was performed as part of the closing ceremony\n",
      "\n",
      "\n",
      "\n",
      "-@ reported and the police were slow to act ; protests in Ürümqi were assembled by\n",
      " ;\n",
      "\n",
      " Grammy award for Best Pop Vocal Collaboration . \n",
      " The song was performed as part of the closing\n",
      " \n",
      "\n",
      " of Tirthankara Suparswanath . \n",
      " = = = Temples = = = \n",
      " \n",
      "\n",
      " an attempt to achieve independence for Mozambique . \n",
      " The United Nations also put pressure on Portugal to\n",
      " \n",
      "\n",
      "ina is voiced by Katsuji Mori . \n",
      " Rie Kawai ( 可愛\n",
      "\n",
      "\n",
      "\n",
      "--- Finding top activating examples for Feature 143 ---\n",
      "\n",
      " in neighboring Hidalgo , which housed 45 @, Hurricane Lorenzo made landfall in Veracruz ,\n",
      ",\n",
      "\n",
      " , it was estimated there were at least 28 @,@ 000 Ottoman troops in the Gaza – Beers\n",
      ",\n",
      "\n",
      " Power Corporation Limited . The city produces about 350 @,@ 000 @,@ 000 litres ( 77 @\n",
      ",\n",
      "\n",
      " Glass Company emerged as the company to produce 22 @,@ 500 glass blocks near the upper limit of the\n",
      ",\n",
      "\n",
      " shell . Each gun was Twenty Vickers quick @-@ firing ( QF ) 3 @-@\n",
      "-\n",
      "\n",
      " precipitation was 1900 , when the city received 2 @,@ 024 mm ( 79 @.@ 7\n",
      ",\n",
      "\n",
      " 's north pole at a distance of 451 @,@ 000 km . This swing @-@ by\n",
      ",\n",
      "\n",
      " estimates that secondary production globally in 2010 was 39 @,@ 540 tonnes . \n",
      " Antimony was ranked\n",
      ",\n",
      "\n",
      " \" ) around Ceres at an altitude of 13 @,@ 500 km on 23 April 2015 , staying for\n",
      ",\n",
      "\n",
      " The bombs were released at an altitude of 30 @,@ 000 feet ( 9 @,@ 100 m\n",
      ",\n",
      "\n",
      "--- Finding top activating examples for Feature 1275 ---\n",
      "\n",
      " requirements for machismo . \n",
      " = = = Memory = = = \n",
      " All of the novel '\n",
      " Memory\n",
      "\n",
      " rusheng \" . \n",
      " = = = Students = = = \n",
      " = = = = Water\n",
      " Students\n",
      "\n",
      " it . This structure allows point location = = = Data compression = = = \n",
      " Directed acy\n",
      " Data\n",
      "\n",
      " to perform the task . The longest = = = Data processing networks = = = \n",
      " A directed ac\n",
      " Data\n",
      "\n",
      " = = Legacy = = \n",
      " = = = Women in climbing = = = \n",
      " Along with Annie\n",
      " Women\n",
      "\n",
      "shadowing another Jordan return .  = = = Washington Wizards comeback ( 2001 – 2003 ) = = =\n",
      " Washington\n",
      "\n",
      ".@ 06 and had a 1 = = = Washington Senators = = = \n",
      " After the 1960 season\n",
      " Washington\n",
      "\n",
      " renting out space to shops and restaurants = = = Chicago 's towers = = = \n",
      " Chicago altered\n",
      " Chicago\n",
      "\n",
      " 1 million buyout . \n",
      " = = = Chicago Cubs ( 2016 – present ) = = = \n",
      " Chicago\n",
      "\n",
      " restoration is nearing completion . \n",
      " = = = Events = = = \n",
      " Galveston ArtWalk\n",
      " Events\n",
      "\n",
      "--- Finding top activating examples for Feature 2984 ---\n",
      "\n",
      " as a base from which neighboring areas could be attacked . By 1203 the garrison were making raids on Mont\n",
      " .\n",
      "\n",
      " coat of arms and the state flower on both sides . The design of The proportions of the flag of the\n",
      " .\n",
      "\n",
      " the Battle of Yorktown due to lack of supplies . With British dockyards now readily turning out cannon ,\n",
      " .\n",
      "\n",
      "ed them and they continue to influence fashion even today . After the film 's release , many films were\n",
      " .\n",
      "\n",
      " precedent does not adequately apply to the circumstances in question . \n",
      " Today the royal prerogative is available\n",
      " .\n",
      "\n",
      " beyond their regular CPS jobs could earn extra spending money . The federal government spent $ 1 @.@ 3\n",
      " .\n",
      "\n",
      " the entirety of northern China was not administratively feasible . In the final months of 1129 , Liu The\n",
      " .\n",
      "\n",
      " territory relegating the Sioux to southern and western Minnesota . Skirmishes between the groups continued in the 19\n",
      " .\n",
      "\n",
      " that may have provided a motive for further conquests . The Fulbe ruling class became wealthy slave owners and\n",
      " .\n",
      "\n",
      " remain the highest per capita consumers of potatoes in Europe . An example of this new cuisine is \" Dublin Law\n",
      " .\n",
      "\n",
      "--- Finding top activating examples for Feature 3022 ---\n",
      "\n",
      " in 1802 at the Peace of Amiens . Of the four 74 @-@ gun prizes , Ach\n",
      " Of\n",
      "\n",
      "@ 25 Mitchell bombers and Beaufighter heavy fighters . No. 79 Wing took part in the New Guinea and\n",
      " No\n",
      "\n",
      " songs being reinventions of classic hymns . Until the Whole World Hears sold over 167 @,\n",
      " Until\n",
      "\n",
      " state of prayer will establish a connection with God . Smart began by praying at regular intervals but this slowly deteriorated\n",
      " Smart\n",
      "\n",
      " and occasionally eaten , by hunters or roadworkers . By the 1940s , reports of kakapo were\n",
      " By\n",
      "\n",
      " Kensington , London , the son of poet Cecil Day @-@ Lewis and English actress Jill Balcon\n",
      " Day\n",
      "\n",
      " , the skyline of Corpus Christi is visible . Following the shore , the land dips inward and forms Emerald\n",
      " Following\n",
      "\n",
      " began shooting in Richmond , Virginia in October 2011 . Day @-@ Lewis spent a year in preparation for\n",
      " Day\n",
      "\n",
      " as inspiration for Chrono Cross . The music of Radical Dreamers was written by Yasunori Mitsuda\n",
      " Radical\n",
      "\n",
      " Atlanta Braves on the 15th of that month . By June , Myers had been demoted to the minor\n",
      " By\n",
      "\n",
      "--- Finding top activating examples for Feature 2191 ---\n",
      "\n",
      "avan Shajon , Asha Sarath , Siddique , Roshan Basheer and Ne\n",
      " Sidd\n",
      "\n",
      "arnabhumi Airport committee ) , and General Lertrat Rattavanich . He later graduated from\n",
      " L\n",
      "\n",
      " Divecha , and \" Best Art Director \" for Ram Yedekar . Sholay received a\n",
      " Ram\n",
      "\n",
      "Cruz ; Prakash Raj , Nassar and Sayaji Shinde appear in prominent roles . The\n",
      " Say\n",
      "\n",
      "ori Kamichika , and the third centers on Utano Sasou . A single volume written by Re\n",
      " Ut\n",
      "\n",
      " ( 1883 ) and Painter Squirtle ( Maler Klecksel ) ( 1884 ) ,\n",
      " Mal\n",
      "\n",
      "ist named Deng Liang . Practitioners of Geok Gar Kuen , a style attributed to Yue Fei\n",
      "ok\n",
      "\n",
      " Padukone , Ameesha Patel , and Anil Kapoor ) ) , described as the \"\n",
      " An\n",
      "\n",
      "erdo cuvier ) and lemon sharks ( Negaprion brevirostris ) .\n",
      " Neg\n",
      "\n",
      "akarabhatla , Kandikonda and Viswa . Jagannadh wanted Sharma to compose six\n",
      " Vis\n",
      "\n",
      "--- Finding top activating examples for Feature 2498 ---\n",
      "\n",
      " pair back on his return to the US . Ladanyi then began using the speakers in a Los Angeles\n",
      "any\n",
      "\n",
      " Quiney 's brief excommunication . Quiney was also summoned before the Bawdy Court\n",
      "ine\n",
      "\n",
      " later electronic engineers Ferranti in 1896 . Ferranti went into receivership in 1993 , but some\n",
      "rant\n",
      "\n",
      " Hz frequency of arcade games at the time . Cerny decided to use a trackball system ( marketed\n",
      "ern\n",
      "\n",
      " convince Data that he is not malfunctioning . Pulaski 's final appearance on The Next Generation was\n",
      "ask\n",
      "\n",
      " Bob Flanagan as the software engineer . Both Cerny and Flanagan handled programming the game . It\n",
      "ern\n",
      "\n",
      " inscriptions record how Adiya was sent by Yauta to accompany Ammuladi and the Q\n",
      "aut\n",
      "\n",
      " Dart and Blackburn Ripon torpedo bombers , and Fairey IIIF reconnaissance planes of the Fleet Air Arm\n",
      "aire\n",
      "\n",
      " be disarmed and brought to military authorities . Laxa issued an order that gave the rebels until 2\n",
      "ax\n",
      "\n",
      " On March 18 , 1964 , it was announced that S = = Later life = = \n",
      " After his\n",
      " S\n",
      "\n",
      "--- Finding top activating examples for Feature 448 ---\n",
      "\n",
      "ifer = Mexico City Metropolitan Cathedral = \n",
      " The Metropolitan Cathedral of the Assumption of the Most Blessed Virgin\n",
      " Metropolitan\n",
      "\n",
      " , as such a tall , narrow tower needed The Metropolitan Life Insurance Company Tower was opened in 1909 , the\n",
      " Metropolitan\n",
      "\n",
      " = = = Transportation = = = \n",
      " The Blue Water Bridge links Sarnia and its neighbouring village\n",
      " Blue\n",
      "\n",
      " on goal , losing 2 – 0 . The The Blue Jackets struggled in shorthanded situations , allowing the most\n",
      " Blue\n",
      "\n",
      " and received the second pick instead . \n",
      " The Blue Jackets began the year with the worst start in franchise\n",
      " Blue\n",
      "\n",
      " reside in the large trees nearby . \n",
      " The Kashi Vishwanath Temple , on the Ganges\n",
      " K\n",
      "\n",
      " to any attack on the port . \n",
      " The Kriegsmarine ( German navy ) had at least\n",
      " K\n",
      "\n",
      " muscaria was restricted to shamans , The Koryak of eastern Siberia have a story about the\n",
      " K\n",
      "\n",
      " shown as the officiating priest . \n",
      " The Kalyanasundara icon is not the object of\n",
      " K\n",
      "\n",
      "- = = Early life = = \n",
      " Cole Hamels attended Meadowbrook Middle School and Rancho Bern\n",
      " Ham\n",
      "\n",
      "--- Finding top activating examples for Feature 383 ---\n",
      "\n",
      "zo , manga critic Jyamao wrote that because of its overall light and pop literary style , none\n",
      " because\n",
      "\n",
      " of Eva Perón , author Mary Main writes that no account records were kept for the foundation because it was\n",
      " no\n",
      "\n",
      " , such as Fraser and Navarro write that it was Evita 's work with the foundation that played\n",
      " was\n",
      "\n",
      " episode . In an interview , Rob Thomas said that due to her busy schedule , it was difficult to write\n",
      " due\n",
      "\n",
      "Argentine Chamber of Commerce , writes that in contrast to Nazi ideology , the Peróns were not\n",
      " contrast\n",
      "\n",
      " . In an interview , Rob Thomas said that due to her busy schedule , it was difficult to write an\n",
      " to\n",
      "\n",
      " . \n",
      " Sadleir notes how Walpole 's considerable income enabled him to indulge not only his\n",
      " '\n",
      "\n",
      " in the nation . Navarro and Fraser write that by 1951 , the party had 500 @,@ 000\n",
      " by\n",
      "\n",
      " Network , Mikhail Koulikov wrote that readers would have various reactions to The One I Love : he\n",
      " would\n",
      "\n",
      " \" sociohistorical context \" . She wrote that few had studied Christian schools , the \" fastest growing sector\n",
      " few\n",
      "\n",
      "--- Finding top activating examples for Feature 2341 ---\n",
      "\n",
      " Storm Douglas brushed the western coast of Mexico . The center of circulation approached within 17 mi ( 27 km )\n",
      " center\n",
      "\n",
      " . Hernan continued to strengthen and as it passed 145 mi ( 230 km ) southwest of Clarion\n",
      " passed\n",
      "\n",
      " / h ) by late on October 11 . Simon passed over cooler waters and weakened back into a tropical depression\n",
      " passed\n",
      "\n",
      " African country of Guinea on August 25 . The system traveled for several thousand miles before dissipating in the eastern\n",
      " traveled\n",
      "\n",
      " . Initially moving westward , the tropical storm gradually gained in intensity before making a sharp curve towards the north\n",
      " gained\n",
      "\n",
      " reached hurricane status late on September 3 . Flora headed on a parabolic track , initially moving west @\n",
      " headed\n",
      "\n",
      " . Around 0000 UTC on September 6 , Carla passed near Swan Island , which reported a barometric pressure\n",
      " passed\n",
      "\n",
      " on the following day . Hilda quickly intensified while moving westward into a small hurricane by September 12 .\n",
      " moving\n",
      "\n",
      " Madagascar as a moderate tropical storm , Domoina dropped rainfall along its path , reaching 98 @.@\n",
      " dropped\n",
      "\n",
      " , the depression strengthened into Tropical Storm Katie . The system moved generally northeast due to the presence of a strong\n",
      " system\n",
      "\n",
      "--- Finding top activating examples for Feature 2973 ---\n",
      "\n",
      " on September 29 , 1986 by Sire Records . Written and produced by Madonna and Steve Bray , the song\n",
      " Written\n",
      "\n",
      " length of 3 minutes and 56 seconds . It is set in common time and the key of B ♭\n",
      " set\n",
      "\n",
      " fifth studio album Fortune ( 2012 ) . It was written by Andrea Simms , Andrew \" Pop \" Wan\n",
      " written\n",
      "\n",
      " studio album , Fortune ( 2012 ) . It was written by Brown , Cory Marks , Greg Curtis , Jamal\n",
      " written\n",
      "\n",
      " final single from the accompanying soundtrack . The song was written and produced solely by Babyface . Musically ,\n",
      " written\n",
      "\n",
      ". 23 on the Billboard Heatseekers Songs chart . \" If We 've Ever Needed You \" ,\n",
      " \"\n",
      "\n",
      " 14 May 2012 , through Columbia Records . The song was written and produced by the band . Musically ,\n",
      " was\n",
      "\n",
      " . The song was a success in Latin America , reaching number one in Colombia , Ecuador , Perú and\n",
      " reaching\n",
      "\n",
      " the album . In the United States , the single reached number 59 on the Billboard Hot 100 and number 9\n",
      " reached\n",
      "\n",
      "@ songwriter Lindsay Lohan . The song was written and produced by Shaffer Smith , known by his\n",
      " written\n",
      "\n",
      "--- Finding top activating examples for Feature 1539 ---\n",
      "\n",
      " Abkhaz language during the 1940s . \n",
      " Ingush language ( historically ) , later replaced in\n",
      "\n",
      "\n",
      "\n",
      "gged bus company , which operates two terminals : \n",
      " HaMifratz Central Bus Station , adjacent\n",
      "\n",
      "\n",
      "\n",
      " Undercover MI6 agent in Hong Kong . \n",
      " Ronald Rich as Hans : Blofeld '\n",
      "\n",
      "\n",
      "\n",
      " local government organs – only on national holidays . \n",
      " Additionally , the national flag without coat of arms is\n",
      "\n",
      "\n",
      "\n",
      " , 2004 ) daughter \n",
      " With Christine : \n",
      " Aspyn ( March 14 , 1995 ) daughter\n",
      "\n",
      "\n",
      "\n",
      " as James Bond : An MI6 agent . \n",
      " Akiko Wakabayashi as Aki : An\n",
      "\n",
      "\n",
      "\n",
      " Caucasus . Fey was exposed to comedy early : \n",
      " At age 11 , Fey read Joe Franklin 's\n",
      "\n",
      "\n",
      "\n",
      " industrialist secretly affiliated to SPECTRE . \n",
      " Karin Dor as Helga Brandt / No.\n",
      "\n",
      "\n",
      "\n",
      " – 82 \n",
      " European Super Cup 1 : \n",
      " 1982 \n",
      " Intertoto Cup 2 : \n",
      "\n",
      "\n",
      "\n",
      " \n",
      " Destiny 's Child Medley : \n",
      " \" Bug a Boo \" \n",
      " \" No ,\n",
      "\n",
      "\n",
      "\n",
      "--- Finding top activating examples for Feature 687 ---\n",
      "\n",
      " scrolling platform video game , the first in the Super Mario Land series , developed and published by Nintendo as a\n",
      " Mario\n",
      "\n",
      " followed in August . About 22 years later , Super Mario Land was released for the Nintendo 3DS via Virtual\n",
      " Mario\n",
      "\n",
      " as a \" smaller \" and shorter version of Super Mario Bros. IGN 's Lucas Thomas wrote that the\n",
      " Mario\n",
      "\n",
      " franchise . After 19 years , the 2011 title Super Mario 3D Land for the Nintendo 3DS became Mario\n",
      " Mario\n",
      "\n",
      " over 18 million copies — more than that of Super Mario Bros. 3 . \n",
      " = = Legacy =\n",
      " Mario\n",
      "\n",
      " Mario Land is remembered for its miniaturized Super Mario elements and \" twist on just about every Mario main\n",
      " Mario\n",
      "\n",
      " , and Okada on its engineering . Their Super Mario Land was planned as the portable console 's showcase\n",
      " Mario\n",
      "\n",
      " across platforms to avoid enemies and pitfalls . In Super Mario Land , Mario travels to Sarasaland to save\n",
      " Mario\n",
      "\n",
      " over 18 million copies , more than that of Super Mario Bros. 3 . Both contemporaneous and retrospective reviewers\n",
      " Mario\n",
      "\n",
      " the first in the Super Mario Land series , Super Mario Land is similar in gameplay to its forebears\n",
      " Mario\n",
      "\n",
      "--- Finding top activating examples for Feature 848 ---\n",
      "\n",
      " 20th @-@ most powerful celebrity in the world with $ 55 million earned between June 2009 and June\n",
      " world\n",
      "\n",
      " New York Times declared it the largest purchase of land ever by any individual Disston 's engineers focused on\n",
      " ever\n",
      "\n",
      " ESPN in 2006 as the ninth greatest point guard of all time , Nash led the league in assists and free\n",
      " all\n",
      "\n",
      " Wanted became the second highest grossing Hindi film of all time at that point . Pokiri was remade\n",
      " all\n",
      "\n",
      " since listed it as one of the greatest games of all time . Journey won several \" game of the year\n",
      " all\n",
      "\n",
      " man to reach all four finals in a calendar year since Rod Laver in 1969 . Federer defeated Nad\n",
      " since\n",
      "\n",
      " said to be the longest glued segmental bridge in the United Kingdom . It has 13 spans of 71 meters\n",
      " the\n",
      "\n",
      " , making it the 24th deepest lake in the world . The Lower Adams issues from the extreme southern end\n",
      " world\n",
      "\n",
      " power plant became the largest hydroelectricity facility in the world . The final generator was not placed in service\n",
      " the\n",
      "\n",
      " @-@ grossing Malayalam film of all time , beating the record of Twenty : 20 (\n",
      " all\n",
      "\n",
      "--- Finding top activating examples for Feature 992 ---\n",
      "\n",
      " investigated the organization 's claim that 4 @.@ 5 million Haitians had been helped \" back on\n",
      "@\n",
      "\n",
      " Approximately 7 @,@ 000 to 8 @,@ 000 people protested in about 100 cities worldwide . The\n",
      "@\n",
      "\n",
      "os and limbs appeared relatively small . The puppets ' likenesses and mechanics are remembered favourably by pupp\n",
      " '\n",
      "\n",
      " Calder mobile , and a grand piano , and features \" twinkling city views \" of the New York\n",
      " \"\n",
      "\n",
      "-@ whiz formulaic character \" and was \" the essence of craft without dream \" . Kenneth Tur\n",
      " \"\n",
      "\n",
      " additional 300 @,@ 000 – 400 @,@ 000 living in nonendemic countries , including Spain\n",
      "@\n",
      "\n",
      " 227 effects created digital vehicles and aircraft that had to \" look fantastic but which are also plausible \" , given\n",
      " \"\n",
      "\n",
      " However , he reported that some of his patients experienced \" illusions of lights and colors \" sometimes amounting to\n",
      " \"\n",
      "\n",
      "@ 000 emergency food rations , 100 @,@ 000 ten @-@ litre water containers ,\n",
      "@\n",
      "\n",
      " In one storyline Nicole and Geoff became stranded on a \" deserted island \" and nearly die . The episodes were\n",
      " \"\n",
      "\n",
      "--- Finding top activating examples for Feature 1296 ---\n",
      "\n",
      " order to obtain funding for the construction , In Imperial County , discussion regarding rerouting US 80 south of\n",
      " County\n",
      "\n",
      " However , in the 2007 federal election , In local government , Waterfall Gully is part of the ward\n",
      " government\n",
      "\n",
      " = Great Basin = = = \n",
      " In Great Basin , big sagebrush is a primary forage species\n",
      " Basin\n",
      "\n",
      " \n",
      " = Cell nucleus = \n",
      " In cell biology , the nucleus ( pl. nuclei ; from\n",
      " biology\n",
      "\n",
      " = Later career = = = \n",
      " In 44 games pitched for the 1969 California Angels , Wilhelm had a\n",
      " games\n",
      "\n",
      " Palenque in battle . \n",
      " In 775 a text recorded the death of Lord Wak Chan K\n",
      "75\n",
      "\n",
      " = Baldwin Institute = = = \n",
      " In 1843 , Baldwin noticed that the Norwalk Seminary ,\n",
      "43\n",
      "\n",
      " first staging on Berlin in 1856 of In 1843 , the Berlin Opera house burnt down . The creation\n",
      "43\n",
      "\n",
      "-@ race peoples remained . \n",
      " In 1805 U.S. Lieutenant Zebulon Pike\n",
      "05\n",
      "\n",
      " runs and 29 wickets . \n",
      " In 138 matches across the five seasons for Somerset , McCool made\n",
      " matches\n",
      "\n",
      "--- Finding top activating examples for Feature 2256 ---\n",
      "\n",
      " = = \n",
      " = = = Previous designation = = = \n",
      " Starting in 1933 , M @-\n",
      " =\n",
      "\n",
      " further members , = = = Latest presidential election = = = \n",
      " = = = Latest parliamentary election =\n",
      " =\n",
      "\n",
      " the solitaire of = = = Recent interpretation = = = \n",
      " Until the late 1980s , belief\n",
      " =\n",
      "\n",
      " = \n",
      " = = = Latest parliamentary election = = = \n",
      " = = Judiciary = = \n",
      "\n",
      " =\n",
      "\n",
      " the = = = = Song revanchism = = = = \n",
      " The Jin were weakened by the\n",
      " =\n",
      "\n",
      " = = \n",
      " = = = Original release = = = \n",
      " = = = Reissue ( 2000\n",
      " =\n",
      "\n",
      " \n",
      " = = = Early Neolithic Britain = = = \n",
      " The Early Neolithic was a revolutionary\n",
      " =\n",
      "\n",
      " believed the solitaire of = = = Recent interpretation = = = \n",
      " Until the late 1980s ,\n",
      " =\n",
      "\n",
      " Penguins for the = = = National Hockey League = = = \n",
      " Cullen made his NHL debut in 1988\n",
      " =\n",
      "\n",
      " = \n",
      " = = = Final Fantasy VII = = = \n",
      " Aerith Gainsborough is first\n",
      " =\n",
      "\n",
      "--- Finding top activating examples for Feature 491 ---\n",
      "\n",
      " Kenny Buttrey on drums , and Pete Drake on steel guitar . The result was John Wesley Harding , a\n",
      " steel\n",
      "\n",
      " occasion including burgesses from the towns . After 1297 under Edward I 's reign , this became the\n",
      "97\n",
      "\n",
      "uboy on the Final 6 Big Band show in 2006 . In June 2008 , Mauboy performed \"\n",
      " 2006\n",
      "\n",
      " Fulk FitzWarin , who died in 1197 . In 1199 his two daughters petitioned the\n",
      "7\n",
      "\n",
      " awarded the match by pin fall . \" On March 21 , 1905 , Tomita and Maeda gave a\n",
      " 21\n",
      "\n",
      " added material studying the issues to their curriculum . In Israel , the testimony of witnesses at the trial led to\n",
      " Israel\n",
      "\n",
      " on a free transfer in October 2003 . In May 2005 , he joined Hull City for £ 25 @,\n",
      " 2005\n",
      "\n",
      " Bishop of Winchester , and Simon , Abbot of Ely . His parents were Osbert and Anna , and\n",
      " Ely\n",
      "\n",
      " north @-@ east of the civil parish of Warburton , and is on Trafford 's northern\n",
      " War\n",
      "\n",
      "ux , 2nd Earl of Essex , in 1588 . It was demolished around 1674 and Essex Street\n",
      "88\n",
      "\n",
      "--- Finding top activating examples for Feature 1706 ---\n",
      "\n",
      " K. K. Senthil Kumar , Kotagiri Venkateswara Rao and M.\n",
      "ag\n",
      "\n",
      " Senthil Kumar , and was edited by Kotagiri Venkateshwara Rao . Production design\n",
      "ag\n",
      "\n",
      "\n",
      " In a July 2011 interview with Forbes , Kotick stated that while the publisher was \" going to stop\n",
      "ick\n",
      "\n",
      " performance in the film , Y. Sunita Chowdary of The Hindu wrote : \" Mahesh\n",
      "d\n",
      "\n",
      " six dots were Signature of King Alexander II of Kakheti , with the divider 〈 �\n",
      "het\n",
      "\n",
      "á means house of stone in the Tzeltal language of the local Maya inhabitants , an alternate interpretation\n",
      "al\n",
      "\n",
      " two new tracks be built , one from Voksenkollveien to Peisestuen\n",
      "sen\n",
      "\n",
      " ) was choreographed by Jeffrey Hornaday from Flashdance . Two different performances of the song on the\n",
      "d\n",
      "\n",
      "ensahl and Lüthorst , and Wolfenbüttel where his brother Gustav lived .\n",
      "en\n",
      "\n",
      " of June ( also known in France as the Bataille du 13 prairial an 2 or Combat\n",
      "ail\n",
      "\n",
      "--- Finding top activating examples for Feature 2656 ---\n",
      "\n",
      " Islands , collected 15 @,@ 755 photometric observations , allowing scientists to produce a more accurate light\n",
      "ometric\n",
      "\n",
      " and 1854 . Only about 51 @,@ 000 gold dollars were produced in 1860 , with over two\n",
      " 000\n",
      "\n",
      " Jackson , who entered his senior season with 505 career rushing yards , did not dress . In his first carry\n",
      " rushing\n",
      "\n",
      " @,@ 000 – 6 @,@ 000 of the city 's 62 @,@ 000 Arabs\n",
      " of\n",
      "\n",
      " with a share capital of 200 @,@ 000 Norwegian krone ( NOK ) . It had 20\n",
      " Norwegian\n",
      "\n",
      " ODOT determined that an average of 710 vehicles per day traveled along the length of SR 319 . This\n",
      " per\n",
      "\n",
      " There are an estimated 27 @,@ 000 civil aircraft registered in the UK , 96 per cent of which\n",
      " aircraft\n",
      "\n",
      " lost , but only suffered about 4 @,@ 000 casualties and the battle was not fatal to the Jur\n",
      " 000\n",
      "\n",
      " Snake rivers has hampered Over 270 bird species have been observed in central Idaho , including 36 accidental species – those\n",
      " observed\n",
      "\n",
      " . Each one required up to 11 @,@ 000 feathers to make . Not only were these garments considered\n",
      " 000\n",
      "\n",
      "--- Finding top activating examples for Feature 386 ---\n",
      "\n",
      " pet \" that \" doesn 't do much \" . This definition of the character led to Phineas\n",
      " .\n",
      "\n",
      " rolling said words around , he moves on . \" \n",
      " = = Appraisal = = \n",
      "\n",
      " \n",
      "\n",
      " stating that he had to create a new plot \" [ though ] I could retain only four or five of\n",
      " [\n",
      "\n",
      " , renowned for his convincing and authoritative portrayal and \" dishy doc \" persona . He left Casualty in\n",
      " dish\n",
      "\n",
      " the poet of these different types of people . \" \n",
      " However , Winchell observes that this \" series\n",
      " \n",
      "\n",
      " undermine the civilian confidence in the Portuguese forces . \" Aldeamentos : agua para todos \"\n",
      " Ald\n",
      "\n",
      " , responses from music markets were relatively similar . \" Caught Up \" debuted and peaked at number nine on\n",
      " C\n",
      "\n",
      " will among different sections of the Indian population . \" \n",
      " Varanasi was ceded to the Union\n",
      " \n",
      "\n",
      " final script , Bloom was given the credit of \" Additional Story Material \" . Among the elements were the opening\n",
      " Additional\n",
      "\n",
      " \" of rendering antimony malleable . \" \n",
      " The Roman scholar Pliny the Elder described several\n",
      " \n",
      "\n",
      "--- Finding top activating examples for Feature 46 ---\n",
      "\n",
      " jewelry was made . The dollars James Pollock , in his final report as Mint Director in 1873 ,\n",
      " in\n",
      "\n",
      "isement . \n",
      " Willard Spiegelman , in his study of Romantic poetry , suggests that the ind\n",
      " in\n",
      "\n",
      "figured man \n",
      " Resumed sobriety , — as he began , \n",
      " So did he end\n",
      " —\n",
      "\n",
      "onal loops are arching magnetic field flux Young , rapidly rotating stars tend to have high levels of surface activity\n",
      " rapidly\n",
      "\n",
      " half out of five . In Matthew Herc , in his review for Ain 't It Cool News ,\n",
      " in\n",
      "\n",
      "isevognselskap A / S , often abbreviated NSS or shortened to Spisev\n",
      " often\n",
      "\n",
      " 's film Dreams . \n",
      " Stephen Turnbull , in \" Nagashino 1575 \" , relates the\n",
      " in\n",
      "\n",
      " subspecies are identified : \n",
      " Of these , zoologists Colin Groves and Peter Grubb identify O\n",
      " zo\n",
      "\n",
      " the current British economy and lifestyle . \n",
      " Also , antimony was identified as one of 12 critical raw\n",
      " ,\n",
      "\n",
      " = = Plot = = \n",
      " The Enterprise , along with other ships in the sector , experience a localized\n",
      " along\n",
      "\n",
      "--- Finding top activating examples for Feature 2569 ---\n",
      "\n",
      " and takes pride in her devious personality.Ch. 7 , 27 Along with her three friends , they\n",
      ".\n",
      "\n",
      " No. 36 John Fulton ( CB ) ; No. 54 Adrian Hubbard ( DE ) ; No. 74\n",
      ".\n",
      "\n",
      " units . Charmbracelet charted and peaked at number 32 in Germany It reached number 50 in Sweden Charm\n",
      " number\n",
      "\n",
      " Yeh Dosti \" was listed at No. 9 in 1976 . Despite the soundtrack 's success\n",
      ".\n",
      "\n",
      " No. 54 Adrian Hubbard ( DE ) ; No. 74 Chad Lindsay ( OG ) ; No. 89\n",
      ".\n",
      "\n",
      " the reign of King Stanislaus Augustus ( r . 1764 – 1795 ) , a white @\n",
      " .\n",
      "\n",
      " No. 32 Phillip Sims ( QB ) ; No. 36 John Fulton ( CB ) ; No. 54\n",
      ".\n",
      "\n",
      " No. 74 Chad Lindsay ( OG ) ; No. 89 Keiwone Malone ( WR ) ; No\n",
      ".\n",
      "\n",
      " 89 Keiwone Malone ( WR ) ; No. 99 C.J. Mosley ( OLB\n",
      ".\n",
      "\n",
      " , respectively , and Dreamgirls ( 2006 ) at the 79th Academy Awards in 2007 . In anticipation of\n",
      " the\n",
      "\n",
      "--- Finding top activating examples for Feature 2262 ---\n",
      "\n",
      " turn lane and intersecting Salem Church Road . Farther east , the highway reaches a junction with DE\n",
      "art\n",
      "\n",
      " ) was a proposed spur road off of the A4232 through to Cardiff Airport , when plans for the\n",
      "4\n",
      "\n",
      "lanilltern – Culverhouse Cross Link Road ( Welsh : Ffordd Gyswllt\n",
      " (\n",
      "\n",
      " Road = = = \n",
      " The Ely Link Road ( Welsh : Ffordd Gyswllt\n",
      " (\n",
      "\n",
      " of the Chugach National Forest . The road passes the ghost town of Sunrise City and several smaller settlements\n",
      " passes\n",
      "\n",
      " Road . \n",
      " The Eastern Bay Link Road , along with other schemes have been subject to many planning proposals\n",
      " along\n",
      "\n",
      " = = = \n",
      " The Cardiff Airport Link Road ( Welsh : Ffordd Gyswllt\n",
      " (\n",
      "\n",
      " 13400 South to Center Street through Lewiston . Passing the Lewiston Cemetery , SR @-@ 61\n",
      " Passing\n",
      "\n",
      " ramps merge back into the main lanes . This area had the highest traffic counts in 2011 at 55 @,\n",
      " had\n",
      "\n",
      " in Riverside County , California . The highway is a connector between Interstate 10 ( I @-@ 10 )\n",
      " connector\n",
      "\n",
      "--- Finding top activating examples for Feature 2921 ---\n",
      "\n",
      " the Championship , the second level of English football . Founded in 1874 , they have played at their\n",
      " Found\n",
      "\n",
      " club based in York , North Yorkshire , England . Their 17th @-@ place finish in 2012 –\n",
      " Their\n",
      "\n",
      " in the town of Dover , Kent , England . The club was formed in 1983 after the dissolution of the\n",
      " The\n",
      "\n",
      " , the second level of English football . Founded in 1874 , they have played at their current home\n",
      " in\n",
      "\n",
      " English football . Founded in 1874 , they have played at their current home ground , Villa Park ,\n",
      " have\n",
      "\n",
      " Championship , the second level of English football . Founded in 1874 , they have played at their current\n",
      "ed\n",
      "\n",
      " club based in Stocksbridge , South Yorkshire . They play in Division One South of the Northern Premier League\n",
      " They\n",
      "\n",
      " The Haifa Hawks are an ice hockey team based out of the city of Haifa . They participate in\n",
      " out\n",
      "\n",
      " York City Football Club , a professional football club based in York , North Yorkshire , England . Their 17th\n",
      " in\n",
      "\n",
      " of English football . Founded in 1874 , they have played at their current home ground , Villa Park\n",
      " they\n",
      "\n",
      "--- Finding top activating examples for Feature 1064 ---\n",
      "\n",
      " in an attempt to achieve independence for Mozambique . \n",
      " The United Nations also put pressure on Portugal\n",
      " .\n",
      "\n",
      " do anything she can to bring her love to fruition . When something surprises her , she composes a ha\n",
      " .\n",
      "\n",
      " joined the boxing club as a manager because of him.Ch. 17 She leaves the boxing club when she\n",
      ".\n",
      "\n",
      " , and they impersonate each other on certain occasions.Ch. 7 Suzume Ōzora (\n",
      ".\n",
      "\n",
      "s , costing a total ofNOK 100 million . They were intended to do the main haul of the\n",
      " .\n",
      "\n",
      ".Stibine decomposes spontaneously at room temperature . Because stibine has a positive heat of formation\n",
      " .\n",
      "\n",
      " The Hardy Show , The Hardys ' internet show . He also performed as the stunt On March 19 ,\n",
      " .\n",
      "\n",
      " though some in game situations will not effect the statistic . Below is a listing of all player statistics for the\n",
      " .\n",
      "\n",
      " very pushy towards Tsubame whom he likes.Ch. 13 , 18 His family members have the\n",
      ".\n",
      "\n",
      " Tsugumi is voiced by Fumi Hirano . \n",
      " Tsubame Ōzora (\n",
      " .\n",
      "\n",
      "--- Finding top activating examples for Feature 1655 ---\n",
      "\n",
      " improve the strength of the erectile response . \n",
      " = Sovetsky Soyuz @-@ class\n",
      "\n",
      "\n",
      "\n",
      " homes , and tended by relatives and friends . \n",
      " Barker died at Worthing Hospital on 16 February 1973\n",
      "\n",
      "\n",
      "\n",
      " her remaining work and published posthumously . \n",
      " = = Biography = = \n",
      " = =\n",
      "\n",
      "\n",
      "\n",
      " a pre @-@ World Cup friendly . \n",
      " He came on as a substitute on 61 minutes in\n",
      "\n",
      "\n",
      "\n",
      " took another two doses when she returned home . \n",
      " In a ceremony a few days after Juan Perón\n",
      "\n",
      "\n",
      "\n",
      " , one should wear the correction legally required . \n",
      " = = = Avoidance of conventional treatment = =\n",
      "\n",
      "\n",
      "\n",
      " its fuzes did not work properly . \n",
      " = = Production = = \n",
      " The shells of\n",
      "\n",
      "\n",
      "\n",
      " commercial hit and was praised by most critics . \n",
      " Its audiobook version , performed by a full cast\n",
      "\n",
      "\n",
      "\n",
      " rural markets in Yunnan in southwestern China . \n",
      " = = = Chemical composition = = = \n",
      "\n",
      "\n",
      "\n",
      "\n",
      " in front of the Texas Legislature several times . \n",
      " In 1960 , the Singing Cadets next director\n",
      "\n",
      "\n",
      "\n",
      "--- Finding top activating examples for Feature 924 ---\n",
      "\n",
      " 2012 by The Weinstein Company in the United States and Canada to critical acclaim . The film received three nominations at\n",
      " Canada\n",
      "\n",
      " of 400 children by families in the US and the Netherlands was expedited , Unicef and SOS Children\n",
      " Netherlands\n",
      "\n",
      " and citizens began hoarding specie , gold and silver coins . In late December 1861 , banks and then\n",
      " silver\n",
      "\n",
      " number of imitations produced in Germany and the United States . The Wilhelm Busch Prize and the Wilhelm Bus\n",
      " States\n",
      "\n",
      " to prevent soil erosion , constructed 164 reservoirs and 249 dams . A sixth of all CPS work was performed in\n",
      " dams\n",
      "\n",
      " recorded the song a cappella in English and Spanish for the album ¡ Ni Un Paso Atras\n",
      " Spanish\n",
      "\n",
      " on July 1 , 1992 in the United States and Canada . The episode was later included on the Star Trek\n",
      " Canada\n",
      "\n",
      " Howe 's orders on both 29 May and 1 June . Molloy 's request for an official\n",
      " June\n",
      "\n",
      ". Gen. Earl Van Dorn in April and May 1862 , and accountability for it is lost at that\n",
      " May\n",
      "\n",
      " developed by Neversoft for the Xbox 360 and PlayStation 3 versions , while the Wii version of the game is\n",
      " 3\n",
      "\n",
      "--- Finding top activating examples for Feature 514 ---\n",
      "\n",
      " the US , even on house sparrows . Lice include Menacanthus eurystemus ,\n",
      " L\n",
      "\n",
      " third , and typically largest , leg segments ) . Like many jumping spiders , Z. sexpunctatus\n",
      " Like\n",
      "\n",
      " 26 – 49 lb ) . This antelope features a slightly raised back , and long neck and limbs .\n",
      " a\n",
      "\n",
      "chaete worms when compared to smaller rays . This species is parasitized by the tapeworm Acanth\n",
      " species\n",
      "\n",
      "roph ( \" uterine milk \" ) . This species lacks economic value but is caught incidentally in bottom tra\n",
      " species\n",
      "\n",
      " kg ( 2 to 9 lb ) at maturity . Males are larger than females . Twenty @-@ eight\n",
      " Males\n",
      "\n",
      " Karagin , Commander and Shantar Islands . The species was exterminated twice in Crimea , once after the\n",
      " species\n",
      "\n",
      " ( South Africa ) . The oribi has been classified as Least Concern by the = = Tax\n",
      " been\n",
      "\n",
      " ) of the Atlantic coast . In Argentina , the species makes use of a variety of natural and man @\n",
      " species\n",
      "\n",
      " the Eastern Cape ( South Africa ) . It is feared to be extinct in Burundi . \n",
      "\n",
      " feared\n",
      "\n",
      "--- Finding top activating examples for Feature 2041 ---\n",
      "\n",
      " @-@ episode anime television series adaptation , produced by Toei Animation and directed by Takashi Hisa\n",
      " by\n",
      "\n",
      " by Masamune Shirow . The film was written by Kazunori Itō , directed by Mam\n",
      " written\n",
      "\n",
      " and directed by Takashi Hisaoka . It aired from May 20 , 1983 to January 27 , 1984\n",
      " aired\n",
      "\n",
      " on Norita 's original concept . The anime contained twelve episodes which aired between October 6 and December 24\n",
      " contained\n",
      "\n",
      " since March 1993 when the imprint was introduced . Its central character is the streetwise magician John Constantine , who\n",
      " central\n",
      "\n",
      " Balliett and illustrated by Brett Helquist . Set in Hyde Park , Chicago near the University of Chicago\n",
      " Set\n",
      "\n",
      " both networks had ever spent on a series . Heller centered the series ' narrative on the perspectives of two common\n",
      " centered\n",
      "\n",
      " Brazoria County , Texas . The Temple Houston series lasted for only twenty @-@ six episodes in the\n",
      " lasted\n",
      "\n",
      " an American contemporary horror comic book series , originally published by DC Comics , and subsequently by the Vertigo imprint\n",
      " by\n",
      "\n",
      " Rebecca Stead , first published in 2007 . The novel follows Peter , who is in Greenland with his father and\n",
      " follows\n",
      "\n",
      "--- Finding top activating examples for Feature 1078 ---\n",
      "\n",
      " vertically orientated , and came factory fitted Its two drivers are a 180 mm paper woofer and a 35\n",
      " drivers\n",
      "\n",
      " elevation range of − 5 ° to Their secondary armament of ten 50 @-@ calibre BL 6\n",
      "ament\n",
      "\n",
      " an elevation range of − 5 ° to Their secondary armament of ten 50 @-@ calibre BL\n",
      " arm\n",
      "\n",
      " 24 February 1930 . During the ship ' Her new design improved on her half @-@ sister HMS Furious\n",
      " design\n",
      "\n",
      " 's sister as both designs resembled each Her green eyes were meant to symbolize nature and also served as\n",
      " eyes\n",
      "\n",
      " Dirty Little Shorts \" . \n",
      " His existential work Pornographic Apathetic deals with four people recounting\n",
      " work\n",
      "\n",
      " from his sane state . His powers of reason , though thus warped , were not taken from him , and\n",
      " though\n",
      "\n",
      " orientated , and came factory fitted Its two drivers are a 180 mm paper woofer and a 35 mm\n",
      " are\n",
      "\n",
      " , and raising of young . \n",
      " Their main tunnels are used for feeding and for escape : they can\n",
      " tunnels\n",
      "\n",
      " circumstances beyond their control was one Baker explored His primary focus was gay @-@ themed writing , though he\n",
      " focus\n",
      "\n",
      "--- Finding top activating examples for Feature 453 ---\n",
      "\n",
      " that recognizes the power of God to grant a person the ability to overcome sexual desires . \n",
      " Modesty\n",
      " the\n",
      "\n",
      " councillor and secretary of state , with the granting of the title of Earl of Salisbury in 1605 ,\n",
      " the\n",
      "\n",
      "vert in 1623 for his loyalty by granting him a 2 @,@ 300 @-@ acre (\n",
      " a\n",
      "\n",
      " Clement Attlee announced that the British government would grant full self @-@ governance to British India by June\n",
      " full\n",
      "\n",
      "ivode of Ruthenia , which granted him a seat in the Senate of Poland . He was the\n",
      " a\n",
      "\n",
      " off in 1632 . The king first granted him a location south of Jamestown , but Baltimore asked\n",
      " a\n",
      "\n",
      " with the British government regarding terms for the granting of full independence , the predominantly white minority government of the self\n",
      " full\n",
      "\n",
      " in the town , where tenants Keswick was granted a charter for a market in 1276 by Edward I\n",
      " a\n",
      "\n",
      " paid off in 1632 . The king first granted him a location south of Jamestown , but Baltimore\n",
      " him\n",
      "\n",
      " dispute with the British government regarding terms for the granting of full independence , the predominantly white minority government of the\n",
      " of\n",
      "\n",
      "--- Finding top activating examples for Feature 2491 ---\n",
      "\n",
      " distributed to male U.S. military members , but also heavily promoted with films , posters , and lectures\n",
      " but\n",
      "\n",
      " longest and highest @-@ budgeted production , but also among the most expensive TV series to have been\n",
      " but\n",
      "\n",
      " Buffalo inherited not only the status afforded his family , but also had skills praised in his grandfather Andaig\n",
      " but\n",
      "\n",
      " power was not only being recognised in high places , but clearly starting to irritate . On being told that\n",
      " but\n",
      "\n",
      "@ handedly reviving the game show genre , but also breaking new ground for it . The series revolution\n",
      " but\n",
      "\n",
      " senior churchmen and two knights from each county , but also two burgesses from each of the major towns\n",
      " but\n",
      "\n",
      " not only the engineering agencies of the central government , but also the many workshops and artisan families Yingzao\n",
      " but\n",
      "\n",
      " building manuals aided not only the various private workshops , but also the craftsmen employed by the central government .\n",
      " but\n",
      "\n",
      " as the four @-@ time defending champion , but also riding a 48 @-@ match winning streak\n",
      " but\n",
      "\n",
      " Uí Chennselaig dynast , but was also in the process of using the town as\n",
      " but\n",
      "\n",
      "--- Finding top activating examples for Feature 1527 ---\n",
      "\n",
      " , a book of Dylan 's drawings . In 2007 , the first public exhibition of Dylan 's paintings\n",
      " 2007\n",
      "\n",
      ". 54 Adrian Hubbard ( DE ) ; No. 74 Chad Lindsay ( OG ) ; No. 89 Ke\n",
      " 74\n",
      "\n",
      " ultimatum , telling her husband , Orson ( Kyle MacLachlan ) , that she will\n",
      " (\n",
      "\n",
      ". 74 Chad Lindsay ( OG ) ; No. 89 Keiwone Malone ( WR ) ; No.\n",
      " 89\n",
      "\n",
      " film Renaldo and Clara and episodes of the 1985 television drama Edge of Darkness . The lyrics to \" Time\n",
      " television\n",
      "\n",
      " boyfriend Derek ( Blake Lee ) and his boyfriend Ben ( Josh Duvendeck ) mock the senior citizens\n",
      " (\n",
      "\n",
      " Dash , the 1955 Bart B Stakes , the 1955 Barbara = = Broodmare and legacy = =\n",
      " 1955\n",
      "\n",
      "edars ( Cryptomeria ) , larches ( Larix ) , spruces , pines\n",
      " (\n",
      "\n",
      ". 36 John Fulton ( CB ) ; No. 54 Adrian Hubbard ( DE ) ; No. 74 Chad\n",
      " 54\n",
      "\n",
      " Larix ) , spruces , pines ( Pinus ) and Douglas firs as hosts .\n",
      " (\n",
      "\n",
      "--- Finding top activating examples for Feature 2516 ---\n",
      "\n",
      " 't see myself as covering these songs in any way . They 've been covered enough . Buried\n",
      " way\n",
      "\n",
      " not build a temple to the sun god Ra , possibly reflecting the rise of Osiris in the Egyptian pantheon\n",
      " possibly\n",
      "\n",
      " the company was not able to make its debt payments or supplier payments . The partners had stopped payments to the\n",
      " or\n",
      "\n",
      " & Porter ; the issues , which were not dated or numbered , appeared in October 1949 and February and June\n",
      " or\n",
      "\n",
      " kg ) . No names of the engineers were recorded or appear in the inscriptions on the bridges , which\n",
      " or\n",
      "\n",
      " , \" I don 't believe that White has a forced win in Chess . I do however believe that\n",
      " a\n",
      "\n",
      " found that such techniques could objectively benefit eyesight , though some studies noted changes , both positive and negative ,\n",
      " though\n",
      "\n",
      " still did not show a complete freeway in eastern Ottawa or southern Kent counties . Services such as Mapquest and\n",
      " or\n",
      "\n",
      " could even be attempted , but he does not rule out the possibility , saying that the one thing he learned\n",
      " out\n",
      "\n",
      " information . No one in 1970 could build a database so large and no one knew how a program might learn\n",
      " so\n",
      "\n",
      "--- Finding top activating examples for Feature 226 ---\n",
      "\n",
      "-@ paced development projects . \n",
      " A mass exile of Mozambique 's political intelligentsia\n",
      " exile\n",
      "\n",
      " our tables . We wished to A marooned French Huguenot , François Leguat ,\n",
      " French\n",
      "\n",
      " was sold , many Midge play A 35th anniversary Midge reproduction doll was sold in 1998 for collectors\n",
      " anniversary\n",
      "\n",
      "�� , ჰ \n",
      " An equal number have descenders , like p or q in English\n",
      " number\n",
      "\n",
      " Osterman / Doctor Manhattan \n",
      " A superpowered being who is contracted by the United States government .\n",
      "powered\n",
      "\n",
      "@ cast from the wall \n",
      " A sluice with blackened waters slept , \n",
      " And o\n",
      "ice\n",
      "\n",
      " doll was sold , many Midge play A 35th anniversary Midge reproduction doll was sold in 1998 for\n",
      "th\n",
      "\n",
      " basketball , Florida Atlantic celebrates a \" Midnight Madness \" pep rally that introduces fans to the team and coaches\n",
      " p\n",
      "\n",
      " Chronicle , emphasizing his bravery .  A Venetian fleet forced Vatatzes ' naval forces to\n",
      "ian\n",
      "\n",
      "@ down trains . \n",
      " A mimed stage show , Thunderbirds : F.A.B.\n",
      " show\n",
      "\n",
      "--- Finding top activating examples for Feature 2177 ---\n",
      "\n",
      " notebooks that Mantell first acquired In recognition of the resemblance of the teeth to those of the iguana ,\n",
      " resemblance\n",
      "\n",
      " = Film = = = \n",
      " Apart from multiple \" made @-@ for @-@ television \"\n",
      " \"\n",
      "\n",
      "illion ( 3 × 1023 ) . While it is often believed that stars only exist within galaxies , inter\n",
      " is\n",
      "\n",
      " . \n",
      " The quoted death date is not only unreliable because the book is fiction , but also because the\n",
      " unreliable\n",
      "\n",
      " getting rid Due to their low weight and the fact that they had only one control wire per leg , the\n",
      " that\n",
      "\n",
      " the construction of Fort Peck Dam . Although there are few designated trails , the whole preserve is open to hiking\n",
      " few\n",
      "\n",
      " history to its proper state . While they are successful and Barbatos is felled , Elrane continues\n",
      " and\n",
      "\n",
      " from the city . While its proximity caused the Knights problems with regard to defending their territory , it also meant\n",
      " problems\n",
      "\n",
      "izards . While the consumption of invertebrates is necessary for successful breeding , common starlings are omniv\n",
      " necessary\n",
      "\n",
      " Articles was begun in August 1646 . While there is little record of the actions of the Assembly during the\n",
      " is\n",
      "\n",
      "--- Finding top activating examples for Feature 1018 ---\n",
      "\n",
      "ted the ball seven times for 302 yards . His longest was a 61 – yard kick , and he had\n",
      " longest\n",
      "\n",
      "ting the ball four times for 169 yards . His longest punt was 52 yards , and one kick was downed\n",
      " longest\n",
      "\n",
      " game preserving the 24 – 21 LSU victory . Turnovers proved costly for Alabama with LSU scoring field = =\n",
      "overs\n",
      "\n",
      " the Round of 32 , 67 – 64 . At the conclusion of the season , Dunham was selected to the\n",
      " the\n",
      "\n",
      " touchdown , and ECU increased its lead to 38 – 14 . \n",
      " To begin its first series of\n",
      " –\n",
      "\n",
      " previous mark of 41 set by Shaun Alexander . The contest also marked both Nick Saban 's and Bobby Williams\n",
      " contest\n",
      "\n",
      " a trio of second @-@ quarter touchdowns . Mark Ingram scored on runs of six and one — yard\n",
      " Mark\n",
      "\n",
      " Greg McElroy pass . Up by 35 points late in the third , the Crimson Tide pulled many of\n",
      " late\n",
      "\n",
      " In 2001 , Ireland defeated England 20 – 14 in a postponed match at Lansdowne Road to deny them\n",
      " a\n",
      "\n",
      " matches , to go with 44 wickets . In the wet summer of 1958 Somerset finished third in the Championship\n",
      " the\n",
      "\n",
      "--- Finding top activating examples for Feature 2615 ---\n",
      "\n",
      " and for spawning her successful film career . Praised for her performance as Rachel , Aniston won both an\n",
      " for\n",
      "\n",
      " TV.com gave a Alan Sepinwall praised the episode compared to the first few episodes of the season\n",
      " the\n",
      "\n",
      " production the best since the original , and praised it for its fidelity to Wilde 's conception , its As\n",
      " for\n",
      "\n",
      " Emraan Hashmi ) . Fernandez was praised for the her performance , and for the boldness and\n",
      " for\n",
      "\n",
      " , and of a generation IGN reviewer Eric Goldman praised the performances of John Slattery and Peyton List and said\n",
      " the\n",
      "\n",
      " Illinois with a world tour . \n",
      " Critics praised the album for its well @-@ written lyrics and\n",
      " the\n",
      "\n",
      " New York writer Steven Heisler praised the episode for avoiding \" sitcom @-@ y territory \" with\n",
      " for\n",
      "\n",
      " called the track \" excellent \" , and praised it for being an original composition which is reminiscent of a \"\n",
      " for\n",
      "\n",
      " the 1831 Westminster Review , J. Fox praises the depiction of women within the whole of Poems ,\n",
      " the\n",
      "\n",
      " . The water operates from Residents and critics have praised the fountain for its artistic and entertainment features . It highlights\n",
      " the\n",
      "\n",
      "--- Finding top activating examples for Feature 1688 ---\n",
      "\n",
      "ald , and once scored 16 times in a 26 – 0 rout . \n",
      " = = Club career =\n",
      " –\n",
      "\n",
      " who have been talking about plans for the next 12 to 18 months . \" A member of Anonymous calling herself\n",
      " to\n",
      "\n",
      "heric trough ( TUTT ) caused a 36 ‑ hour period of rapid development beginning on July 19\n",
      " �\n",
      "\n",
      " needs , the government stepped in and mandated a 10 @,@ 000 @-@ long @-@\n",
      " @\n",
      "\n",
      " footage from The Legend was taken from an earlier 26 @-@ minute biographical documentary by Peter Rodis\n",
      " @\n",
      "\n",
      "th on the Cleveland Browns top 100 players list . \n",
      " = = Post football = = \n",
      " D\n",
      " \n",
      "\n",
      " an Australian XI against the tourists in Melbourne on 18 – 22 November , in what was effectively a Test rehearsal\n",
      " –\n",
      "\n",
      " were still armed with obsolete flintlock weapons . \n",
      " The \" Summaries of Work done at\n",
      " \n",
      "\n",
      "U began the second quarter on Boise 's 30 – yard line , and quarterback Patrick Pinkney continued the\n",
      " –\n",
      "\n",
      " in 1990 . In 1991 , he began a six @-@ year stint as Regimental Commanding Officer\n",
      " @\n",
      "\n",
      "--- Finding top activating examples for Feature 756 ---\n",
      "\n",
      " University of California Press . June 2008 ; ISBN 0 @-@ 520 @-@ 24989 @-\n",
      " @\n",
      "\n",
      " further inland by 2nd New Zealand Division ( Lieutenant @-@ General Bernard Freyberg ) and XIII Corps\n",
      " @\n",
      "\n",
      "-@ tailed jackrabbit . The black @-@ tailed jackrabbit has been successfully\n",
      " @\n",
      "\n",
      " . The crusaders ultimately refused the offer . Al @-@ Kamil tried to send provisions to Dam\n",
      " @\n",
      "\n",
      " presence in Somalia . Throughout 2007 and 2008 , Al @-@ Shabaab scored military victories , seizing\n",
      " @\n",
      "\n",
      " . \" The IPC defines this class for para @-@ Nordic skiing as for \" those with impair\n",
      " @\n",
      "\n",
      "gh ) and 8th Indian Infantry Division ( Major @-@ General Dudley Russell ) with supporting and diversion\n",
      " @\n",
      "\n",
      "nought HMS King Edward VII , the Italian pre @-@ dreadnought Ammiraglio di\n",
      " @\n",
      "\n",
      "-@ tailed jackrabbit . The black @-@ tailed jackrabbit 's dorsal\n",
      " @\n",
      "\n",
      " Baja California Sur and Zacatecas . Black @-@ tailed jackrabbit distribution is currently\n",
      " @\n",
      "\n",
      "--- Finding top activating examples for Feature 2363 ---\n",
      "\n",
      " in 1997 . The gender distribution was 465 males ( 48 @.@ 4 % ) and 494 females\n",
      " 48\n",
      "\n",
      " central pressure deepening to 1000 mph ( hPa ; 29 @.@ 53 inHg ) . On\n",
      " 29\n",
      "\n",
      " by 1 – 2 @.@ 5 cm ( 0 @.@ 4 – 1 @.@ 0\n",
      " 0\n",
      "\n",
      " in ) in diameter by 2 to 5 cm ( 0 @.@ 8 to 2 @.@ 0\n",
      " 0\n",
      "\n",
      "osoma measures 7 @.@ 4 mm ( 0 @.@ 29 in ) , the length of\n",
      " 0\n",
      "\n",
      " by between 7 and 9 micrometres ( 0 @.@ 00028 and 0 @.@\n",
      " 0\n",
      "\n",
      " ) and Sir Roger Wilbraham , ( 1553 @-@ 1616 ) . The commission spent\n",
      "53\n",
      "\n",
      " ) at high tide and about 16 km2 ( 6 @.@ 2 sq mi ) at low tide\n",
      " 6\n",
      "\n",
      "rical , measuring 0 @.@ 75 mm ( 0 @.@ = = Discovery and classification = =\n",
      " 0\n",
      "\n",
      " ) or possibly 1 @.@ 2 m ( 3 @.@ 9 ft ) ; females grow larger\n",
      " 3\n",
      "\n",
      "--- Finding top activating examples for Feature 1696 ---\n",
      "\n",
      " bird in the honeyeater family , Meliphagidae , and is endemic to eastern and south @\n",
      "ag\n",
      "\n",
      " large family of honeyeaters known as Meliphagidae , the other three being the black @-\n",
      "ag\n",
      "\n",
      " of iron led to social changes in Britain . Deposits of iron ore were located in different places to\n",
      "os\n",
      "\n",
      " tweeter . The woofer 's diaphragm , weighing 3 @.@ 7 g ,\n",
      "rag\n",
      "\n",
      " song \" Captive Heart \" is an Electropop song performed in a rhythmical R & B pop\n",
      "op\n",
      "\n",
      "49 continues north . \n",
      " Exiting Bobcaygeon , the former highway serves cottages along\n",
      "ay\n",
      "\n",
      " which were controlled by women , such as diaphragms and spermicidal douches . Other\n",
      "rag\n",
      "\n",
      " as well as to multiple communities , including Bobcaygeon . Today it is known as Kawartha\n",
      "ay\n",
      "\n",
      "ogaster ( 1 species ) \n",
      " Gyroporaceae \n",
      " Gyroporus ( 10 species )\n",
      "or\n",
      "\n",
      " is a 1950s @-@ themed electropop and synthpop song in which Roberts sings about an\n",
      "op\n",
      "\n",
      "--- Finding top activating examples for Feature 808 ---\n",
      "\n",
      "ledge . ISBN 978 @-@ 0 @-@ 4159 @-@ 4365 @-@\n",
      "@\n",
      "\n",
      "Collins . ISBN 978 @-@ 0 @-@ 06 @-@ 175352 @-@ 7\n",
      "@\n",
      "\n",
      " Brewer . ISBN 978 @-@ 0 @-@ 8511 @-@ 5940 @-@\n",
      "@\n",
      "\n",
      " Press . ISBN 978 @-@ 0 @-@ 1997 @-@ 7448 @-@ 7\n",
      "@\n",
      "\n",
      " Press . ISBN 978 @-@ 0 @-@ 6740 @-@ 0547 @-@\n",
      "@\n",
      "\n",
      " Press . ISBN 978 @-@ 0 @-@ 2405 @-@ 1943 @-@ 2\n",
      "@\n",
      "\n",
      " International . ISBN 978 @-@ 0 @-@ 85199 @-@ 826 @-@\n",
      "@\n",
      "\n",
      " Press . ISBN 978 @-@ 0 @-@ 300 @-@ 11501 @-@ 7\n",
      "@\n",
      "\n",
      " Media . ISBN 978 @-@ 0 @-@ 3064 @-@ 6710 @-@\n",
      "@\n",
      "\n",
      " Press . ISBN 978 @-@ 0 @-@ 2621 @-@ 1243 @-@\n",
      "@\n",
      "\n",
      "--- Finding top activating examples for Feature 2018 ---\n",
      "\n",
      " river had not yet been diverted . The cofferdams were designed to protect against the possibility of the river\n",
      "ams\n",
      "\n",
      " surrounding area . As a side effect , the weir also reduced the volume While the route to the falls\n",
      "ir\n",
      "\n",
      " problem ) that had been identified years earlier . Expert systems proved useful , but only in a few special contexts\n",
      " systems\n",
      "\n",
      " any way caused difficulties for both the government and the COs . The treatment received = = = Preparation\n",
      " CO\n",
      "\n",
      " vulgaris are derived from the Latin for \" starling \" and \" common \" respectively . The Old English\n",
      "ling\n",
      "\n",
      " linear extensions of the reachability relation for the DAG , so any two graphs representing the same partial order\n",
      "AG\n",
      "\n",
      " with the arms of Poland in the white stripe . Flags of some administrative subdivisions also resemble the national flag\n",
      " Flags\n",
      "\n",
      " was influenced by the discovery that information collected by FITs , included that which was unrelated to suspected crimes\n",
      "IT\n",
      "\n",
      " magic of what the world agrees are the great Odes \" but describes the language as \" [ d ]\n",
      "des\n",
      "\n",
      " other flows have been recovered as core samples . Lavas younger than 1 @,@ 000 years cover 90\n",
      "as\n",
      "\n",
      "--- Finding top activating examples for Feature 1071 ---\n",
      "\n",
      " were critical and commercial failures from the previous year . Critics described Charmbracelet as one of her most personal\n",
      " Critics\n",
      "\n",
      " from earlier storms as well as ongoing harvesting . Some flooding also took place across the Atascosa River watershed\n",
      " flooding\n",
      "\n",
      "@ sprint ability . The cougar is able to leap as high as 5 @.@ 5 m (\n",
      " leap\n",
      "\n",
      " diving and handling characteristics were noted . To alleviate the diving problems , U @-@ 3 's fins\n",
      " diving\n",
      "\n",
      " men alone . They advocated instead for methods which were controlled by women , such as diaphragms and\n",
      " controlled\n",
      "\n",
      " . He also noted the track selection \" favors the bold , \" but that \" she NPR 's Ken\n",
      " bold\n",
      "\n",
      " , and skulls in order for the game to follow censorship policies of the country . In November 2012 , a\n",
      " censorship\n",
      "\n",
      " drawn up well in advance of the invasion . The looting was supervised by experts of the SS @-@\n",
      " looting\n",
      "\n",
      " are a little less than 9 @,@ 300 known species of prokaryotes , = = Inter\n",
      " known\n",
      "\n",
      " was the SN 1006 supernova , which was observed in 1006 and written about by the Egyptian astronomer\n",
      " observed\n",
      "\n",
      "--- Finding top activating examples for Feature 495 ---\n",
      "\n",
      " was still difficult to propel while rowed . A hemmema had the potential to be an effective weapon\n",
      " he\n",
      "\n",
      " moved to the Bronx Zoo for convalescence . Pattycake was treated by veterinarian Emil Dolensek who\n",
      " Patty\n",
      "\n",
      " their lower limbs and fair sitting balance . \" The IPC defines this class for para @-@ Nordic\n",
      " I\n",
      "\n",
      " Details of individual vessels are listed below . The Swedish hemmemas were all built to the same specifications\n",
      " he\n",
      "\n",
      " an Iguanodon back to the present . Iguanodon is one of the three dinosaur gener\n",
      " I\n",
      "\n",
      " more detailed logical structure and expression . The Sanskrit compound an @-@ eka @-@ anta\n",
      " an\n",
      "\n",
      " or hadrosaurs . In older sources , Iguanodontidae was shown as a distinct\n",
      " I\n",
      "\n",
      " games along with several other improper patent pending claims . PCG claims that \" Acts of false marketing deter innovation\n",
      " PC\n",
      "\n",
      "ailz began the match by attempting to get the nightstick , but Boss Man stopped him . Nail\n",
      " night\n",
      "\n",
      " other two were Tyrannosaurus and Stegosaurus . Iguanodon has also made appearances in some of\n",
      " I\n",
      "\n",
      "--- Finding top activating examples for Feature 1703 ---\n",
      "\n",
      "mic \" blood disorders , such as myelodysplastic syndrome ( MDS ) or myel\n",
      "ys\n",
      "\n",
      " leukemia . \n",
      " = = = Myelodysplastic syndrome = = = \n",
      " AML\n",
      "ys\n",
      "\n",
      "ick , the former maverick , the curmudgeon , the In his own estimation , the Arizona\n",
      "mud\n",
      "\n",
      " entry requirements based on GCSE attainment = = Curriculum = = \n",
      " The curriculum during the 17\n",
      "ric\n",
      "\n",
      " the north . He gained support from the Torodbe clerical clan against the warriors , but by 16\n",
      "be\n",
      "\n",
      " Writing for The History of WWE , Matt Pettycord stated that the event was \" pretty decent \" considering\n",
      "ord\n",
      "\n",
      " As of 2014 , the school follows the National Curriculum in years 7 – 11 and offers a range\n",
      "ric\n",
      "\n",
      " the obverse and a sprig of Rhododendron maximum on the reverse . In order to reproduce\n",
      "end\n",
      "\n",
      " mass units ) , or the derivative unit kilodalton ( kDa ) . Yeast proteins are\n",
      "al\n",
      "\n",
      " in the center , wreathed by Rhododendron maximum and topped by an unfurled red\n",
      "end\n"
     ]
    }
   ],
   "source": [
    "# Show token and context\n",
    "result = []\n",
    "for feature_idx in top_max_activation_indices:\n",
    "    c = get_max_activating_examples(feature_index=feature_idx, num_examples=10, window_size=10)\n",
    "    result.append(c)\n",
    "    for i in c:\n",
    "        print(f\"\\n{i['context']}\")\n",
    "        print(i['token'])"
   ]
  },
  {
   "cell_type": "markdown",
   "metadata": {},
   "source": [
    "# Debug"
   ]
  },
  {
   "cell_type": "code",
   "execution_count": 21,
   "metadata": {},
   "outputs": [
    {
     "name": "stdout",
     "output_type": "stream",
     "text": [
      "DEBUG: Inspecting sample SAE features...\n",
      "Sample features shape: torch.Size([10000, 3072])\n",
      "Sample features min: 0.000000\n",
      "Sample features max: 0.100413\n",
      "Sample features mean: 0.000679\n",
      "Sample features std: 0.002022\n",
      "\n",
      "Sample L0 norm (avg active features per input): 675.3610\n",
      "Total active feature values in sample: 6753610.0\n",
      "Fraction of active feature values: 0.219844\n",
      "\n",
      "Number of features that NEVER activated in the sample: 1800 / 3072\n"
     ]
    }
   ],
   "source": [
    "print(\"DEBUG: Inspecting sample SAE features...\")\n",
    "sae_model.eval()\n",
    "sae_model.to(device) # Ensure model is on GPU\n",
    "\n",
    "# Use a subset of activations to avoid RAM issues if all_activations is huge\n",
    "num_inspect_samples = min(10000, all_activations.shape[0]) # Inspect up to 10k samples\n",
    "sample_indices = torch.randperm(all_activations.shape[0])[:num_inspect_samples]\n",
    "\n",
    "# Keep activations on CPU for this inspection if they fit, otherwise batch\n",
    "sample_acts_cpu = all_activations[sample_indices]\n",
    "\n",
    "# Calculate features in batches to avoid OOM on GPU if necessary\n",
    "batch_size_inspect = 1024\n",
    "all_sample_features_list = []\n",
    "with torch.no_grad():\n",
    "    for i in range(0, num_inspect_samples, batch_size_inspect):\n",
    "        batch_acts_gpu = sample_acts_cpu[i:i+batch_size_inspect].to(device)\n",
    "        batch_features_gpu = sae_model.encode(batch_acts_gpu)\n",
    "        all_sample_features_list.append(batch_features_gpu.cpu()) # Move features to CPU\n",
    "\n",
    "sample_features = torch.cat(all_sample_features_list, dim=0)\n",
    "\n",
    "print(f\"Sample features shape: {sample_features.shape}\") # Should be (num_inspect_samples, SAE_HIDDEN_DIM)\n",
    "print(f\"Sample features min: {sample_features.min():.6f}\")\n",
    "print(f\"Sample features max: {sample_features.max():.6f}\")\n",
    "print(f\"Sample features mean: {sample_features.mean():.6f}\")\n",
    "print(f\"Sample features std: {sample_features.std():.6f}\")\n",
    "\n",
    "# Calculate L0 norm for the sample (more accurate than just min/max/mean)\n",
    "# Use a small threshold to account for floating point inaccuracies\n",
    "active_features = (sample_features > 1e-6).float()\n",
    "avg_l0_per_input = active_features.sum(dim=1).mean().item()\n",
    "total_active_features = active_features.sum().item()\n",
    "fraction_active = total_active_features / sample_features.numel()\n",
    "\n",
    "print(f\"\\nSample L0 norm (avg active features per input): {avg_l0_per_input:.4f}\")\n",
    "print(f\"Total active feature values in sample: {total_active_features}\")\n",
    "print(f\"Fraction of active feature values: {fraction_active:.6f}\")\n",
    "\n",
    "# Check proportion of DEAD features (never activate across the sample)\n",
    "features_never_activated = (active_features.sum(dim=0) == 0).sum().item()\n",
    "print(f\"\\nNumber of features that NEVER activated in the sample: {features_never_activated} / {SAE_HIDDEN_DIM}\")\n",
    "\n",
    "del sample_acts_cpu, all_sample_features_list, sample_features, active_features # Cleanup\n",
    "gc.collect()\n",
    "if device == torch.device(\"cuda\"):\n",
    "    torch.cuda.empty_cache()"
   ]
  },
  {
   "cell_type": "code",
   "execution_count": 22,
   "metadata": {},
   "outputs": [
    {
     "name": "stdout",
     "output_type": "stream",
     "text": [
      "SAE model weights saved to: runs/gpt2_transformer.h.5.attn.c_proj_sae_training_logs_20250416-160135/sae_gpt2_transformer.h.5.attn.c_proj.pth\n"
     ]
    }
   ],
   "source": [
    "sae_model_path = f\"{log_dir}/sae_{MODEL_NAME}_{LAYER_NAME}.pth\"\n",
    "torch.save(sae_model.state_dict(), sae_model_path)\n",
    "print(f\"SAE model weights saved to: {sae_model_path}\")"
   ]
  },
  {
   "cell_type": "markdown",
   "metadata": {},
   "source": [
    "# Create report"
   ]
  },
  {
   "cell_type": "code",
   "execution_count": 23,
   "metadata": {},
   "outputs": [
    {
     "name": "stdout",
     "output_type": "stream",
     "text": [
      "Report generated at: runs/gpt2_transformer.h.5.attn.c_proj_sae_training_logs_20250416-160135/report.pdf\n",
      "Report generated at: runs/gpt2_transformer.h.5.attn.c_proj_sae_training_logs_20250416-160135/report.pdf\n"
     ]
    }
   ],
   "source": [
    "import matplotlib.pyplot as plt\n",
    "from matplotlib.backends.backend_pdf import PdfPages\n",
    "from datetime import datetime\n",
    "def create_experiment_report():\n",
    "    report_path = f\"{log_dir}/report.pdf\"\n",
    "\n",
    "    with PdfPages(report_path) as pdf:\n",
    "        plt.figure(figsize=(11, 8))\n",
    "\n",
    "        # Title Page\n",
    "        plt.text(0.5, 0.8, \"Sparse Autoencoder Experiment Report\", \n",
    "                ha='center', va='center', fontsize=20)\n",
    "        plt.text(0.5, 0.6, f\"Date: {datetime.now().strftime('%Y-%m-%d %H:%M:%S')}\", \n",
    "                ha='center', va='center', fontsize=12)\n",
    "        plt.text(0.5, 0.5, f\"Model: {MODEL_NAME} | Layer: {LAYER_NAME}\", \n",
    "                ha='center', va='center', fontsize=12)\n",
    "        plt.axis('off')\n",
    "        pdf.savefig()\n",
    "        plt.close()\n",
    "        # Configuration Summary\n",
    "        plt.figure(figsize=(11, 8))\n",
    "        config_text = [\n",
    "            \"=== Configuration Summary ===\",\n",
    "            f\"\\nModel Architecture:\",\n",
    "            f\"- Target Layer: {LAYER_NAME}\",\n",
    "            f\"- Activation Dim: {ACTIVATION_DIM}\",\n",
    "\n",
    "            f\"\\nDataset:\",\n",
    "            f\"- Name: {DATASET_NAME} ({DATASET_CONFIG})\",\n",
    "            f\"- Samples Stored: {NUM_ACTIVATIONS_TO_STORE:,}\",\n",
    "            f\"- Max Sequence Length: {MAX_SEQ_LENGTH}\",\n",
    "\n",
    "            f\"\\nSAE Architecture:\",\n",
    "            f\"- Hidden Dim: {SAE_HIDDEN_DIM}\",\n",
    "            f\"- Expansion Factor: {SAE_EXPANSION_FACTOR}\",\n",
    "\n",
    "            f\"\\nTraining:\",\n",
    "            f\"- Epochs: {NUM_EPOCHS}\",\n",
    "            f\"- Batch Size: {BATCH_SIZE}\",\n",
    "            f\"- Learning Rate: {LEARNING_RATE}\",\n",
    "            f\"- L1 Coefficient: {L1_COEFF}\"\n",
    "        ]\n",
    "        plt.text(0.1, 0.9, \"\\n\".join(config_text), fontsize=10, va='top')\n",
    "        plt.axis('off')\n",
    "        pdf.savefig()\n",
    "        plt.close()\n",
    "        # Training Curves\n",
    "        plt.figure(figsize=(10, 6))\n",
    "        plt.plot(training_losses['total'], label='Total Loss')\n",
    "        plt.plot(training_losses['mse'], label='MSE Loss')\n",
    "        plt.plot(training_losses['l1'], label='L1 Loss')\n",
    "        plt.xlabel('Epoch')\n",
    "        plt.ylabel('Loss')\n",
    "        plt.title('Training Loss Curves')\n",
    "        plt.legend()\n",
    "        plt.grid(True)\n",
    "        pdf.savefig()\n",
    "        plt.close()\n",
    "        # L0 Norm Plot\n",
    "        plt.figure(figsize=(10, 6))\n",
    "        plt.plot(training_losses['l0'], label='Avg Active Features', color='purple')\n",
    "        plt.xlabel('Epoch')\n",
    "        plt.ylabel('L0 Norm')\n",
    "        plt.title('Average Active Features per Sample')\n",
    "        plt.grid(True)\n",
    "        pdf.savefig()\n",
    "        plt.close()\n",
    "        # Feature Analysis\n",
    "        plt.figure(figsize=(11, 8))\n",
    "        analysis_text = [\n",
    "            \"=== Feature Analysis ===\",\n",
    "            f\"\\nTop {NUM_TOP_FEATURES_TO_ANALYZE} Features by Max Activation:\",\n",
    "        ]\n",
    "\n",
    "        analysis_text.extend([\n",
    "            f\"\\nFeature Statistics:\",\n",
    "            f\"- Total Features: {SAE_HIDDEN_DIM}\",\n",
    "            f\"- Dead Features: {features_never_activated} ({features_never_activated/SAE_HIDDEN_DIM:.1%})\",\n",
    "            f\"- Avg Features Active per Sample: {avg_l0_per_input:.1f}\"\n",
    "        ])\n",
    "        plt.text(0.1, 0.9, \"\\n\".join(analysis_text), fontsize=10, va='top')\n",
    "        plt.axis('off')\n",
    "        pdf.savefig()\n",
    "        plt.close()\n",
    "        for activations in result:\n",
    "            plt.figure(figsize=(11, 8))\n",
    "            feature_text = \"==NEW FEATURE==\\n\"\n",
    "            for activation in activations:\n",
    "                feature_text = feature_text + f\"Token: {activation['token']}\\n\"\n",
    "            plt.text(0.1, 0.9, feature_text, fontsize=10, va='top')\n",
    "            plt.axis('off')\n",
    "            pdf.savefig()\n",
    "            plt.close()\n",
    "    print(f\"Report generated at: {report_path}\")\n",
    "# Generate the report\n",
    "create_experiment_report()\n",
    "\n",
    "# Generate the report\n",
    "create_experiment_report()"
   ]
  },
  {
   "cell_type": "code",
   "execution_count": null,
   "metadata": {},
   "outputs": [],
   "source": []
  }
 ],
 "metadata": {
  "accelerator": "GPU",
  "colab": {
   "gpuType": "T4",
   "provenance": [],
   "toc_visible": true
  },
  "kernelspec": {
   "display_name": "Python 3 (ipykernel)",
   "language": "python",
   "name": "python3"
  },
  "language_info": {
   "codemirror_mode": {
    "name": "ipython",
    "version": 3
   },
   "file_extension": ".py",
   "mimetype": "text/x-python",
   "name": "python",
   "nbconvert_exporter": "python",
   "pygments_lexer": "ipython3",
   "version": "3.10.12"
  },
  "widgets": {
   "application/vnd.jupyter.widget-state+json": {
    "0270a2478b16473683f73715628fc483": {
     "model_module": "@jupyter-widgets/controls",
     "model_module_version": "1.5.0",
     "model_name": "DescriptionStyleModel",
     "state": {
      "_model_module": "@jupyter-widgets/controls",
      "_model_module_version": "1.5.0",
      "_model_name": "DescriptionStyleModel",
      "_view_count": null,
      "_view_module": "@jupyter-widgets/base",
      "_view_module_version": "1.2.0",
      "_view_name": "StyleView",
      "description_width": ""
     }
    },
    "045811a98a0e488191619ff663a9b9ad": {
     "model_module": "@jupyter-widgets/base",
     "model_module_version": "1.2.0",
     "model_name": "LayoutModel",
     "state": {
      "_model_module": "@jupyter-widgets/base",
      "_model_module_version": "1.2.0",
      "_model_name": "LayoutModel",
      "_view_count": null,
      "_view_module": "@jupyter-widgets/base",
      "_view_module_version": "1.2.0",
      "_view_name": "LayoutView",
      "align_content": null,
      "align_items": null,
      "align_self": null,
      "border": null,
      "bottom": null,
      "display": null,
      "flex": null,
      "flex_flow": null,
      "grid_area": null,
      "grid_auto_columns": null,
      "grid_auto_flow": null,
      "grid_auto_rows": null,
      "grid_column": null,
      "grid_gap": null,
      "grid_row": null,
      "grid_template_areas": null,
      "grid_template_columns": null,
      "grid_template_rows": null,
      "height": null,
      "justify_content": null,
      "justify_items": null,
      "left": null,
      "margin": null,
      "max_height": null,
      "max_width": null,
      "min_height": null,
      "min_width": null,
      "object_fit": null,
      "object_position": null,
      "order": null,
      "overflow": null,
      "overflow_x": null,
      "overflow_y": null,
      "padding": null,
      "right": null,
      "top": null,
      "visibility": "hidden",
      "width": null
     }
    },
    "0527355b91cc461bbcf14a6f9e4b3148": {
     "model_module": "@jupyter-widgets/controls",
     "model_module_version": "1.5.0",
     "model_name": "ProgressStyleModel",
     "state": {
      "_model_module": "@jupyter-widgets/controls",
      "_model_module_version": "1.5.0",
      "_model_name": "ProgressStyleModel",
      "_view_count": null,
      "_view_module": "@jupyter-widgets/base",
      "_view_module_version": "1.2.0",
      "_view_name": "StyleView",
      "bar_color": null,
      "description_width": ""
     }
    },
    "1457663b5ac04dbebe458eaabb6cb652": {
     "model_module": "@jupyter-widgets/controls",
     "model_module_version": "1.5.0",
     "model_name": "FloatProgressModel",
     "state": {
      "_dom_classes": [],
      "_model_module": "@jupyter-widgets/controls",
      "_model_module_version": "1.5.0",
      "_model_name": "FloatProgressModel",
      "_view_count": null,
      "_view_module": "@jupyter-widgets/controls",
      "_view_module_version": "1.5.0",
      "_view_name": "ProgressView",
      "bar_style": "",
      "description": "",
      "description_tooltip": null,
      "layout": "IPY_MODEL_8bb165de3f1f4fb99aaadd788a4db38d",
      "max": 1954,
      "min": 0,
      "orientation": "horizontal",
      "style": "IPY_MODEL_7cbaea4ebd184865a0141614da79579c",
      "value": 1954
     }
    },
    "1da8b159a5e64972876f24242c51ab8c": {
     "model_module": "@jupyter-widgets/controls",
     "model_module_version": "1.5.0",
     "model_name": "FloatProgressModel",
     "state": {
      "_dom_classes": [],
      "_model_module": "@jupyter-widgets/controls",
      "_model_module_version": "1.5.0",
      "_model_name": "FloatProgressModel",
      "_view_count": null,
      "_view_module": "@jupyter-widgets/controls",
      "_view_module_version": "1.5.0",
      "_view_name": "ProgressView",
      "bar_style": "success",
      "description": "",
      "description_tooltip": null,
      "layout": "IPY_MODEL_88f1bd22d3ac4eeb83590a664aaee90c",
      "max": 500000,
      "min": 0,
      "orientation": "horizontal",
      "style": "IPY_MODEL_33f1a0ccad224bec8ddb759e1cff9224",
      "value": 500000
     }
    },
    "1dc057cec3af4bd5bd3d164b3bbb278c": {
     "model_module": "@jupyter-widgets/controls",
     "model_module_version": "1.5.0",
     "model_name": "HBoxModel",
     "state": {
      "_dom_classes": [],
      "_model_module": "@jupyter-widgets/controls",
      "_model_module_version": "1.5.0",
      "_model_name": "HBoxModel",
      "_view_count": null,
      "_view_module": "@jupyter-widgets/controls",
      "_view_module_version": "1.5.0",
      "_view_name": "HBoxView",
      "box_style": "",
      "children": [
       "IPY_MODEL_fe36b08fe7ac46aaa5cc7a32029d2326",
       "IPY_MODEL_cb424b8d740a4725b7a40b612477e0a4",
       "IPY_MODEL_481f0c9360fa48c789c3e610c7faa4b9"
      ],
      "layout": "IPY_MODEL_c7b5087d4cff4c659aa4e0621f2f0515"
     }
    },
    "1ec8925531914a72a32af23f00b6cf85": {
     "model_module": "@jupyter-widgets/controls",
     "model_module_version": "1.5.0",
     "model_name": "DescriptionStyleModel",
     "state": {
      "_model_module": "@jupyter-widgets/controls",
      "_model_module_version": "1.5.0",
      "_model_name": "DescriptionStyleModel",
      "_view_count": null,
      "_view_module": "@jupyter-widgets/base",
      "_view_module_version": "1.2.0",
      "_view_name": "StyleView",
      "description_width": ""
     }
    },
    "212ffc916333471ab3d8e0fdf6c14125": {
     "model_module": "@jupyter-widgets/controls",
     "model_module_version": "1.5.0",
     "model_name": "HBoxModel",
     "state": {
      "_dom_classes": [],
      "_model_module": "@jupyter-widgets/controls",
      "_model_module_version": "1.5.0",
      "_model_name": "HBoxModel",
      "_view_count": null,
      "_view_module": "@jupyter-widgets/controls",
      "_view_module_version": "1.5.0",
      "_view_name": "HBoxView",
      "box_style": "",
      "children": [
       "IPY_MODEL_5298938e251e40b7a408c049f396ef7f",
       "IPY_MODEL_1da8b159a5e64972876f24242c51ab8c",
       "IPY_MODEL_a9ec30c5a9284e9a864d13363b3821ef"
      ],
      "layout": "IPY_MODEL_75e2d97e8cb24a379df37bd4687b7895"
     }
    },
    "22b3a63ea5674954a7bb6059969217cc": {
     "model_module": "@jupyter-widgets/controls",
     "model_module_version": "1.5.0",
     "model_name": "HTMLModel",
     "state": {
      "_dom_classes": [],
      "_model_module": "@jupyter-widgets/controls",
      "_model_module_version": "1.5.0",
      "_model_name": "HTMLModel",
      "_view_count": null,
      "_view_module": "@jupyter-widgets/controls",
      "_view_module_version": "1.5.0",
      "_view_name": "HTMLView",
      "description": "",
      "description_tooltip": null,
      "layout": "IPY_MODEL_752074022a6343d595cb44e542eedce1",
      "placeholder": "​",
      "style": "IPY_MODEL_a667a6173e284395a30468c8c0f0344d",
      "value": "Epoch 5/5: 100%"
     }
    },
    "2a0226c7890a4a9eb29116a5bcfb8e6d": {
     "model_module": "@jupyter-widgets/base",
     "model_module_version": "1.2.0",
     "model_name": "LayoutModel",
     "state": {
      "_model_module": "@jupyter-widgets/base",
      "_model_module_version": "1.2.0",
      "_model_name": "LayoutModel",
      "_view_count": null,
      "_view_module": "@jupyter-widgets/base",
      "_view_module_version": "1.2.0",
      "_view_name": "LayoutView",
      "align_content": null,
      "align_items": null,
      "align_self": null,
      "border": null,
      "bottom": null,
      "display": null,
      "flex": null,
      "flex_flow": null,
      "grid_area": null,
      "grid_auto_columns": null,
      "grid_auto_flow": null,
      "grid_auto_rows": null,
      "grid_column": null,
      "grid_gap": null,
      "grid_row": null,
      "grid_template_areas": null,
      "grid_template_columns": null,
      "grid_template_rows": null,
      "height": null,
      "justify_content": null,
      "justify_items": null,
      "left": null,
      "margin": null,
      "max_height": null,
      "max_width": null,
      "min_height": null,
      "min_width": null,
      "object_fit": null,
      "object_position": null,
      "order": null,
      "overflow": null,
      "overflow_x": null,
      "overflow_y": null,
      "padding": null,
      "right": null,
      "top": null,
      "visibility": null,
      "width": null
     }
    },
    "3394cbd41fe84afaab914957fe0577b4": {
     "model_module": "@jupyter-widgets/base",
     "model_module_version": "1.2.0",
     "model_name": "LayoutModel",
     "state": {
      "_model_module": "@jupyter-widgets/base",
      "_model_module_version": "1.2.0",
      "_model_name": "LayoutModel",
      "_view_count": null,
      "_view_module": "@jupyter-widgets/base",
      "_view_module_version": "1.2.0",
      "_view_name": "LayoutView",
      "align_content": null,
      "align_items": null,
      "align_self": null,
      "border": null,
      "bottom": null,
      "display": null,
      "flex": null,
      "flex_flow": null,
      "grid_area": null,
      "grid_auto_columns": null,
      "grid_auto_flow": null,
      "grid_auto_rows": null,
      "grid_column": null,
      "grid_gap": null,
      "grid_row": null,
      "grid_template_areas": null,
      "grid_template_columns": null,
      "grid_template_rows": null,
      "height": null,
      "justify_content": null,
      "justify_items": null,
      "left": null,
      "margin": null,
      "max_height": null,
      "max_width": null,
      "min_height": null,
      "min_width": null,
      "object_fit": null,
      "object_position": null,
      "order": null,
      "overflow": null,
      "overflow_x": null,
      "overflow_y": null,
      "padding": null,
      "right": null,
      "top": null,
      "visibility": null,
      "width": null
     }
    },
    "33f1a0ccad224bec8ddb759e1cff9224": {
     "model_module": "@jupyter-widgets/controls",
     "model_module_version": "1.5.0",
     "model_name": "ProgressStyleModel",
     "state": {
      "_model_module": "@jupyter-widgets/controls",
      "_model_module_version": "1.5.0",
      "_model_name": "ProgressStyleModel",
      "_view_count": null,
      "_view_module": "@jupyter-widgets/base",
      "_view_module_version": "1.2.0",
      "_view_name": "StyleView",
      "bar_color": null,
      "description_width": ""
     }
    },
    "347975e6001446d8ad5ab1a55e6b93ba": {
     "model_module": "@jupyter-widgets/controls",
     "model_module_version": "1.5.0",
     "model_name": "DescriptionStyleModel",
     "state": {
      "_model_module": "@jupyter-widgets/controls",
      "_model_module_version": "1.5.0",
      "_model_name": "DescriptionStyleModel",
      "_view_count": null,
      "_view_module": "@jupyter-widgets/base",
      "_view_module_version": "1.2.0",
      "_view_name": "StyleView",
      "description_width": ""
     }
    },
    "3e0a3d48d7c7467793ad5cb0b2af2db8": {
     "model_module": "@jupyter-widgets/controls",
     "model_module_version": "1.5.0",
     "model_name": "HBoxModel",
     "state": {
      "_dom_classes": [],
      "_model_module": "@jupyter-widgets/controls",
      "_model_module_version": "1.5.0",
      "_model_name": "HBoxModel",
      "_view_count": null,
      "_view_module": "@jupyter-widgets/controls",
      "_view_module_version": "1.5.0",
      "_view_name": "HBoxView",
      "box_style": "",
      "children": [
       "IPY_MODEL_dcb1775a38ef423d9b83be8ea34358c3",
       "IPY_MODEL_ce1153829b504a9aaf6aded150437803",
       "IPY_MODEL_cf29e64ebe8b4c4d9e504344923c068f"
      ],
      "layout": "IPY_MODEL_045811a98a0e488191619ff663a9b9ad"
     }
    },
    "40c45e409c504dbcbb4de1341f9f519d": {
     "model_module": "@jupyter-widgets/base",
     "model_module_version": "1.2.0",
     "model_name": "LayoutModel",
     "state": {
      "_model_module": "@jupyter-widgets/base",
      "_model_module_version": "1.2.0",
      "_model_name": "LayoutModel",
      "_view_count": null,
      "_view_module": "@jupyter-widgets/base",
      "_view_module_version": "1.2.0",
      "_view_name": "LayoutView",
      "align_content": null,
      "align_items": null,
      "align_self": null,
      "border": null,
      "bottom": null,
      "display": null,
      "flex": null,
      "flex_flow": null,
      "grid_area": null,
      "grid_auto_columns": null,
      "grid_auto_flow": null,
      "grid_auto_rows": null,
      "grid_column": null,
      "grid_gap": null,
      "grid_row": null,
      "grid_template_areas": null,
      "grid_template_columns": null,
      "grid_template_rows": null,
      "height": null,
      "justify_content": null,
      "justify_items": null,
      "left": null,
      "margin": null,
      "max_height": null,
      "max_width": null,
      "min_height": null,
      "min_width": null,
      "object_fit": null,
      "object_position": null,
      "order": null,
      "overflow": null,
      "overflow_x": null,
      "overflow_y": null,
      "padding": null,
      "right": null,
      "top": null,
      "visibility": null,
      "width": null
     }
    },
    "423f683a857d4978aea32d1fb906917f": {
     "model_module": "@jupyter-widgets/base",
     "model_module_version": "1.2.0",
     "model_name": "LayoutModel",
     "state": {
      "_model_module": "@jupyter-widgets/base",
      "_model_module_version": "1.2.0",
      "_model_name": "LayoutModel",
      "_view_count": null,
      "_view_module": "@jupyter-widgets/base",
      "_view_module_version": "1.2.0",
      "_view_name": "LayoutView",
      "align_content": null,
      "align_items": null,
      "align_self": null,
      "border": null,
      "bottom": null,
      "display": null,
      "flex": null,
      "flex_flow": null,
      "grid_area": null,
      "grid_auto_columns": null,
      "grid_auto_flow": null,
      "grid_auto_rows": null,
      "grid_column": null,
      "grid_gap": null,
      "grid_row": null,
      "grid_template_areas": null,
      "grid_template_columns": null,
      "grid_template_rows": null,
      "height": null,
      "justify_content": null,
      "justify_items": null,
      "left": null,
      "margin": null,
      "max_height": null,
      "max_width": null,
      "min_height": null,
      "min_width": null,
      "object_fit": null,
      "object_position": null,
      "order": null,
      "overflow": null,
      "overflow_x": null,
      "overflow_y": null,
      "padding": null,
      "right": null,
      "top": null,
      "visibility": null,
      "width": null
     }
    },
    "481f0c9360fa48c789c3e610c7faa4b9": {
     "model_module": "@jupyter-widgets/controls",
     "model_module_version": "1.5.0",
     "model_name": "HTMLModel",
     "state": {
      "_dom_classes": [],
      "_model_module": "@jupyter-widgets/controls",
      "_model_module_version": "1.5.0",
      "_model_name": "HTMLModel",
      "_view_count": null,
      "_view_module": "@jupyter-widgets/controls",
      "_view_module_version": "1.5.0",
      "_view_name": "HTMLView",
      "description": "",
      "description_tooltip": null,
      "layout": "IPY_MODEL_4f7c9f2b26474d91869d321c93c55016",
      "placeholder": "​",
      "style": "IPY_MODEL_1ec8925531914a72a32af23f00b6cf85",
      "value": " 1945/1954 [00:10&lt;00:00, 173.56it/s, Total Loss=0.0000, MSE=0.0000, L1=0.0125, L0=2522.38]"
     }
    },
    "488a96383d124d59afffb71ff3cd05a4": {
     "model_module": "@jupyter-widgets/controls",
     "model_module_version": "1.5.0",
     "model_name": "HTMLModel",
     "state": {
      "_dom_classes": [],
      "_model_module": "@jupyter-widgets/controls",
      "_model_module_version": "1.5.0",
      "_model_name": "HTMLModel",
      "_view_count": null,
      "_view_module": "@jupyter-widgets/controls",
      "_view_module_version": "1.5.0",
      "_view_name": "HTMLView",
      "description": "",
      "description_tooltip": null,
      "layout": "IPY_MODEL_d3a89fc92c9d4130bace9226679abf8b",
      "placeholder": "​",
      "style": "IPY_MODEL_347975e6001446d8ad5ab1a55e6b93ba",
      "value": "Epoch 1/5: 100%"
     }
    },
    "4bd3e07b66384d6b8b41e871027b19db": {
     "model_module": "@jupyter-widgets/controls",
     "model_module_version": "1.5.0",
     "model_name": "DescriptionStyleModel",
     "state": {
      "_model_module": "@jupyter-widgets/controls",
      "_model_module_version": "1.5.0",
      "_model_name": "DescriptionStyleModel",
      "_view_count": null,
      "_view_module": "@jupyter-widgets/base",
      "_view_module_version": "1.2.0",
      "_view_name": "StyleView",
      "description_width": ""
     }
    },
    "4caa6143e6ba417ea1c1c08bbd1bbe00": {
     "model_module": "@jupyter-widgets/controls",
     "model_module_version": "1.5.0",
     "model_name": "ProgressStyleModel",
     "state": {
      "_model_module": "@jupyter-widgets/controls",
      "_model_module_version": "1.5.0",
      "_model_name": "ProgressStyleModel",
      "_view_count": null,
      "_view_module": "@jupyter-widgets/base",
      "_view_module_version": "1.2.0",
      "_view_name": "StyleView",
      "bar_color": null,
      "description_width": ""
     }
    },
    "4eb4c6ebdff64314aca75bef415a7dcc": {
     "model_module": "@jupyter-widgets/controls",
     "model_module_version": "1.5.0",
     "model_name": "HTMLModel",
     "state": {
      "_dom_classes": [],
      "_model_module": "@jupyter-widgets/controls",
      "_model_module_version": "1.5.0",
      "_model_name": "HTMLModel",
      "_view_count": null,
      "_view_module": "@jupyter-widgets/controls",
      "_view_module_version": "1.5.0",
      "_view_name": "HTMLView",
      "description": "",
      "description_tooltip": null,
      "layout": "IPY_MODEL_40c45e409c504dbcbb4de1341f9f519d",
      "placeholder": "​",
      "style": "IPY_MODEL_0270a2478b16473683f73715628fc483",
      "value": " 1947/1954 [00:10&lt;00:00, 196.08it/s, Total Loss=0.0000, MSE=0.0000, L1=0.0105, L0=2397.16]"
     }
    },
    "4f7c9f2b26474d91869d321c93c55016": {
     "model_module": "@jupyter-widgets/base",
     "model_module_version": "1.2.0",
     "model_name": "LayoutModel",
     "state": {
      "_model_module": "@jupyter-widgets/base",
      "_model_module_version": "1.2.0",
      "_model_name": "LayoutModel",
      "_view_count": null,
      "_view_module": "@jupyter-widgets/base",
      "_view_module_version": "1.2.0",
      "_view_name": "LayoutView",
      "align_content": null,
      "align_items": null,
      "align_self": null,
      "border": null,
      "bottom": null,
      "display": null,
      "flex": null,
      "flex_flow": null,
      "grid_area": null,
      "grid_auto_columns": null,
      "grid_auto_flow": null,
      "grid_auto_rows": null,
      "grid_column": null,
      "grid_gap": null,
      "grid_row": null,
      "grid_template_areas": null,
      "grid_template_columns": null,
      "grid_template_rows": null,
      "height": null,
      "justify_content": null,
      "justify_items": null,
      "left": null,
      "margin": null,
      "max_height": null,
      "max_width": null,
      "min_height": null,
      "min_width": null,
      "object_fit": null,
      "object_position": null,
      "order": null,
      "overflow": null,
      "overflow_x": null,
      "overflow_y": null,
      "padding": null,
      "right": null,
      "top": null,
      "visibility": null,
      "width": null
     }
    },
    "5298938e251e40b7a408c049f396ef7f": {
     "model_module": "@jupyter-widgets/controls",
     "model_module_version": "1.5.0",
     "model_name": "HTMLModel",
     "state": {
      "_dom_classes": [],
      "_model_module": "@jupyter-widgets/controls",
      "_model_module_version": "1.5.0",
      "_model_name": "HTMLModel",
      "_view_count": null,
      "_view_module": "@jupyter-widgets/controls",
      "_view_module_version": "1.5.0",
      "_view_name": "HTMLView",
      "description": "",
      "description_tooltip": null,
      "layout": "IPY_MODEL_2a0226c7890a4a9eb29116a5bcfb8e6d",
      "placeholder": "​",
      "style": "IPY_MODEL_d9bf5e35c1e44e8fb198ea0bf442b3a6",
      "value": "Extracting Activations: "
     }
    },
    "56b86af88f524e88b17170d9d77c59ed": {
     "model_module": "@jupyter-widgets/base",
     "model_module_version": "1.2.0",
     "model_name": "LayoutModel",
     "state": {
      "_model_module": "@jupyter-widgets/base",
      "_model_module_version": "1.2.0",
      "_model_name": "LayoutModel",
      "_view_count": null,
      "_view_module": "@jupyter-widgets/base",
      "_view_module_version": "1.2.0",
      "_view_name": "LayoutView",
      "align_content": null,
      "align_items": null,
      "align_self": null,
      "border": null,
      "bottom": null,
      "display": null,
      "flex": null,
      "flex_flow": null,
      "grid_area": null,
      "grid_auto_columns": null,
      "grid_auto_flow": null,
      "grid_auto_rows": null,
      "grid_column": null,
      "grid_gap": null,
      "grid_row": null,
      "grid_template_areas": null,
      "grid_template_columns": null,
      "grid_template_rows": null,
      "height": null,
      "justify_content": null,
      "justify_items": null,
      "left": null,
      "margin": null,
      "max_height": null,
      "max_width": null,
      "min_height": null,
      "min_width": null,
      "object_fit": null,
      "object_position": null,
      "order": null,
      "overflow": null,
      "overflow_x": null,
      "overflow_y": null,
      "padding": null,
      "right": null,
      "top": null,
      "visibility": "hidden",
      "width": null
     }
    },
    "619a4bd1181f4e9b99b7c73c76f6a37e": {
     "model_module": "@jupyter-widgets/controls",
     "model_module_version": "1.5.0",
     "model_name": "FloatProgressModel",
     "state": {
      "_dom_classes": [],
      "_model_module": "@jupyter-widgets/controls",
      "_model_module_version": "1.5.0",
      "_model_name": "FloatProgressModel",
      "_view_count": null,
      "_view_module": "@jupyter-widgets/controls",
      "_view_module_version": "1.5.0",
      "_view_name": "ProgressView",
      "bar_style": "",
      "description": "",
      "description_tooltip": null,
      "layout": "IPY_MODEL_b78cef9985b84e2cab2bbd7857468b5a",
      "max": 1954,
      "min": 0,
      "orientation": "horizontal",
      "style": "IPY_MODEL_0527355b91cc461bbcf14a6f9e4b3148",
      "value": 1954
     }
    },
    "678e5280482748eba982bf9cabc5fc0d": {
     "model_module": "@jupyter-widgets/controls",
     "model_module_version": "1.5.0",
     "model_name": "ProgressStyleModel",
     "state": {
      "_model_module": "@jupyter-widgets/controls",
      "_model_module_version": "1.5.0",
      "_model_name": "ProgressStyleModel",
      "_view_count": null,
      "_view_module": "@jupyter-widgets/base",
      "_view_module_version": "1.2.0",
      "_view_name": "StyleView",
      "bar_color": null,
      "description_width": ""
     }
    },
    "6e47d7b8380b48f9998c9c4be10594f1": {
     "model_module": "@jupyter-widgets/base",
     "model_module_version": "1.2.0",
     "model_name": "LayoutModel",
     "state": {
      "_model_module": "@jupyter-widgets/base",
      "_model_module_version": "1.2.0",
      "_model_name": "LayoutModel",
      "_view_count": null,
      "_view_module": "@jupyter-widgets/base",
      "_view_module_version": "1.2.0",
      "_view_name": "LayoutView",
      "align_content": null,
      "align_items": null,
      "align_self": null,
      "border": null,
      "bottom": null,
      "display": null,
      "flex": null,
      "flex_flow": null,
      "grid_area": null,
      "grid_auto_columns": null,
      "grid_auto_flow": null,
      "grid_auto_rows": null,
      "grid_column": null,
      "grid_gap": null,
      "grid_row": null,
      "grid_template_areas": null,
      "grid_template_columns": null,
      "grid_template_rows": null,
      "height": null,
      "justify_content": null,
      "justify_items": null,
      "left": null,
      "margin": null,
      "max_height": null,
      "max_width": null,
      "min_height": null,
      "min_width": null,
      "object_fit": null,
      "object_position": null,
      "order": null,
      "overflow": null,
      "overflow_x": null,
      "overflow_y": null,
      "padding": null,
      "right": null,
      "top": null,
      "visibility": null,
      "width": null
     }
    },
    "752074022a6343d595cb44e542eedce1": {
     "model_module": "@jupyter-widgets/base",
     "model_module_version": "1.2.0",
     "model_name": "LayoutModel",
     "state": {
      "_model_module": "@jupyter-widgets/base",
      "_model_module_version": "1.2.0",
      "_model_name": "LayoutModel",
      "_view_count": null,
      "_view_module": "@jupyter-widgets/base",
      "_view_module_version": "1.2.0",
      "_view_name": "LayoutView",
      "align_content": null,
      "align_items": null,
      "align_self": null,
      "border": null,
      "bottom": null,
      "display": null,
      "flex": null,
      "flex_flow": null,
      "grid_area": null,
      "grid_auto_columns": null,
      "grid_auto_flow": null,
      "grid_auto_rows": null,
      "grid_column": null,
      "grid_gap": null,
      "grid_row": null,
      "grid_template_areas": null,
      "grid_template_columns": null,
      "grid_template_rows": null,
      "height": null,
      "justify_content": null,
      "justify_items": null,
      "left": null,
      "margin": null,
      "max_height": null,
      "max_width": null,
      "min_height": null,
      "min_width": null,
      "object_fit": null,
      "object_position": null,
      "order": null,
      "overflow": null,
      "overflow_x": null,
      "overflow_y": null,
      "padding": null,
      "right": null,
      "top": null,
      "visibility": null,
      "width": null
     }
    },
    "75e2d97e8cb24a379df37bd4687b7895": {
     "model_module": "@jupyter-widgets/base",
     "model_module_version": "1.2.0",
     "model_name": "LayoutModel",
     "state": {
      "_model_module": "@jupyter-widgets/base",
      "_model_module_version": "1.2.0",
      "_model_name": "LayoutModel",
      "_view_count": null,
      "_view_module": "@jupyter-widgets/base",
      "_view_module_version": "1.2.0",
      "_view_name": "LayoutView",
      "align_content": null,
      "align_items": null,
      "align_self": null,
      "border": null,
      "bottom": null,
      "display": null,
      "flex": null,
      "flex_flow": null,
      "grid_area": null,
      "grid_auto_columns": null,
      "grid_auto_flow": null,
      "grid_auto_rows": null,
      "grid_column": null,
      "grid_gap": null,
      "grid_row": null,
      "grid_template_areas": null,
      "grid_template_columns": null,
      "grid_template_rows": null,
      "height": null,
      "justify_content": null,
      "justify_items": null,
      "left": null,
      "margin": null,
      "max_height": null,
      "max_width": null,
      "min_height": null,
      "min_width": null,
      "object_fit": null,
      "object_position": null,
      "order": null,
      "overflow": null,
      "overflow_x": null,
      "overflow_y": null,
      "padding": null,
      "right": null,
      "top": null,
      "visibility": null,
      "width": null
     }
    },
    "7cbaea4ebd184865a0141614da79579c": {
     "model_module": "@jupyter-widgets/controls",
     "model_module_version": "1.5.0",
     "model_name": "ProgressStyleModel",
     "state": {
      "_model_module": "@jupyter-widgets/controls",
      "_model_module_version": "1.5.0",
      "_model_name": "ProgressStyleModel",
      "_view_count": null,
      "_view_module": "@jupyter-widgets/base",
      "_view_module_version": "1.2.0",
      "_view_name": "StyleView",
      "bar_color": null,
      "description_width": ""
     }
    },
    "7ecb21436a594bb999d5771e271d3f7a": {
     "model_module": "@jupyter-widgets/controls",
     "model_module_version": "1.5.0",
     "model_name": "HBoxModel",
     "state": {
      "_dom_classes": [],
      "_model_module": "@jupyter-widgets/controls",
      "_model_module_version": "1.5.0",
      "_model_name": "HBoxModel",
      "_view_count": null,
      "_view_module": "@jupyter-widgets/controls",
      "_view_module_version": "1.5.0",
      "_view_name": "HBoxView",
      "box_style": "",
      "children": [
       "IPY_MODEL_488a96383d124d59afffb71ff3cd05a4",
       "IPY_MODEL_f6bee22b0cb948619932198fe6f5cda5",
       "IPY_MODEL_ee6aa76bdc4d4dbda1aa4a000e22950a"
      ],
      "layout": "IPY_MODEL_56b86af88f524e88b17170d9d77c59ed"
     }
    },
    "806fcecc644c42f28db7b9d3e455ba42": {
     "model_module": "@jupyter-widgets/base",
     "model_module_version": "1.2.0",
     "model_name": "LayoutModel",
     "state": {
      "_model_module": "@jupyter-widgets/base",
      "_model_module_version": "1.2.0",
      "_model_name": "LayoutModel",
      "_view_count": null,
      "_view_module": "@jupyter-widgets/base",
      "_view_module_version": "1.2.0",
      "_view_name": "LayoutView",
      "align_content": null,
      "align_items": null,
      "align_self": null,
      "border": null,
      "bottom": null,
      "display": null,
      "flex": null,
      "flex_flow": null,
      "grid_area": null,
      "grid_auto_columns": null,
      "grid_auto_flow": null,
      "grid_auto_rows": null,
      "grid_column": null,
      "grid_gap": null,
      "grid_row": null,
      "grid_template_areas": null,
      "grid_template_columns": null,
      "grid_template_rows": null,
      "height": null,
      "justify_content": null,
      "justify_items": null,
      "left": null,
      "margin": null,
      "max_height": null,
      "max_width": null,
      "min_height": null,
      "min_width": null,
      "object_fit": null,
      "object_position": null,
      "order": null,
      "overflow": null,
      "overflow_x": null,
      "overflow_y": null,
      "padding": null,
      "right": null,
      "top": null,
      "visibility": null,
      "width": null
     }
    },
    "88f1bd22d3ac4eeb83590a664aaee90c": {
     "model_module": "@jupyter-widgets/base",
     "model_module_version": "1.2.0",
     "model_name": "LayoutModel",
     "state": {
      "_model_module": "@jupyter-widgets/base",
      "_model_module_version": "1.2.0",
      "_model_name": "LayoutModel",
      "_view_count": null,
      "_view_module": "@jupyter-widgets/base",
      "_view_module_version": "1.2.0",
      "_view_name": "LayoutView",
      "align_content": null,
      "align_items": null,
      "align_self": null,
      "border": null,
      "bottom": null,
      "display": null,
      "flex": null,
      "flex_flow": null,
      "grid_area": null,
      "grid_auto_columns": null,
      "grid_auto_flow": null,
      "grid_auto_rows": null,
      "grid_column": null,
      "grid_gap": null,
      "grid_row": null,
      "grid_template_areas": null,
      "grid_template_columns": null,
      "grid_template_rows": null,
      "height": null,
      "justify_content": null,
      "justify_items": null,
      "left": null,
      "margin": null,
      "max_height": null,
      "max_width": null,
      "min_height": null,
      "min_width": null,
      "object_fit": null,
      "object_position": null,
      "order": null,
      "overflow": null,
      "overflow_x": null,
      "overflow_y": null,
      "padding": null,
      "right": null,
      "top": null,
      "visibility": null,
      "width": null
     }
    },
    "8bb165de3f1f4fb99aaadd788a4db38d": {
     "model_module": "@jupyter-widgets/base",
     "model_module_version": "1.2.0",
     "model_name": "LayoutModel",
     "state": {
      "_model_module": "@jupyter-widgets/base",
      "_model_module_version": "1.2.0",
      "_model_name": "LayoutModel",
      "_view_count": null,
      "_view_module": "@jupyter-widgets/base",
      "_view_module_version": "1.2.0",
      "_view_name": "LayoutView",
      "align_content": null,
      "align_items": null,
      "align_self": null,
      "border": null,
      "bottom": null,
      "display": null,
      "flex": null,
      "flex_flow": null,
      "grid_area": null,
      "grid_auto_columns": null,
      "grid_auto_flow": null,
      "grid_auto_rows": null,
      "grid_column": null,
      "grid_gap": null,
      "grid_row": null,
      "grid_template_areas": null,
      "grid_template_columns": null,
      "grid_template_rows": null,
      "height": null,
      "justify_content": null,
      "justify_items": null,
      "left": null,
      "margin": null,
      "max_height": null,
      "max_width": null,
      "min_height": null,
      "min_width": null,
      "object_fit": null,
      "object_position": null,
      "order": null,
      "overflow": null,
      "overflow_x": null,
      "overflow_y": null,
      "padding": null,
      "right": null,
      "top": null,
      "visibility": null,
      "width": null
     }
    },
    "8e68cea1ad9f48489057899c498d1212": {
     "model_module": "@jupyter-widgets/base",
     "model_module_version": "1.2.0",
     "model_name": "LayoutModel",
     "state": {
      "_model_module": "@jupyter-widgets/base",
      "_model_module_version": "1.2.0",
      "_model_name": "LayoutModel",
      "_view_count": null,
      "_view_module": "@jupyter-widgets/base",
      "_view_module_version": "1.2.0",
      "_view_name": "LayoutView",
      "align_content": null,
      "align_items": null,
      "align_self": null,
      "border": null,
      "bottom": null,
      "display": null,
      "flex": null,
      "flex_flow": null,
      "grid_area": null,
      "grid_auto_columns": null,
      "grid_auto_flow": null,
      "grid_auto_rows": null,
      "grid_column": null,
      "grid_gap": null,
      "grid_row": null,
      "grid_template_areas": null,
      "grid_template_columns": null,
      "grid_template_rows": null,
      "height": null,
      "justify_content": null,
      "justify_items": null,
      "left": null,
      "margin": null,
      "max_height": null,
      "max_width": null,
      "min_height": null,
      "min_width": null,
      "object_fit": null,
      "object_position": null,
      "order": null,
      "overflow": null,
      "overflow_x": null,
      "overflow_y": null,
      "padding": null,
      "right": null,
      "top": null,
      "visibility": "hidden",
      "width": null
     }
    },
    "936bb05d4c4c460bba7434df24d506d6": {
     "model_module": "@jupyter-widgets/controls",
     "model_module_version": "1.5.0",
     "model_name": "DescriptionStyleModel",
     "state": {
      "_model_module": "@jupyter-widgets/controls",
      "_model_module_version": "1.5.0",
      "_model_name": "DescriptionStyleModel",
      "_view_count": null,
      "_view_module": "@jupyter-widgets/base",
      "_view_module_version": "1.2.0",
      "_view_name": "StyleView",
      "description_width": ""
     }
    },
    "939bf5878f4b40e3b1d5ca73f552fd68": {
     "model_module": "@jupyter-widgets/controls",
     "model_module_version": "1.5.0",
     "model_name": "HTMLModel",
     "state": {
      "_dom_classes": [],
      "_model_module": "@jupyter-widgets/controls",
      "_model_module_version": "1.5.0",
      "_model_name": "HTMLModel",
      "_view_count": null,
      "_view_module": "@jupyter-widgets/controls",
      "_view_module_version": "1.5.0",
      "_view_name": "HTMLView",
      "description": "",
      "description_tooltip": null,
      "layout": "IPY_MODEL_6e47d7b8380b48f9998c9c4be10594f1",
      "placeholder": "​",
      "style": "IPY_MODEL_936bb05d4c4c460bba7434df24d506d6",
      "value": "Epoch 4/5: 100%"
     }
    },
    "99bb8b8d1b3a4532bc3652ae2d069162": {
     "model_module": "@jupyter-widgets/controls",
     "model_module_version": "1.5.0",
     "model_name": "DescriptionStyleModel",
     "state": {
      "_model_module": "@jupyter-widgets/controls",
      "_model_module_version": "1.5.0",
      "_model_name": "DescriptionStyleModel",
      "_view_count": null,
      "_view_module": "@jupyter-widgets/base",
      "_view_module_version": "1.2.0",
      "_view_name": "StyleView",
      "description_width": ""
     }
    },
    "a49697b7507c4393a69e13c3aa00c7d0": {
     "model_module": "@jupyter-widgets/base",
     "model_module_version": "1.2.0",
     "model_name": "LayoutModel",
     "state": {
      "_model_module": "@jupyter-widgets/base",
      "_model_module_version": "1.2.0",
      "_model_name": "LayoutModel",
      "_view_count": null,
      "_view_module": "@jupyter-widgets/base",
      "_view_module_version": "1.2.0",
      "_view_name": "LayoutView",
      "align_content": null,
      "align_items": null,
      "align_self": null,
      "border": null,
      "bottom": null,
      "display": null,
      "flex": null,
      "flex_flow": null,
      "grid_area": null,
      "grid_auto_columns": null,
      "grid_auto_flow": null,
      "grid_auto_rows": null,
      "grid_column": null,
      "grid_gap": null,
      "grid_row": null,
      "grid_template_areas": null,
      "grid_template_columns": null,
      "grid_template_rows": null,
      "height": null,
      "justify_content": null,
      "justify_items": null,
      "left": null,
      "margin": null,
      "max_height": null,
      "max_width": null,
      "min_height": null,
      "min_width": null,
      "object_fit": null,
      "object_position": null,
      "order": null,
      "overflow": null,
      "overflow_x": null,
      "overflow_y": null,
      "padding": null,
      "right": null,
      "top": null,
      "visibility": null,
      "width": null
     }
    },
    "a667a6173e284395a30468c8c0f0344d": {
     "model_module": "@jupyter-widgets/controls",
     "model_module_version": "1.5.0",
     "model_name": "DescriptionStyleModel",
     "state": {
      "_model_module": "@jupyter-widgets/controls",
      "_model_module_version": "1.5.0",
      "_model_name": "DescriptionStyleModel",
      "_view_count": null,
      "_view_module": "@jupyter-widgets/base",
      "_view_module_version": "1.2.0",
      "_view_name": "StyleView",
      "description_width": ""
     }
    },
    "a82b4d27f5fe4f7780442ccb541151ae": {
     "model_module": "@jupyter-widgets/controls",
     "model_module_version": "1.5.0",
     "model_name": "HBoxModel",
     "state": {
      "_dom_classes": [],
      "_model_module": "@jupyter-widgets/controls",
      "_model_module_version": "1.5.0",
      "_model_name": "HBoxModel",
      "_view_count": null,
      "_view_module": "@jupyter-widgets/controls",
      "_view_module_version": "1.5.0",
      "_view_name": "HBoxView",
      "box_style": "",
      "children": [
       "IPY_MODEL_22b3a63ea5674954a7bb6059969217cc",
       "IPY_MODEL_1457663b5ac04dbebe458eaabb6cb652",
       "IPY_MODEL_4eb4c6ebdff64314aca75bef415a7dcc"
      ],
      "layout": "IPY_MODEL_8e68cea1ad9f48489057899c498d1212"
     }
    },
    "a9ec30c5a9284e9a864d13363b3821ef": {
     "model_module": "@jupyter-widgets/controls",
     "model_module_version": "1.5.0",
     "model_name": "HTMLModel",
     "state": {
      "_dom_classes": [],
      "_model_module": "@jupyter-widgets/controls",
      "_model_module_version": "1.5.0",
      "_model_name": "HTMLModel",
      "_view_count": null,
      "_view_module": "@jupyter-widgets/controls",
      "_view_module_version": "1.5.0",
      "_view_name": "HTMLView",
      "description": "",
      "description_tooltip": null,
      "layout": "IPY_MODEL_b08b65221fbb4dc781880ef3cd0a1161",
      "placeholder": "​",
      "style": "IPY_MODEL_99bb8b8d1b3a4532bc3652ae2d069162",
      "value": " 500096/? [00:55&lt;00:00, 9315.23it/s]"
     }
    },
    "aa02f8c0c9524517bba1853799c83990": {
     "model_module": "@jupyter-widgets/controls",
     "model_module_version": "1.5.0",
     "model_name": "DescriptionStyleModel",
     "state": {
      "_model_module": "@jupyter-widgets/controls",
      "_model_module_version": "1.5.0",
      "_model_name": "DescriptionStyleModel",
      "_view_count": null,
      "_view_module": "@jupyter-widgets/base",
      "_view_module_version": "1.2.0",
      "_view_name": "StyleView",
      "description_width": ""
     }
    },
    "b08b65221fbb4dc781880ef3cd0a1161": {
     "model_module": "@jupyter-widgets/base",
     "model_module_version": "1.2.0",
     "model_name": "LayoutModel",
     "state": {
      "_model_module": "@jupyter-widgets/base",
      "_model_module_version": "1.2.0",
      "_model_name": "LayoutModel",
      "_view_count": null,
      "_view_module": "@jupyter-widgets/base",
      "_view_module_version": "1.2.0",
      "_view_name": "LayoutView",
      "align_content": null,
      "align_items": null,
      "align_self": null,
      "border": null,
      "bottom": null,
      "display": null,
      "flex": null,
      "flex_flow": null,
      "grid_area": null,
      "grid_auto_columns": null,
      "grid_auto_flow": null,
      "grid_auto_rows": null,
      "grid_column": null,
      "grid_gap": null,
      "grid_row": null,
      "grid_template_areas": null,
      "grid_template_columns": null,
      "grid_template_rows": null,
      "height": null,
      "justify_content": null,
      "justify_items": null,
      "left": null,
      "margin": null,
      "max_height": null,
      "max_width": null,
      "min_height": null,
      "min_width": null,
      "object_fit": null,
      "object_position": null,
      "order": null,
      "overflow": null,
      "overflow_x": null,
      "overflow_y": null,
      "padding": null,
      "right": null,
      "top": null,
      "visibility": null,
      "width": null
     }
    },
    "b3bd938317e24c26b4faa8946e8b53c0": {
     "model_module": "@jupyter-widgets/base",
     "model_module_version": "1.2.0",
     "model_name": "LayoutModel",
     "state": {
      "_model_module": "@jupyter-widgets/base",
      "_model_module_version": "1.2.0",
      "_model_name": "LayoutModel",
      "_view_count": null,
      "_view_module": "@jupyter-widgets/base",
      "_view_module_version": "1.2.0",
      "_view_name": "LayoutView",
      "align_content": null,
      "align_items": null,
      "align_self": null,
      "border": null,
      "bottom": null,
      "display": null,
      "flex": null,
      "flex_flow": null,
      "grid_area": null,
      "grid_auto_columns": null,
      "grid_auto_flow": null,
      "grid_auto_rows": null,
      "grid_column": null,
      "grid_gap": null,
      "grid_row": null,
      "grid_template_areas": null,
      "grid_template_columns": null,
      "grid_template_rows": null,
      "height": null,
      "justify_content": null,
      "justify_items": null,
      "left": null,
      "margin": null,
      "max_height": null,
      "max_width": null,
      "min_height": null,
      "min_width": null,
      "object_fit": null,
      "object_position": null,
      "order": null,
      "overflow": null,
      "overflow_x": null,
      "overflow_y": null,
      "padding": null,
      "right": null,
      "top": null,
      "visibility": null,
      "width": null
     }
    },
    "b69a96db3c0f4eb995903f438784d3ae": {
     "model_module": "@jupyter-widgets/controls",
     "model_module_version": "1.5.0",
     "model_name": "DescriptionStyleModel",
     "state": {
      "_model_module": "@jupyter-widgets/controls",
      "_model_module_version": "1.5.0",
      "_model_name": "DescriptionStyleModel",
      "_view_count": null,
      "_view_module": "@jupyter-widgets/base",
      "_view_module_version": "1.2.0",
      "_view_name": "StyleView",
      "description_width": ""
     }
    },
    "b78cef9985b84e2cab2bbd7857468b5a": {
     "model_module": "@jupyter-widgets/base",
     "model_module_version": "1.2.0",
     "model_name": "LayoutModel",
     "state": {
      "_model_module": "@jupyter-widgets/base",
      "_model_module_version": "1.2.0",
      "_model_name": "LayoutModel",
      "_view_count": null,
      "_view_module": "@jupyter-widgets/base",
      "_view_module_version": "1.2.0",
      "_view_name": "LayoutView",
      "align_content": null,
      "align_items": null,
      "align_self": null,
      "border": null,
      "bottom": null,
      "display": null,
      "flex": null,
      "flex_flow": null,
      "grid_area": null,
      "grid_auto_columns": null,
      "grid_auto_flow": null,
      "grid_auto_rows": null,
      "grid_column": null,
      "grid_gap": null,
      "grid_row": null,
      "grid_template_areas": null,
      "grid_template_columns": null,
      "grid_template_rows": null,
      "height": null,
      "justify_content": null,
      "justify_items": null,
      "left": null,
      "margin": null,
      "max_height": null,
      "max_width": null,
      "min_height": null,
      "min_width": null,
      "object_fit": null,
      "object_position": null,
      "order": null,
      "overflow": null,
      "overflow_x": null,
      "overflow_y": null,
      "padding": null,
      "right": null,
      "top": null,
      "visibility": null,
      "width": null
     }
    },
    "b8ff52559e6b43c2922d32ef084a2dc3": {
     "model_module": "@jupyter-widgets/controls",
     "model_module_version": "1.5.0",
     "model_name": "DescriptionStyleModel",
     "state": {
      "_model_module": "@jupyter-widgets/controls",
      "_model_module_version": "1.5.0",
      "_model_name": "DescriptionStyleModel",
      "_view_count": null,
      "_view_module": "@jupyter-widgets/base",
      "_view_module_version": "1.2.0",
      "_view_name": "StyleView",
      "description_width": ""
     }
    },
    "bf07be48d1404f97a5babb27071a6bae": {
     "model_module": "@jupyter-widgets/controls",
     "model_module_version": "1.5.0",
     "model_name": "DescriptionStyleModel",
     "state": {
      "_model_module": "@jupyter-widgets/controls",
      "_model_module_version": "1.5.0",
      "_model_name": "DescriptionStyleModel",
      "_view_count": null,
      "_view_module": "@jupyter-widgets/base",
      "_view_module_version": "1.2.0",
      "_view_name": "StyleView",
      "description_width": ""
     }
    },
    "c7b5087d4cff4c659aa4e0621f2f0515": {
     "model_module": "@jupyter-widgets/base",
     "model_module_version": "1.2.0",
     "model_name": "LayoutModel",
     "state": {
      "_model_module": "@jupyter-widgets/base",
      "_model_module_version": "1.2.0",
      "_model_name": "LayoutModel",
      "_view_count": null,
      "_view_module": "@jupyter-widgets/base",
      "_view_module_version": "1.2.0",
      "_view_name": "LayoutView",
      "align_content": null,
      "align_items": null,
      "align_self": null,
      "border": null,
      "bottom": null,
      "display": null,
      "flex": null,
      "flex_flow": null,
      "grid_area": null,
      "grid_auto_columns": null,
      "grid_auto_flow": null,
      "grid_auto_rows": null,
      "grid_column": null,
      "grid_gap": null,
      "grid_row": null,
      "grid_template_areas": null,
      "grid_template_columns": null,
      "grid_template_rows": null,
      "height": null,
      "justify_content": null,
      "justify_items": null,
      "left": null,
      "margin": null,
      "max_height": null,
      "max_width": null,
      "min_height": null,
      "min_width": null,
      "object_fit": null,
      "object_position": null,
      "order": null,
      "overflow": null,
      "overflow_x": null,
      "overflow_y": null,
      "padding": null,
      "right": null,
      "top": null,
      "visibility": "hidden",
      "width": null
     }
    },
    "cb424b8d740a4725b7a40b612477e0a4": {
     "model_module": "@jupyter-widgets/controls",
     "model_module_version": "1.5.0",
     "model_name": "FloatProgressModel",
     "state": {
      "_dom_classes": [],
      "_model_module": "@jupyter-widgets/controls",
      "_model_module_version": "1.5.0",
      "_model_name": "FloatProgressModel",
      "_view_count": null,
      "_view_module": "@jupyter-widgets/controls",
      "_view_module_version": "1.5.0",
      "_view_name": "ProgressView",
      "bar_style": "",
      "description": "",
      "description_tooltip": null,
      "layout": "IPY_MODEL_a49697b7507c4393a69e13c3aa00c7d0",
      "max": 1954,
      "min": 0,
      "orientation": "horizontal",
      "style": "IPY_MODEL_dccf875f283c4c918a17eb34972165c7",
      "value": 1954
     }
    },
    "ce1153829b504a9aaf6aded150437803": {
     "model_module": "@jupyter-widgets/controls",
     "model_module_version": "1.5.0",
     "model_name": "FloatProgressModel",
     "state": {
      "_dom_classes": [],
      "_model_module": "@jupyter-widgets/controls",
      "_model_module_version": "1.5.0",
      "_model_name": "FloatProgressModel",
      "_view_count": null,
      "_view_module": "@jupyter-widgets/controls",
      "_view_module_version": "1.5.0",
      "_view_name": "ProgressView",
      "bar_style": "",
      "description": "",
      "description_tooltip": null,
      "layout": "IPY_MODEL_e468348f6c9b4539996564eaa9e3231c",
      "max": 1954,
      "min": 0,
      "orientation": "horizontal",
      "style": "IPY_MODEL_678e5280482748eba982bf9cabc5fc0d",
      "value": 1954
     }
    },
    "cf29e64ebe8b4c4d9e504344923c068f": {
     "model_module": "@jupyter-widgets/controls",
     "model_module_version": "1.5.0",
     "model_name": "HTMLModel",
     "state": {
      "_dom_classes": [],
      "_model_module": "@jupyter-widgets/controls",
      "_model_module_version": "1.5.0",
      "_model_name": "HTMLModel",
      "_view_count": null,
      "_view_module": "@jupyter-widgets/controls",
      "_view_module_version": "1.5.0",
      "_view_name": "HTMLView",
      "description": "",
      "description_tooltip": null,
      "layout": "IPY_MODEL_b3bd938317e24c26b4faa8946e8b53c0",
      "placeholder": "​",
      "style": "IPY_MODEL_4bd3e07b66384d6b8b41e871027b19db",
      "value": " 1935/1954 [00:09&lt;00:00, 207.31it/s, Total Loss=0.0000, MSE=0.0000, L1=0.0122, L0=2497.03]"
     }
    },
    "d1db62cf9b0b4a959bdda5e825897864": {
     "model_module": "@jupyter-widgets/base",
     "model_module_version": "1.2.0",
     "model_name": "LayoutModel",
     "state": {
      "_model_module": "@jupyter-widgets/base",
      "_model_module_version": "1.2.0",
      "_model_name": "LayoutModel",
      "_view_count": null,
      "_view_module": "@jupyter-widgets/base",
      "_view_module_version": "1.2.0",
      "_view_name": "LayoutView",
      "align_content": null,
      "align_items": null,
      "align_self": null,
      "border": null,
      "bottom": null,
      "display": null,
      "flex": null,
      "flex_flow": null,
      "grid_area": null,
      "grid_auto_columns": null,
      "grid_auto_flow": null,
      "grid_auto_rows": null,
      "grid_column": null,
      "grid_gap": null,
      "grid_row": null,
      "grid_template_areas": null,
      "grid_template_columns": null,
      "grid_template_rows": null,
      "height": null,
      "justify_content": null,
      "justify_items": null,
      "left": null,
      "margin": null,
      "max_height": null,
      "max_width": null,
      "min_height": null,
      "min_width": null,
      "object_fit": null,
      "object_position": null,
      "order": null,
      "overflow": null,
      "overflow_x": null,
      "overflow_y": null,
      "padding": null,
      "right": null,
      "top": null,
      "visibility": "hidden",
      "width": null
     }
    },
    "d1ffc6b2b6814983a60a76b06ecaa291": {
     "model_module": "@jupyter-widgets/controls",
     "model_module_version": "1.5.0",
     "model_name": "HTMLModel",
     "state": {
      "_dom_classes": [],
      "_model_module": "@jupyter-widgets/controls",
      "_model_module_version": "1.5.0",
      "_model_name": "HTMLModel",
      "_view_count": null,
      "_view_module": "@jupyter-widgets/controls",
      "_view_module_version": "1.5.0",
      "_view_name": "HTMLView",
      "description": "",
      "description_tooltip": null,
      "layout": "IPY_MODEL_806fcecc644c42f28db7b9d3e455ba42",
      "placeholder": "​",
      "style": "IPY_MODEL_bf07be48d1404f97a5babb27071a6bae",
      "value": " 1951/1954 [00:10&lt;00:00, 209.75it/s, Total Loss=0.0000, MSE=0.0000, L1=0.0104, L0=2430.16]"
     }
    },
    "d3a89fc92c9d4130bace9226679abf8b": {
     "model_module": "@jupyter-widgets/base",
     "model_module_version": "1.2.0",
     "model_name": "LayoutModel",
     "state": {
      "_model_module": "@jupyter-widgets/base",
      "_model_module_version": "1.2.0",
      "_model_name": "LayoutModel",
      "_view_count": null,
      "_view_module": "@jupyter-widgets/base",
      "_view_module_version": "1.2.0",
      "_view_name": "LayoutView",
      "align_content": null,
      "align_items": null,
      "align_self": null,
      "border": null,
      "bottom": null,
      "display": null,
      "flex": null,
      "flex_flow": null,
      "grid_area": null,
      "grid_auto_columns": null,
      "grid_auto_flow": null,
      "grid_auto_rows": null,
      "grid_column": null,
      "grid_gap": null,
      "grid_row": null,
      "grid_template_areas": null,
      "grid_template_columns": null,
      "grid_template_rows": null,
      "height": null,
      "justify_content": null,
      "justify_items": null,
      "left": null,
      "margin": null,
      "max_height": null,
      "max_width": null,
      "min_height": null,
      "min_width": null,
      "object_fit": null,
      "object_position": null,
      "order": null,
      "overflow": null,
      "overflow_x": null,
      "overflow_y": null,
      "padding": null,
      "right": null,
      "top": null,
      "visibility": null,
      "width": null
     }
    },
    "d9bf5e35c1e44e8fb198ea0bf442b3a6": {
     "model_module": "@jupyter-widgets/controls",
     "model_module_version": "1.5.0",
     "model_name": "DescriptionStyleModel",
     "state": {
      "_model_module": "@jupyter-widgets/controls",
      "_model_module_version": "1.5.0",
      "_model_name": "DescriptionStyleModel",
      "_view_count": null,
      "_view_module": "@jupyter-widgets/base",
      "_view_module_version": "1.2.0",
      "_view_name": "StyleView",
      "description_width": ""
     }
    },
    "dbf452edd85f475aa5aa85bdfa755036": {
     "model_module": "@jupyter-widgets/base",
     "model_module_version": "1.2.0",
     "model_name": "LayoutModel",
     "state": {
      "_model_module": "@jupyter-widgets/base",
      "_model_module_version": "1.2.0",
      "_model_name": "LayoutModel",
      "_view_count": null,
      "_view_module": "@jupyter-widgets/base",
      "_view_module_version": "1.2.0",
      "_view_name": "LayoutView",
      "align_content": null,
      "align_items": null,
      "align_self": null,
      "border": null,
      "bottom": null,
      "display": null,
      "flex": null,
      "flex_flow": null,
      "grid_area": null,
      "grid_auto_columns": null,
      "grid_auto_flow": null,
      "grid_auto_rows": null,
      "grid_column": null,
      "grid_gap": null,
      "grid_row": null,
      "grid_template_areas": null,
      "grid_template_columns": null,
      "grid_template_rows": null,
      "height": null,
      "justify_content": null,
      "justify_items": null,
      "left": null,
      "margin": null,
      "max_height": null,
      "max_width": null,
      "min_height": null,
      "min_width": null,
      "object_fit": null,
      "object_position": null,
      "order": null,
      "overflow": null,
      "overflow_x": null,
      "overflow_y": null,
      "padding": null,
      "right": null,
      "top": null,
      "visibility": null,
      "width": null
     }
    },
    "dcb1775a38ef423d9b83be8ea34358c3": {
     "model_module": "@jupyter-widgets/controls",
     "model_module_version": "1.5.0",
     "model_name": "HTMLModel",
     "state": {
      "_dom_classes": [],
      "_model_module": "@jupyter-widgets/controls",
      "_model_module_version": "1.5.0",
      "_model_name": "HTMLModel",
      "_view_count": null,
      "_view_module": "@jupyter-widgets/controls",
      "_view_module_version": "1.5.0",
      "_view_name": "HTMLView",
      "description": "",
      "description_tooltip": null,
      "layout": "IPY_MODEL_dbf452edd85f475aa5aa85bdfa755036",
      "placeholder": "​",
      "style": "IPY_MODEL_aa02f8c0c9524517bba1853799c83990",
      "value": "Epoch 3/5:  99%"
     }
    },
    "dccf875f283c4c918a17eb34972165c7": {
     "model_module": "@jupyter-widgets/controls",
     "model_module_version": "1.5.0",
     "model_name": "ProgressStyleModel",
     "state": {
      "_model_module": "@jupyter-widgets/controls",
      "_model_module_version": "1.5.0",
      "_model_name": "ProgressStyleModel",
      "_view_count": null,
      "_view_module": "@jupyter-widgets/base",
      "_view_module_version": "1.2.0",
      "_view_name": "StyleView",
      "bar_color": null,
      "description_width": ""
     }
    },
    "e468348f6c9b4539996564eaa9e3231c": {
     "model_module": "@jupyter-widgets/base",
     "model_module_version": "1.2.0",
     "model_name": "LayoutModel",
     "state": {
      "_model_module": "@jupyter-widgets/base",
      "_model_module_version": "1.2.0",
      "_model_name": "LayoutModel",
      "_view_count": null,
      "_view_module": "@jupyter-widgets/base",
      "_view_module_version": "1.2.0",
      "_view_name": "LayoutView",
      "align_content": null,
      "align_items": null,
      "align_self": null,
      "border": null,
      "bottom": null,
      "display": null,
      "flex": null,
      "flex_flow": null,
      "grid_area": null,
      "grid_auto_columns": null,
      "grid_auto_flow": null,
      "grid_auto_rows": null,
      "grid_column": null,
      "grid_gap": null,
      "grid_row": null,
      "grid_template_areas": null,
      "grid_template_columns": null,
      "grid_template_rows": null,
      "height": null,
      "justify_content": null,
      "justify_items": null,
      "left": null,
      "margin": null,
      "max_height": null,
      "max_width": null,
      "min_height": null,
      "min_width": null,
      "object_fit": null,
      "object_position": null,
      "order": null,
      "overflow": null,
      "overflow_x": null,
      "overflow_y": null,
      "padding": null,
      "right": null,
      "top": null,
      "visibility": null,
      "width": null
     }
    },
    "ee6aa76bdc4d4dbda1aa4a000e22950a": {
     "model_module": "@jupyter-widgets/controls",
     "model_module_version": "1.5.0",
     "model_name": "HTMLModel",
     "state": {
      "_dom_classes": [],
      "_model_module": "@jupyter-widgets/controls",
      "_model_module_version": "1.5.0",
      "_model_name": "HTMLModel",
      "_view_count": null,
      "_view_module": "@jupyter-widgets/controls",
      "_view_module_version": "1.5.0",
      "_view_name": "HTMLView",
      "description": "",
      "description_tooltip": null,
      "layout": "IPY_MODEL_423f683a857d4978aea32d1fb906917f",
      "placeholder": "​",
      "style": "IPY_MODEL_b8ff52559e6b43c2922d32ef084a2dc3",
      "value": " 1950/1954 [00:10&lt;00:00, 206.66it/s, Total Loss=0.0000, MSE=0.0000, L1=0.0158, L0=2560.69]"
     }
    },
    "efe48cde01224a26b381097bdf4da488": {
     "model_module": "@jupyter-widgets/base",
     "model_module_version": "1.2.0",
     "model_name": "LayoutModel",
     "state": {
      "_model_module": "@jupyter-widgets/base",
      "_model_module_version": "1.2.0",
      "_model_name": "LayoutModel",
      "_view_count": null,
      "_view_module": "@jupyter-widgets/base",
      "_view_module_version": "1.2.0",
      "_view_name": "LayoutView",
      "align_content": null,
      "align_items": null,
      "align_self": null,
      "border": null,
      "bottom": null,
      "display": null,
      "flex": null,
      "flex_flow": null,
      "grid_area": null,
      "grid_auto_columns": null,
      "grid_auto_flow": null,
      "grid_auto_rows": null,
      "grid_column": null,
      "grid_gap": null,
      "grid_row": null,
      "grid_template_areas": null,
      "grid_template_columns": null,
      "grid_template_rows": null,
      "height": null,
      "justify_content": null,
      "justify_items": null,
      "left": null,
      "margin": null,
      "max_height": null,
      "max_width": null,
      "min_height": null,
      "min_width": null,
      "object_fit": null,
      "object_position": null,
      "order": null,
      "overflow": null,
      "overflow_x": null,
      "overflow_y": null,
      "padding": null,
      "right": null,
      "top": null,
      "visibility": null,
      "width": null
     }
    },
    "f2f7b58696f34ccab83ef48584db03f3": {
     "model_module": "@jupyter-widgets/controls",
     "model_module_version": "1.5.0",
     "model_name": "HBoxModel",
     "state": {
      "_dom_classes": [],
      "_model_module": "@jupyter-widgets/controls",
      "_model_module_version": "1.5.0",
      "_model_name": "HBoxModel",
      "_view_count": null,
      "_view_module": "@jupyter-widgets/controls",
      "_view_module_version": "1.5.0",
      "_view_name": "HBoxView",
      "box_style": "",
      "children": [
       "IPY_MODEL_939bf5878f4b40e3b1d5ca73f552fd68",
       "IPY_MODEL_619a4bd1181f4e9b99b7c73c76f6a37e",
       "IPY_MODEL_d1ffc6b2b6814983a60a76b06ecaa291"
      ],
      "layout": "IPY_MODEL_d1db62cf9b0b4a959bdda5e825897864"
     }
    },
    "f6bee22b0cb948619932198fe6f5cda5": {
     "model_module": "@jupyter-widgets/controls",
     "model_module_version": "1.5.0",
     "model_name": "FloatProgressModel",
     "state": {
      "_dom_classes": [],
      "_model_module": "@jupyter-widgets/controls",
      "_model_module_version": "1.5.0",
      "_model_name": "FloatProgressModel",
      "_view_count": null,
      "_view_module": "@jupyter-widgets/controls",
      "_view_module_version": "1.5.0",
      "_view_name": "ProgressView",
      "bar_style": "",
      "description": "",
      "description_tooltip": null,
      "layout": "IPY_MODEL_3394cbd41fe84afaab914957fe0577b4",
      "max": 1954,
      "min": 0,
      "orientation": "horizontal",
      "style": "IPY_MODEL_4caa6143e6ba417ea1c1c08bbd1bbe00",
      "value": 1954
     }
    },
    "fe36b08fe7ac46aaa5cc7a32029d2326": {
     "model_module": "@jupyter-widgets/controls",
     "model_module_version": "1.5.0",
     "model_name": "HTMLModel",
     "state": {
      "_dom_classes": [],
      "_model_module": "@jupyter-widgets/controls",
      "_model_module_version": "1.5.0",
      "_model_name": "HTMLModel",
      "_view_count": null,
      "_view_module": "@jupyter-widgets/controls",
      "_view_module_version": "1.5.0",
      "_view_name": "HTMLView",
      "description": "",
      "description_tooltip": null,
      "layout": "IPY_MODEL_efe48cde01224a26b381097bdf4da488",
      "placeholder": "​",
      "style": "IPY_MODEL_b69a96db3c0f4eb995903f438784d3ae",
      "value": "Epoch 2/5: 100%"
     }
    }
   }
  }
 },
 "nbformat": 4,
 "nbformat_minor": 4
}
